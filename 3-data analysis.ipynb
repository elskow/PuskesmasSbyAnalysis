{
 "cells": [
  {
   "cell_type": "code",
   "execution_count": 60,
   "metadata": {},
   "outputs": [
    {
     "data": {
      "text/html": [
       "<div>\n",
       "<style scoped>\n",
       "    .dataframe tbody tr th:only-of-type {\n",
       "        vertical-align: middle;\n",
       "    }\n",
       "\n",
       "    .dataframe tbody tr th {\n",
       "        vertical-align: top;\n",
       "    }\n",
       "\n",
       "    .dataframe thead th {\n",
       "        text-align: right;\n",
       "    }\n",
       "</style>\n",
       "<table border=\"1\" class=\"dataframe\">\n",
       "  <thead>\n",
       "    <tr style=\"text-align: right;\">\n",
       "      <th></th>\n",
       "      <th>reviewer_name</th>\n",
       "      <th>rating</th>\n",
       "      <th>review_text</th>\n",
       "      <th>puskesmas_name</th>\n",
       "      <th>cleaned_review_text</th>\n",
       "      <th>language</th>\n",
       "      <th>is_positive</th>\n",
       "    </tr>\n",
       "  </thead>\n",
       "  <tbody>\n",
       "    <tr>\n",
       "      <th>0</th>\n",
       "      <td>Mira Diah V</td>\n",
       "      <td>5</td>\n",
       "      <td>Pelayanan di poli KIA bagus&amp;informatif sekali....</td>\n",
       "      <td>Puskesmas Simomulyo</td>\n",
       "      <td>layan pol kia bagusinformatif anak imunisasi a...</td>\n",
       "      <td>id</td>\n",
       "      <td>1</td>\n",
       "    </tr>\n",
       "    <tr>\n",
       "      <th>1</th>\n",
       "      <td>Ranitya Dewi Ayu Sadian</td>\n",
       "      <td>1</td>\n",
       "      <td>Pelayanan poli KIA lama sekali…\\nKamis pagi se...</td>\n",
       "      <td>Puskesmas Simomulyo</td>\n",
       "      <td>layan pol kia kamis pagi puskesmas daftar pol ...</td>\n",
       "      <td>id</td>\n",
       "      <td>0</td>\n",
       "    </tr>\n",
       "    <tr>\n",
       "      <th>2</th>\n",
       "      <td>Yuliasti Ika</td>\n",
       "      <td>5</td>\n",
       "      <td>Puskesmas dengan pelayanan yang baik sekali, s...</td>\n",
       "      <td>Puskesmas Simomulyo</td>\n",
       "      <td>puskesmas layan layan ramah lengkap fasilitas ...</td>\n",
       "      <td>id</td>\n",
       "      <td>1</td>\n",
       "    </tr>\n",
       "    <tr>\n",
       "      <th>3</th>\n",
       "      <td>Yusup Jaya</td>\n",
       "      <td>1</td>\n",
       "      <td>Pelayanan tambah lelet, mohon managentnya di p...</td>\n",
       "      <td>Puskesmas Simomulyo</td>\n",
       "      <td>layan lambat mohon managernya sat set rujuk ce...</td>\n",
       "      <td>id</td>\n",
       "      <td>0</td>\n",
       "    </tr>\n",
       "    <tr>\n",
       "      <th>4</th>\n",
       "      <td>Yunia Ardina</td>\n",
       "      <td>1</td>\n",
       "      <td>Saya mau kasih masukan sekaligus protes..\\n\\nS...</td>\n",
       "      <td>Puskesmas Simomulyo</td>\n",
       "      <td>kasih masuk protes tanggal february jaman prik...</td>\n",
       "      <td>id</td>\n",
       "      <td>0</td>\n",
       "    </tr>\n",
       "  </tbody>\n",
       "</table>\n",
       "</div>"
      ],
      "text/plain": [
       "             reviewer_name  rating  \\\n",
       "0              Mira Diah V       5   \n",
       "1  Ranitya Dewi Ayu Sadian       1   \n",
       "2             Yuliasti Ika       5   \n",
       "3               Yusup Jaya       1   \n",
       "4             Yunia Ardina       1   \n",
       "\n",
       "                                         review_text       puskesmas_name  \\\n",
       "0  Pelayanan di poli KIA bagus&informatif sekali....  Puskesmas Simomulyo   \n",
       "1  Pelayanan poli KIA lama sekali…\\nKamis pagi se...  Puskesmas Simomulyo   \n",
       "2  Puskesmas dengan pelayanan yang baik sekali, s...  Puskesmas Simomulyo   \n",
       "3  Pelayanan tambah lelet, mohon managentnya di p...  Puskesmas Simomulyo   \n",
       "4  Saya mau kasih masukan sekaligus protes..\\n\\nS...  Puskesmas Simomulyo   \n",
       "\n",
       "                                 cleaned_review_text language  is_positive  \n",
       "0  layan pol kia bagusinformatif anak imunisasi a...       id            1  \n",
       "1  layan pol kia kamis pagi puskesmas daftar pol ...       id            0  \n",
       "2  puskesmas layan layan ramah lengkap fasilitas ...       id            1  \n",
       "3  layan lambat mohon managernya sat set rujuk ce...       id            0  \n",
       "4  kasih masuk protes tanggal february jaman prik...       id            0  "
      ]
     },
     "execution_count": 60,
     "metadata": {},
     "output_type": "execute_result"
    }
   ],
   "source": [
    "import pandas as pd\n",
    "\n",
    "predicted_data_puskesmas = pd.read_csv(\"puskesmas_data_predicted.csv\")\n",
    "\n",
    "predicted_data_puskesmas.head()"
   ]
  },
  {
   "cell_type": "code",
   "execution_count": 61,
   "metadata": {},
   "outputs": [
    {
     "data": {
      "text/html": [
       "<div>\n",
       "<style scoped>\n",
       "    .dataframe tbody tr th:only-of-type {\n",
       "        vertical-align: middle;\n",
       "    }\n",
       "\n",
       "    .dataframe tbody tr th {\n",
       "        vertical-align: top;\n",
       "    }\n",
       "\n",
       "    .dataframe thead th {\n",
       "        text-align: right;\n",
       "    }\n",
       "</style>\n",
       "<table border=\"1\" class=\"dataframe\">\n",
       "  <thead>\n",
       "    <tr style=\"text-align: right;\">\n",
       "      <th></th>\n",
       "      <th>name</th>\n",
       "      <th>kepala puskesmas</th>\n",
       "      <th>alamat</th>\n",
       "      <th>telepon</th>\n",
       "      <th>url</th>\n",
       "      <th>rate</th>\n",
       "      <th>review_num</th>\n",
       "    </tr>\n",
       "  </thead>\n",
       "  <tbody>\n",
       "    <tr>\n",
       "      <th>0</th>\n",
       "      <td>Puskesmas Asemrowo</td>\n",
       "      <td>dr. Diah Miryati</td>\n",
       "      <td>Jln. Asem Raya No. 8</td>\n",
       "      <td>(031) 5456122 / 081252965070</td>\n",
       "      <td>https://www.google.com/maps/place/Puskesmas+As...</td>\n",
       "      <td>3,5</td>\n",
       "      <td>(131)</td>\n",
       "    </tr>\n",
       "    <tr>\n",
       "      <th>1</th>\n",
       "      <td>Puskesmas Balas Klumprik</td>\n",
       "      <td>dr. Yessy Pebriaty Sukatendel, MM</td>\n",
       "      <td>Jln. Raya Balas Klumprik</td>\n",
       "      <td>(031) 7665219</td>\n",
       "      <td>https://www.google.com/maps/place/Puskesmas+Ba...</td>\n",
       "      <td>4,1</td>\n",
       "      <td>(96)</td>\n",
       "    </tr>\n",
       "    <tr>\n",
       "      <th>2</th>\n",
       "      <td>Puskesmas Balongsari</td>\n",
       "      <td>dr. Dewi Ayuning Asih</td>\n",
       "      <td>Jln. Balongsari Tama No. 2 Surabaya</td>\n",
       "      <td>(031) 7417104</td>\n",
       "      <td>https://www.google.com/maps/place/Puskesmas+Ba...</td>\n",
       "      <td>3,9</td>\n",
       "      <td>(308)</td>\n",
       "    </tr>\n",
       "    <tr>\n",
       "      <th>3</th>\n",
       "      <td>Puskesmas Bangkingan</td>\n",
       "      <td>dr. Tri Indah Rachmawati</td>\n",
       "      <td>Jln. Banyu Urip Kidul 6/8</td>\n",
       "      <td>(031) 5685424 - 5615292 / 081334932007</td>\n",
       "      <td>https://www.google.com/maps/place/Puskesmas+Ba...</td>\n",
       "      <td>3,8</td>\n",
       "      <td>(84)</td>\n",
       "    </tr>\n",
       "    <tr>\n",
       "      <th>4</th>\n",
       "      <td>Puskesmas Banyu Urip</td>\n",
       "      <td>dr. Winartuti Santoso, M.Kes</td>\n",
       "      <td>Jln. Banyu Urip Kidul 6/8</td>\n",
       "      <td>(031) 7405936</td>\n",
       "      <td>https://www.google.com/maps/place/Puskesmas+Ba...</td>\n",
       "      <td>3,2</td>\n",
       "      <td>(170)</td>\n",
       "    </tr>\n",
       "  </tbody>\n",
       "</table>\n",
       "</div>"
      ],
      "text/plain": [
       "                       name                   kepala puskesmas  \\\n",
       "0        Puskesmas Asemrowo                   dr. Diah Miryati   \n",
       "1  Puskesmas Balas Klumprik  dr. Yessy Pebriaty Sukatendel, MM   \n",
       "2      Puskesmas Balongsari              dr. Dewi Ayuning Asih   \n",
       "3      Puskesmas Bangkingan           dr. Tri Indah Rachmawati   \n",
       "4      Puskesmas Banyu Urip       dr. Winartuti Santoso, M.Kes   \n",
       "\n",
       "                                alamat  \\\n",
       "0                 Jln. Asem Raya No. 8   \n",
       "1             Jln. Raya Balas Klumprik   \n",
       "2  Jln. Balongsari Tama No. 2 Surabaya   \n",
       "3            Jln. Banyu Urip Kidul 6/8   \n",
       "4            Jln. Banyu Urip Kidul 6/8   \n",
       "\n",
       "                                  telepon  \\\n",
       "0            (031) 5456122 / 081252965070   \n",
       "1                           (031) 7665219   \n",
       "2                           (031) 7417104   \n",
       "3  (031) 5685424 - 5615292 / 081334932007   \n",
       "4                           (031) 7405936   \n",
       "\n",
       "                                                 url rate review_num  \n",
       "0  https://www.google.com/maps/place/Puskesmas+As...  3,5      (131)  \n",
       "1  https://www.google.com/maps/place/Puskesmas+Ba...  4,1       (96)  \n",
       "2  https://www.google.com/maps/place/Puskesmas+Ba...  3,9      (308)  \n",
       "3  https://www.google.com/maps/place/Puskesmas+Ba...  3,8       (84)  \n",
       "4  https://www.google.com/maps/place/Puskesmas+Ba...  3,2      (170)  "
      ]
     },
     "execution_count": 61,
     "metadata": {},
     "output_type": "execute_result"
    }
   ],
   "source": [
    "detail_puskesmas = pd.read_csv(\"data_scrapping/cleaned_puskesmas.csv\")\n",
    "\n",
    "detail_puskesmas.head()"
   ]
  },
  {
   "cell_type": "code",
   "execution_count": 62,
   "metadata": {},
   "outputs": [
    {
     "data": {
      "application/vnd.jupyter.widget-view+json": {
       "model_id": "8caecaa5bf3d4c088c88701e1e08f2d4",
       "version_major": 2,
       "version_minor": 0
      },
      "text/plain": [
       "  0%|          | 0/63 [00:00<?, ?it/s]"
      ]
     },
     "metadata": {},
     "output_type": "display_data"
    },
    {
     "name": "stdout",
     "output_type": "stream",
     "text": [
      "Index(['name', 'kepala puskesmas', 'alamat', 'telepon', 'url', 'rate',\n",
      "       'review_num', 'lat', 'lon', 'display_name'],\n",
      "      dtype='object')\n"
     ]
    }
   ],
   "source": [
    "import plotly.express as px\n",
    "from tqdm.notebook import tqdm\n",
    "import requests\n",
    "import random\n",
    "\n",
    "\n",
    "def get_lat_lon(puskesmas_name):\n",
    "    user_agents = [\n",
    "        \"Mozilla/5.0 (Windows NT 10.0; Win64; x64) AppleWebKit/537.36 (KHTML, like Gecko) Chrome/58.0.3029.110 Safari/537.3\",\n",
    "        \"Mozilla/5.0 (Macintosh; Intel Mac OS X 10_15_7) AppleWebKit/605.1.15 (KHTML, like Gecko) Version/14.0.3 Safari/605.1.15\",\n",
    "        \"Mozilla/5.0 (Windows NT 10.0; Win64; x64; rv:88.0) Gecko/20100101 Firefox/88.0\",\n",
    "        \"Mozilla/5.0 (Linux; Android 6.0; Nexus 5 Build/MRA58N) AppleWebKit/537.36 (KHTML, like Gecko) Chrome/86.0.4240.110 Mobile Safari/537.36\",\n",
    "        \"Mozilla/5.0 (iPad; CPU OS 13_7 like Mac OS X) AppleWebKit/605.1.15 (KHTML, like Gecko) Version/13.1.2 Mobile/15E148 Safari/604.1\",\n",
    "    ]\n",
    "    attempts = 0\n",
    "    while attempts < 5:\n",
    "        try:\n",
    "            headers = {\"User-Agent\": random.choice(user_agents)}\n",
    "            url = f\"https://nominatim.openstreetmap.org/search?q={puskesmas_name}, surabaya&format=jsonv2\"\n",
    "            response = requests.get(url, headers=headers)\n",
    "            if response.status_code == 200:\n",
    "                data = response.json()\n",
    "                return data[0][\"lat\"], data[0][\"lon\"], data[0][\"display_name\"]\n",
    "            else:\n",
    "                attempts += 1\n",
    "                print(f\"Attempt {attempts}: Failed to get data for {puskesmas_name}\")\n",
    "        except Exception as e:\n",
    "            attempts += 1\n",
    "            print(f\"Attempt {attempts}: Error for {puskesmas_name} - {e}\")\n",
    "    return None, None\n",
    "\n",
    "\n",
    "tqdm.pandas()\n",
    "detail_puskesmas[\"lat\"], detail_puskesmas[\"lon\"], detail_puskesmas[\"display_name\"] = (\n",
    "    zip(*detail_puskesmas[\"name\"].progress_apply(get_lat_lon))\n",
    ")\n",
    "\n",
    "print(detail_puskesmas.columns)\n",
    "\n",
    "detail_puskesmas = detail_puskesmas.rename(columns={\"name\": \"puskesmas_name\"})\n",
    "\n",
    "positive_review_counts = predicted_data_puskesmas.groupby(\"puskesmas_name\")[\n",
    "    \"is_positive\"\n",
    "].sum()\n",
    "total_review_counts = predicted_data_puskesmas.groupby(\"puskesmas_name\")[\n",
    "    \"is_positive\"\n",
    "].count()\n",
    "percentage_positive_reviews = (\n",
    "    positive_review_counts / total_review_counts * 100\n",
    ").reset_index()\n",
    "percentage_positive_reviews.columns = [\"puskesmas_name\", \"positive_percentage\"]\n",
    "\n",
    "detail_puskesmas = detail_puskesmas.merge(\n",
    "    percentage_positive_reviews, on=\"puskesmas_name\", how=\"left\"\n",
    ")"
   ]
  },
  {
   "cell_type": "code",
   "execution_count": 71,
   "metadata": {},
   "outputs": [
    {
     "name": "stderr",
     "output_type": "stream",
     "text": [
      "/tmp/ipykernel_6509/2587238829.py:3: SettingWithCopyWarning:\n",
      "\n",
      "\n",
      "A value is trying to be set on a copy of a slice from a DataFrame.\n",
      "Try using .loc[row_indexer,col_indexer] = value instead\n",
      "\n",
      "See the caveats in the documentation: https://pandas.pydata.org/pandas-docs/stable/user_guide/indexing.html#returning-a-view-versus-a-copy\n",
      "\n",
      "/tmp/ipykernel_6509/2587238829.py:4: SettingWithCopyWarning:\n",
      "\n",
      "\n",
      "A value is trying to be set on a copy of a slice from a DataFrame.\n",
      "Try using .loc[row_indexer,col_indexer] = value instead\n",
      "\n",
      "See the caveats in the documentation: https://pandas.pydata.org/pandas-docs/stable/user_guide/indexing.html#returning-a-view-versus-a-copy\n",
      "\n",
      "/tmp/ipykernel_6509/2587238829.py:5: SettingWithCopyWarning:\n",
      "\n",
      "\n",
      "A value is trying to be set on a copy of a slice from a DataFrame.\n",
      "Try using .loc[row_indexer,col_indexer] = value instead\n",
      "\n",
      "See the caveats in the documentation: https://pandas.pydata.org/pandas-docs/stable/user_guide/indexing.html#returning-a-view-versus-a-copy\n",
      "\n"
     ]
    },
    {
     "data": {
      "application/vnd.plotly.v1+json": {
       "config": {
        "plotlyServerURL": "https://plot.ly"
       },
       "data": [
        {
         "customdata": [
          [
           51.724137931034484
          ],
          [
           75
          ],
          [
           62.55924170616114
          ],
          [
           52.17391304347826
          ],
          [
           45.09803921568628
          ],
          [
           73.39449541284404
          ],
          [
           46.2962962962963
          ],
          [
           72.95597484276729
          ],
          [
           55.81395348837209
          ],
          [
           54.166666666666664
          ],
          [
           66.66666666666666
          ],
          [
           40.74074074074074
          ],
          [
           58.57740585774059
          ],
          [
           69.01960784313725
          ],
          [
           62.5
          ],
          [
           58.06451612903226
          ],
          [
           53.46534653465347
          ],
          [
           44.827586206896555
          ],
          [
           69.27083333333334
          ],
          [
           43.67816091954023
          ],
          [
           45.97701149425287
          ],
          [
           33.33333333333333
          ],
          [
           47.45762711864407
          ],
          [
           80.35714285714286
          ],
          [
           74.88372093023256
          ],
          [
           61.1764705882353
          ],
          [
           67.64705882352942
          ],
          [
           54.54545454545454
          ],
          [
           53.70370370370371
          ],
          [
           69.80198019801979
          ],
          [
           64.94464944649447
          ],
          [
           55.033557046979865
          ],
          [
           26.744186046511626
          ],
          [
           8.108108108108109
          ],
          [
           71.35135135135135
          ],
          [
           73.91304347826086
          ],
          [
           51.21951219512195
          ],
          [
           65.47619047619048
          ],
          [
           74.07407407407408
          ],
          [
           46.15384615384615
          ],
          [
           47.42268041237113
          ],
          [
           76.41025641025641
          ],
          [
           67.8082191780822
          ],
          [
           56.75675675675676
          ],
          [
           65.75342465753424
          ],
          [
           64.96815286624204
          ],
          [
           63.905325443786985
          ],
          [
           46.875
          ],
          [
           21.951219512195124
          ],
          [
           83.53293413173652
          ],
          [
           73.19587628865979
          ],
          [
           51.07913669064749
          ],
          [
           48.484848484848484
          ],
          [
           54.074074074074076
          ],
          [
           69.72477064220183
          ],
          [
           77.18120805369128
          ],
          [
           79.56521739130434
          ],
          [
           44.537815126050425
          ],
          [
           73.23232323232324
          ],
          [
           45.33333333333333
          ],
          [
           74.86910994764398
          ],
          [
           69.80198019801979
          ]
         ],
         "hovertemplate": "<b>%{hovertext}</b><br><br>positive_percentage=%{marker.color}<br>lat=%{lat}<br>lon=%{lon}<extra></extra>",
         "hovertext": [
          "Puskesmas Asemrowo",
          "Puskesmas Balas Klumprik",
          "Puskesmas Balongsari",
          "Puskesmas Bangkingan",
          "Puskesmas Banyu Urip",
          "Puskesmas Benowo",
          "Puskesmas Bulak Banteng",
          "Puskesmas Dukuh Kupang",
          "Puskesmas Dupak",
          "Puskesmas Gading",
          "Puskesmas Gayungan",
          "Puskesmas Gundih",
          "Puskesmas Gunung Anyar",
          "Puskesmas Jagir",
          "Puskesmas Jemursari",
          "Puskesmas Jeruk",
          "Puskesmas Kalijudan",
          "Puskesmas Kalirungkut",
          "Puskesmas Kebonsari",
          "Puskesmas Kedungdoro",
          "Puskesmas Kedurus",
          "Puskesmas Kenjeran",
          "Puskesmas Keputih",
          "Puskesmas Ketabang",
          "Puskesmas Klampis Ngasem",
          "Puskesmas Krembangan Selatan",
          "Puskesmas Lidah Kulon",
          "Puskesmas Lontar",
          "Puskesmas Made",
          "Puskesmas Manukan Kulon",
          "Puskesmas Medokan Ayu",
          "Puskesmas Menur",
          "Puskesmas Mojo",
          "Puskesmas Morokrembangan",
          "Puskesmas Mulyorejo",
          "Puskesmas Ngagel Rejo",
          "Puskesmas Pacar Keling",
          "Puskesmas Pakis",
          "Puskesmas Pegirian",
          "Puskesmas Peneleh",
          "Puskesmas Perak Timur",
          "Puskesmas Pucang Sewu",
          "Puskesmas Putat Jaya",
          "Puskesmas Rangkah",
          "Puskesmas Sawah Pulo",
          "Puskesmas Sawahan",
          "Puskesmas Sememi",
          "Puskesmas Sidosermo",
          "Puskesmas Sidotopo",
          "Puskesmas Sidotopo Wetan",
          "Puskesmas Simolawang",
          "Puskesmas Simomulyo",
          "Puskesmas Siwalankerto",
          "Puskesmas Tambak Rejo",
          "Puskesmas Tambak Wedi",
          "Puskesmas Tanah Kali Kedinding",
          "Puskesmas Tanjungsari",
          "Puskesmas Tembok Dukuh",
          "Puskesmas Tenggilis",
          "Puskesmas Wiyung",
          "Puskesmas Wonokromo",
          "Puskesmas Wonokusumo"
         ],
         "lat": [
          -7.25186115,
          -7.3315249,
          -7.259228849999999,
          -7.32492005,
          -7.2715069,
          -7.2347252,
          -7.2177947,
          -7.283236,
          -7.2393518,
          -7.242490650000001,
          -7.33810175,
          -7.24724475,
          -7.3408664,
          -7.3056601,
          -7.32608185,
          -7.3054418,
          -7.2573961,
          -7.322217999999999,
          -7.32840065,
          -7.26370155,
          -7.319754749999999,
          -7.24111075,
          -7.293995499999999,
          -7.2580613,
          -7.289156200000001,
          -7.233071049999999,
          -7.2850638,
          -7.2850638,
          -7.27731115,
          -7.25846525,
          -7.3239443,
          -7.29687275,
          -7.270902149999999,
          -7.2347805,
          -7.26072255,
          -7.29296335,
          -7.2571931,
          -7.28177405,
          -7.224634399999999,
          -7.2523042,
          -7.222732150000001,
          -7.28659415,
          -7.28142245,
          -7.24630815,
          -7.22281235,
          -7.26558135,
          -7.2483503,
          -7.307331299999999,
          -7.23034775,
          -7.22658925,
          -7.2348687,
          -7.26246035,
          -7.3403897,
          -7.24844815,
          -7.217479750000001,
          -7.23037625,
          -7.25940435,
          -7.254527449999999,
          -7.32236045,
          -7.30968085,
          -7.303176499999999,
          -7.219663649999999
         ],
         "legendgroup": "",
         "lon": [
          112.71456194620362,
          112.69002720464968,
          112.6783010204094,
          112.65610895,
          112.72002732026792,
          112.61150062729084,
          112.76627915520368,
          112.71222568060509,
          112.71726505,
          112.76403442545316,
          112.7186968178111,
          112.72539045,
          112.78397605,
          112.73773229111424,
          112.73996903263736,
          112.63838027163932,
          112.77801422512428,
          112.77076210366916,
          112.714445632565,
          112.7382415,
          112.70939454900804,
          112.79527909779556,
          112.80187601901248,
          112.74677403040268,
          112.77848995,
          112.73121758057744,
          112.66273285,
          112.66273285,
          112.63703473548794,
          112.66064382684382,
          112.79498318410756,
          112.76434694828671,
          112.77082440581847,
          112.71244346706712,
          112.784748,
          112.74878868683348,
          112.76268455308642,
          112.72848119117782,
          112.74691545896944,
          112.74083083291244,
          112.7354623755392,
          112.7555282626124,
          112.72236434495444,
          112.7672265,
          112.7446747690776,
          112.7277503978,
          112.6354712,
          112.7556756,
          112.7458816190326,
          112.76350132938722,
          112.75104985,
          112.7120093,
          112.7363945,
          112.75555569656396,
          112.7724023,
          112.77446968315311,
          112.6892628357994,
          112.71921325,
          112.76211047263912,
          112.67497509450482,
          112.7303924779992,
          112.75256160671904
         ],
         "marker": {
          "color": [
           51.724137931034484,
           75,
           62.55924170616114,
           52.17391304347826,
           45.09803921568628,
           73.39449541284404,
           46.2962962962963,
           72.95597484276729,
           55.81395348837209,
           54.166666666666664,
           66.66666666666666,
           40.74074074074074,
           58.57740585774059,
           69.01960784313725,
           62.5,
           58.06451612903226,
           53.46534653465347,
           44.827586206896555,
           69.27083333333334,
           43.67816091954023,
           45.97701149425287,
           33.33333333333333,
           47.45762711864407,
           80.35714285714286,
           74.88372093023256,
           61.1764705882353,
           67.64705882352942,
           54.54545454545454,
           53.70370370370371,
           69.80198019801979,
           64.94464944649447,
           55.033557046979865,
           26.744186046511626,
           8.108108108108109,
           71.35135135135135,
           73.91304347826086,
           51.21951219512195,
           65.47619047619048,
           74.07407407407408,
           46.15384615384615,
           47.42268041237113,
           76.41025641025641,
           67.8082191780822,
           56.75675675675676,
           65.75342465753424,
           64.96815286624204,
           63.905325443786985,
           46.875,
           21.951219512195124,
           83.53293413173652,
           73.19587628865979,
           51.07913669064749,
           48.484848484848484,
           54.074074074074076,
           69.72477064220183,
           77.18120805369128,
           79.56521739130434,
           44.537815126050425,
           73.23232323232324,
           45.33333333333333,
           74.86910994764398,
           69.80198019801979
          ],
          "coloraxis": "coloraxis",
          "size": [
           51.724137931034484,
           75,
           62.55924170616114,
           52.17391304347826,
           45.09803921568628,
           73.39449541284404,
           46.2962962962963,
           72.95597484276729,
           55.81395348837209,
           54.166666666666664,
           66.66666666666666,
           40.74074074074074,
           58.57740585774059,
           69.01960784313725,
           62.5,
           58.06451612903226,
           53.46534653465347,
           44.827586206896555,
           69.27083333333334,
           43.67816091954023,
           45.97701149425287,
           33.33333333333333,
           47.45762711864407,
           80.35714285714286,
           74.88372093023256,
           61.1764705882353,
           67.64705882352942,
           54.54545454545454,
           53.70370370370371,
           69.80198019801979,
           64.94464944649447,
           55.033557046979865,
           26.744186046511626,
           8.108108108108109,
           71.35135135135135,
           73.91304347826086,
           51.21951219512195,
           65.47619047619048,
           74.07407407407408,
           46.15384615384615,
           47.42268041237113,
           76.41025641025641,
           67.8082191780822,
           56.75675675675676,
           65.75342465753424,
           64.96815286624204,
           63.905325443786985,
           46.875,
           21.951219512195124,
           83.53293413173652,
           73.19587628865979,
           51.07913669064749,
           48.484848484848484,
           54.074074074074076,
           69.72477064220183,
           77.18120805369128,
           79.56521739130434,
           44.537815126050425,
           73.23232323232324,
           45.33333333333333,
           74.86910994764398,
           69.80198019801979
          ],
          "sizemode": "area",
          "sizeref": 0.3712574850299401
         },
         "mode": "markers",
         "name": "",
         "showlegend": false,
         "subplot": "mapbox",
         "type": "scattermapbox"
        }
       ],
       "layout": {
        "coloraxis": {
         "colorbar": {
          "title": {
           "text": "positive_percentage"
          }
         },
         "colorscale": [
          [
           0,
           "#440154"
          ],
          [
           0.1111111111111111,
           "#482878"
          ],
          [
           0.2222222222222222,
           "#3e4989"
          ],
          [
           0.3333333333333333,
           "#31688e"
          ],
          [
           0.4444444444444444,
           "#26828e"
          ],
          [
           0.5555555555555556,
           "#1f9e89"
          ],
          [
           0.6666666666666666,
           "#35b779"
          ],
          [
           0.7777777777777778,
           "#6ece58"
          ],
          [
           0.8888888888888888,
           "#b5de2b"
          ],
          [
           1,
           "#fde725"
          ]
         ]
        },
        "height": 800,
        "legend": {
         "itemsizing": "constant",
         "title": {
          "text": "Positive Review %"
         },
         "tracegroupgap": 0
        },
        "mapbox": {
         "center": {
          "lat": -7.272093603225807,
          "lon": 112.73066282964216
         },
         "domain": {
          "x": [
           0,
           1
          ],
          "y": [
           0,
           1
          ]
         },
         "style": "open-street-map",
         "zoom": 10
        },
        "template": {
         "data": {
          "bar": [
           {
            "error_x": {
             "color": "#2a3f5f"
            },
            "error_y": {
             "color": "#2a3f5f"
            },
            "marker": {
             "line": {
              "color": "#E5ECF6",
              "width": 0.5
             },
             "pattern": {
              "fillmode": "overlay",
              "size": 10,
              "solidity": 0.2
             }
            },
            "type": "bar"
           }
          ],
          "barpolar": [
           {
            "marker": {
             "line": {
              "color": "#E5ECF6",
              "width": 0.5
             },
             "pattern": {
              "fillmode": "overlay",
              "size": 10,
              "solidity": 0.2
             }
            },
            "type": "barpolar"
           }
          ],
          "carpet": [
           {
            "aaxis": {
             "endlinecolor": "#2a3f5f",
             "gridcolor": "white",
             "linecolor": "white",
             "minorgridcolor": "white",
             "startlinecolor": "#2a3f5f"
            },
            "baxis": {
             "endlinecolor": "#2a3f5f",
             "gridcolor": "white",
             "linecolor": "white",
             "minorgridcolor": "white",
             "startlinecolor": "#2a3f5f"
            },
            "type": "carpet"
           }
          ],
          "choropleth": [
           {
            "colorbar": {
             "outlinewidth": 0,
             "ticks": ""
            },
            "type": "choropleth"
           }
          ],
          "contour": [
           {
            "colorbar": {
             "outlinewidth": 0,
             "ticks": ""
            },
            "colorscale": [
             [
              0,
              "#0d0887"
             ],
             [
              0.1111111111111111,
              "#46039f"
             ],
             [
              0.2222222222222222,
              "#7201a8"
             ],
             [
              0.3333333333333333,
              "#9c179e"
             ],
             [
              0.4444444444444444,
              "#bd3786"
             ],
             [
              0.5555555555555556,
              "#d8576b"
             ],
             [
              0.6666666666666666,
              "#ed7953"
             ],
             [
              0.7777777777777778,
              "#fb9f3a"
             ],
             [
              0.8888888888888888,
              "#fdca26"
             ],
             [
              1,
              "#f0f921"
             ]
            ],
            "type": "contour"
           }
          ],
          "contourcarpet": [
           {
            "colorbar": {
             "outlinewidth": 0,
             "ticks": ""
            },
            "type": "contourcarpet"
           }
          ],
          "heatmap": [
           {
            "colorbar": {
             "outlinewidth": 0,
             "ticks": ""
            },
            "colorscale": [
             [
              0,
              "#0d0887"
             ],
             [
              0.1111111111111111,
              "#46039f"
             ],
             [
              0.2222222222222222,
              "#7201a8"
             ],
             [
              0.3333333333333333,
              "#9c179e"
             ],
             [
              0.4444444444444444,
              "#bd3786"
             ],
             [
              0.5555555555555556,
              "#d8576b"
             ],
             [
              0.6666666666666666,
              "#ed7953"
             ],
             [
              0.7777777777777778,
              "#fb9f3a"
             ],
             [
              0.8888888888888888,
              "#fdca26"
             ],
             [
              1,
              "#f0f921"
             ]
            ],
            "type": "heatmap"
           }
          ],
          "heatmapgl": [
           {
            "colorbar": {
             "outlinewidth": 0,
             "ticks": ""
            },
            "colorscale": [
             [
              0,
              "#0d0887"
             ],
             [
              0.1111111111111111,
              "#46039f"
             ],
             [
              0.2222222222222222,
              "#7201a8"
             ],
             [
              0.3333333333333333,
              "#9c179e"
             ],
             [
              0.4444444444444444,
              "#bd3786"
             ],
             [
              0.5555555555555556,
              "#d8576b"
             ],
             [
              0.6666666666666666,
              "#ed7953"
             ],
             [
              0.7777777777777778,
              "#fb9f3a"
             ],
             [
              0.8888888888888888,
              "#fdca26"
             ],
             [
              1,
              "#f0f921"
             ]
            ],
            "type": "heatmapgl"
           }
          ],
          "histogram": [
           {
            "marker": {
             "pattern": {
              "fillmode": "overlay",
              "size": 10,
              "solidity": 0.2
             }
            },
            "type": "histogram"
           }
          ],
          "histogram2d": [
           {
            "colorbar": {
             "outlinewidth": 0,
             "ticks": ""
            },
            "colorscale": [
             [
              0,
              "#0d0887"
             ],
             [
              0.1111111111111111,
              "#46039f"
             ],
             [
              0.2222222222222222,
              "#7201a8"
             ],
             [
              0.3333333333333333,
              "#9c179e"
             ],
             [
              0.4444444444444444,
              "#bd3786"
             ],
             [
              0.5555555555555556,
              "#d8576b"
             ],
             [
              0.6666666666666666,
              "#ed7953"
             ],
             [
              0.7777777777777778,
              "#fb9f3a"
             ],
             [
              0.8888888888888888,
              "#fdca26"
             ],
             [
              1,
              "#f0f921"
             ]
            ],
            "type": "histogram2d"
           }
          ],
          "histogram2dcontour": [
           {
            "colorbar": {
             "outlinewidth": 0,
             "ticks": ""
            },
            "colorscale": [
             [
              0,
              "#0d0887"
             ],
             [
              0.1111111111111111,
              "#46039f"
             ],
             [
              0.2222222222222222,
              "#7201a8"
             ],
             [
              0.3333333333333333,
              "#9c179e"
             ],
             [
              0.4444444444444444,
              "#bd3786"
             ],
             [
              0.5555555555555556,
              "#d8576b"
             ],
             [
              0.6666666666666666,
              "#ed7953"
             ],
             [
              0.7777777777777778,
              "#fb9f3a"
             ],
             [
              0.8888888888888888,
              "#fdca26"
             ],
             [
              1,
              "#f0f921"
             ]
            ],
            "type": "histogram2dcontour"
           }
          ],
          "mesh3d": [
           {
            "colorbar": {
             "outlinewidth": 0,
             "ticks": ""
            },
            "type": "mesh3d"
           }
          ],
          "parcoords": [
           {
            "line": {
             "colorbar": {
              "outlinewidth": 0,
              "ticks": ""
             }
            },
            "type": "parcoords"
           }
          ],
          "pie": [
           {
            "automargin": true,
            "type": "pie"
           }
          ],
          "scatter": [
           {
            "fillpattern": {
             "fillmode": "overlay",
             "size": 10,
             "solidity": 0.2
            },
            "type": "scatter"
           }
          ],
          "scatter3d": [
           {
            "line": {
             "colorbar": {
              "outlinewidth": 0,
              "ticks": ""
             }
            },
            "marker": {
             "colorbar": {
              "outlinewidth": 0,
              "ticks": ""
             }
            },
            "type": "scatter3d"
           }
          ],
          "scattercarpet": [
           {
            "marker": {
             "colorbar": {
              "outlinewidth": 0,
              "ticks": ""
             }
            },
            "type": "scattercarpet"
           }
          ],
          "scattergeo": [
           {
            "marker": {
             "colorbar": {
              "outlinewidth": 0,
              "ticks": ""
             }
            },
            "type": "scattergeo"
           }
          ],
          "scattergl": [
           {
            "marker": {
             "colorbar": {
              "outlinewidth": 0,
              "ticks": ""
             }
            },
            "type": "scattergl"
           }
          ],
          "scattermapbox": [
           {
            "marker": {
             "colorbar": {
              "outlinewidth": 0,
              "ticks": ""
             }
            },
            "type": "scattermapbox"
           }
          ],
          "scatterpolar": [
           {
            "marker": {
             "colorbar": {
              "outlinewidth": 0,
              "ticks": ""
             }
            },
            "type": "scatterpolar"
           }
          ],
          "scatterpolargl": [
           {
            "marker": {
             "colorbar": {
              "outlinewidth": 0,
              "ticks": ""
             }
            },
            "type": "scatterpolargl"
           }
          ],
          "scatterternary": [
           {
            "marker": {
             "colorbar": {
              "outlinewidth": 0,
              "ticks": ""
             }
            },
            "type": "scatterternary"
           }
          ],
          "surface": [
           {
            "colorbar": {
             "outlinewidth": 0,
             "ticks": ""
            },
            "colorscale": [
             [
              0,
              "#0d0887"
             ],
             [
              0.1111111111111111,
              "#46039f"
             ],
             [
              0.2222222222222222,
              "#7201a8"
             ],
             [
              0.3333333333333333,
              "#9c179e"
             ],
             [
              0.4444444444444444,
              "#bd3786"
             ],
             [
              0.5555555555555556,
              "#d8576b"
             ],
             [
              0.6666666666666666,
              "#ed7953"
             ],
             [
              0.7777777777777778,
              "#fb9f3a"
             ],
             [
              0.8888888888888888,
              "#fdca26"
             ],
             [
              1,
              "#f0f921"
             ]
            ],
            "type": "surface"
           }
          ],
          "table": [
           {
            "cells": {
             "fill": {
              "color": "#EBF0F8"
             },
             "line": {
              "color": "white"
             }
            },
            "header": {
             "fill": {
              "color": "#C8D4E3"
             },
             "line": {
              "color": "white"
             }
            },
            "type": "table"
           }
          ]
         },
         "layout": {
          "annotationdefaults": {
           "arrowcolor": "#2a3f5f",
           "arrowhead": 0,
           "arrowwidth": 1
          },
          "autotypenumbers": "strict",
          "coloraxis": {
           "colorbar": {
            "outlinewidth": 0,
            "ticks": ""
           }
          },
          "colorscale": {
           "diverging": [
            [
             0,
             "#8e0152"
            ],
            [
             0.1,
             "#c51b7d"
            ],
            [
             0.2,
             "#de77ae"
            ],
            [
             0.3,
             "#f1b6da"
            ],
            [
             0.4,
             "#fde0ef"
            ],
            [
             0.5,
             "#f7f7f7"
            ],
            [
             0.6,
             "#e6f5d0"
            ],
            [
             0.7,
             "#b8e186"
            ],
            [
             0.8,
             "#7fbc41"
            ],
            [
             0.9,
             "#4d9221"
            ],
            [
             1,
             "#276419"
            ]
           ],
           "sequential": [
            [
             0,
             "#0d0887"
            ],
            [
             0.1111111111111111,
             "#46039f"
            ],
            [
             0.2222222222222222,
             "#7201a8"
            ],
            [
             0.3333333333333333,
             "#9c179e"
            ],
            [
             0.4444444444444444,
             "#bd3786"
            ],
            [
             0.5555555555555556,
             "#d8576b"
            ],
            [
             0.6666666666666666,
             "#ed7953"
            ],
            [
             0.7777777777777778,
             "#fb9f3a"
            ],
            [
             0.8888888888888888,
             "#fdca26"
            ],
            [
             1,
             "#f0f921"
            ]
           ],
           "sequentialminus": [
            [
             0,
             "#0d0887"
            ],
            [
             0.1111111111111111,
             "#46039f"
            ],
            [
             0.2222222222222222,
             "#7201a8"
            ],
            [
             0.3333333333333333,
             "#9c179e"
            ],
            [
             0.4444444444444444,
             "#bd3786"
            ],
            [
             0.5555555555555556,
             "#d8576b"
            ],
            [
             0.6666666666666666,
             "#ed7953"
            ],
            [
             0.7777777777777778,
             "#fb9f3a"
            ],
            [
             0.8888888888888888,
             "#fdca26"
            ],
            [
             1,
             "#f0f921"
            ]
           ]
          },
          "colorway": [
           "#636efa",
           "#EF553B",
           "#00cc96",
           "#ab63fa",
           "#FFA15A",
           "#19d3f3",
           "#FF6692",
           "#B6E880",
           "#FF97FF",
           "#FECB52"
          ],
          "font": {
           "color": "#2a3f5f"
          },
          "geo": {
           "bgcolor": "white",
           "lakecolor": "white",
           "landcolor": "#E5ECF6",
           "showlakes": true,
           "showland": true,
           "subunitcolor": "white"
          },
          "hoverlabel": {
           "align": "left"
          },
          "hovermode": "closest",
          "mapbox": {
           "style": "light"
          },
          "paper_bgcolor": "white",
          "plot_bgcolor": "#E5ECF6",
          "polar": {
           "angularaxis": {
            "gridcolor": "white",
            "linecolor": "white",
            "ticks": ""
           },
           "bgcolor": "#E5ECF6",
           "radialaxis": {
            "gridcolor": "white",
            "linecolor": "white",
            "ticks": ""
           }
          },
          "scene": {
           "xaxis": {
            "backgroundcolor": "#E5ECF6",
            "gridcolor": "white",
            "gridwidth": 2,
            "linecolor": "white",
            "showbackground": true,
            "ticks": "",
            "zerolinecolor": "white"
           },
           "yaxis": {
            "backgroundcolor": "#E5ECF6",
            "gridcolor": "white",
            "gridwidth": 2,
            "linecolor": "white",
            "showbackground": true,
            "ticks": "",
            "zerolinecolor": "white"
           },
           "zaxis": {
            "backgroundcolor": "#E5ECF6",
            "gridcolor": "white",
            "gridwidth": 2,
            "linecolor": "white",
            "showbackground": true,
            "ticks": "",
            "zerolinecolor": "white"
           }
          },
          "shapedefaults": {
           "line": {
            "color": "#2a3f5f"
           }
          },
          "ternary": {
           "aaxis": {
            "gridcolor": "white",
            "linecolor": "white",
            "ticks": ""
           },
           "baxis": {
            "gridcolor": "white",
            "linecolor": "white",
            "ticks": ""
           },
           "bgcolor": "#E5ECF6",
           "caxis": {
            "gridcolor": "white",
            "linecolor": "white",
            "ticks": ""
           }
          },
          "title": {
           "x": 0.05
          },
          "xaxis": {
           "automargin": true,
           "gridcolor": "white",
           "linecolor": "white",
           "ticks": "",
           "title": {
            "standoff": 15
           },
           "zerolinecolor": "white",
           "zerolinewidth": 2
          },
          "yaxis": {
           "automargin": true,
           "gridcolor": "white",
           "linecolor": "white",
           "ticks": "",
           "title": {
            "standoff": 15
           },
           "zerolinecolor": "white",
           "zerolinewidth": 2
          }
         }
        },
        "title": {
         "text": "Puskesmas Positive Review Percentage",
         "x": 0.5,
         "xanchor": "center"
        },
        "width": 800
       }
      }
     },
     "metadata": {},
     "output_type": "display_data"
    }
   ],
   "source": [
    "data_for_plotting = detail_puskesmas[\n",
    "    [\"lat\", \"lon\", \"puskesmas_name\", \"positive_percentage\"]\n",
    "]\n",
    "\n",
    "data_for_plotting[\"lat\"] = pd.to_numeric(data_for_plotting[\"lat\"], errors=\"coerce\")\n",
    "data_for_plotting[\"lon\"] = pd.to_numeric(data_for_plotting[\"lon\"], errors=\"coerce\")\n",
    "data_for_plotting[\"positive_percentage\"] = data_for_plotting[\n",
    "    \"positive_percentage\"\n",
    "].fillna(0)\n",
    "\n",
    "data_for_plotting = data_for_plotting[data_for_plotting[\"positive_percentage\"] != 0]\n",
    "\n",
    "fig = px.scatter_mapbox(\n",
    "    data_for_plotting,\n",
    "    lat=\"lat\",\n",
    "    lon=\"lon\",\n",
    "    color=\"positive_percentage\",\n",
    "    size=\"positive_percentage\",\n",
    "    hover_name=\"puskesmas_name\",\n",
    "    hover_data={\"positive_percentage\": True},\n",
    "    size_max=15,\n",
    "    zoom=10,\n",
    "    center={\n",
    "        \"lat\": data_for_plotting[\"lat\"].mean(),\n",
    "        \"lon\": data_for_plotting[\"lon\"].mean(),\n",
    "    },\n",
    "    mapbox_style=\"open-street-map\",\n",
    "    color_continuous_scale=px.colors.sequential.Viridis,\n",
    "    title=\"Puskesmas Positive Review Percentage\",\n",
    ")\n",
    "\n",
    "fig.update_traces(marker=dict(size=64, opacity=0.7), selector=dict(mode=\"markers+text\"))\n",
    "\n",
    "fig.update_layout(\n",
    "    legend_title_text=\"Positive Review %\",\n",
    "    title=dict(text=\"Puskesmas Positive Review Percentage\", x=0.5, xanchor=\"center\"),\n",
    ")\n",
    "\n",
    "fig.update_layout(width=800, height=800)\n",
    "fig.show()"
   ]
  },
  {
   "cell_type": "code",
   "execution_count": 84,
   "metadata": {},
   "outputs": [
    {
     "name": "stderr",
     "output_type": "stream",
     "text": [
      "/tmp/ipykernel_6509/652887854.py:6: SettingWithCopyWarning:\n",
      "\n",
      "\n",
      "A value is trying to be set on a copy of a slice from a DataFrame.\n",
      "Try using .loc[row_indexer,col_indexer] = value instead\n",
      "\n",
      "See the caveats in the documentation: https://pandas.pydata.org/pandas-docs/stable/user_guide/indexing.html#returning-a-view-versus-a-copy\n",
      "\n",
      "/tmp/ipykernel_6509/652887854.py:7: SettingWithCopyWarning:\n",
      "\n",
      "\n",
      "A value is trying to be set on a copy of a slice from a DataFrame.\n",
      "Try using .loc[row_indexer,col_indexer] = value instead\n",
      "\n",
      "See the caveats in the documentation: https://pandas.pydata.org/pandas-docs/stable/user_guide/indexing.html#returning-a-view-versus-a-copy\n",
      "\n",
      "/tmp/ipykernel_6509/652887854.py:8: SettingWithCopyWarning:\n",
      "\n",
      "\n",
      "A value is trying to be set on a copy of a slice from a DataFrame.\n",
      "Try using .loc[row_indexer,col_indexer] = value instead\n",
      "\n",
      "See the caveats in the documentation: https://pandas.pydata.org/pandas-docs/stable/user_guide/indexing.html#returning-a-view-versus-a-copy\n",
      "\n"
     ]
    },
    {
     "data": {
      "application/vnd.plotly.v1+json": {
       "config": {
        "plotlyServerURL": "https://plot.ly"
       },
       "data": [
        {
         "customdata": [
          [
           83.53293413173652
          ],
          [
           80.35714285714286
          ],
          [
           79.56521739130434
          ],
          [
           77.18120805369128
          ],
          [
           76.41025641025641
          ],
          [
           75
          ],
          [
           74.88372093023256
          ],
          [
           74.86910994764398
          ],
          [
           74.07407407407408
          ],
          [
           73.91304347826086
          ]
         ],
         "hovertemplate": "<b>%{hovertext}</b><br>Positivity Rate: %{marker.color:.2f}%",
         "hovertext": [
          "Puskesmas Sidotopo Wetan",
          "Puskesmas Ketabang",
          "Puskesmas Tanjungsari",
          "Puskesmas Tanah Kali Kedinding",
          "Puskesmas Pucang Sewu",
          "Puskesmas Balas Klumprik",
          "Puskesmas Klampis Ngasem",
          "Puskesmas Wonokromo",
          "Puskesmas Pegirian",
          "Puskesmas Ngagel Rejo"
         ],
         "lat": [
          -7.22658925,
          -7.2580613,
          -7.25940435,
          -7.23037625,
          -7.28659415,
          -7.3315249,
          -7.289156200000001,
          -7.303176499999999,
          -7.224634399999999,
          -7.29296335
         ],
         "legendgroup": "",
         "lon": [
          112.76350132938722,
          112.74677403040268,
          112.6892628357994,
          112.77446968315311,
          112.7555282626124,
          112.69002720464968,
          112.77848995,
          112.7303924779992,
          112.74691545896944,
          112.74878868683348
         ],
         "marker": {
          "color": [
           83.53293413173652,
           80.35714285714286,
           79.56521739130434,
           77.18120805369128,
           76.41025641025641,
           75,
           74.88372093023256,
           74.86910994764398,
           74.07407407407408,
           73.91304347826086
          ],
          "coloraxis": "coloraxis",
          "opacity": 0.7,
          "size": 28,
          "sizemode": "area",
          "sizeref": 0.3712574850299401
         },
         "mode": "markers",
         "name": "",
         "showlegend": false,
         "subplot": "mapbox",
         "textposition": "top center",
         "type": "scattermapbox"
        }
       ],
       "layout": {
        "coloraxis": {
         "colorbar": {
          "title": {
           "text": "Positivity Rate (%)"
          }
         },
         "colorscale": [
          [
           0,
           "#440154"
          ],
          [
           0.1111111111111111,
           "#482878"
          ],
          [
           0.2222222222222222,
           "#3e4989"
          ],
          [
           0.3333333333333333,
           "#31688e"
          ],
          [
           0.4444444444444444,
           "#26828e"
          ],
          [
           0.5555555555555556,
           "#1f9e89"
          ],
          [
           0.6666666666666666,
           "#35b779"
          ],
          [
           0.7777777777777778,
           "#6ece58"
          ],
          [
           0.8888888888888888,
           "#b5de2b"
          ],
          [
           1,
           "#fde725"
          ]
         ]
        },
        "height": 800,
        "legend": {
         "bgcolor": "rgba(255,255,255,0.5)",
         "bordercolor": "Black",
         "borderwidth": 2,
         "itemsizing": "constant",
         "title": {
          "font": {
           "color": "blue",
           "size": 14
          }
         },
         "tracegroupgap": 0
        },
        "mapbox": {
         "center": {
          "lat": -7.270248065,
          "lon": 112.74241499198065
         },
         "domain": {
          "x": [
           0,
           1
          ],
          "y": [
           0,
           1
          ]
         },
         "style": "open-street-map",
         "zoom": 10
        },
        "template": {
         "data": {
          "bar": [
           {
            "error_x": {
             "color": "#2a3f5f"
            },
            "error_y": {
             "color": "#2a3f5f"
            },
            "marker": {
             "line": {
              "color": "#E5ECF6",
              "width": 0.5
             },
             "pattern": {
              "fillmode": "overlay",
              "size": 10,
              "solidity": 0.2
             }
            },
            "type": "bar"
           }
          ],
          "barpolar": [
           {
            "marker": {
             "line": {
              "color": "#E5ECF6",
              "width": 0.5
             },
             "pattern": {
              "fillmode": "overlay",
              "size": 10,
              "solidity": 0.2
             }
            },
            "type": "barpolar"
           }
          ],
          "carpet": [
           {
            "aaxis": {
             "endlinecolor": "#2a3f5f",
             "gridcolor": "white",
             "linecolor": "white",
             "minorgridcolor": "white",
             "startlinecolor": "#2a3f5f"
            },
            "baxis": {
             "endlinecolor": "#2a3f5f",
             "gridcolor": "white",
             "linecolor": "white",
             "minorgridcolor": "white",
             "startlinecolor": "#2a3f5f"
            },
            "type": "carpet"
           }
          ],
          "choropleth": [
           {
            "colorbar": {
             "outlinewidth": 0,
             "ticks": ""
            },
            "type": "choropleth"
           }
          ],
          "contour": [
           {
            "colorbar": {
             "outlinewidth": 0,
             "ticks": ""
            },
            "colorscale": [
             [
              0,
              "#0d0887"
             ],
             [
              0.1111111111111111,
              "#46039f"
             ],
             [
              0.2222222222222222,
              "#7201a8"
             ],
             [
              0.3333333333333333,
              "#9c179e"
             ],
             [
              0.4444444444444444,
              "#bd3786"
             ],
             [
              0.5555555555555556,
              "#d8576b"
             ],
             [
              0.6666666666666666,
              "#ed7953"
             ],
             [
              0.7777777777777778,
              "#fb9f3a"
             ],
             [
              0.8888888888888888,
              "#fdca26"
             ],
             [
              1,
              "#f0f921"
             ]
            ],
            "type": "contour"
           }
          ],
          "contourcarpet": [
           {
            "colorbar": {
             "outlinewidth": 0,
             "ticks": ""
            },
            "type": "contourcarpet"
           }
          ],
          "heatmap": [
           {
            "colorbar": {
             "outlinewidth": 0,
             "ticks": ""
            },
            "colorscale": [
             [
              0,
              "#0d0887"
             ],
             [
              0.1111111111111111,
              "#46039f"
             ],
             [
              0.2222222222222222,
              "#7201a8"
             ],
             [
              0.3333333333333333,
              "#9c179e"
             ],
             [
              0.4444444444444444,
              "#bd3786"
             ],
             [
              0.5555555555555556,
              "#d8576b"
             ],
             [
              0.6666666666666666,
              "#ed7953"
             ],
             [
              0.7777777777777778,
              "#fb9f3a"
             ],
             [
              0.8888888888888888,
              "#fdca26"
             ],
             [
              1,
              "#f0f921"
             ]
            ],
            "type": "heatmap"
           }
          ],
          "heatmapgl": [
           {
            "colorbar": {
             "outlinewidth": 0,
             "ticks": ""
            },
            "colorscale": [
             [
              0,
              "#0d0887"
             ],
             [
              0.1111111111111111,
              "#46039f"
             ],
             [
              0.2222222222222222,
              "#7201a8"
             ],
             [
              0.3333333333333333,
              "#9c179e"
             ],
             [
              0.4444444444444444,
              "#bd3786"
             ],
             [
              0.5555555555555556,
              "#d8576b"
             ],
             [
              0.6666666666666666,
              "#ed7953"
             ],
             [
              0.7777777777777778,
              "#fb9f3a"
             ],
             [
              0.8888888888888888,
              "#fdca26"
             ],
             [
              1,
              "#f0f921"
             ]
            ],
            "type": "heatmapgl"
           }
          ],
          "histogram": [
           {
            "marker": {
             "pattern": {
              "fillmode": "overlay",
              "size": 10,
              "solidity": 0.2
             }
            },
            "type": "histogram"
           }
          ],
          "histogram2d": [
           {
            "colorbar": {
             "outlinewidth": 0,
             "ticks": ""
            },
            "colorscale": [
             [
              0,
              "#0d0887"
             ],
             [
              0.1111111111111111,
              "#46039f"
             ],
             [
              0.2222222222222222,
              "#7201a8"
             ],
             [
              0.3333333333333333,
              "#9c179e"
             ],
             [
              0.4444444444444444,
              "#bd3786"
             ],
             [
              0.5555555555555556,
              "#d8576b"
             ],
             [
              0.6666666666666666,
              "#ed7953"
             ],
             [
              0.7777777777777778,
              "#fb9f3a"
             ],
             [
              0.8888888888888888,
              "#fdca26"
             ],
             [
              1,
              "#f0f921"
             ]
            ],
            "type": "histogram2d"
           }
          ],
          "histogram2dcontour": [
           {
            "colorbar": {
             "outlinewidth": 0,
             "ticks": ""
            },
            "colorscale": [
             [
              0,
              "#0d0887"
             ],
             [
              0.1111111111111111,
              "#46039f"
             ],
             [
              0.2222222222222222,
              "#7201a8"
             ],
             [
              0.3333333333333333,
              "#9c179e"
             ],
             [
              0.4444444444444444,
              "#bd3786"
             ],
             [
              0.5555555555555556,
              "#d8576b"
             ],
             [
              0.6666666666666666,
              "#ed7953"
             ],
             [
              0.7777777777777778,
              "#fb9f3a"
             ],
             [
              0.8888888888888888,
              "#fdca26"
             ],
             [
              1,
              "#f0f921"
             ]
            ],
            "type": "histogram2dcontour"
           }
          ],
          "mesh3d": [
           {
            "colorbar": {
             "outlinewidth": 0,
             "ticks": ""
            },
            "type": "mesh3d"
           }
          ],
          "parcoords": [
           {
            "line": {
             "colorbar": {
              "outlinewidth": 0,
              "ticks": ""
             }
            },
            "type": "parcoords"
           }
          ],
          "pie": [
           {
            "automargin": true,
            "type": "pie"
           }
          ],
          "scatter": [
           {
            "fillpattern": {
             "fillmode": "overlay",
             "size": 10,
             "solidity": 0.2
            },
            "type": "scatter"
           }
          ],
          "scatter3d": [
           {
            "line": {
             "colorbar": {
              "outlinewidth": 0,
              "ticks": ""
             }
            },
            "marker": {
             "colorbar": {
              "outlinewidth": 0,
              "ticks": ""
             }
            },
            "type": "scatter3d"
           }
          ],
          "scattercarpet": [
           {
            "marker": {
             "colorbar": {
              "outlinewidth": 0,
              "ticks": ""
             }
            },
            "type": "scattercarpet"
           }
          ],
          "scattergeo": [
           {
            "marker": {
             "colorbar": {
              "outlinewidth": 0,
              "ticks": ""
             }
            },
            "type": "scattergeo"
           }
          ],
          "scattergl": [
           {
            "marker": {
             "colorbar": {
              "outlinewidth": 0,
              "ticks": ""
             }
            },
            "type": "scattergl"
           }
          ],
          "scattermapbox": [
           {
            "marker": {
             "colorbar": {
              "outlinewidth": 0,
              "ticks": ""
             }
            },
            "type": "scattermapbox"
           }
          ],
          "scatterpolar": [
           {
            "marker": {
             "colorbar": {
              "outlinewidth": 0,
              "ticks": ""
             }
            },
            "type": "scatterpolar"
           }
          ],
          "scatterpolargl": [
           {
            "marker": {
             "colorbar": {
              "outlinewidth": 0,
              "ticks": ""
             }
            },
            "type": "scatterpolargl"
           }
          ],
          "scatterternary": [
           {
            "marker": {
             "colorbar": {
              "outlinewidth": 0,
              "ticks": ""
             }
            },
            "type": "scatterternary"
           }
          ],
          "surface": [
           {
            "colorbar": {
             "outlinewidth": 0,
             "ticks": ""
            },
            "colorscale": [
             [
              0,
              "#0d0887"
             ],
             [
              0.1111111111111111,
              "#46039f"
             ],
             [
              0.2222222222222222,
              "#7201a8"
             ],
             [
              0.3333333333333333,
              "#9c179e"
             ],
             [
              0.4444444444444444,
              "#bd3786"
             ],
             [
              0.5555555555555556,
              "#d8576b"
             ],
             [
              0.6666666666666666,
              "#ed7953"
             ],
             [
              0.7777777777777778,
              "#fb9f3a"
             ],
             [
              0.8888888888888888,
              "#fdca26"
             ],
             [
              1,
              "#f0f921"
             ]
            ],
            "type": "surface"
           }
          ],
          "table": [
           {
            "cells": {
             "fill": {
              "color": "#EBF0F8"
             },
             "line": {
              "color": "white"
             }
            },
            "header": {
             "fill": {
              "color": "#C8D4E3"
             },
             "line": {
              "color": "white"
             }
            },
            "type": "table"
           }
          ]
         },
         "layout": {
          "annotationdefaults": {
           "arrowcolor": "#2a3f5f",
           "arrowhead": 0,
           "arrowwidth": 1
          },
          "autotypenumbers": "strict",
          "coloraxis": {
           "colorbar": {
            "outlinewidth": 0,
            "ticks": ""
           }
          },
          "colorscale": {
           "diverging": [
            [
             0,
             "#8e0152"
            ],
            [
             0.1,
             "#c51b7d"
            ],
            [
             0.2,
             "#de77ae"
            ],
            [
             0.3,
             "#f1b6da"
            ],
            [
             0.4,
             "#fde0ef"
            ],
            [
             0.5,
             "#f7f7f7"
            ],
            [
             0.6,
             "#e6f5d0"
            ],
            [
             0.7,
             "#b8e186"
            ],
            [
             0.8,
             "#7fbc41"
            ],
            [
             0.9,
             "#4d9221"
            ],
            [
             1,
             "#276419"
            ]
           ],
           "sequential": [
            [
             0,
             "#0d0887"
            ],
            [
             0.1111111111111111,
             "#46039f"
            ],
            [
             0.2222222222222222,
             "#7201a8"
            ],
            [
             0.3333333333333333,
             "#9c179e"
            ],
            [
             0.4444444444444444,
             "#bd3786"
            ],
            [
             0.5555555555555556,
             "#d8576b"
            ],
            [
             0.6666666666666666,
             "#ed7953"
            ],
            [
             0.7777777777777778,
             "#fb9f3a"
            ],
            [
             0.8888888888888888,
             "#fdca26"
            ],
            [
             1,
             "#f0f921"
            ]
           ],
           "sequentialminus": [
            [
             0,
             "#0d0887"
            ],
            [
             0.1111111111111111,
             "#46039f"
            ],
            [
             0.2222222222222222,
             "#7201a8"
            ],
            [
             0.3333333333333333,
             "#9c179e"
            ],
            [
             0.4444444444444444,
             "#bd3786"
            ],
            [
             0.5555555555555556,
             "#d8576b"
            ],
            [
             0.6666666666666666,
             "#ed7953"
            ],
            [
             0.7777777777777778,
             "#fb9f3a"
            ],
            [
             0.8888888888888888,
             "#fdca26"
            ],
            [
             1,
             "#f0f921"
            ]
           ]
          },
          "colorway": [
           "#636efa",
           "#EF553B",
           "#00cc96",
           "#ab63fa",
           "#FFA15A",
           "#19d3f3",
           "#FF6692",
           "#B6E880",
           "#FF97FF",
           "#FECB52"
          ],
          "font": {
           "color": "#2a3f5f"
          },
          "geo": {
           "bgcolor": "white",
           "lakecolor": "white",
           "landcolor": "#E5ECF6",
           "showlakes": true,
           "showland": true,
           "subunitcolor": "white"
          },
          "hoverlabel": {
           "align": "left"
          },
          "hovermode": "closest",
          "mapbox": {
           "style": "light"
          },
          "paper_bgcolor": "white",
          "plot_bgcolor": "#E5ECF6",
          "polar": {
           "angularaxis": {
            "gridcolor": "white",
            "linecolor": "white",
            "ticks": ""
           },
           "bgcolor": "#E5ECF6",
           "radialaxis": {
            "gridcolor": "white",
            "linecolor": "white",
            "ticks": ""
           }
          },
          "scene": {
           "xaxis": {
            "backgroundcolor": "#E5ECF6",
            "gridcolor": "white",
            "gridwidth": 2,
            "linecolor": "white",
            "showbackground": true,
            "ticks": "",
            "zerolinecolor": "white"
           },
           "yaxis": {
            "backgroundcolor": "#E5ECF6",
            "gridcolor": "white",
            "gridwidth": 2,
            "linecolor": "white",
            "showbackground": true,
            "ticks": "",
            "zerolinecolor": "white"
           },
           "zaxis": {
            "backgroundcolor": "#E5ECF6",
            "gridcolor": "white",
            "gridwidth": 2,
            "linecolor": "white",
            "showbackground": true,
            "ticks": "",
            "zerolinecolor": "white"
           }
          },
          "shapedefaults": {
           "line": {
            "color": "#2a3f5f"
           }
          },
          "ternary": {
           "aaxis": {
            "gridcolor": "white",
            "linecolor": "white",
            "ticks": ""
           },
           "baxis": {
            "gridcolor": "white",
            "linecolor": "white",
            "ticks": ""
           },
           "bgcolor": "#E5ECF6",
           "caxis": {
            "gridcolor": "white",
            "linecolor": "white",
            "ticks": ""
           }
          },
          "title": {
           "x": 0.05
          },
          "xaxis": {
           "automargin": true,
           "gridcolor": "white",
           "linecolor": "white",
           "ticks": "",
           "title": {
            "standoff": 15
           },
           "zerolinecolor": "white",
           "zerolinewidth": 2
          },
          "yaxis": {
           "automargin": true,
           "gridcolor": "white",
           "linecolor": "white",
           "ticks": "",
           "title": {
            "standoff": 15
           },
           "zerolinecolor": "white",
           "zerolinewidth": 2
          }
         }
        },
        "title": {
         "text": "Top 10 Puskesmas with Positive Review Percentage",
         "x": 0.5,
         "xanchor": "center"
        },
        "width": 800
       }
      }
     },
     "metadata": {},
     "output_type": "display_data"
    }
   ],
   "source": [
    "import pandas as pd\n",
    "import plotly.express as px\n",
    "\n",
    "data_for_plotting = detail_puskesmas[\n",
    "    [\"lat\", \"lon\", \"puskesmas_name\", \"positive_percentage\"]\n",
    "]\n",
    "\n",
    "data_for_plotting[\"lat\"] = pd.to_numeric(data_for_plotting[\"lat\"], errors=\"coerce\")\n",
    "data_for_plotting[\"lon\"] = pd.to_numeric(data_for_plotting[\"lon\"], errors=\"coerce\")\n",
    "data_for_plotting[\"positive_percentage\"] = data_for_plotting[\n",
    "    \"positive_percentage\"\n",
    "].fillna(0)\n",
    "\n",
    "data_for_plotting = data_for_plotting[data_for_plotting[\"positive_percentage\"] != 0]\n",
    "\n",
    "top_10_data_for_plotting = data_for_plotting.sort_values(\n",
    "    by=\"positive_percentage\", ascending=False\n",
    ").head(10)\n",
    "\n",
    "fig = px.scatter_mapbox(\n",
    "    top_10_data_for_plotting,\n",
    "    lat=\"lat\",\n",
    "    lon=\"lon\",\n",
    "    color=\"positive_percentage\",\n",
    "    size=\"positive_percentage\",\n",
    "    hover_name=\"puskesmas_name\",\n",
    "    hover_data={\"positive_percentage\": True},\n",
    "    size_max=15,\n",
    "    zoom=10,\n",
    "    center={\n",
    "        \"lat\": top_10_data_for_plotting[\"lat\"].mean(),\n",
    "        \"lon\": top_10_data_for_plotting[\"lon\"].mean(),\n",
    "    },\n",
    "    mapbox_style=\"open-street-map\",\n",
    "    color_continuous_scale=px.colors.sequential.Viridis,\n",
    "    title=\"Top 10 Puskesmas with Positive Review Percentage\",\n",
    ")\n",
    "\n",
    "fig.update_traces(marker=dict(size=28, opacity=0.7), textposition=\"top center\")\n",
    "\n",
    "fig.update_traces(\n",
    "    hovertemplate=\"<b>%{hovertext}</b><br>Positivity Rate: %{marker.color:.2f}%\"\n",
    ")\n",
    "\n",
    "fig.update_coloraxes(colorbar_title=\"Positivity Rate (%)\")\n",
    "\n",
    "fig.update_layout(\n",
    "    legend=dict(\n",
    "        title_font=dict(size=14, color=\"blue\"),\n",
    "        bgcolor=\"rgba(255,255,255,0.5)\",\n",
    "        bordercolor=\"Black\",\n",
    "        borderwidth=2,\n",
    "    ),\n",
    "    title=dict(\n",
    "        text=\"Top 10 Puskesmas with Positive Review Percentage\", x=0.5, xanchor=\"center\"\n",
    "    ),\n",
    "    width=800,\n",
    "    height=800,\n",
    ")\n",
    "\n",
    "fig.show()"
   ]
  },
  {
   "cell_type": "code",
   "execution_count": 81,
   "metadata": {},
   "outputs": [
    {
     "name": "stderr",
     "output_type": "stream",
     "text": [
      "/tmp/ipykernel_6509/1330007942.py:6: SettingWithCopyWarning:\n",
      "\n",
      "\n",
      "A value is trying to be set on a copy of a slice from a DataFrame.\n",
      "Try using .loc[row_indexer,col_indexer] = value instead\n",
      "\n",
      "See the caveats in the documentation: https://pandas.pydata.org/pandas-docs/stable/user_guide/indexing.html#returning-a-view-versus-a-copy\n",
      "\n",
      "/tmp/ipykernel_6509/1330007942.py:7: SettingWithCopyWarning:\n",
      "\n",
      "\n",
      "A value is trying to be set on a copy of a slice from a DataFrame.\n",
      "Try using .loc[row_indexer,col_indexer] = value instead\n",
      "\n",
      "See the caveats in the documentation: https://pandas.pydata.org/pandas-docs/stable/user_guide/indexing.html#returning-a-view-versus-a-copy\n",
      "\n",
      "/tmp/ipykernel_6509/1330007942.py:8: SettingWithCopyWarning:\n",
      "\n",
      "\n",
      "A value is trying to be set on a copy of a slice from a DataFrame.\n",
      "Try using .loc[row_indexer,col_indexer] = value instead\n",
      "\n",
      "See the caveats in the documentation: https://pandas.pydata.org/pandas-docs/stable/user_guide/indexing.html#returning-a-view-versus-a-copy\n",
      "\n"
     ]
    },
    {
     "data": {
      "application/vnd.plotly.v1+json": {
       "config": {
        "plotlyServerURL": "https://plot.ly"
       },
       "data": [
        {
         "customdata": [
          [
           8.108108108108109
          ],
          [
           21.951219512195124
          ],
          [
           26.744186046511626
          ],
          [
           33.33333333333333
          ],
          [
           40.74074074074074
          ],
          [
           43.67816091954023
          ],
          [
           44.537815126050425
          ],
          [
           44.827586206896555
          ],
          [
           45.09803921568628
          ],
          [
           45.33333333333333
          ]
         ],
         "hovertemplate": "<b>%{hovertext}</b><br>Positivity Rate: %{marker.color:.2f}%",
         "hovertext": [
          "Puskesmas Morokrembangan",
          "Puskesmas Sidotopo",
          "Puskesmas Mojo",
          "Puskesmas Kenjeran",
          "Puskesmas Gundih",
          "Puskesmas Kedungdoro",
          "Puskesmas Tembok Dukuh",
          "Puskesmas Kalirungkut",
          "Puskesmas Banyu Urip",
          "Puskesmas Wiyung"
         ],
         "lat": [
          -7.2347805,
          -7.23034775,
          -7.270902149999999,
          -7.24111075,
          -7.24724475,
          -7.26370155,
          -7.254527449999999,
          -7.322217999999999,
          -7.2715069,
          -7.30968085
         ],
         "legendgroup": "",
         "lon": [
          112.71244346706712,
          112.7458816190326,
          112.77082440581847,
          112.79527909779556,
          112.72539045,
          112.7382415,
          112.71921325,
          112.77076210366916,
          112.72002732026792,
          112.67497509450482
         ],
         "marker": {
          "color": [
           8.108108108108109,
           21.951219512195124,
           26.744186046511626,
           33.33333333333333,
           40.74074074074074,
           43.67816091954023,
           44.537815126050425,
           44.827586206896555,
           45.09803921568628,
           45.33333333333333
          ],
          "coloraxis": "coloraxis",
          "opacity": 0.7,
          "size": 28,
          "sizemode": "area",
          "sizeref": 0.20148148148148146
         },
         "mode": "markers",
         "name": "",
         "showlegend": false,
         "subplot": "mapbox",
         "textposition": "top center",
         "type": "scattermapbox"
        }
       ],
       "layout": {
        "coloraxis": {
         "colorbar": {
          "title": {
           "text": "Positivity Rate (%)"
          }
         },
         "colorscale": [
          [
           0,
           "#440154"
          ],
          [
           0.1111111111111111,
           "#482878"
          ],
          [
           0.2222222222222222,
           "#3e4989"
          ],
          [
           0.3333333333333333,
           "#31688e"
          ],
          [
           0.4444444444444444,
           "#26828e"
          ],
          [
           0.5555555555555556,
           "#1f9e89"
          ],
          [
           0.6666666666666666,
           "#35b779"
          ],
          [
           0.7777777777777778,
           "#6ece58"
          ],
          [
           0.8888888888888888,
           "#b5de2b"
          ],
          [
           1,
           "#fde725"
          ]
         ]
        },
        "height": 800,
        "legend": {
         "bgcolor": "rgba(255,255,255,0.5)",
         "bordercolor": "Black",
         "borderwidth": 2,
         "itemsizing": "constant",
         "title": {
          "font": {
           "color": "blue",
           "size": 14
          }
         },
         "tracegroupgap": 0
        },
        "mapbox": {
         "center": {
          "lat": -7.264602065000001,
          "lon": 112.73730383081556
         },
         "domain": {
          "x": [
           0,
           1
          ],
          "y": [
           0,
           1
          ]
         },
         "style": "open-street-map",
         "zoom": 10
        },
        "template": {
         "data": {
          "bar": [
           {
            "error_x": {
             "color": "#2a3f5f"
            },
            "error_y": {
             "color": "#2a3f5f"
            },
            "marker": {
             "line": {
              "color": "#E5ECF6",
              "width": 0.5
             },
             "pattern": {
              "fillmode": "overlay",
              "size": 10,
              "solidity": 0.2
             }
            },
            "type": "bar"
           }
          ],
          "barpolar": [
           {
            "marker": {
             "line": {
              "color": "#E5ECF6",
              "width": 0.5
             },
             "pattern": {
              "fillmode": "overlay",
              "size": 10,
              "solidity": 0.2
             }
            },
            "type": "barpolar"
           }
          ],
          "carpet": [
           {
            "aaxis": {
             "endlinecolor": "#2a3f5f",
             "gridcolor": "white",
             "linecolor": "white",
             "minorgridcolor": "white",
             "startlinecolor": "#2a3f5f"
            },
            "baxis": {
             "endlinecolor": "#2a3f5f",
             "gridcolor": "white",
             "linecolor": "white",
             "minorgridcolor": "white",
             "startlinecolor": "#2a3f5f"
            },
            "type": "carpet"
           }
          ],
          "choropleth": [
           {
            "colorbar": {
             "outlinewidth": 0,
             "ticks": ""
            },
            "type": "choropleth"
           }
          ],
          "contour": [
           {
            "colorbar": {
             "outlinewidth": 0,
             "ticks": ""
            },
            "colorscale": [
             [
              0,
              "#0d0887"
             ],
             [
              0.1111111111111111,
              "#46039f"
             ],
             [
              0.2222222222222222,
              "#7201a8"
             ],
             [
              0.3333333333333333,
              "#9c179e"
             ],
             [
              0.4444444444444444,
              "#bd3786"
             ],
             [
              0.5555555555555556,
              "#d8576b"
             ],
             [
              0.6666666666666666,
              "#ed7953"
             ],
             [
              0.7777777777777778,
              "#fb9f3a"
             ],
             [
              0.8888888888888888,
              "#fdca26"
             ],
             [
              1,
              "#f0f921"
             ]
            ],
            "type": "contour"
           }
          ],
          "contourcarpet": [
           {
            "colorbar": {
             "outlinewidth": 0,
             "ticks": ""
            },
            "type": "contourcarpet"
           }
          ],
          "heatmap": [
           {
            "colorbar": {
             "outlinewidth": 0,
             "ticks": ""
            },
            "colorscale": [
             [
              0,
              "#0d0887"
             ],
             [
              0.1111111111111111,
              "#46039f"
             ],
             [
              0.2222222222222222,
              "#7201a8"
             ],
             [
              0.3333333333333333,
              "#9c179e"
             ],
             [
              0.4444444444444444,
              "#bd3786"
             ],
             [
              0.5555555555555556,
              "#d8576b"
             ],
             [
              0.6666666666666666,
              "#ed7953"
             ],
             [
              0.7777777777777778,
              "#fb9f3a"
             ],
             [
              0.8888888888888888,
              "#fdca26"
             ],
             [
              1,
              "#f0f921"
             ]
            ],
            "type": "heatmap"
           }
          ],
          "heatmapgl": [
           {
            "colorbar": {
             "outlinewidth": 0,
             "ticks": ""
            },
            "colorscale": [
             [
              0,
              "#0d0887"
             ],
             [
              0.1111111111111111,
              "#46039f"
             ],
             [
              0.2222222222222222,
              "#7201a8"
             ],
             [
              0.3333333333333333,
              "#9c179e"
             ],
             [
              0.4444444444444444,
              "#bd3786"
             ],
             [
              0.5555555555555556,
              "#d8576b"
             ],
             [
              0.6666666666666666,
              "#ed7953"
             ],
             [
              0.7777777777777778,
              "#fb9f3a"
             ],
             [
              0.8888888888888888,
              "#fdca26"
             ],
             [
              1,
              "#f0f921"
             ]
            ],
            "type": "heatmapgl"
           }
          ],
          "histogram": [
           {
            "marker": {
             "pattern": {
              "fillmode": "overlay",
              "size": 10,
              "solidity": 0.2
             }
            },
            "type": "histogram"
           }
          ],
          "histogram2d": [
           {
            "colorbar": {
             "outlinewidth": 0,
             "ticks": ""
            },
            "colorscale": [
             [
              0,
              "#0d0887"
             ],
             [
              0.1111111111111111,
              "#46039f"
             ],
             [
              0.2222222222222222,
              "#7201a8"
             ],
             [
              0.3333333333333333,
              "#9c179e"
             ],
             [
              0.4444444444444444,
              "#bd3786"
             ],
             [
              0.5555555555555556,
              "#d8576b"
             ],
             [
              0.6666666666666666,
              "#ed7953"
             ],
             [
              0.7777777777777778,
              "#fb9f3a"
             ],
             [
              0.8888888888888888,
              "#fdca26"
             ],
             [
              1,
              "#f0f921"
             ]
            ],
            "type": "histogram2d"
           }
          ],
          "histogram2dcontour": [
           {
            "colorbar": {
             "outlinewidth": 0,
             "ticks": ""
            },
            "colorscale": [
             [
              0,
              "#0d0887"
             ],
             [
              0.1111111111111111,
              "#46039f"
             ],
             [
              0.2222222222222222,
              "#7201a8"
             ],
             [
              0.3333333333333333,
              "#9c179e"
             ],
             [
              0.4444444444444444,
              "#bd3786"
             ],
             [
              0.5555555555555556,
              "#d8576b"
             ],
             [
              0.6666666666666666,
              "#ed7953"
             ],
             [
              0.7777777777777778,
              "#fb9f3a"
             ],
             [
              0.8888888888888888,
              "#fdca26"
             ],
             [
              1,
              "#f0f921"
             ]
            ],
            "type": "histogram2dcontour"
           }
          ],
          "mesh3d": [
           {
            "colorbar": {
             "outlinewidth": 0,
             "ticks": ""
            },
            "type": "mesh3d"
           }
          ],
          "parcoords": [
           {
            "line": {
             "colorbar": {
              "outlinewidth": 0,
              "ticks": ""
             }
            },
            "type": "parcoords"
           }
          ],
          "pie": [
           {
            "automargin": true,
            "type": "pie"
           }
          ],
          "scatter": [
           {
            "fillpattern": {
             "fillmode": "overlay",
             "size": 10,
             "solidity": 0.2
            },
            "type": "scatter"
           }
          ],
          "scatter3d": [
           {
            "line": {
             "colorbar": {
              "outlinewidth": 0,
              "ticks": ""
             }
            },
            "marker": {
             "colorbar": {
              "outlinewidth": 0,
              "ticks": ""
             }
            },
            "type": "scatter3d"
           }
          ],
          "scattercarpet": [
           {
            "marker": {
             "colorbar": {
              "outlinewidth": 0,
              "ticks": ""
             }
            },
            "type": "scattercarpet"
           }
          ],
          "scattergeo": [
           {
            "marker": {
             "colorbar": {
              "outlinewidth": 0,
              "ticks": ""
             }
            },
            "type": "scattergeo"
           }
          ],
          "scattergl": [
           {
            "marker": {
             "colorbar": {
              "outlinewidth": 0,
              "ticks": ""
             }
            },
            "type": "scattergl"
           }
          ],
          "scattermapbox": [
           {
            "marker": {
             "colorbar": {
              "outlinewidth": 0,
              "ticks": ""
             }
            },
            "type": "scattermapbox"
           }
          ],
          "scatterpolar": [
           {
            "marker": {
             "colorbar": {
              "outlinewidth": 0,
              "ticks": ""
             }
            },
            "type": "scatterpolar"
           }
          ],
          "scatterpolargl": [
           {
            "marker": {
             "colorbar": {
              "outlinewidth": 0,
              "ticks": ""
             }
            },
            "type": "scatterpolargl"
           }
          ],
          "scatterternary": [
           {
            "marker": {
             "colorbar": {
              "outlinewidth": 0,
              "ticks": ""
             }
            },
            "type": "scatterternary"
           }
          ],
          "surface": [
           {
            "colorbar": {
             "outlinewidth": 0,
             "ticks": ""
            },
            "colorscale": [
             [
              0,
              "#0d0887"
             ],
             [
              0.1111111111111111,
              "#46039f"
             ],
             [
              0.2222222222222222,
              "#7201a8"
             ],
             [
              0.3333333333333333,
              "#9c179e"
             ],
             [
              0.4444444444444444,
              "#bd3786"
             ],
             [
              0.5555555555555556,
              "#d8576b"
             ],
             [
              0.6666666666666666,
              "#ed7953"
             ],
             [
              0.7777777777777778,
              "#fb9f3a"
             ],
             [
              0.8888888888888888,
              "#fdca26"
             ],
             [
              1,
              "#f0f921"
             ]
            ],
            "type": "surface"
           }
          ],
          "table": [
           {
            "cells": {
             "fill": {
              "color": "#EBF0F8"
             },
             "line": {
              "color": "white"
             }
            },
            "header": {
             "fill": {
              "color": "#C8D4E3"
             },
             "line": {
              "color": "white"
             }
            },
            "type": "table"
           }
          ]
         },
         "layout": {
          "annotationdefaults": {
           "arrowcolor": "#2a3f5f",
           "arrowhead": 0,
           "arrowwidth": 1
          },
          "autotypenumbers": "strict",
          "coloraxis": {
           "colorbar": {
            "outlinewidth": 0,
            "ticks": ""
           }
          },
          "colorscale": {
           "diverging": [
            [
             0,
             "#8e0152"
            ],
            [
             0.1,
             "#c51b7d"
            ],
            [
             0.2,
             "#de77ae"
            ],
            [
             0.3,
             "#f1b6da"
            ],
            [
             0.4,
             "#fde0ef"
            ],
            [
             0.5,
             "#f7f7f7"
            ],
            [
             0.6,
             "#e6f5d0"
            ],
            [
             0.7,
             "#b8e186"
            ],
            [
             0.8,
             "#7fbc41"
            ],
            [
             0.9,
             "#4d9221"
            ],
            [
             1,
             "#276419"
            ]
           ],
           "sequential": [
            [
             0,
             "#0d0887"
            ],
            [
             0.1111111111111111,
             "#46039f"
            ],
            [
             0.2222222222222222,
             "#7201a8"
            ],
            [
             0.3333333333333333,
             "#9c179e"
            ],
            [
             0.4444444444444444,
             "#bd3786"
            ],
            [
             0.5555555555555556,
             "#d8576b"
            ],
            [
             0.6666666666666666,
             "#ed7953"
            ],
            [
             0.7777777777777778,
             "#fb9f3a"
            ],
            [
             0.8888888888888888,
             "#fdca26"
            ],
            [
             1,
             "#f0f921"
            ]
           ],
           "sequentialminus": [
            [
             0,
             "#0d0887"
            ],
            [
             0.1111111111111111,
             "#46039f"
            ],
            [
             0.2222222222222222,
             "#7201a8"
            ],
            [
             0.3333333333333333,
             "#9c179e"
            ],
            [
             0.4444444444444444,
             "#bd3786"
            ],
            [
             0.5555555555555556,
             "#d8576b"
            ],
            [
             0.6666666666666666,
             "#ed7953"
            ],
            [
             0.7777777777777778,
             "#fb9f3a"
            ],
            [
             0.8888888888888888,
             "#fdca26"
            ],
            [
             1,
             "#f0f921"
            ]
           ]
          },
          "colorway": [
           "#636efa",
           "#EF553B",
           "#00cc96",
           "#ab63fa",
           "#FFA15A",
           "#19d3f3",
           "#FF6692",
           "#B6E880",
           "#FF97FF",
           "#FECB52"
          ],
          "font": {
           "color": "#2a3f5f"
          },
          "geo": {
           "bgcolor": "white",
           "lakecolor": "white",
           "landcolor": "#E5ECF6",
           "showlakes": true,
           "showland": true,
           "subunitcolor": "white"
          },
          "hoverlabel": {
           "align": "left"
          },
          "hovermode": "closest",
          "mapbox": {
           "style": "light"
          },
          "paper_bgcolor": "white",
          "plot_bgcolor": "#E5ECF6",
          "polar": {
           "angularaxis": {
            "gridcolor": "white",
            "linecolor": "white",
            "ticks": ""
           },
           "bgcolor": "#E5ECF6",
           "radialaxis": {
            "gridcolor": "white",
            "linecolor": "white",
            "ticks": ""
           }
          },
          "scene": {
           "xaxis": {
            "backgroundcolor": "#E5ECF6",
            "gridcolor": "white",
            "gridwidth": 2,
            "linecolor": "white",
            "showbackground": true,
            "ticks": "",
            "zerolinecolor": "white"
           },
           "yaxis": {
            "backgroundcolor": "#E5ECF6",
            "gridcolor": "white",
            "gridwidth": 2,
            "linecolor": "white",
            "showbackground": true,
            "ticks": "",
            "zerolinecolor": "white"
           },
           "zaxis": {
            "backgroundcolor": "#E5ECF6",
            "gridcolor": "white",
            "gridwidth": 2,
            "linecolor": "white",
            "showbackground": true,
            "ticks": "",
            "zerolinecolor": "white"
           }
          },
          "shapedefaults": {
           "line": {
            "color": "#2a3f5f"
           }
          },
          "ternary": {
           "aaxis": {
            "gridcolor": "white",
            "linecolor": "white",
            "ticks": ""
           },
           "baxis": {
            "gridcolor": "white",
            "linecolor": "white",
            "ticks": ""
           },
           "bgcolor": "#E5ECF6",
           "caxis": {
            "gridcolor": "white",
            "linecolor": "white",
            "ticks": ""
           }
          },
          "title": {
           "x": 0.05
          },
          "xaxis": {
           "automargin": true,
           "gridcolor": "white",
           "linecolor": "white",
           "ticks": "",
           "title": {
            "standoff": 15
           },
           "zerolinecolor": "white",
           "zerolinewidth": 2
          },
          "yaxis": {
           "automargin": true,
           "gridcolor": "white",
           "linecolor": "white",
           "ticks": "",
           "title": {
            "standoff": 15
           },
           "zerolinecolor": "white",
           "zerolinewidth": 2
          }
         }
        },
        "title": {
         "text": "Top 10 Puskesmas with Negative Review Percentage",
         "x": 0.5,
         "xanchor": "center"
        },
        "width": 800
       }
      }
     },
     "metadata": {},
     "output_type": "display_data"
    }
   ],
   "source": [
    "import pandas as pd\n",
    "import plotly.express as px\n",
    "\n",
    "data_for_plotting = detail_puskesmas[\n",
    "    [\"lat\", \"lon\", \"puskesmas_name\", \"positive_percentage\"]\n",
    "]\n",
    "\n",
    "data_for_plotting[\"lat\"] = pd.to_numeric(data_for_plotting[\"lat\"], errors=\"coerce\")\n",
    "data_for_plotting[\"lon\"] = pd.to_numeric(data_for_plotting[\"lon\"], errors=\"coerce\")\n",
    "data_for_plotting[\"positive_percentage\"] = data_for_plotting[\n",
    "    \"positive_percentage\"\n",
    "].fillna(0)\n",
    "\n",
    "data_for_plotting = data_for_plotting[data_for_plotting[\"positive_percentage\"] != 0]\n",
    "\n",
    "top_10_data_for_plotting = data_for_plotting.sort_values(\n",
    "    by=\"positive_percentage\", ascending=True\n",
    ").head(10)\n",
    "\n",
    "fig = px.scatter_mapbox(\n",
    "    top_10_data_for_plotting,\n",
    "    lat=\"lat\",\n",
    "    lon=\"lon\",\n",
    "    color=\"positive_percentage\",\n",
    "    size=\"positive_percentage\",\n",
    "    hover_name=\"puskesmas_name\",\n",
    "    hover_data={\"positive_percentage\": True},\n",
    "    size_max=15,\n",
    "    zoom=10,\n",
    "    center={\n",
    "        \"lat\": top_10_data_for_plotting[\"lat\"].mean(),\n",
    "        \"lon\": top_10_data_for_plotting[\"lon\"].mean(),\n",
    "    },\n",
    "    mapbox_style=\"open-street-map\",\n",
    "    color_continuous_scale=px.colors.sequential.Viridis,\n",
    "    title=\"Top 10 Puskesmas with Negative Review Percentage\",\n",
    ")\n",
    "\n",
    "fig.update_traces(marker=dict(size=28, opacity=0.7), textposition=\"top center\")\n",
    "\n",
    "fig.update_traces(\n",
    "    hovertemplate=\"<b>%{hovertext}</b><br>Positivity Rate: %{marker.color:.2f}%\"\n",
    ")\n",
    "\n",
    "fig.update_coloraxes(colorbar_title=\"Positivity Rate (%)\")\n",
    "\n",
    "fig.update_layout(\n",
    "    legend=dict(\n",
    "        title_font=dict(size=14, color=\"blue\"),\n",
    "        bgcolor=\"rgba(255,255,255,0.5)\",\n",
    "        bordercolor=\"Black\",\n",
    "        borderwidth=2,\n",
    "    ),\n",
    "    title=dict(\n",
    "        text=\"Top 10 Puskesmas with Negative Review Percentage\", x=0.5, xanchor=\"center\"\n",
    "    ),\n",
    "    width=800,\n",
    "    height=800,\n",
    ")\n",
    "\n",
    "fig.show()"
   ]
  },
  {
   "cell_type": "code",
   "execution_count": 65,
   "metadata": {},
   "outputs": [
    {
     "data": {
      "text/html": [
       "<div>\n",
       "<style scoped>\n",
       "    .dataframe tbody tr th:only-of-type {\n",
       "        vertical-align: middle;\n",
       "    }\n",
       "\n",
       "    .dataframe tbody tr th {\n",
       "        vertical-align: top;\n",
       "    }\n",
       "\n",
       "    .dataframe thead th {\n",
       "        text-align: right;\n",
       "    }\n",
       "</style>\n",
       "<table border=\"1\" class=\"dataframe\">\n",
       "  <thead>\n",
       "    <tr style=\"text-align: right;\">\n",
       "      <th></th>\n",
       "      <th>puskesmas_name</th>\n",
       "      <th>kepala puskesmas</th>\n",
       "      <th>alamat</th>\n",
       "      <th>telepon</th>\n",
       "      <th>url</th>\n",
       "      <th>rate</th>\n",
       "      <th>review_num</th>\n",
       "      <th>lat</th>\n",
       "      <th>lon</th>\n",
       "      <th>display_name</th>\n",
       "      <th>positive_percentage</th>\n",
       "    </tr>\n",
       "  </thead>\n",
       "  <tbody>\n",
       "    <tr>\n",
       "      <th>50</th>\n",
       "      <td>Puskesmas Sidotopo Wetan</td>\n",
       "      <td>dr. Evi Susanti</td>\n",
       "      <td>Jln. Randu 38</td>\n",
       "      <td>(031) 3767737</td>\n",
       "      <td>https://www.google.com/maps/place/Puskesmas+Si...</td>\n",
       "      <td>4,4</td>\n",
       "      <td>(537)</td>\n",
       "      <td>-7.22658925</td>\n",
       "      <td>112.76350132938722</td>\n",
       "      <td>Puskesmas Sidotopo Wetan, Jalan Randu, RW 10, ...</td>\n",
       "      <td>83.532934</td>\n",
       "    </tr>\n",
       "    <tr>\n",
       "      <th>24</th>\n",
       "      <td>Puskesmas Ketabang</td>\n",
       "      <td>dr. Joyce Hestia Nugrahanti</td>\n",
       "      <td>Jln. Jaksa Agung Suprapto No 10</td>\n",
       "      <td>(031) 5311999</td>\n",
       "      <td>https://www.google.com/maps/place/Puskesmas+Ke...</td>\n",
       "      <td>4,5</td>\n",
       "      <td>(377)</td>\n",
       "      <td>-7.2580613</td>\n",
       "      <td>112.74677403040269</td>\n",
       "      <td>Puskesmas Ketabang, Jalan Jimerto, RW 05, Keta...</td>\n",
       "      <td>80.357143</td>\n",
       "    </tr>\n",
       "    <tr>\n",
       "      <th>57</th>\n",
       "      <td>Puskesmas Tanjungsari</td>\n",
       "      <td>dr. Yunita Andriani</td>\n",
       "      <td>Jln. Raya Tanjungsari No.116</td>\n",
       "      <td>(031) 7497858</td>\n",
       "      <td>https://www.google.com/maps/place/Puskesmas+Ta...</td>\n",
       "      <td>4,2</td>\n",
       "      <td>(300)</td>\n",
       "      <td>-7.2594043500000005</td>\n",
       "      <td>112.6892628357994</td>\n",
       "      <td>Puskesmas Tanjungsari, Jalan Raya Tandes Lor, ...</td>\n",
       "      <td>79.565217</td>\n",
       "    </tr>\n",
       "    <tr>\n",
       "      <th>56</th>\n",
       "      <td>Puskesmas Tanah Kali Kedinding</td>\n",
       "      <td>dr. Era Kartikawati</td>\n",
       "      <td>Jln. H. M. Noer 226</td>\n",
       "      <td>(031) 51501347</td>\n",
       "      <td>https://www.google.com/maps/place/Puskesmas+Ta...</td>\n",
       "      <td>4,2</td>\n",
       "      <td>(572)</td>\n",
       "      <td>-7.23037625</td>\n",
       "      <td>112.77446968315311</td>\n",
       "      <td>Puskesmas Tanah Kali Kedinding, Jalan Kedung C...</td>\n",
       "      <td>77.181208</td>\n",
       "    </tr>\n",
       "    <tr>\n",
       "      <th>42</th>\n",
       "      <td>Puskesmas Pucang Sewu</td>\n",
       "      <td>drg. Ummi Latifah</td>\n",
       "      <td>Jln. Pucang Anom Timur No. 72</td>\n",
       "      <td>(031) 5018527</td>\n",
       "      <td>https://www.google.com/maps/place/Puskesmas+Pu...</td>\n",
       "      <td>4,4</td>\n",
       "      <td>(464)</td>\n",
       "      <td>-7.28659415</td>\n",
       "      <td>112.75552826261239</td>\n",
       "      <td>Puskesmas Pucang Sewu, Jalan Kalibokor, RW 08,...</td>\n",
       "      <td>76.410256</td>\n",
       "    </tr>\n",
       "    <tr>\n",
       "      <th>1</th>\n",
       "      <td>Puskesmas Balas Klumprik</td>\n",
       "      <td>dr. Yessy Pebriaty Sukatendel, MM</td>\n",
       "      <td>Jln. Raya Balas Klumprik</td>\n",
       "      <td>(031) 7665219</td>\n",
       "      <td>https://www.google.com/maps/place/Puskesmas+Ba...</td>\n",
       "      <td>4,1</td>\n",
       "      <td>(96)</td>\n",
       "      <td>-7.3315249</td>\n",
       "      <td>112.69002720464968</td>\n",
       "      <td>Puskesmas Balas Klumprik, Jalan Balas Klumprik...</td>\n",
       "      <td>75.000000</td>\n",
       "    </tr>\n",
       "    <tr>\n",
       "      <th>25</th>\n",
       "      <td>Puskesmas Klampis Ngasem</td>\n",
       "      <td>drg. Esti Wuryaningtyas</td>\n",
       "      <td>Jln. Arif Rahman Hakim 99B</td>\n",
       "      <td>(031) 5992389</td>\n",
       "      <td>https://www.google.com/maps/place/Puskesmas+Kl...</td>\n",
       "      <td>4,3</td>\n",
       "      <td>(406)</td>\n",
       "      <td>-7.289156200000001</td>\n",
       "      <td>112.77848995</td>\n",
       "      <td>Puskesmas Klampis Ngasem, Jalan Klampis Aji II...</td>\n",
       "      <td>74.883721</td>\n",
       "    </tr>\n",
       "    <tr>\n",
       "      <th>61</th>\n",
       "      <td>Puskesmas Wonokromo</td>\n",
       "      <td>drg. Dwiana Yuniarti</td>\n",
       "      <td>Jln. Karangrejo VI/4</td>\n",
       "      <td>(031) 8281647 / 082143561190</td>\n",
       "      <td>https://www.google.com/maps/place/Puskesmas+Wo...</td>\n",
       "      <td>4,2</td>\n",
       "      <td>(349)</td>\n",
       "      <td>-7.303176499999999</td>\n",
       "      <td>112.7303924779992</td>\n",
       "      <td>Puskesmas Wonokromo, Jalan Karang Rejo VI, RW ...</td>\n",
       "      <td>74.869110</td>\n",
       "    </tr>\n",
       "    <tr>\n",
       "      <th>39</th>\n",
       "      <td>Puskesmas Pegirian</td>\n",
       "      <td>dr. Retno Widayanti</td>\n",
       "      <td>Jln. Karang Tembok No 39</td>\n",
       "      <td>(031) 3766179</td>\n",
       "      <td>https://www.google.com/maps/place/Puskesmas+Pe...</td>\n",
       "      <td>3,7</td>\n",
       "      <td>(67)</td>\n",
       "      <td>-7.224634399999999</td>\n",
       "      <td>112.74691545896945</td>\n",
       "      <td>Puskesmas Pegirian, Jalan Karang Tembok, RW 03...</td>\n",
       "      <td>74.074074</td>\n",
       "    </tr>\n",
       "    <tr>\n",
       "      <th>36</th>\n",
       "      <td>Puskesmas Ngagel Rejo</td>\n",
       "      <td>dr. Febria Sukmaini</td>\n",
       "      <td>Jln. Ngagel Dadi III No.17</td>\n",
       "      <td>(031) 5047055</td>\n",
       "      <td>https://www.google.com/maps/place/Puskesmas+Ng...</td>\n",
       "      <td>4,1</td>\n",
       "      <td>(357)</td>\n",
       "      <td>-7.29296335</td>\n",
       "      <td>112.74878868683348</td>\n",
       "      <td>Puskesmas Ngagel Rejo, Jalan Ngagel Dadi IV, R...</td>\n",
       "      <td>73.913043</td>\n",
       "    </tr>\n",
       "  </tbody>\n",
       "</table>\n",
       "</div>"
      ],
      "text/plain": [
       "                    puskesmas_name                   kepala puskesmas  \\\n",
       "50        Puskesmas Sidotopo Wetan                    dr. Evi Susanti   \n",
       "24              Puskesmas Ketabang        dr. Joyce Hestia Nugrahanti   \n",
       "57           Puskesmas Tanjungsari                dr. Yunita Andriani   \n",
       "56  Puskesmas Tanah Kali Kedinding                dr. Era Kartikawati   \n",
       "42           Puskesmas Pucang Sewu                  drg. Ummi Latifah   \n",
       "1         Puskesmas Balas Klumprik  dr. Yessy Pebriaty Sukatendel, MM   \n",
       "25        Puskesmas Klampis Ngasem            drg. Esti Wuryaningtyas   \n",
       "61             Puskesmas Wonokromo               drg. Dwiana Yuniarti   \n",
       "39              Puskesmas Pegirian                dr. Retno Widayanti   \n",
       "36           Puskesmas Ngagel Rejo                dr. Febria Sukmaini   \n",
       "\n",
       "                             alamat                       telepon  \\\n",
       "50                    Jln. Randu 38                 (031) 3767737   \n",
       "24  Jln. Jaksa Agung Suprapto No 10                 (031) 5311999   \n",
       "57     Jln. Raya Tanjungsari No.116                 (031) 7497858   \n",
       "56              Jln. H. M. Noer 226                (031) 51501347   \n",
       "42    Jln. Pucang Anom Timur No. 72                 (031) 5018527   \n",
       "1          Jln. Raya Balas Klumprik                 (031) 7665219   \n",
       "25       Jln. Arif Rahman Hakim 99B                 (031) 5992389   \n",
       "61             Jln. Karangrejo VI/4  (031) 8281647 / 082143561190   \n",
       "39         Jln. Karang Tembok No 39                 (031) 3766179   \n",
       "36       Jln. Ngagel Dadi III No.17                 (031) 5047055   \n",
       "\n",
       "                                                  url rate review_num  \\\n",
       "50  https://www.google.com/maps/place/Puskesmas+Si...  4,4      (537)   \n",
       "24  https://www.google.com/maps/place/Puskesmas+Ke...  4,5      (377)   \n",
       "57  https://www.google.com/maps/place/Puskesmas+Ta...  4,2      (300)   \n",
       "56  https://www.google.com/maps/place/Puskesmas+Ta...  4,2      (572)   \n",
       "42  https://www.google.com/maps/place/Puskesmas+Pu...  4,4      (464)   \n",
       "1   https://www.google.com/maps/place/Puskesmas+Ba...  4,1       (96)   \n",
       "25  https://www.google.com/maps/place/Puskesmas+Kl...  4,3      (406)   \n",
       "61  https://www.google.com/maps/place/Puskesmas+Wo...  4,2      (349)   \n",
       "39  https://www.google.com/maps/place/Puskesmas+Pe...  3,7       (67)   \n",
       "36  https://www.google.com/maps/place/Puskesmas+Ng...  4,1      (357)   \n",
       "\n",
       "                    lat                 lon  \\\n",
       "50          -7.22658925  112.76350132938722   \n",
       "24           -7.2580613  112.74677403040269   \n",
       "57  -7.2594043500000005   112.6892628357994   \n",
       "56          -7.23037625  112.77446968315311   \n",
       "42          -7.28659415  112.75552826261239   \n",
       "1            -7.3315249  112.69002720464968   \n",
       "25   -7.289156200000001        112.77848995   \n",
       "61   -7.303176499999999   112.7303924779992   \n",
       "39   -7.224634399999999  112.74691545896945   \n",
       "36          -7.29296335  112.74878868683348   \n",
       "\n",
       "                                         display_name  positive_percentage  \n",
       "50  Puskesmas Sidotopo Wetan, Jalan Randu, RW 10, ...            83.532934  \n",
       "24  Puskesmas Ketabang, Jalan Jimerto, RW 05, Keta...            80.357143  \n",
       "57  Puskesmas Tanjungsari, Jalan Raya Tandes Lor, ...            79.565217  \n",
       "56  Puskesmas Tanah Kali Kedinding, Jalan Kedung C...            77.181208  \n",
       "42  Puskesmas Pucang Sewu, Jalan Kalibokor, RW 08,...            76.410256  \n",
       "1   Puskesmas Balas Klumprik, Jalan Balas Klumprik...            75.000000  \n",
       "25  Puskesmas Klampis Ngasem, Jalan Klampis Aji II...            74.883721  \n",
       "61  Puskesmas Wonokromo, Jalan Karang Rejo VI, RW ...            74.869110  \n",
       "39  Puskesmas Pegirian, Jalan Karang Tembok, RW 03...            74.074074  \n",
       "36  Puskesmas Ngagel Rejo, Jalan Ngagel Dadi IV, R...            73.913043  "
      ]
     },
     "execution_count": 65,
     "metadata": {},
     "output_type": "execute_result"
    }
   ],
   "source": [
    "most_positive_review = detail_puskesmas.sort_values(\n",
    "    \"positive_percentage\", ascending=False\n",
    ").head(10)\n",
    "most_positive_review"
   ]
  },
  {
   "cell_type": "code",
   "execution_count": 66,
   "metadata": {},
   "outputs": [
    {
     "data": {
      "text/html": [
       "<div>\n",
       "<style scoped>\n",
       "    .dataframe tbody tr th:only-of-type {\n",
       "        vertical-align: middle;\n",
       "    }\n",
       "\n",
       "    .dataframe tbody tr th {\n",
       "        vertical-align: top;\n",
       "    }\n",
       "\n",
       "    .dataframe thead th {\n",
       "        text-align: right;\n",
       "    }\n",
       "</style>\n",
       "<table border=\"1\" class=\"dataframe\">\n",
       "  <thead>\n",
       "    <tr style=\"text-align: right;\">\n",
       "      <th></th>\n",
       "      <th>puskesmas_name</th>\n",
       "      <th>kepala puskesmas</th>\n",
       "      <th>alamat</th>\n",
       "      <th>telepon</th>\n",
       "      <th>url</th>\n",
       "      <th>rate</th>\n",
       "      <th>review_num</th>\n",
       "      <th>lat</th>\n",
       "      <th>lon</th>\n",
       "      <th>display_name</th>\n",
       "      <th>positive_percentage</th>\n",
       "    </tr>\n",
       "  </thead>\n",
       "  <tbody>\n",
       "    <tr>\n",
       "      <th>34</th>\n",
       "      <td>Puskesmas Morokrembangan</td>\n",
       "      <td>dr. Nurul Ihsani</td>\n",
       "      <td>Jln. Tambakasri 13/7 Morokrembangan</td>\n",
       "      <td>(031) 7493259</td>\n",
       "      <td>https://www.google.com/maps/place/Puskesmas+Mo...</td>\n",
       "      <td>1,9</td>\n",
       "      <td>(108)</td>\n",
       "      <td>-7.2347805</td>\n",
       "      <td>112.71244346706712</td>\n",
       "      <td>Puskesmas Moro Krembangab, Jalan Tambak Asri X...</td>\n",
       "      <td>8.108108</td>\n",
       "    </tr>\n",
       "    <tr>\n",
       "      <th>49</th>\n",
       "      <td>Puskesmas Sidotopo</td>\n",
       "      <td>dr. Galih Satryo Utomo</td>\n",
       "      <td>Jl. Pegirian No.239, Sidotopo</td>\n",
       "      <td>(031) 3767735</td>\n",
       "      <td>https://www.google.com/maps/place/Puskesmas+Si...</td>\n",
       "      <td>2,8</td>\n",
       "      <td>(80)</td>\n",
       "      <td>-7.23034775</td>\n",
       "      <td>112.74588161903259</td>\n",
       "      <td>Puskesmas Sidotopo, Jalan Sidodadi, RW 07, Sim...</td>\n",
       "      <td>21.951220</td>\n",
       "    </tr>\n",
       "    <tr>\n",
       "      <th>33</th>\n",
       "      <td>Puskesmas Mojo</td>\n",
       "      <td>dr. Ratna Megasari, M.Kes</td>\n",
       "      <td>Jln. Mojo Klanggru Wetan 2/11</td>\n",
       "      <td>(031) 5932332</td>\n",
       "      <td>https://www.google.com/maps/place/Puskesmas+Mo...</td>\n",
       "      <td>2,6</td>\n",
       "      <td>(285)</td>\n",
       "      <td>-7.2709021499999995</td>\n",
       "      <td>112.77082440581847</td>\n",
       "      <td>Puskesmas Mojo Surabaya, Jalan Mojo Klanggru W...</td>\n",
       "      <td>26.744186</td>\n",
       "    </tr>\n",
       "    <tr>\n",
       "      <th>22</th>\n",
       "      <td>Puskesmas Kenjeran</td>\n",
       "      <td>dr. Rosna Suswanti</td>\n",
       "      <td>Jl. Tambak Deres 2 Surabaya</td>\n",
       "      <td>089515356046</td>\n",
       "      <td>https://www.google.com/maps/place/Puskesmas+Ke...</td>\n",
       "      <td>3,2</td>\n",
       "      <td>(165)</td>\n",
       "      <td>-7.24111075</td>\n",
       "      <td>112.79527909779556</td>\n",
       "      <td>Puskesmas Kenjeran, Jalan Abdul Latif, RW 01, ...</td>\n",
       "      <td>33.333333</td>\n",
       "    </tr>\n",
       "    <tr>\n",
       "      <th>12</th>\n",
       "      <td>Puskesmas Gundih</td>\n",
       "      <td>dr. Tita Pusparini, M. Kes</td>\n",
       "      <td>Jln. Margodadi 36 - 38 Surabaya</td>\n",
       "      <td>(031) 5476275</td>\n",
       "      <td>https://www.google.com/maps/place/Puskesmas+Gu...</td>\n",
       "      <td>3,1</td>\n",
       "      <td>(117)</td>\n",
       "      <td>-7.24724475</td>\n",
       "      <td>112.72539044999999</td>\n",
       "      <td>Puskesmas Gundih, Jalan Margodadi, RW 07, Gund...</td>\n",
       "      <td>40.740741</td>\n",
       "    </tr>\n",
       "    <tr>\n",
       "      <th>20</th>\n",
       "      <td>Puskesmas Kedungdoro</td>\n",
       "      <td>dr. Diah Roichan Arifiani, M.Kes</td>\n",
       "      <td>Jln. Kaliasin Pompa 79-81 Surabaya</td>\n",
       "      <td>(031) 5345968</td>\n",
       "      <td>https://www.google.com/maps/place/Puskesmas+Ke...</td>\n",
       "      <td>3,2</td>\n",
       "      <td>(145)</td>\n",
       "      <td>-7.26370155</td>\n",
       "      <td>112.73824149999999</td>\n",
       "      <td>Puskesmas Kedungdoro, Jalan Kaliasin Gang VI, ...</td>\n",
       "      <td>43.678161</td>\n",
       "    </tr>\n",
       "    <tr>\n",
       "      <th>58</th>\n",
       "      <td>Puskesmas Tembok Dukuh</td>\n",
       "      <td>drg. Tiyas Pranadani</td>\n",
       "      <td>Jln. Kalibutuh No 26 Surabaya</td>\n",
       "      <td>(031) 5343410</td>\n",
       "      <td>https://www.google.com/maps/place/Puskesmas+Te...</td>\n",
       "      <td>3,7</td>\n",
       "      <td>(266)</td>\n",
       "      <td>-7.254527449999999</td>\n",
       "      <td>112.71921325</td>\n",
       "      <td>Puskesmas Tembok Dukuh, Jalan Kalibutuh, RW 02...</td>\n",
       "      <td>44.537815</td>\n",
       "    </tr>\n",
       "    <tr>\n",
       "      <th>18</th>\n",
       "      <td>Puskesmas Kalirungkut</td>\n",
       "      <td>dr. Bernadetta Martini</td>\n",
       "      <td>Jln. Rungkut Puskesmas No. 1</td>\n",
       "      <td>(031) 8700668</td>\n",
       "      <td>https://www.google.com/maps/place/Puskesmas+Ka...</td>\n",
       "      <td>3,4</td>\n",
       "      <td>(289)</td>\n",
       "      <td>-7.3222179999999994</td>\n",
       "      <td>112.77076210366917</td>\n",
       "      <td>Puskesmas Kalirungkut, Jalan Puskesmas, RW 07,...</td>\n",
       "      <td>44.827586</td>\n",
       "    </tr>\n",
       "    <tr>\n",
       "      <th>4</th>\n",
       "      <td>Puskesmas Banyu Urip</td>\n",
       "      <td>dr. Winartuti Santoso, M.Kes</td>\n",
       "      <td>Jln. Banyu Urip Kidul 6/8</td>\n",
       "      <td>(031) 7405936</td>\n",
       "      <td>https://www.google.com/maps/place/Puskesmas+Ba...</td>\n",
       "      <td>3,2</td>\n",
       "      <td>(170)</td>\n",
       "      <td>-7.2715069</td>\n",
       "      <td>112.72002732026792</td>\n",
       "      <td>Puskesmas Banyu Urip, Jalan Banyu Urip Kidul V...</td>\n",
       "      <td>45.098039</td>\n",
       "    </tr>\n",
       "    <tr>\n",
       "      <th>60</th>\n",
       "      <td>Puskesmas Wiyung</td>\n",
       "      <td>dr. Tatien Tjahjandari</td>\n",
       "      <td>Jln. Menganti Wiyung Pasar No. 1</td>\n",
       "      <td>(031) 7532885 / 082143561187</td>\n",
       "      <td>https://www.google.com/maps/place/Puskesmas+Wi...</td>\n",
       "      <td>3,4</td>\n",
       "      <td>(272)</td>\n",
       "      <td>-7.30968085</td>\n",
       "      <td>112.67497509450482</td>\n",
       "      <td>Puskesmas Pembantu Babatan, Jalan Babatan IV, ...</td>\n",
       "      <td>45.333333</td>\n",
       "    </tr>\n",
       "  </tbody>\n",
       "</table>\n",
       "</div>"
      ],
      "text/plain": [
       "              puskesmas_name                  kepala puskesmas  \\\n",
       "34  Puskesmas Morokrembangan                  dr. Nurul Ihsani   \n",
       "49        Puskesmas Sidotopo            dr. Galih Satryo Utomo   \n",
       "33            Puskesmas Mojo         dr. Ratna Megasari, M.Kes   \n",
       "22        Puskesmas Kenjeran                dr. Rosna Suswanti   \n",
       "12          Puskesmas Gundih        dr. Tita Pusparini, M. Kes   \n",
       "20      Puskesmas Kedungdoro  dr. Diah Roichan Arifiani, M.Kes   \n",
       "58    Puskesmas Tembok Dukuh              drg. Tiyas Pranadani   \n",
       "18     Puskesmas Kalirungkut            dr. Bernadetta Martini   \n",
       "4       Puskesmas Banyu Urip      dr. Winartuti Santoso, M.Kes   \n",
       "60          Puskesmas Wiyung            dr. Tatien Tjahjandari   \n",
       "\n",
       "                                 alamat                       telepon  \\\n",
       "34  Jln. Tambakasri 13/7 Morokrembangan                 (031) 7493259   \n",
       "49        Jl. Pegirian No.239, Sidotopo                 (031) 3767735   \n",
       "33        Jln. Mojo Klanggru Wetan 2/11                 (031) 5932332   \n",
       "22          Jl. Tambak Deres 2 Surabaya                  089515356046   \n",
       "12      Jln. Margodadi 36 - 38 Surabaya                 (031) 5476275   \n",
       "20   Jln. Kaliasin Pompa 79-81 Surabaya                 (031) 5345968   \n",
       "58        Jln. Kalibutuh No 26 Surabaya                 (031) 5343410   \n",
       "18         Jln. Rungkut Puskesmas No. 1                 (031) 8700668   \n",
       "4             Jln. Banyu Urip Kidul 6/8                 (031) 7405936   \n",
       "60     Jln. Menganti Wiyung Pasar No. 1  (031) 7532885 / 082143561187   \n",
       "\n",
       "                                                  url rate review_num  \\\n",
       "34  https://www.google.com/maps/place/Puskesmas+Mo...  1,9      (108)   \n",
       "49  https://www.google.com/maps/place/Puskesmas+Si...  2,8       (80)   \n",
       "33  https://www.google.com/maps/place/Puskesmas+Mo...  2,6      (285)   \n",
       "22  https://www.google.com/maps/place/Puskesmas+Ke...  3,2      (165)   \n",
       "12  https://www.google.com/maps/place/Puskesmas+Gu...  3,1      (117)   \n",
       "20  https://www.google.com/maps/place/Puskesmas+Ke...  3,2      (145)   \n",
       "58  https://www.google.com/maps/place/Puskesmas+Te...  3,7      (266)   \n",
       "18  https://www.google.com/maps/place/Puskesmas+Ka...  3,4      (289)   \n",
       "4   https://www.google.com/maps/place/Puskesmas+Ba...  3,2      (170)   \n",
       "60  https://www.google.com/maps/place/Puskesmas+Wi...  3,4      (272)   \n",
       "\n",
       "                    lat                 lon  \\\n",
       "34           -7.2347805  112.71244346706712   \n",
       "49          -7.23034775  112.74588161903259   \n",
       "33  -7.2709021499999995  112.77082440581847   \n",
       "22          -7.24111075  112.79527909779556   \n",
       "12          -7.24724475  112.72539044999999   \n",
       "20          -7.26370155  112.73824149999999   \n",
       "58   -7.254527449999999        112.71921325   \n",
       "18  -7.3222179999999994  112.77076210366917   \n",
       "4            -7.2715069  112.72002732026792   \n",
       "60          -7.30968085  112.67497509450482   \n",
       "\n",
       "                                         display_name  positive_percentage  \n",
       "34  Puskesmas Moro Krembangab, Jalan Tambak Asri X...             8.108108  \n",
       "49  Puskesmas Sidotopo, Jalan Sidodadi, RW 07, Sim...            21.951220  \n",
       "33  Puskesmas Mojo Surabaya, Jalan Mojo Klanggru W...            26.744186  \n",
       "22  Puskesmas Kenjeran, Jalan Abdul Latif, RW 01, ...            33.333333  \n",
       "12  Puskesmas Gundih, Jalan Margodadi, RW 07, Gund...            40.740741  \n",
       "20  Puskesmas Kedungdoro, Jalan Kaliasin Gang VI, ...            43.678161  \n",
       "58  Puskesmas Tembok Dukuh, Jalan Kalibutuh, RW 02...            44.537815  \n",
       "18  Puskesmas Kalirungkut, Jalan Puskesmas, RW 07,...            44.827586  \n",
       "4   Puskesmas Banyu Urip, Jalan Banyu Urip Kidul V...            45.098039  \n",
       "60  Puskesmas Pembantu Babatan, Jalan Babatan IV, ...            45.333333  "
      ]
     },
     "execution_count": 66,
     "metadata": {},
     "output_type": "execute_result"
    }
   ],
   "source": [
    "most_negative_review = detail_puskesmas.sort_values(\n",
    "    \"positive_percentage\", ascending=True\n",
    ").head(10)\n",
    "most_negative_review"
   ]
  },
  {
   "cell_type": "code",
   "execution_count": 3,
   "metadata": {},
   "outputs": [
    {
     "data": {
      "text/plain": [
       "(14891, 4)"
      ]
     },
     "execution_count": 3,
     "metadata": {},
     "output_type": "execute_result"
    }
   ],
   "source": [
    "import pandas as pd\n",
    "\n",
    "data = pd.read_csv(\"data_scrapping/puskesmas_data.csv\")\n",
    "data.shape"
   ]
  }
 ],
 "metadata": {
  "kernelspec": {
   "display_name": "Python 3",
   "language": "python",
   "name": "python3"
  },
  "language_info": {
   "codemirror_mode": {
    "name": "ipython",
    "version": 3
   },
   "file_extension": ".py",
   "mimetype": "text/x-python",
   "name": "python",
   "nbconvert_exporter": "python",
   "pygments_lexer": "ipython3",
   "version": "3.9.19"
  }
 },
 "nbformat": 4,
 "nbformat_minor": 2
}
