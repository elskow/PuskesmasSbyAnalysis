{
 "cells": [
  {
   "cell_type": "markdown",
   "metadata": {},
   "source": [
    "# Load Data"
   ]
  },
  {
   "cell_type": "code",
   "execution_count": 239,
   "metadata": {},
   "outputs": [
    {
     "data": {
      "text/html": [
       "<div>\n",
       "<style scoped>\n",
       "    .dataframe tbody tr th:only-of-type {\n",
       "        vertical-align: middle;\n",
       "    }\n",
       "\n",
       "    .dataframe tbody tr th {\n",
       "        vertical-align: top;\n",
       "    }\n",
       "\n",
       "    .dataframe thead th {\n",
       "        text-align: right;\n",
       "    }\n",
       "</style>\n",
       "<table border=\"1\" class=\"dataframe\">\n",
       "  <thead>\n",
       "    <tr style=\"text-align: right;\">\n",
       "      <th></th>\n",
       "      <th>reviewer_name</th>\n",
       "      <th>rating</th>\n",
       "      <th>review_text</th>\n",
       "      <th>puskesmas_name</th>\n",
       "      <th>cleaned_review_text</th>\n",
       "      <th>language</th>\n",
       "      <th>is_positive</th>\n",
       "    </tr>\n",
       "  </thead>\n",
       "  <tbody>\n",
       "    <tr>\n",
       "      <th>0</th>\n",
       "      <td>Mira Diah V</td>\n",
       "      <td>5</td>\n",
       "      <td>Pelayanan di poli KIA bagus&amp;informatif sekali....</td>\n",
       "      <td>Puskesmas Simomulyo</td>\n",
       "      <td>layan pol kia bagusinformatif anak imunisasi a...</td>\n",
       "      <td>id</td>\n",
       "      <td>1</td>\n",
       "    </tr>\n",
       "    <tr>\n",
       "      <th>1</th>\n",
       "      <td>Ranitya Dewi Ayu Sadian</td>\n",
       "      <td>1</td>\n",
       "      <td>Pelayanan poli KIA lama sekali…\\nKamis pagi se...</td>\n",
       "      <td>Puskesmas Simomulyo</td>\n",
       "      <td>layan pol kia kamis pagi puskesmas daftar pol ...</td>\n",
       "      <td>id</td>\n",
       "      <td>0</td>\n",
       "    </tr>\n",
       "    <tr>\n",
       "      <th>2</th>\n",
       "      <td>Yuliasti Ika</td>\n",
       "      <td>5</td>\n",
       "      <td>Puskesmas dengan pelayanan yang baik sekali, s...</td>\n",
       "      <td>Puskesmas Simomulyo</td>\n",
       "      <td>puskesmas layan layan ramah lengkap fasilitas ...</td>\n",
       "      <td>id</td>\n",
       "      <td>1</td>\n",
       "    </tr>\n",
       "    <tr>\n",
       "      <th>3</th>\n",
       "      <td>Yusup Jaya</td>\n",
       "      <td>1</td>\n",
       "      <td>Pelayanan tambah lelet, mohon managentnya di p...</td>\n",
       "      <td>Puskesmas Simomulyo</td>\n",
       "      <td>layan lambat mohon managernya sat set rujuk ce...</td>\n",
       "      <td>id</td>\n",
       "      <td>0</td>\n",
       "    </tr>\n",
       "    <tr>\n",
       "      <th>4</th>\n",
       "      <td>Yunia Ardina</td>\n",
       "      <td>1</td>\n",
       "      <td>Saya mau kasih masukan sekaligus protes..\\n\\nS...</td>\n",
       "      <td>Puskesmas Simomulyo</td>\n",
       "      <td>kasih masuk protes tanggal february jaman prik...</td>\n",
       "      <td>id</td>\n",
       "      <td>0</td>\n",
       "    </tr>\n",
       "  </tbody>\n",
       "</table>\n",
       "</div>"
      ],
      "text/plain": [
       "             reviewer_name  rating  \\\n",
       "0              Mira Diah V       5   \n",
       "1  Ranitya Dewi Ayu Sadian       1   \n",
       "2             Yuliasti Ika       5   \n",
       "3               Yusup Jaya       1   \n",
       "4             Yunia Ardina       1   \n",
       "\n",
       "                                         review_text       puskesmas_name  \\\n",
       "0  Pelayanan di poli KIA bagus&informatif sekali....  Puskesmas Simomulyo   \n",
       "1  Pelayanan poli KIA lama sekali…\\nKamis pagi se...  Puskesmas Simomulyo   \n",
       "2  Puskesmas dengan pelayanan yang baik sekali, s...  Puskesmas Simomulyo   \n",
       "3  Pelayanan tambah lelet, mohon managentnya di p...  Puskesmas Simomulyo   \n",
       "4  Saya mau kasih masukan sekaligus protes..\\n\\nS...  Puskesmas Simomulyo   \n",
       "\n",
       "                                 cleaned_review_text language  is_positive  \n",
       "0  layan pol kia bagusinformatif anak imunisasi a...       id            1  \n",
       "1  layan pol kia kamis pagi puskesmas daftar pol ...       id            0  \n",
       "2  puskesmas layan layan ramah lengkap fasilitas ...       id            1  \n",
       "3  layan lambat mohon managernya sat set rujuk ce...       id            0  \n",
       "4  kasih masuk protes tanggal february jaman prik...       id            0  "
      ]
     },
     "execution_count": 239,
     "metadata": {},
     "output_type": "execute_result"
    }
   ],
   "source": [
    "import pandas as pd\n",
    "\n",
    "predicted_data_puskesmas = pd.read_csv(\"predicted-review.csv\")\n",
    "\n",
    "predicted_data_puskesmas.head()"
   ]
  },
  {
   "cell_type": "code",
   "execution_count": 240,
   "metadata": {},
   "outputs": [
    {
     "data": {
      "text/html": [
       "<div>\n",
       "<style scoped>\n",
       "    .dataframe tbody tr th:only-of-type {\n",
       "        vertical-align: middle;\n",
       "    }\n",
       "\n",
       "    .dataframe tbody tr th {\n",
       "        vertical-align: top;\n",
       "    }\n",
       "\n",
       "    .dataframe thead th {\n",
       "        text-align: right;\n",
       "    }\n",
       "</style>\n",
       "<table border=\"1\" class=\"dataframe\">\n",
       "  <thead>\n",
       "    <tr style=\"text-align: right;\">\n",
       "      <th></th>\n",
       "      <th>name</th>\n",
       "      <th>kepala puskesmas</th>\n",
       "      <th>alamat</th>\n",
       "      <th>telepon</th>\n",
       "      <th>url</th>\n",
       "      <th>rate</th>\n",
       "      <th>review_num</th>\n",
       "    </tr>\n",
       "  </thead>\n",
       "  <tbody>\n",
       "    <tr>\n",
       "      <th>0</th>\n",
       "      <td>Puskesmas Asemrowo</td>\n",
       "      <td>dr. Diah Miryati</td>\n",
       "      <td>Jln. Asem Raya No. 8</td>\n",
       "      <td>(031) 5456122 / 081252965070</td>\n",
       "      <td>https://www.google.com/maps/place/Puskesmas+As...</td>\n",
       "      <td>3,5</td>\n",
       "      <td>(131)</td>\n",
       "    </tr>\n",
       "    <tr>\n",
       "      <th>1</th>\n",
       "      <td>Puskesmas Balas Klumprik</td>\n",
       "      <td>dr. Yessy Pebriaty Sukatendel, MM</td>\n",
       "      <td>Jln. Raya Balas Klumprik</td>\n",
       "      <td>(031) 7665219</td>\n",
       "      <td>https://www.google.com/maps/place/Puskesmas+Ba...</td>\n",
       "      <td>4,1</td>\n",
       "      <td>(96)</td>\n",
       "    </tr>\n",
       "    <tr>\n",
       "      <th>2</th>\n",
       "      <td>Puskesmas Balongsari</td>\n",
       "      <td>dr. Dewi Ayuning Asih</td>\n",
       "      <td>Jln. Balongsari Tama No. 2 Surabaya</td>\n",
       "      <td>(031) 7417104</td>\n",
       "      <td>https://www.google.com/maps/place/Puskesmas+Ba...</td>\n",
       "      <td>3,9</td>\n",
       "      <td>(308)</td>\n",
       "    </tr>\n",
       "    <tr>\n",
       "      <th>3</th>\n",
       "      <td>Puskesmas Bangkingan</td>\n",
       "      <td>dr. Tri Indah Rachmawati</td>\n",
       "      <td>Jln. Banyu Urip Kidul 6/8</td>\n",
       "      <td>(031) 5685424 - 5615292 / 081334932007</td>\n",
       "      <td>https://www.google.com/maps/place/Puskesmas+Ba...</td>\n",
       "      <td>3,8</td>\n",
       "      <td>(84)</td>\n",
       "    </tr>\n",
       "    <tr>\n",
       "      <th>4</th>\n",
       "      <td>Puskesmas Banyu Urip</td>\n",
       "      <td>dr. Winartuti Santoso, M.Kes</td>\n",
       "      <td>Jln. Banyu Urip Kidul 6/8</td>\n",
       "      <td>(031) 7405936</td>\n",
       "      <td>https://www.google.com/maps/place/Puskesmas+Ba...</td>\n",
       "      <td>3,2</td>\n",
       "      <td>(170)</td>\n",
       "    </tr>\n",
       "  </tbody>\n",
       "</table>\n",
       "</div>"
      ],
      "text/plain": [
       "                       name                   kepala puskesmas  \\\n",
       "0        Puskesmas Asemrowo                   dr. Diah Miryati   \n",
       "1  Puskesmas Balas Klumprik  dr. Yessy Pebriaty Sukatendel, MM   \n",
       "2      Puskesmas Balongsari              dr. Dewi Ayuning Asih   \n",
       "3      Puskesmas Bangkingan           dr. Tri Indah Rachmawati   \n",
       "4      Puskesmas Banyu Urip       dr. Winartuti Santoso, M.Kes   \n",
       "\n",
       "                                alamat  \\\n",
       "0                 Jln. Asem Raya No. 8   \n",
       "1             Jln. Raya Balas Klumprik   \n",
       "2  Jln. Balongsari Tama No. 2 Surabaya   \n",
       "3            Jln. Banyu Urip Kidul 6/8   \n",
       "4            Jln. Banyu Urip Kidul 6/8   \n",
       "\n",
       "                                  telepon  \\\n",
       "0            (031) 5456122 / 081252965070   \n",
       "1                           (031) 7665219   \n",
       "2                           (031) 7417104   \n",
       "3  (031) 5685424 - 5615292 / 081334932007   \n",
       "4                           (031) 7405936   \n",
       "\n",
       "                                                 url rate review_num  \n",
       "0  https://www.google.com/maps/place/Puskesmas+As...  3,5      (131)  \n",
       "1  https://www.google.com/maps/place/Puskesmas+Ba...  4,1       (96)  \n",
       "2  https://www.google.com/maps/place/Puskesmas+Ba...  3,9      (308)  \n",
       "3  https://www.google.com/maps/place/Puskesmas+Ba...  3,8       (84)  \n",
       "4  https://www.google.com/maps/place/Puskesmas+Ba...  3,2      (170)  "
      ]
     },
     "execution_count": 240,
     "metadata": {},
     "output_type": "execute_result"
    }
   ],
   "source": [
    "detail_puskesmas = pd.read_csv(\"scrapping/cleaned_puskesmas.csv\")\n",
    "\n",
    "detail_puskesmas.head()"
   ]
  },
  {
   "cell_type": "markdown",
   "metadata": {},
   "source": [
    "# Get longtiude and latitude of each puskesmas"
   ]
  },
  {
   "cell_type": "code",
   "execution_count": 241,
   "metadata": {},
   "outputs": [
    {
     "data": {
      "application/vnd.jupyter.widget-view+json": {
       "model_id": "38486af0da7f4ef980653a06d9324fdd",
       "version_major": 2,
       "version_minor": 0
      },
      "text/plain": [
       "  0%|          | 0/63 [00:00<?, ?it/s]"
      ]
     },
     "metadata": {},
     "output_type": "display_data"
    },
    {
     "name": "stdout",
     "output_type": "stream",
     "text": [
      "Index(['name', 'kepala puskesmas', 'alamat', 'telepon', 'url', 'rate',\n",
      "       'review_num', 'lat', 'lon', 'display_name'],\n",
      "      dtype='object')\n"
     ]
    }
   ],
   "source": [
    "import plotly.express as px\n",
    "from tqdm.notebook import tqdm\n",
    "import requests\n",
    "import random\n",
    "\n",
    "\n",
    "def get_lat_lon(puskesmas_name):\n",
    "    user_agents = [\n",
    "        \"Mozilla/5.0 (Windows NT 10.0; Win64; x64) AppleWebKit/537.36 (KHTML, like Gecko) Chrome/58.0.3029.110 Safari/537.3\",\n",
    "        \"Mozilla/5.0 (Macintosh; Intel Mac OS X 10_15_7) AppleWebKit/605.1.15 (KHTML, like Gecko) Version/14.0.3 Safari/605.1.15\",\n",
    "        \"Mozilla/5.0 (Windows NT 10.0; Win64; x64; rv:88.0) Gecko/20100101 Firefox/88.0\",\n",
    "        \"Mozilla/5.0 (Linux; Android 6.0; Nexus 5 Build/MRA58N) AppleWebKit/537.36 (KHTML, like Gecko) Chrome/86.0.4240.110 Mobile Safari/537.36\",\n",
    "        \"Mozilla/5.0 (iPad; CPU OS 13_7 like Mac OS X) AppleWebKit/605.1.15 (KHTML, like Gecko) Version/13.1.2 Mobile/15E148 Safari/604.1\",\n",
    "    ]\n",
    "    attempts = 0\n",
    "    while attempts < 10:\n",
    "        try:\n",
    "            headers = {\"User-Agent\": random.choice(user_agents)}\n",
    "            url = f\"https://nominatim.openstreetmap.org/search?q={puskesmas_name}, surabaya&format=jsonv2\"\n",
    "            response = requests.get(url, headers=headers)\n",
    "            if response.status_code == 200:\n",
    "                data = response.json()\n",
    "                return data[0][\"lat\"], data[0][\"lon\"], data[0][\"display_name\"]\n",
    "            else:\n",
    "                attempts += 1\n",
    "                # print(f\"Attempt {attempts}: Failed to get data for {puskesmas_name}\")\n",
    "        except Exception as e:\n",
    "            attempts += 1\n",
    "            # print(f\"Attempt {attempts}: Error for {puskesmas_name} - {e}\")\n",
    "    return None, None\n",
    "\n",
    "\n",
    "tqdm.pandas()\n",
    "detail_puskesmas[\"lat\"], detail_puskesmas[\"lon\"], detail_puskesmas[\"display_name\"] = (\n",
    "    zip(*detail_puskesmas[\"name\"].progress_apply(get_lat_lon))\n",
    ")\n",
    "\n",
    "print(detail_puskesmas.columns)\n",
    "\n",
    "detail_puskesmas = detail_puskesmas.rename(columns={\"name\": \"puskesmas_name\"})\n",
    "\n",
    "positive_review_counts = predicted_data_puskesmas.groupby(\"puskesmas_name\")[\n",
    "    \"is_positive\"\n",
    "].sum()\n",
    "total_review_counts = predicted_data_puskesmas.groupby(\"puskesmas_name\")[\n",
    "    \"is_positive\"\n",
    "].count()\n",
    "percentage_positive_reviews = (\n",
    "    positive_review_counts / total_review_counts * 100\n",
    ").reset_index()\n",
    "percentage_positive_reviews.columns = [\"puskesmas_name\", \"positive_percentage\"]\n",
    "\n",
    "detail_puskesmas = detail_puskesmas.merge(\n",
    "    percentage_positive_reviews, on=\"puskesmas_name\", how=\"left\"\n",
    ")"
   ]
  },
  {
   "cell_type": "markdown",
   "metadata": {},
   "source": [
    "# Geolocation of each puskesmas reviewed from google maps"
   ]
  },
  {
   "cell_type": "code",
   "execution_count": 242,
   "metadata": {},
   "outputs": [
    {
     "name": "stderr",
     "output_type": "stream",
     "text": [
      "/tmp/ipykernel_12421/295796426.py:5: SettingWithCopyWarning:\n",
      "\n",
      "\n",
      "A value is trying to be set on a copy of a slice from a DataFrame.\n",
      "Try using .loc[row_indexer,col_indexer] = value instead\n",
      "\n",
      "See the caveats in the documentation: https://pandas.pydata.org/pandas-docs/stable/user_guide/indexing.html#returning-a-view-versus-a-copy\n",
      "\n",
      "/tmp/ipykernel_12421/295796426.py:6: SettingWithCopyWarning:\n",
      "\n",
      "\n",
      "A value is trying to be set on a copy of a slice from a DataFrame.\n",
      "Try using .loc[row_indexer,col_indexer] = value instead\n",
      "\n",
      "See the caveats in the documentation: https://pandas.pydata.org/pandas-docs/stable/user_guide/indexing.html#returning-a-view-versus-a-copy\n",
      "\n",
      "/tmp/ipykernel_12421/295796426.py:7: SettingWithCopyWarning:\n",
      "\n",
      "\n",
      "A value is trying to be set on a copy of a slice from a DataFrame.\n",
      "Try using .loc[row_indexer,col_indexer] = value instead\n",
      "\n",
      "See the caveats in the documentation: https://pandas.pydata.org/pandas-docs/stable/user_guide/indexing.html#returning-a-view-versus-a-copy\n",
      "\n"
     ]
    },
    {
     "data": {
      "application/vnd.plotly.v1+json": {
       "config": {
        "plotlyServerURL": "https://plot.ly"
       },
       "data": [
        {
         "customdata": [
          [
           54.347826086956516
          ],
          [
           73.68421052631578
          ],
          [
           63.97849462365591
          ],
          [
           53.333333333333336
          ],
          [
           42.201834862385326
          ],
          [
           67.85714285714286
          ],
          [
           50
          ],
          [
           71.56549520766772
          ],
          [
           52.57731958762887
          ],
          [
           56.27705627705628
          ],
          [
           61.34020618556701
          ],
          [
           41.333333333333336
          ],
          [
           59.166666666666664
          ],
          [
           67.04545454545455
          ],
          [
           62.23776223776224
          ],
          [
           58.88888888888889
          ],
          [
           53.21100917431193
          ],
          [
           40
          ],
          [
           62.62626262626263
          ],
          [
           43.18181818181818
          ],
          [
           52.74725274725275
          ],
          [
           38.46153846153847
          ],
          [
           51.35135135135135
          ],
          [
           78.94736842105263
          ],
          [
           70.77625570776256
          ],
          [
           60
          ],
          [
           68.83116883116884
          ],
          [
           53.68421052631579
          ],
          [
           55.932203389830505
          ],
          [
           67.32673267326733
          ],
          [
           61.80555555555556
          ],
          [
           53.74149659863946
          ],
          [
           31.606217616580313
          ],
          [
           10.666666666666668
          ],
          [
           71.19565217391305
          ],
          [
           70.04830917874396
          ],
          [
           53.459119496855344
          ],
          [
           67.3202614379085
          ],
          [
           67.5
          ],
          [
           43.47826086956522
          ],
          [
           50.495049504950494
          ],
          [
           75.24271844660194
          ],
          [
           64.1891891891892
          ],
          [
           56.08108108108109
          ],
          [
           67.64705882352942
          ],
          [
           63.52201257861635
          ],
          [
           66.45962732919256
          ],
          [
           51.35135135135135
          ],
          [
           27.659574468085108
          ],
          [
           82.27848101265823
          ],
          [
           75.86206896551724
          ],
          [
           51.07913669064749
          ],
          [
           47.11538461538461
          ],
          [
           53.90625
          ],
          [
           66.01941747572816
          ],
          [
           76.28865979381443
          ],
          [
           77.02702702702703
          ],
          [
           46.15384615384615
          ],
          [
           69
          ],
          [
           49.30555555555556
          ],
          [
           71.50259067357513
          ],
          [
           71.49758454106279
          ]
         ],
         "hovertemplate": "<b>%{hovertext}</b><br><br>positive_percentage=%{marker.color}<br>lat=%{lat}<br>lon=%{lon}<extra></extra>",
         "hovertext": [
          "Puskesmas Asemrowo",
          "Puskesmas Balas Klumprik",
          "Puskesmas Balongsari",
          "Puskesmas Bangkingan",
          "Puskesmas Banyu Urip",
          "Puskesmas Benowo",
          "Puskesmas Bulak Banteng",
          "Puskesmas Dukuh Kupang",
          "Puskesmas Dupak",
          "Puskesmas Gading",
          "Puskesmas Gayungan",
          "Puskesmas Gundih",
          "Puskesmas Gunung Anyar",
          "Puskesmas Jagir",
          "Puskesmas Jemursari",
          "Puskesmas Jeruk",
          "Puskesmas Kalijudan",
          "Puskesmas Kalirungkut",
          "Puskesmas Kebonsari",
          "Puskesmas Kedungdoro",
          "Puskesmas Kedurus",
          "Puskesmas Kenjeran",
          "Puskesmas Keputih",
          "Puskesmas Ketabang",
          "Puskesmas Klampis Ngasem",
          "Puskesmas Krembangan Selatan",
          "Puskesmas Lidah Kulon",
          "Puskesmas Lontar",
          "Puskesmas Made",
          "Puskesmas Manukan Kulon",
          "Puskesmas Medokan Ayu",
          "Puskesmas Menur",
          "Puskesmas Mojo",
          "Puskesmas Morokrembangan",
          "Puskesmas Mulyorejo",
          "Puskesmas Ngagel Rejo",
          "Puskesmas Pacar Keling",
          "Puskesmas Pakis",
          "Puskesmas Pegirian",
          "Puskesmas Peneleh",
          "Puskesmas Perak Timur",
          "Puskesmas Pucang Sewu",
          "Puskesmas Putat Jaya",
          "Puskesmas Rangkah",
          "Puskesmas Sawah Pulo",
          "Puskesmas Sawahan",
          "Puskesmas Sememi",
          "Puskesmas Sidosermo",
          "Puskesmas Sidotopo",
          "Puskesmas Sidotopo Wetan",
          "Puskesmas Simolawang",
          "Puskesmas Simomulyo",
          "Puskesmas Siwalankerto",
          "Puskesmas Tambak Rejo",
          "Puskesmas Tambak Wedi",
          "Puskesmas Tanah Kali Kedinding",
          "Puskesmas Tanjungsari",
          "Puskesmas Tembok Dukuh",
          "Puskesmas Tenggilis",
          "Puskesmas Wiyung",
          "Puskesmas Wonokromo",
          "Puskesmas Wonokusumo"
         ],
         "lat": [
          -7.25186115,
          -7.3315249,
          -7.259228849999999,
          -7.32492005,
          -7.2715069,
          -7.2347252,
          -7.2177947,
          -7.283236,
          -7.2393518,
          -7.242490650000001,
          -7.33810175,
          -7.24724475,
          -7.3408664,
          -7.3056601,
          -7.32608185,
          -7.3054418,
          -7.2573961,
          -7.322217999999999,
          -7.32840065,
          -7.26370155,
          -7.319754749999999,
          -7.24111075,
          -7.293995499999999,
          -7.2580613,
          -7.289156200000001,
          -7.233071049999999,
          -7.2850638,
          -7.2850638,
          -7.27731115,
          -7.25846525,
          -7.3239443,
          -7.29687275,
          -7.270902149999999,
          -7.2347805,
          -7.26072255,
          -7.29296335,
          -7.2571931,
          -7.28177405,
          -7.224634399999999,
          -7.2523042,
          -7.222732150000001,
          -7.28659415,
          -7.28142245,
          -7.24630815,
          -7.22281235,
          -7.26558135,
          -7.2483503,
          -7.307331299999999,
          -7.23034775,
          -7.22658925,
          -7.2348687,
          -7.26246035,
          -7.340268849999999,
          -7.24844815,
          -7.217479750000001,
          -7.23037625,
          -7.25940435,
          -7.254527449999999,
          -7.32236045,
          -7.30968085,
          -7.303176499999999,
          -7.219663649999999
         ],
         "legendgroup": "",
         "lon": [
          112.71456194620362,
          112.69002720464968,
          112.6783010204094,
          112.65610895,
          112.72002732026792,
          112.61150062729084,
          112.76627915520368,
          112.71222568060509,
          112.71726505,
          112.76403442545316,
          112.7186968178111,
          112.72539045,
          112.78397605,
          112.73773229111424,
          112.73996903263736,
          112.63838027163932,
          112.77801422512428,
          112.77076210366916,
          112.714445632565,
          112.7382415,
          112.70939454900804,
          112.79527909779556,
          112.80187601901248,
          112.74677403040268,
          112.77848995,
          112.73121758057744,
          112.66273285,
          112.66273285,
          112.63703473548794,
          112.66064382684382,
          112.79498318410756,
          112.76434694828671,
          112.77082440581847,
          112.71244346706712,
          112.784748,
          112.74878868683348,
          112.76268455308642,
          112.72848119117782,
          112.74691545896944,
          112.74083083291244,
          112.7354623755392,
          112.7555282626124,
          112.72236434495444,
          112.7672265,
          112.7446747690776,
          112.7277503978,
          112.6354712,
          112.7556756,
          112.7458816190326,
          112.76350132938722,
          112.75104985,
          112.7120093,
          112.73646558054416,
          112.75555569656396,
          112.7724023,
          112.77446968315311,
          112.6892628357994,
          112.71921325,
          112.76211047263912,
          112.67497509450482,
          112.7303924779992,
          112.75256160671904
         ],
         "marker": {
          "color": [
           54.347826086956516,
           73.68421052631578,
           63.97849462365591,
           53.333333333333336,
           42.201834862385326,
           67.85714285714286,
           50,
           71.56549520766772,
           52.57731958762887,
           56.27705627705628,
           61.34020618556701,
           41.333333333333336,
           59.166666666666664,
           67.04545454545455,
           62.23776223776224,
           58.88888888888889,
           53.21100917431193,
           40,
           62.62626262626263,
           43.18181818181818,
           52.74725274725275,
           38.46153846153847,
           51.35135135135135,
           78.94736842105263,
           70.77625570776256,
           60,
           68.83116883116884,
           53.68421052631579,
           55.932203389830505,
           67.32673267326733,
           61.80555555555556,
           53.74149659863946,
           31.606217616580313,
           10.666666666666668,
           71.19565217391305,
           70.04830917874396,
           53.459119496855344,
           67.3202614379085,
           67.5,
           43.47826086956522,
           50.495049504950494,
           75.24271844660194,
           64.1891891891892,
           56.08108108108109,
           67.64705882352942,
           63.52201257861635,
           66.45962732919256,
           51.35135135135135,
           27.659574468085108,
           82.27848101265823,
           75.86206896551724,
           51.07913669064749,
           47.11538461538461,
           53.90625,
           66.01941747572816,
           76.28865979381443,
           77.02702702702703,
           46.15384615384615,
           69,
           49.30555555555556,
           71.50259067357513,
           71.49758454106279
          ],
          "coloraxis": "coloraxis",
          "size": [
           54.347826086956516,
           73.68421052631578,
           63.97849462365591,
           53.333333333333336,
           42.201834862385326,
           67.85714285714286,
           50,
           71.56549520766772,
           52.57731958762887,
           56.27705627705628,
           61.34020618556701,
           41.333333333333336,
           59.166666666666664,
           67.04545454545455,
           62.23776223776224,
           58.88888888888889,
           53.21100917431193,
           40,
           62.62626262626263,
           43.18181818181818,
           52.74725274725275,
           38.46153846153847,
           51.35135135135135,
           78.94736842105263,
           70.77625570776256,
           60,
           68.83116883116884,
           53.68421052631579,
           55.932203389830505,
           67.32673267326733,
           61.80555555555556,
           53.74149659863946,
           31.606217616580313,
           10.666666666666668,
           71.19565217391305,
           70.04830917874396,
           53.459119496855344,
           67.3202614379085,
           67.5,
           43.47826086956522,
           50.495049504950494,
           75.24271844660194,
           64.1891891891892,
           56.08108108108109,
           67.64705882352942,
           63.52201257861635,
           66.45962732919256,
           51.35135135135135,
           27.659574468085108,
           82.27848101265823,
           75.86206896551724,
           51.07913669064749,
           47.11538461538461,
           53.90625,
           66.01941747572816,
           76.28865979381443,
           77.02702702702703,
           46.15384615384615,
           69,
           49.30555555555556,
           71.50259067357513,
           71.49758454106279
          ],
          "sizemode": "area",
          "sizeref": 0.3656821378340366
         },
         "mode": "markers",
         "name": "",
         "showlegend": false,
         "subplot": "mapbox",
         "type": "scattermapbox"
        }
       ],
       "layout": {
        "coloraxis": {
         "colorbar": {
          "title": {
           "text": "positive_percentage"
          }
         },
         "colorscale": [
          [
           0,
           "rgb(208, 88, 126)"
          ],
          [
           0.16666666666666666,
           "rgb(217, 137, 148)"
          ],
          [
           0.3333333333333333,
           "rgb(229, 185, 173)"
          ],
          [
           0.5,
           "rgb(241, 234, 200)"
          ],
          [
           0.6666666666666666,
           "rgb(177, 199, 179)"
          ],
          [
           0.8333333333333334,
           "rgb(114, 170, 161)"
          ],
          [
           1,
           "rgb(0, 147, 146)"
          ]
         ]
        },
        "height": 800,
        "legend": {
         "itemsizing": "constant",
         "title": {
          "text": "Positive Review %"
         },
         "tracegroupgap": 0
        },
        "mapbox": {
         "center": {
          "lat": -7.272091654032258,
          "lon": 112.73066397610253
         },
         "domain": {
          "x": [
           0,
           1
          ],
          "y": [
           0,
           1
          ]
         },
         "style": "carto-positron",
         "zoom": 10
        },
        "template": {
         "data": {
          "bar": [
           {
            "error_x": {
             "color": "#2a3f5f"
            },
            "error_y": {
             "color": "#2a3f5f"
            },
            "marker": {
             "line": {
              "color": "#E5ECF6",
              "width": 0.5
             },
             "pattern": {
              "fillmode": "overlay",
              "size": 10,
              "solidity": 0.2
             }
            },
            "type": "bar"
           }
          ],
          "barpolar": [
           {
            "marker": {
             "line": {
              "color": "#E5ECF6",
              "width": 0.5
             },
             "pattern": {
              "fillmode": "overlay",
              "size": 10,
              "solidity": 0.2
             }
            },
            "type": "barpolar"
           }
          ],
          "carpet": [
           {
            "aaxis": {
             "endlinecolor": "#2a3f5f",
             "gridcolor": "white",
             "linecolor": "white",
             "minorgridcolor": "white",
             "startlinecolor": "#2a3f5f"
            },
            "baxis": {
             "endlinecolor": "#2a3f5f",
             "gridcolor": "white",
             "linecolor": "white",
             "minorgridcolor": "white",
             "startlinecolor": "#2a3f5f"
            },
            "type": "carpet"
           }
          ],
          "choropleth": [
           {
            "colorbar": {
             "outlinewidth": 0,
             "ticks": ""
            },
            "type": "choropleth"
           }
          ],
          "contour": [
           {
            "colorbar": {
             "outlinewidth": 0,
             "ticks": ""
            },
            "colorscale": [
             [
              0,
              "#0d0887"
             ],
             [
              0.1111111111111111,
              "#46039f"
             ],
             [
              0.2222222222222222,
              "#7201a8"
             ],
             [
              0.3333333333333333,
              "#9c179e"
             ],
             [
              0.4444444444444444,
              "#bd3786"
             ],
             [
              0.5555555555555556,
              "#d8576b"
             ],
             [
              0.6666666666666666,
              "#ed7953"
             ],
             [
              0.7777777777777778,
              "#fb9f3a"
             ],
             [
              0.8888888888888888,
              "#fdca26"
             ],
             [
              1,
              "#f0f921"
             ]
            ],
            "type": "contour"
           }
          ],
          "contourcarpet": [
           {
            "colorbar": {
             "outlinewidth": 0,
             "ticks": ""
            },
            "type": "contourcarpet"
           }
          ],
          "heatmap": [
           {
            "colorbar": {
             "outlinewidth": 0,
             "ticks": ""
            },
            "colorscale": [
             [
              0,
              "#0d0887"
             ],
             [
              0.1111111111111111,
              "#46039f"
             ],
             [
              0.2222222222222222,
              "#7201a8"
             ],
             [
              0.3333333333333333,
              "#9c179e"
             ],
             [
              0.4444444444444444,
              "#bd3786"
             ],
             [
              0.5555555555555556,
              "#d8576b"
             ],
             [
              0.6666666666666666,
              "#ed7953"
             ],
             [
              0.7777777777777778,
              "#fb9f3a"
             ],
             [
              0.8888888888888888,
              "#fdca26"
             ],
             [
              1,
              "#f0f921"
             ]
            ],
            "type": "heatmap"
           }
          ],
          "heatmapgl": [
           {
            "colorbar": {
             "outlinewidth": 0,
             "ticks": ""
            },
            "colorscale": [
             [
              0,
              "#0d0887"
             ],
             [
              0.1111111111111111,
              "#46039f"
             ],
             [
              0.2222222222222222,
              "#7201a8"
             ],
             [
              0.3333333333333333,
              "#9c179e"
             ],
             [
              0.4444444444444444,
              "#bd3786"
             ],
             [
              0.5555555555555556,
              "#d8576b"
             ],
             [
              0.6666666666666666,
              "#ed7953"
             ],
             [
              0.7777777777777778,
              "#fb9f3a"
             ],
             [
              0.8888888888888888,
              "#fdca26"
             ],
             [
              1,
              "#f0f921"
             ]
            ],
            "type": "heatmapgl"
           }
          ],
          "histogram": [
           {
            "marker": {
             "pattern": {
              "fillmode": "overlay",
              "size": 10,
              "solidity": 0.2
             }
            },
            "type": "histogram"
           }
          ],
          "histogram2d": [
           {
            "colorbar": {
             "outlinewidth": 0,
             "ticks": ""
            },
            "colorscale": [
             [
              0,
              "#0d0887"
             ],
             [
              0.1111111111111111,
              "#46039f"
             ],
             [
              0.2222222222222222,
              "#7201a8"
             ],
             [
              0.3333333333333333,
              "#9c179e"
             ],
             [
              0.4444444444444444,
              "#bd3786"
             ],
             [
              0.5555555555555556,
              "#d8576b"
             ],
             [
              0.6666666666666666,
              "#ed7953"
             ],
             [
              0.7777777777777778,
              "#fb9f3a"
             ],
             [
              0.8888888888888888,
              "#fdca26"
             ],
             [
              1,
              "#f0f921"
             ]
            ],
            "type": "histogram2d"
           }
          ],
          "histogram2dcontour": [
           {
            "colorbar": {
             "outlinewidth": 0,
             "ticks": ""
            },
            "colorscale": [
             [
              0,
              "#0d0887"
             ],
             [
              0.1111111111111111,
              "#46039f"
             ],
             [
              0.2222222222222222,
              "#7201a8"
             ],
             [
              0.3333333333333333,
              "#9c179e"
             ],
             [
              0.4444444444444444,
              "#bd3786"
             ],
             [
              0.5555555555555556,
              "#d8576b"
             ],
             [
              0.6666666666666666,
              "#ed7953"
             ],
             [
              0.7777777777777778,
              "#fb9f3a"
             ],
             [
              0.8888888888888888,
              "#fdca26"
             ],
             [
              1,
              "#f0f921"
             ]
            ],
            "type": "histogram2dcontour"
           }
          ],
          "mesh3d": [
           {
            "colorbar": {
             "outlinewidth": 0,
             "ticks": ""
            },
            "type": "mesh3d"
           }
          ],
          "parcoords": [
           {
            "line": {
             "colorbar": {
              "outlinewidth": 0,
              "ticks": ""
             }
            },
            "type": "parcoords"
           }
          ],
          "pie": [
           {
            "automargin": true,
            "type": "pie"
           }
          ],
          "scatter": [
           {
            "fillpattern": {
             "fillmode": "overlay",
             "size": 10,
             "solidity": 0.2
            },
            "type": "scatter"
           }
          ],
          "scatter3d": [
           {
            "line": {
             "colorbar": {
              "outlinewidth": 0,
              "ticks": ""
             }
            },
            "marker": {
             "colorbar": {
              "outlinewidth": 0,
              "ticks": ""
             }
            },
            "type": "scatter3d"
           }
          ],
          "scattercarpet": [
           {
            "marker": {
             "colorbar": {
              "outlinewidth": 0,
              "ticks": ""
             }
            },
            "type": "scattercarpet"
           }
          ],
          "scattergeo": [
           {
            "marker": {
             "colorbar": {
              "outlinewidth": 0,
              "ticks": ""
             }
            },
            "type": "scattergeo"
           }
          ],
          "scattergl": [
           {
            "marker": {
             "colorbar": {
              "outlinewidth": 0,
              "ticks": ""
             }
            },
            "type": "scattergl"
           }
          ],
          "scattermapbox": [
           {
            "marker": {
             "colorbar": {
              "outlinewidth": 0,
              "ticks": ""
             }
            },
            "type": "scattermapbox"
           }
          ],
          "scatterpolar": [
           {
            "marker": {
             "colorbar": {
              "outlinewidth": 0,
              "ticks": ""
             }
            },
            "type": "scatterpolar"
           }
          ],
          "scatterpolargl": [
           {
            "marker": {
             "colorbar": {
              "outlinewidth": 0,
              "ticks": ""
             }
            },
            "type": "scatterpolargl"
           }
          ],
          "scatterternary": [
           {
            "marker": {
             "colorbar": {
              "outlinewidth": 0,
              "ticks": ""
             }
            },
            "type": "scatterternary"
           }
          ],
          "surface": [
           {
            "colorbar": {
             "outlinewidth": 0,
             "ticks": ""
            },
            "colorscale": [
             [
              0,
              "#0d0887"
             ],
             [
              0.1111111111111111,
              "#46039f"
             ],
             [
              0.2222222222222222,
              "#7201a8"
             ],
             [
              0.3333333333333333,
              "#9c179e"
             ],
             [
              0.4444444444444444,
              "#bd3786"
             ],
             [
              0.5555555555555556,
              "#d8576b"
             ],
             [
              0.6666666666666666,
              "#ed7953"
             ],
             [
              0.7777777777777778,
              "#fb9f3a"
             ],
             [
              0.8888888888888888,
              "#fdca26"
             ],
             [
              1,
              "#f0f921"
             ]
            ],
            "type": "surface"
           }
          ],
          "table": [
           {
            "cells": {
             "fill": {
              "color": "#EBF0F8"
             },
             "line": {
              "color": "white"
             }
            },
            "header": {
             "fill": {
              "color": "#C8D4E3"
             },
             "line": {
              "color": "white"
             }
            },
            "type": "table"
           }
          ]
         },
         "layout": {
          "annotationdefaults": {
           "arrowcolor": "#2a3f5f",
           "arrowhead": 0,
           "arrowwidth": 1
          },
          "autotypenumbers": "strict",
          "coloraxis": {
           "colorbar": {
            "outlinewidth": 0,
            "ticks": ""
           }
          },
          "colorscale": {
           "diverging": [
            [
             0,
             "#8e0152"
            ],
            [
             0.1,
             "#c51b7d"
            ],
            [
             0.2,
             "#de77ae"
            ],
            [
             0.3,
             "#f1b6da"
            ],
            [
             0.4,
             "#fde0ef"
            ],
            [
             0.5,
             "#f7f7f7"
            ],
            [
             0.6,
             "#e6f5d0"
            ],
            [
             0.7,
             "#b8e186"
            ],
            [
             0.8,
             "#7fbc41"
            ],
            [
             0.9,
             "#4d9221"
            ],
            [
             1,
             "#276419"
            ]
           ],
           "sequential": [
            [
             0,
             "#0d0887"
            ],
            [
             0.1111111111111111,
             "#46039f"
            ],
            [
             0.2222222222222222,
             "#7201a8"
            ],
            [
             0.3333333333333333,
             "#9c179e"
            ],
            [
             0.4444444444444444,
             "#bd3786"
            ],
            [
             0.5555555555555556,
             "#d8576b"
            ],
            [
             0.6666666666666666,
             "#ed7953"
            ],
            [
             0.7777777777777778,
             "#fb9f3a"
            ],
            [
             0.8888888888888888,
             "#fdca26"
            ],
            [
             1,
             "#f0f921"
            ]
           ],
           "sequentialminus": [
            [
             0,
             "#0d0887"
            ],
            [
             0.1111111111111111,
             "#46039f"
            ],
            [
             0.2222222222222222,
             "#7201a8"
            ],
            [
             0.3333333333333333,
             "#9c179e"
            ],
            [
             0.4444444444444444,
             "#bd3786"
            ],
            [
             0.5555555555555556,
             "#d8576b"
            ],
            [
             0.6666666666666666,
             "#ed7953"
            ],
            [
             0.7777777777777778,
             "#fb9f3a"
            ],
            [
             0.8888888888888888,
             "#fdca26"
            ],
            [
             1,
             "#f0f921"
            ]
           ]
          },
          "colorway": [
           "#636efa",
           "#EF553B",
           "#00cc96",
           "#ab63fa",
           "#FFA15A",
           "#19d3f3",
           "#FF6692",
           "#B6E880",
           "#FF97FF",
           "#FECB52"
          ],
          "font": {
           "color": "#2a3f5f"
          },
          "geo": {
           "bgcolor": "white",
           "lakecolor": "white",
           "landcolor": "#E5ECF6",
           "showlakes": true,
           "showland": true,
           "subunitcolor": "white"
          },
          "hoverlabel": {
           "align": "left"
          },
          "hovermode": "closest",
          "mapbox": {
           "style": "light"
          },
          "paper_bgcolor": "white",
          "plot_bgcolor": "#E5ECF6",
          "polar": {
           "angularaxis": {
            "gridcolor": "white",
            "linecolor": "white",
            "ticks": ""
           },
           "bgcolor": "#E5ECF6",
           "radialaxis": {
            "gridcolor": "white",
            "linecolor": "white",
            "ticks": ""
           }
          },
          "scene": {
           "xaxis": {
            "backgroundcolor": "#E5ECF6",
            "gridcolor": "white",
            "gridwidth": 2,
            "linecolor": "white",
            "showbackground": true,
            "ticks": "",
            "zerolinecolor": "white"
           },
           "yaxis": {
            "backgroundcolor": "#E5ECF6",
            "gridcolor": "white",
            "gridwidth": 2,
            "linecolor": "white",
            "showbackground": true,
            "ticks": "",
            "zerolinecolor": "white"
           },
           "zaxis": {
            "backgroundcolor": "#E5ECF6",
            "gridcolor": "white",
            "gridwidth": 2,
            "linecolor": "white",
            "showbackground": true,
            "ticks": "",
            "zerolinecolor": "white"
           }
          },
          "shapedefaults": {
           "line": {
            "color": "#2a3f5f"
           }
          },
          "ternary": {
           "aaxis": {
            "gridcolor": "white",
            "linecolor": "white",
            "ticks": ""
           },
           "baxis": {
            "gridcolor": "white",
            "linecolor": "white",
            "ticks": ""
           },
           "bgcolor": "#E5ECF6",
           "caxis": {
            "gridcolor": "white",
            "linecolor": "white",
            "ticks": ""
           }
          },
          "title": {
           "x": 0.05
          },
          "xaxis": {
           "automargin": true,
           "gridcolor": "white",
           "linecolor": "white",
           "ticks": "",
           "title": {
            "standoff": 15
           },
           "zerolinecolor": "white",
           "zerolinewidth": 2
          },
          "yaxis": {
           "automargin": true,
           "gridcolor": "white",
           "linecolor": "white",
           "ticks": "",
           "title": {
            "standoff": 15
           },
           "zerolinecolor": "white",
           "zerolinewidth": 2
          }
         }
        },
        "title": {
         "text": "Puskesmas Positive Review Percentage",
         "x": 0.5,
         "xanchor": "center"
        },
        "width": 800
       }
      }
     },
     "metadata": {},
     "output_type": "display_data"
    }
   ],
   "source": [
    "data_for_plotting = detail_puskesmas[\n",
    "    [\"lat\", \"lon\", \"puskesmas_name\", \"positive_percentage\"]\n",
    "]\n",
    "\n",
    "data_for_plotting[\"lat\"] = pd.to_numeric(data_for_plotting[\"lat\"], errors=\"coerce\")\n",
    "data_for_plotting[\"lon\"] = pd.to_numeric(data_for_plotting[\"lon\"], errors=\"coerce\")\n",
    "data_for_plotting[\"positive_percentage\"] = data_for_plotting[\n",
    "    \"positive_percentage\"\n",
    "].fillna(0)\n",
    "\n",
    "data_for_plotting = data_for_plotting[data_for_plotting[\"positive_percentage\"] != 0]\n",
    "\n",
    "fig = px.scatter_mapbox(\n",
    "    data_for_plotting,\n",
    "    lat=\"lat\",\n",
    "    lon=\"lon\",\n",
    "    color=\"positive_percentage\",\n",
    "    size=\"positive_percentage\",\n",
    "    hover_name=\"puskesmas_name\",\n",
    "    hover_data={\"positive_percentage\": True},\n",
    "    size_max=15,\n",
    "    zoom=10,\n",
    "    center={\n",
    "        \"lat\": data_for_plotting[\"lat\"].mean(),\n",
    "        \"lon\": data_for_plotting[\"lon\"].mean(),\n",
    "    },\n",
    "    mapbox_style=\"carto-positron\",\n",
    "    color_continuous_scale=px.colors.diverging.Tealrose_r,\n",
    "    title=\"Puskesmas Positive Review Percentage\",\n",
    ")\n",
    "\n",
    "fig.update_traces(marker=dict(size=64, opacity=0.7), selector=dict(mode=\"markers+text\"))\n",
    "\n",
    "fig.update_layout(\n",
    "    legend_title_text=\"Positive Review %\",\n",
    "    title=dict(text=\"Puskesmas Positive Review Percentage\", x=0.5, xanchor=\"center\"),\n",
    ")\n",
    "\n",
    "fig.update_layout(width=800, height=800)\n",
    "fig.show()"
   ]
  },
  {
   "cell_type": "markdown",
   "metadata": {},
   "source": [
    "## Top 10 Puskesmas with the positive review"
   ]
  },
  {
   "cell_type": "code",
   "execution_count": 243,
   "metadata": {},
   "outputs": [
    {
     "name": "stderr",
     "output_type": "stream",
     "text": [
      "/tmp/ipykernel_12421/2427489040.py:8: SettingWithCopyWarning:\n",
      "\n",
      "\n",
      "A value is trying to be set on a copy of a slice from a DataFrame.\n",
      "Try using .loc[row_indexer,col_indexer] = value instead\n",
      "\n",
      "See the caveats in the documentation: https://pandas.pydata.org/pandas-docs/stable/user_guide/indexing.html#returning-a-view-versus-a-copy\n",
      "\n",
      "/tmp/ipykernel_12421/2427489040.py:9: SettingWithCopyWarning:\n",
      "\n",
      "\n",
      "A value is trying to be set on a copy of a slice from a DataFrame.\n",
      "Try using .loc[row_indexer,col_indexer] = value instead\n",
      "\n",
      "See the caveats in the documentation: https://pandas.pydata.org/pandas-docs/stable/user_guide/indexing.html#returning-a-view-versus-a-copy\n",
      "\n",
      "/tmp/ipykernel_12421/2427489040.py:10: SettingWithCopyWarning:\n",
      "\n",
      "\n",
      "A value is trying to be set on a copy of a slice from a DataFrame.\n",
      "Try using .loc[row_indexer,col_indexer] = value instead\n",
      "\n",
      "See the caveats in the documentation: https://pandas.pydata.org/pandas-docs/stable/user_guide/indexing.html#returning-a-view-versus-a-copy\n",
      "\n"
     ]
    },
    {
     "data": {
      "application/vnd.plotly.v1+json": {
       "config": {
        "plotlyServerURL": "https://plot.ly"
       },
       "data": [
        {
         "customdata": [
          [
           82.27848101265823
          ],
          [
           78.94736842105263
          ],
          [
           77.02702702702703
          ],
          [
           76.28865979381443
          ],
          [
           75.86206896551724
          ],
          [
           75.24271844660194
          ],
          [
           73.68421052631578
          ],
          [
           71.56549520766772
          ],
          [
           71.50259067357513
          ],
          [
           71.49758454106279
          ]
         ],
         "hovertemplate": "<b>%{hovertext}</b><br>Positivity Rate: %{marker.color:.2f}%",
         "hovertext": [
          "Puskesmas Sidotopo Wetan",
          "Puskesmas Ketabang",
          "Puskesmas Tanjungsari",
          "Puskesmas Tanah Kali Kedinding",
          "Puskesmas Simolawang",
          "Puskesmas Pucang Sewu",
          "Puskesmas Balas Klumprik",
          "Puskesmas Dukuh Kupang",
          "Puskesmas Wonokromo",
          "Puskesmas Wonokusumo"
         ],
         "lat": [
          -7.22658925,
          -7.2580613,
          -7.25940435,
          -7.23037625,
          -7.2348687,
          -7.28659415,
          -7.3315249,
          -7.283236,
          -7.303176499999999,
          -7.219663649999999
         ],
         "legendgroup": "",
         "lon": [
          112.76350132938722,
          112.74677403040268,
          112.6892628357994,
          112.77446968315311,
          112.75104985,
          112.7555282626124,
          112.69002720464968,
          112.71222568060509,
          112.7303924779992,
          112.75256160671904
         ],
         "marker": {
          "color": [
           82.27848101265823,
           78.94736842105263,
           77.02702702702703,
           76.28865979381443,
           75.86206896551724,
           75.24271844660194,
           73.68421052631578,
           71.56549520766772,
           71.50259067357513,
           71.49758454106279
          ],
          "coloraxis": "coloraxis",
          "opacity": 0.7,
          "size": 28,
          "sizemode": "area",
          "sizeref": 0.3656821378340366
         },
         "mode": "markers",
         "name": "",
         "showlegend": false,
         "subplot": "mapbox",
         "textposition": "top center",
         "type": "scattermapbox"
        }
       ],
       "layout": {
        "coloraxis": {
         "cmax": 82.27848101265823,
         "cmin": 10.666666666666668,
         "colorbar": {
          "title": {
           "text": "Positivity Rate (%)"
          }
         },
         "colorscale": [
          [
           0,
           "rgb(208, 88, 126)"
          ],
          [
           0.16666666666666666,
           "rgb(217, 137, 148)"
          ],
          [
           0.3333333333333333,
           "rgb(229, 185, 173)"
          ],
          [
           0.5,
           "rgb(241, 234, 200)"
          ],
          [
           0.6666666666666666,
           "rgb(177, 199, 179)"
          ],
          [
           0.8333333333333334,
           "rgb(114, 170, 161)"
          ],
          [
           1,
           "rgb(0, 147, 146)"
          ]
         ]
        },
        "height": 800,
        "legend": {
         "bgcolor": "rgba(255,255,255,0.5)",
         "bordercolor": "Black",
         "borderwidth": 2,
         "itemsizing": "constant",
         "title": {
          "font": {
           "color": "blue",
           "size": 14
          }
         },
         "tracegroupgap": 0
        },
        "mapbox": {
         "center": {
          "lat": -7.263349504999999,
          "lon": 112.73657929613277
         },
         "domain": {
          "x": [
           0,
           1
          ],
          "y": [
           0,
           1
          ]
         },
         "style": "carto-positron",
         "zoom": 10
        },
        "template": {
         "data": {
          "bar": [
           {
            "error_x": {
             "color": "#2a3f5f"
            },
            "error_y": {
             "color": "#2a3f5f"
            },
            "marker": {
             "line": {
              "color": "#E5ECF6",
              "width": 0.5
             },
             "pattern": {
              "fillmode": "overlay",
              "size": 10,
              "solidity": 0.2
             }
            },
            "type": "bar"
           }
          ],
          "barpolar": [
           {
            "marker": {
             "line": {
              "color": "#E5ECF6",
              "width": 0.5
             },
             "pattern": {
              "fillmode": "overlay",
              "size": 10,
              "solidity": 0.2
             }
            },
            "type": "barpolar"
           }
          ],
          "carpet": [
           {
            "aaxis": {
             "endlinecolor": "#2a3f5f",
             "gridcolor": "white",
             "linecolor": "white",
             "minorgridcolor": "white",
             "startlinecolor": "#2a3f5f"
            },
            "baxis": {
             "endlinecolor": "#2a3f5f",
             "gridcolor": "white",
             "linecolor": "white",
             "minorgridcolor": "white",
             "startlinecolor": "#2a3f5f"
            },
            "type": "carpet"
           }
          ],
          "choropleth": [
           {
            "colorbar": {
             "outlinewidth": 0,
             "ticks": ""
            },
            "type": "choropleth"
           }
          ],
          "contour": [
           {
            "colorbar": {
             "outlinewidth": 0,
             "ticks": ""
            },
            "colorscale": [
             [
              0,
              "#0d0887"
             ],
             [
              0.1111111111111111,
              "#46039f"
             ],
             [
              0.2222222222222222,
              "#7201a8"
             ],
             [
              0.3333333333333333,
              "#9c179e"
             ],
             [
              0.4444444444444444,
              "#bd3786"
             ],
             [
              0.5555555555555556,
              "#d8576b"
             ],
             [
              0.6666666666666666,
              "#ed7953"
             ],
             [
              0.7777777777777778,
              "#fb9f3a"
             ],
             [
              0.8888888888888888,
              "#fdca26"
             ],
             [
              1,
              "#f0f921"
             ]
            ],
            "type": "contour"
           }
          ],
          "contourcarpet": [
           {
            "colorbar": {
             "outlinewidth": 0,
             "ticks": ""
            },
            "type": "contourcarpet"
           }
          ],
          "heatmap": [
           {
            "colorbar": {
             "outlinewidth": 0,
             "ticks": ""
            },
            "colorscale": [
             [
              0,
              "#0d0887"
             ],
             [
              0.1111111111111111,
              "#46039f"
             ],
             [
              0.2222222222222222,
              "#7201a8"
             ],
             [
              0.3333333333333333,
              "#9c179e"
             ],
             [
              0.4444444444444444,
              "#bd3786"
             ],
             [
              0.5555555555555556,
              "#d8576b"
             ],
             [
              0.6666666666666666,
              "#ed7953"
             ],
             [
              0.7777777777777778,
              "#fb9f3a"
             ],
             [
              0.8888888888888888,
              "#fdca26"
             ],
             [
              1,
              "#f0f921"
             ]
            ],
            "type": "heatmap"
           }
          ],
          "heatmapgl": [
           {
            "colorbar": {
             "outlinewidth": 0,
             "ticks": ""
            },
            "colorscale": [
             [
              0,
              "#0d0887"
             ],
             [
              0.1111111111111111,
              "#46039f"
             ],
             [
              0.2222222222222222,
              "#7201a8"
             ],
             [
              0.3333333333333333,
              "#9c179e"
             ],
             [
              0.4444444444444444,
              "#bd3786"
             ],
             [
              0.5555555555555556,
              "#d8576b"
             ],
             [
              0.6666666666666666,
              "#ed7953"
             ],
             [
              0.7777777777777778,
              "#fb9f3a"
             ],
             [
              0.8888888888888888,
              "#fdca26"
             ],
             [
              1,
              "#f0f921"
             ]
            ],
            "type": "heatmapgl"
           }
          ],
          "histogram": [
           {
            "marker": {
             "pattern": {
              "fillmode": "overlay",
              "size": 10,
              "solidity": 0.2
             }
            },
            "type": "histogram"
           }
          ],
          "histogram2d": [
           {
            "colorbar": {
             "outlinewidth": 0,
             "ticks": ""
            },
            "colorscale": [
             [
              0,
              "#0d0887"
             ],
             [
              0.1111111111111111,
              "#46039f"
             ],
             [
              0.2222222222222222,
              "#7201a8"
             ],
             [
              0.3333333333333333,
              "#9c179e"
             ],
             [
              0.4444444444444444,
              "#bd3786"
             ],
             [
              0.5555555555555556,
              "#d8576b"
             ],
             [
              0.6666666666666666,
              "#ed7953"
             ],
             [
              0.7777777777777778,
              "#fb9f3a"
             ],
             [
              0.8888888888888888,
              "#fdca26"
             ],
             [
              1,
              "#f0f921"
             ]
            ],
            "type": "histogram2d"
           }
          ],
          "histogram2dcontour": [
           {
            "colorbar": {
             "outlinewidth": 0,
             "ticks": ""
            },
            "colorscale": [
             [
              0,
              "#0d0887"
             ],
             [
              0.1111111111111111,
              "#46039f"
             ],
             [
              0.2222222222222222,
              "#7201a8"
             ],
             [
              0.3333333333333333,
              "#9c179e"
             ],
             [
              0.4444444444444444,
              "#bd3786"
             ],
             [
              0.5555555555555556,
              "#d8576b"
             ],
             [
              0.6666666666666666,
              "#ed7953"
             ],
             [
              0.7777777777777778,
              "#fb9f3a"
             ],
             [
              0.8888888888888888,
              "#fdca26"
             ],
             [
              1,
              "#f0f921"
             ]
            ],
            "type": "histogram2dcontour"
           }
          ],
          "mesh3d": [
           {
            "colorbar": {
             "outlinewidth": 0,
             "ticks": ""
            },
            "type": "mesh3d"
           }
          ],
          "parcoords": [
           {
            "line": {
             "colorbar": {
              "outlinewidth": 0,
              "ticks": ""
             }
            },
            "type": "parcoords"
           }
          ],
          "pie": [
           {
            "automargin": true,
            "type": "pie"
           }
          ],
          "scatter": [
           {
            "fillpattern": {
             "fillmode": "overlay",
             "size": 10,
             "solidity": 0.2
            },
            "type": "scatter"
           }
          ],
          "scatter3d": [
           {
            "line": {
             "colorbar": {
              "outlinewidth": 0,
              "ticks": ""
             }
            },
            "marker": {
             "colorbar": {
              "outlinewidth": 0,
              "ticks": ""
             }
            },
            "type": "scatter3d"
           }
          ],
          "scattercarpet": [
           {
            "marker": {
             "colorbar": {
              "outlinewidth": 0,
              "ticks": ""
             }
            },
            "type": "scattercarpet"
           }
          ],
          "scattergeo": [
           {
            "marker": {
             "colorbar": {
              "outlinewidth": 0,
              "ticks": ""
             }
            },
            "type": "scattergeo"
           }
          ],
          "scattergl": [
           {
            "marker": {
             "colorbar": {
              "outlinewidth": 0,
              "ticks": ""
             }
            },
            "type": "scattergl"
           }
          ],
          "scattermapbox": [
           {
            "marker": {
             "colorbar": {
              "outlinewidth": 0,
              "ticks": ""
             }
            },
            "type": "scattermapbox"
           }
          ],
          "scatterpolar": [
           {
            "marker": {
             "colorbar": {
              "outlinewidth": 0,
              "ticks": ""
             }
            },
            "type": "scatterpolar"
           }
          ],
          "scatterpolargl": [
           {
            "marker": {
             "colorbar": {
              "outlinewidth": 0,
              "ticks": ""
             }
            },
            "type": "scatterpolargl"
           }
          ],
          "scatterternary": [
           {
            "marker": {
             "colorbar": {
              "outlinewidth": 0,
              "ticks": ""
             }
            },
            "type": "scatterternary"
           }
          ],
          "surface": [
           {
            "colorbar": {
             "outlinewidth": 0,
             "ticks": ""
            },
            "colorscale": [
             [
              0,
              "#0d0887"
             ],
             [
              0.1111111111111111,
              "#46039f"
             ],
             [
              0.2222222222222222,
              "#7201a8"
             ],
             [
              0.3333333333333333,
              "#9c179e"
             ],
             [
              0.4444444444444444,
              "#bd3786"
             ],
             [
              0.5555555555555556,
              "#d8576b"
             ],
             [
              0.6666666666666666,
              "#ed7953"
             ],
             [
              0.7777777777777778,
              "#fb9f3a"
             ],
             [
              0.8888888888888888,
              "#fdca26"
             ],
             [
              1,
              "#f0f921"
             ]
            ],
            "type": "surface"
           }
          ],
          "table": [
           {
            "cells": {
             "fill": {
              "color": "#EBF0F8"
             },
             "line": {
              "color": "white"
             }
            },
            "header": {
             "fill": {
              "color": "#C8D4E3"
             },
             "line": {
              "color": "white"
             }
            },
            "type": "table"
           }
          ]
         },
         "layout": {
          "annotationdefaults": {
           "arrowcolor": "#2a3f5f",
           "arrowhead": 0,
           "arrowwidth": 1
          },
          "autotypenumbers": "strict",
          "coloraxis": {
           "colorbar": {
            "outlinewidth": 0,
            "ticks": ""
           }
          },
          "colorscale": {
           "diverging": [
            [
             0,
             "#8e0152"
            ],
            [
             0.1,
             "#c51b7d"
            ],
            [
             0.2,
             "#de77ae"
            ],
            [
             0.3,
             "#f1b6da"
            ],
            [
             0.4,
             "#fde0ef"
            ],
            [
             0.5,
             "#f7f7f7"
            ],
            [
             0.6,
             "#e6f5d0"
            ],
            [
             0.7,
             "#b8e186"
            ],
            [
             0.8,
             "#7fbc41"
            ],
            [
             0.9,
             "#4d9221"
            ],
            [
             1,
             "#276419"
            ]
           ],
           "sequential": [
            [
             0,
             "#0d0887"
            ],
            [
             0.1111111111111111,
             "#46039f"
            ],
            [
             0.2222222222222222,
             "#7201a8"
            ],
            [
             0.3333333333333333,
             "#9c179e"
            ],
            [
             0.4444444444444444,
             "#bd3786"
            ],
            [
             0.5555555555555556,
             "#d8576b"
            ],
            [
             0.6666666666666666,
             "#ed7953"
            ],
            [
             0.7777777777777778,
             "#fb9f3a"
            ],
            [
             0.8888888888888888,
             "#fdca26"
            ],
            [
             1,
             "#f0f921"
            ]
           ],
           "sequentialminus": [
            [
             0,
             "#0d0887"
            ],
            [
             0.1111111111111111,
             "#46039f"
            ],
            [
             0.2222222222222222,
             "#7201a8"
            ],
            [
             0.3333333333333333,
             "#9c179e"
            ],
            [
             0.4444444444444444,
             "#bd3786"
            ],
            [
             0.5555555555555556,
             "#d8576b"
            ],
            [
             0.6666666666666666,
             "#ed7953"
            ],
            [
             0.7777777777777778,
             "#fb9f3a"
            ],
            [
             0.8888888888888888,
             "#fdca26"
            ],
            [
             1,
             "#f0f921"
            ]
           ]
          },
          "colorway": [
           "#636efa",
           "#EF553B",
           "#00cc96",
           "#ab63fa",
           "#FFA15A",
           "#19d3f3",
           "#FF6692",
           "#B6E880",
           "#FF97FF",
           "#FECB52"
          ],
          "font": {
           "color": "#2a3f5f"
          },
          "geo": {
           "bgcolor": "white",
           "lakecolor": "white",
           "landcolor": "#E5ECF6",
           "showlakes": true,
           "showland": true,
           "subunitcolor": "white"
          },
          "hoverlabel": {
           "align": "left"
          },
          "hovermode": "closest",
          "mapbox": {
           "style": "light"
          },
          "paper_bgcolor": "white",
          "plot_bgcolor": "#E5ECF6",
          "polar": {
           "angularaxis": {
            "gridcolor": "white",
            "linecolor": "white",
            "ticks": ""
           },
           "bgcolor": "#E5ECF6",
           "radialaxis": {
            "gridcolor": "white",
            "linecolor": "white",
            "ticks": ""
           }
          },
          "scene": {
           "xaxis": {
            "backgroundcolor": "#E5ECF6",
            "gridcolor": "white",
            "gridwidth": 2,
            "linecolor": "white",
            "showbackground": true,
            "ticks": "",
            "zerolinecolor": "white"
           },
           "yaxis": {
            "backgroundcolor": "#E5ECF6",
            "gridcolor": "white",
            "gridwidth": 2,
            "linecolor": "white",
            "showbackground": true,
            "ticks": "",
            "zerolinecolor": "white"
           },
           "zaxis": {
            "backgroundcolor": "#E5ECF6",
            "gridcolor": "white",
            "gridwidth": 2,
            "linecolor": "white",
            "showbackground": true,
            "ticks": "",
            "zerolinecolor": "white"
           }
          },
          "shapedefaults": {
           "line": {
            "color": "#2a3f5f"
           }
          },
          "ternary": {
           "aaxis": {
            "gridcolor": "white",
            "linecolor": "white",
            "ticks": ""
           },
           "baxis": {
            "gridcolor": "white",
            "linecolor": "white",
            "ticks": ""
           },
           "bgcolor": "#E5ECF6",
           "caxis": {
            "gridcolor": "white",
            "linecolor": "white",
            "ticks": ""
           }
          },
          "title": {
           "x": 0.05
          },
          "xaxis": {
           "automargin": true,
           "gridcolor": "white",
           "linecolor": "white",
           "ticks": "",
           "title": {
            "standoff": 15
           },
           "zerolinecolor": "white",
           "zerolinewidth": 2
          },
          "yaxis": {
           "automargin": true,
           "gridcolor": "white",
           "linecolor": "white",
           "ticks": "",
           "title": {
            "standoff": 15
           },
           "zerolinecolor": "white",
           "zerolinewidth": 2
          }
         }
        },
        "title": {
         "text": "Top 10 Puskesmas with Positive Review Percentage",
         "x": 0.5,
         "xanchor": "center"
        },
        "width": 800
       }
      }
     },
     "metadata": {},
     "output_type": "display_data"
    }
   ],
   "source": [
    "import pandas as pd\n",
    "import plotly.express as px\n",
    "\n",
    "data_for_plotting = detail_puskesmas[\n",
    "    [\"lat\", \"lon\", \"puskesmas_name\", \"positive_percentage\"]\n",
    "]\n",
    "\n",
    "data_for_plotting[\"lat\"] = pd.to_numeric(data_for_plotting[\"lat\"], errors=\"coerce\")\n",
    "data_for_plotting[\"lon\"] = pd.to_numeric(data_for_plotting[\"lon\"], errors=\"coerce\")\n",
    "data_for_plotting[\"positive_percentage\"] = data_for_plotting[\n",
    "    \"positive_percentage\"\n",
    "].fillna(0)\n",
    "\n",
    "data_for_plotting = data_for_plotting[data_for_plotting[\"positive_percentage\"] != 0]\n",
    "\n",
    "top_10_data_for_plotting = data_for_plotting.sort_values(\n",
    "    by=\"positive_percentage\", ascending=False\n",
    ").head(10)\n",
    "\n",
    "fig = px.scatter_mapbox(\n",
    "    top_10_data_for_plotting,\n",
    "    lat=\"lat\",\n",
    "    lon=\"lon\",\n",
    "    color=\"positive_percentage\",\n",
    "    size=\"positive_percentage\",\n",
    "    hover_name=\"puskesmas_name\",\n",
    "    hover_data={\"positive_percentage\": True},\n",
    "    size_max=15,\n",
    "    zoom=10,\n",
    "    center={\n",
    "        \"lat\": top_10_data_for_plotting[\"lat\"].mean(),\n",
    "        \"lon\": top_10_data_for_plotting[\"lon\"].mean(),\n",
    "    },\n",
    "    mapbox_style=\"carto-positron\", \n",
    "    color_continuous_scale=px.colors.diverging.Tealrose_r,\n",
    "    title=\"Top 10 Puskesmas with Positive Review Percentage\",\n",
    "    range_color=[detail_puskesmas['positive_percentage'].min(), detail_puskesmas[\"positive_percentage\"].max()],\n",
    ")\n",
    "\n",
    "fig.update_traces(marker=dict(size=28, opacity=0.7), textposition=\"top center\")\n",
    "\n",
    "fig.update_traces(\n",
    "    hovertemplate=\"<b>%{hovertext}</b><br>Positivity Rate: %{marker.color:.2f}%\"\n",
    ")\n",
    "\n",
    "fig.update_coloraxes(colorbar_title=\"Positivity Rate (%)\")\n",
    "\n",
    "fig.update_layout(\n",
    "    legend=dict(\n",
    "        title_font=dict(size=14, color=\"blue\"),\n",
    "        bgcolor=\"rgba(255,255,255,0.5)\",\n",
    "        bordercolor=\"Black\",\n",
    "        borderwidth=2,\n",
    "    ),\n",
    "    title=dict(\n",
    "        text=\"Top 10 Puskesmas with Positive Review Percentage\", x=0.5, xanchor=\"center\"\n",
    "    ),\n",
    "    width=800,\n",
    "    height=800,\n",
    ")\n",
    "\n",
    "fig.show()"
   ]
  },
  {
   "cell_type": "markdown",
   "metadata": {},
   "source": [
    "## Top 10 Puskesmas with the negative review"
   ]
  },
  {
   "cell_type": "code",
   "execution_count": 244,
   "metadata": {},
   "outputs": [
    {
     "name": "stderr",
     "output_type": "stream",
     "text": [
      "/tmp/ipykernel_12421/118797639.py:8: SettingWithCopyWarning:\n",
      "\n",
      "\n",
      "A value is trying to be set on a copy of a slice from a DataFrame.\n",
      "Try using .loc[row_indexer,col_indexer] = value instead\n",
      "\n",
      "See the caveats in the documentation: https://pandas.pydata.org/pandas-docs/stable/user_guide/indexing.html#returning-a-view-versus-a-copy\n",
      "\n",
      "/tmp/ipykernel_12421/118797639.py:9: SettingWithCopyWarning:\n",
      "\n",
      "\n",
      "A value is trying to be set on a copy of a slice from a DataFrame.\n",
      "Try using .loc[row_indexer,col_indexer] = value instead\n",
      "\n",
      "See the caveats in the documentation: https://pandas.pydata.org/pandas-docs/stable/user_guide/indexing.html#returning-a-view-versus-a-copy\n",
      "\n",
      "/tmp/ipykernel_12421/118797639.py:10: SettingWithCopyWarning:\n",
      "\n",
      "\n",
      "A value is trying to be set on a copy of a slice from a DataFrame.\n",
      "Try using .loc[row_indexer,col_indexer] = value instead\n",
      "\n",
      "See the caveats in the documentation: https://pandas.pydata.org/pandas-docs/stable/user_guide/indexing.html#returning-a-view-versus-a-copy\n",
      "\n"
     ]
    },
    {
     "data": {
      "application/vnd.plotly.v1+json": {
       "config": {
        "plotlyServerURL": "https://plot.ly"
       },
       "data": [
        {
         "customdata": [
          [
           10.666666666666668
          ],
          [
           27.659574468085108
          ],
          [
           31.606217616580313
          ],
          [
           38.46153846153847
          ],
          [
           40
          ],
          [
           41.333333333333336
          ],
          [
           42.201834862385326
          ],
          [
           43.18181818181818
          ],
          [
           43.47826086956522
          ],
          [
           46.15384615384615
          ]
         ],
         "hovertemplate": "<b>%{hovertext}</b><br>Positivity Rate: %{marker.color:.2f}%",
         "hovertext": [
          "Puskesmas Morokrembangan",
          "Puskesmas Sidotopo",
          "Puskesmas Mojo",
          "Puskesmas Kenjeran",
          "Puskesmas Kalirungkut",
          "Puskesmas Gundih",
          "Puskesmas Banyu Urip",
          "Puskesmas Kedungdoro",
          "Puskesmas Peneleh",
          "Puskesmas Tembok Dukuh"
         ],
         "lat": [
          -7.2347805,
          -7.23034775,
          -7.270902149999999,
          -7.24111075,
          -7.322217999999999,
          -7.24724475,
          -7.2715069,
          -7.26370155,
          -7.2523042,
          -7.254527449999999
         ],
         "legendgroup": "",
         "lon": [
          112.71244346706712,
          112.7458816190326,
          112.77082440581847,
          112.79527909779556,
          112.77076210366916,
          112.72539045,
          112.72002732026792,
          112.7382415,
          112.74083083291244,
          112.71921325
         ],
         "marker": {
          "color": [
           10.666666666666668,
           27.659574468085108,
           31.606217616580313,
           38.46153846153847,
           40,
           41.333333333333336,
           42.201834862385326,
           43.18181818181818,
           43.47826086956522,
           46.15384615384615
          ],
          "coloraxis": "coloraxis",
          "opacity": 0.7,
          "size": 28,
          "sizemode": "area",
          "sizeref": 0.20512820512820512
         },
         "mode": "markers",
         "name": "",
         "showlegend": false,
         "subplot": "mapbox",
         "textposition": "top center",
         "type": "scattermapbox"
        }
       ],
       "layout": {
        "coloraxis": {
         "cmax": 82.27848101265823,
         "cmin": 10.666666666666668,
         "colorbar": {
          "title": {
           "text": "Positivity Rate (%)"
          }
         },
         "colorscale": [
          [
           0,
           "rgb(208, 88, 126)"
          ],
          [
           0.16666666666666666,
           "rgb(217, 137, 148)"
          ],
          [
           0.3333333333333333,
           "rgb(229, 185, 173)"
          ],
          [
           0.5,
           "rgb(241, 234, 200)"
          ],
          [
           0.6666666666666666,
           "rgb(177, 199, 179)"
          ],
          [
           0.8333333333333334,
           "rgb(114, 170, 161)"
          ],
          [
           1,
           "rgb(0, 147, 146)"
          ]
         ]
        },
        "height": 800,
        "legend": {
         "bgcolor": "rgba(255,255,255,0.5)",
         "bordercolor": "Black",
         "borderwidth": 2,
         "itemsizing": "constant",
         "title": {
          "font": {
           "color": "blue",
           "size": 14
          }
         },
         "tracegroupgap": 0
        },
        "mapbox": {
         "center": {
          "lat": -7.258864399999998,
          "lon": 112.74388940465633
         },
         "domain": {
          "x": [
           0,
           1
          ],
          "y": [
           0,
           1
          ]
         },
         "style": "carto-positron",
         "zoom": 10
        },
        "template": {
         "data": {
          "bar": [
           {
            "error_x": {
             "color": "#2a3f5f"
            },
            "error_y": {
             "color": "#2a3f5f"
            },
            "marker": {
             "line": {
              "color": "#E5ECF6",
              "width": 0.5
             },
             "pattern": {
              "fillmode": "overlay",
              "size": 10,
              "solidity": 0.2
             }
            },
            "type": "bar"
           }
          ],
          "barpolar": [
           {
            "marker": {
             "line": {
              "color": "#E5ECF6",
              "width": 0.5
             },
             "pattern": {
              "fillmode": "overlay",
              "size": 10,
              "solidity": 0.2
             }
            },
            "type": "barpolar"
           }
          ],
          "carpet": [
           {
            "aaxis": {
             "endlinecolor": "#2a3f5f",
             "gridcolor": "white",
             "linecolor": "white",
             "minorgridcolor": "white",
             "startlinecolor": "#2a3f5f"
            },
            "baxis": {
             "endlinecolor": "#2a3f5f",
             "gridcolor": "white",
             "linecolor": "white",
             "minorgridcolor": "white",
             "startlinecolor": "#2a3f5f"
            },
            "type": "carpet"
           }
          ],
          "choropleth": [
           {
            "colorbar": {
             "outlinewidth": 0,
             "ticks": ""
            },
            "type": "choropleth"
           }
          ],
          "contour": [
           {
            "colorbar": {
             "outlinewidth": 0,
             "ticks": ""
            },
            "colorscale": [
             [
              0,
              "#0d0887"
             ],
             [
              0.1111111111111111,
              "#46039f"
             ],
             [
              0.2222222222222222,
              "#7201a8"
             ],
             [
              0.3333333333333333,
              "#9c179e"
             ],
             [
              0.4444444444444444,
              "#bd3786"
             ],
             [
              0.5555555555555556,
              "#d8576b"
             ],
             [
              0.6666666666666666,
              "#ed7953"
             ],
             [
              0.7777777777777778,
              "#fb9f3a"
             ],
             [
              0.8888888888888888,
              "#fdca26"
             ],
             [
              1,
              "#f0f921"
             ]
            ],
            "type": "contour"
           }
          ],
          "contourcarpet": [
           {
            "colorbar": {
             "outlinewidth": 0,
             "ticks": ""
            },
            "type": "contourcarpet"
           }
          ],
          "heatmap": [
           {
            "colorbar": {
             "outlinewidth": 0,
             "ticks": ""
            },
            "colorscale": [
             [
              0,
              "#0d0887"
             ],
             [
              0.1111111111111111,
              "#46039f"
             ],
             [
              0.2222222222222222,
              "#7201a8"
             ],
             [
              0.3333333333333333,
              "#9c179e"
             ],
             [
              0.4444444444444444,
              "#bd3786"
             ],
             [
              0.5555555555555556,
              "#d8576b"
             ],
             [
              0.6666666666666666,
              "#ed7953"
             ],
             [
              0.7777777777777778,
              "#fb9f3a"
             ],
             [
              0.8888888888888888,
              "#fdca26"
             ],
             [
              1,
              "#f0f921"
             ]
            ],
            "type": "heatmap"
           }
          ],
          "heatmapgl": [
           {
            "colorbar": {
             "outlinewidth": 0,
             "ticks": ""
            },
            "colorscale": [
             [
              0,
              "#0d0887"
             ],
             [
              0.1111111111111111,
              "#46039f"
             ],
             [
              0.2222222222222222,
              "#7201a8"
             ],
             [
              0.3333333333333333,
              "#9c179e"
             ],
             [
              0.4444444444444444,
              "#bd3786"
             ],
             [
              0.5555555555555556,
              "#d8576b"
             ],
             [
              0.6666666666666666,
              "#ed7953"
             ],
             [
              0.7777777777777778,
              "#fb9f3a"
             ],
             [
              0.8888888888888888,
              "#fdca26"
             ],
             [
              1,
              "#f0f921"
             ]
            ],
            "type": "heatmapgl"
           }
          ],
          "histogram": [
           {
            "marker": {
             "pattern": {
              "fillmode": "overlay",
              "size": 10,
              "solidity": 0.2
             }
            },
            "type": "histogram"
           }
          ],
          "histogram2d": [
           {
            "colorbar": {
             "outlinewidth": 0,
             "ticks": ""
            },
            "colorscale": [
             [
              0,
              "#0d0887"
             ],
             [
              0.1111111111111111,
              "#46039f"
             ],
             [
              0.2222222222222222,
              "#7201a8"
             ],
             [
              0.3333333333333333,
              "#9c179e"
             ],
             [
              0.4444444444444444,
              "#bd3786"
             ],
             [
              0.5555555555555556,
              "#d8576b"
             ],
             [
              0.6666666666666666,
              "#ed7953"
             ],
             [
              0.7777777777777778,
              "#fb9f3a"
             ],
             [
              0.8888888888888888,
              "#fdca26"
             ],
             [
              1,
              "#f0f921"
             ]
            ],
            "type": "histogram2d"
           }
          ],
          "histogram2dcontour": [
           {
            "colorbar": {
             "outlinewidth": 0,
             "ticks": ""
            },
            "colorscale": [
             [
              0,
              "#0d0887"
             ],
             [
              0.1111111111111111,
              "#46039f"
             ],
             [
              0.2222222222222222,
              "#7201a8"
             ],
             [
              0.3333333333333333,
              "#9c179e"
             ],
             [
              0.4444444444444444,
              "#bd3786"
             ],
             [
              0.5555555555555556,
              "#d8576b"
             ],
             [
              0.6666666666666666,
              "#ed7953"
             ],
             [
              0.7777777777777778,
              "#fb9f3a"
             ],
             [
              0.8888888888888888,
              "#fdca26"
             ],
             [
              1,
              "#f0f921"
             ]
            ],
            "type": "histogram2dcontour"
           }
          ],
          "mesh3d": [
           {
            "colorbar": {
             "outlinewidth": 0,
             "ticks": ""
            },
            "type": "mesh3d"
           }
          ],
          "parcoords": [
           {
            "line": {
             "colorbar": {
              "outlinewidth": 0,
              "ticks": ""
             }
            },
            "type": "parcoords"
           }
          ],
          "pie": [
           {
            "automargin": true,
            "type": "pie"
           }
          ],
          "scatter": [
           {
            "fillpattern": {
             "fillmode": "overlay",
             "size": 10,
             "solidity": 0.2
            },
            "type": "scatter"
           }
          ],
          "scatter3d": [
           {
            "line": {
             "colorbar": {
              "outlinewidth": 0,
              "ticks": ""
             }
            },
            "marker": {
             "colorbar": {
              "outlinewidth": 0,
              "ticks": ""
             }
            },
            "type": "scatter3d"
           }
          ],
          "scattercarpet": [
           {
            "marker": {
             "colorbar": {
              "outlinewidth": 0,
              "ticks": ""
             }
            },
            "type": "scattercarpet"
           }
          ],
          "scattergeo": [
           {
            "marker": {
             "colorbar": {
              "outlinewidth": 0,
              "ticks": ""
             }
            },
            "type": "scattergeo"
           }
          ],
          "scattergl": [
           {
            "marker": {
             "colorbar": {
              "outlinewidth": 0,
              "ticks": ""
             }
            },
            "type": "scattergl"
           }
          ],
          "scattermapbox": [
           {
            "marker": {
             "colorbar": {
              "outlinewidth": 0,
              "ticks": ""
             }
            },
            "type": "scattermapbox"
           }
          ],
          "scatterpolar": [
           {
            "marker": {
             "colorbar": {
              "outlinewidth": 0,
              "ticks": ""
             }
            },
            "type": "scatterpolar"
           }
          ],
          "scatterpolargl": [
           {
            "marker": {
             "colorbar": {
              "outlinewidth": 0,
              "ticks": ""
             }
            },
            "type": "scatterpolargl"
           }
          ],
          "scatterternary": [
           {
            "marker": {
             "colorbar": {
              "outlinewidth": 0,
              "ticks": ""
             }
            },
            "type": "scatterternary"
           }
          ],
          "surface": [
           {
            "colorbar": {
             "outlinewidth": 0,
             "ticks": ""
            },
            "colorscale": [
             [
              0,
              "#0d0887"
             ],
             [
              0.1111111111111111,
              "#46039f"
             ],
             [
              0.2222222222222222,
              "#7201a8"
             ],
             [
              0.3333333333333333,
              "#9c179e"
             ],
             [
              0.4444444444444444,
              "#bd3786"
             ],
             [
              0.5555555555555556,
              "#d8576b"
             ],
             [
              0.6666666666666666,
              "#ed7953"
             ],
             [
              0.7777777777777778,
              "#fb9f3a"
             ],
             [
              0.8888888888888888,
              "#fdca26"
             ],
             [
              1,
              "#f0f921"
             ]
            ],
            "type": "surface"
           }
          ],
          "table": [
           {
            "cells": {
             "fill": {
              "color": "#EBF0F8"
             },
             "line": {
              "color": "white"
             }
            },
            "header": {
             "fill": {
              "color": "#C8D4E3"
             },
             "line": {
              "color": "white"
             }
            },
            "type": "table"
           }
          ]
         },
         "layout": {
          "annotationdefaults": {
           "arrowcolor": "#2a3f5f",
           "arrowhead": 0,
           "arrowwidth": 1
          },
          "autotypenumbers": "strict",
          "coloraxis": {
           "colorbar": {
            "outlinewidth": 0,
            "ticks": ""
           }
          },
          "colorscale": {
           "diverging": [
            [
             0,
             "#8e0152"
            ],
            [
             0.1,
             "#c51b7d"
            ],
            [
             0.2,
             "#de77ae"
            ],
            [
             0.3,
             "#f1b6da"
            ],
            [
             0.4,
             "#fde0ef"
            ],
            [
             0.5,
             "#f7f7f7"
            ],
            [
             0.6,
             "#e6f5d0"
            ],
            [
             0.7,
             "#b8e186"
            ],
            [
             0.8,
             "#7fbc41"
            ],
            [
             0.9,
             "#4d9221"
            ],
            [
             1,
             "#276419"
            ]
           ],
           "sequential": [
            [
             0,
             "#0d0887"
            ],
            [
             0.1111111111111111,
             "#46039f"
            ],
            [
             0.2222222222222222,
             "#7201a8"
            ],
            [
             0.3333333333333333,
             "#9c179e"
            ],
            [
             0.4444444444444444,
             "#bd3786"
            ],
            [
             0.5555555555555556,
             "#d8576b"
            ],
            [
             0.6666666666666666,
             "#ed7953"
            ],
            [
             0.7777777777777778,
             "#fb9f3a"
            ],
            [
             0.8888888888888888,
             "#fdca26"
            ],
            [
             1,
             "#f0f921"
            ]
           ],
           "sequentialminus": [
            [
             0,
             "#0d0887"
            ],
            [
             0.1111111111111111,
             "#46039f"
            ],
            [
             0.2222222222222222,
             "#7201a8"
            ],
            [
             0.3333333333333333,
             "#9c179e"
            ],
            [
             0.4444444444444444,
             "#bd3786"
            ],
            [
             0.5555555555555556,
             "#d8576b"
            ],
            [
             0.6666666666666666,
             "#ed7953"
            ],
            [
             0.7777777777777778,
             "#fb9f3a"
            ],
            [
             0.8888888888888888,
             "#fdca26"
            ],
            [
             1,
             "#f0f921"
            ]
           ]
          },
          "colorway": [
           "#636efa",
           "#EF553B",
           "#00cc96",
           "#ab63fa",
           "#FFA15A",
           "#19d3f3",
           "#FF6692",
           "#B6E880",
           "#FF97FF",
           "#FECB52"
          ],
          "font": {
           "color": "#2a3f5f"
          },
          "geo": {
           "bgcolor": "white",
           "lakecolor": "white",
           "landcolor": "#E5ECF6",
           "showlakes": true,
           "showland": true,
           "subunitcolor": "white"
          },
          "hoverlabel": {
           "align": "left"
          },
          "hovermode": "closest",
          "mapbox": {
           "style": "light"
          },
          "paper_bgcolor": "white",
          "plot_bgcolor": "#E5ECF6",
          "polar": {
           "angularaxis": {
            "gridcolor": "white",
            "linecolor": "white",
            "ticks": ""
           },
           "bgcolor": "#E5ECF6",
           "radialaxis": {
            "gridcolor": "white",
            "linecolor": "white",
            "ticks": ""
           }
          },
          "scene": {
           "xaxis": {
            "backgroundcolor": "#E5ECF6",
            "gridcolor": "white",
            "gridwidth": 2,
            "linecolor": "white",
            "showbackground": true,
            "ticks": "",
            "zerolinecolor": "white"
           },
           "yaxis": {
            "backgroundcolor": "#E5ECF6",
            "gridcolor": "white",
            "gridwidth": 2,
            "linecolor": "white",
            "showbackground": true,
            "ticks": "",
            "zerolinecolor": "white"
           },
           "zaxis": {
            "backgroundcolor": "#E5ECF6",
            "gridcolor": "white",
            "gridwidth": 2,
            "linecolor": "white",
            "showbackground": true,
            "ticks": "",
            "zerolinecolor": "white"
           }
          },
          "shapedefaults": {
           "line": {
            "color": "#2a3f5f"
           }
          },
          "ternary": {
           "aaxis": {
            "gridcolor": "white",
            "linecolor": "white",
            "ticks": ""
           },
           "baxis": {
            "gridcolor": "white",
            "linecolor": "white",
            "ticks": ""
           },
           "bgcolor": "#E5ECF6",
           "caxis": {
            "gridcolor": "white",
            "linecolor": "white",
            "ticks": ""
           }
          },
          "title": {
           "x": 0.05
          },
          "xaxis": {
           "automargin": true,
           "gridcolor": "white",
           "linecolor": "white",
           "ticks": "",
           "title": {
            "standoff": 15
           },
           "zerolinecolor": "white",
           "zerolinewidth": 2
          },
          "yaxis": {
           "automargin": true,
           "gridcolor": "white",
           "linecolor": "white",
           "ticks": "",
           "title": {
            "standoff": 15
           },
           "zerolinecolor": "white",
           "zerolinewidth": 2
          }
         }
        },
        "title": {
         "text": "Top 10 Puskesmas with Negative Review Percentage",
         "x": 0.5,
         "xanchor": "center"
        },
        "width": 800
       }
      }
     },
     "metadata": {},
     "output_type": "display_data"
    }
   ],
   "source": [
    "import pandas as pd\n",
    "import plotly.express as px\n",
    "\n",
    "data_for_plotting = detail_puskesmas[\n",
    "    [\"lat\", \"lon\", \"puskesmas_name\", \"positive_percentage\"]\n",
    "]\n",
    "\n",
    "data_for_plotting[\"lat\"] = pd.to_numeric(data_for_plotting[\"lat\"], errors=\"coerce\")\n",
    "data_for_plotting[\"lon\"] = pd.to_numeric(data_for_plotting[\"lon\"], errors=\"coerce\")\n",
    "data_for_plotting[\"positive_percentage\"] = data_for_plotting[\n",
    "    \"positive_percentage\"\n",
    "].fillna(0)\n",
    "\n",
    "data_for_plotting = data_for_plotting[data_for_plotting[\"positive_percentage\"] != 0]\n",
    "\n",
    "top_10_data_for_plotting = data_for_plotting.sort_values(\n",
    "    by=\"positive_percentage\", ascending=True\n",
    ").head(10)\n",
    "\n",
    "fig = px.scatter_mapbox(\n",
    "    top_10_data_for_plotting,\n",
    "    lat=\"lat\",\n",
    "    lon=\"lon\",\n",
    "    color=\"positive_percentage\",\n",
    "    size=\"positive_percentage\",\n",
    "    hover_name=\"puskesmas_name\",\n",
    "    hover_data={\"positive_percentage\": True},\n",
    "    size_max=15,\n",
    "    zoom=10,\n",
    "    center={\n",
    "        \"lat\": top_10_data_for_plotting[\"lat\"].mean(),\n",
    "        \"lon\": top_10_data_for_plotting[\"lon\"].mean(),\n",
    "    },\n",
    "    mapbox_style=\"carto-positron\",\n",
    "    color_continuous_scale=px.colors.diverging.Tealrose_r,\n",
    "    title=\"Top 10 Puskesmas with Negative Review Percentage\",\n",
    "    range_color=[detail_puskesmas['positive_percentage'].min(), detail_puskesmas[\"positive_percentage\"].max()],\n",
    ")\n",
    "\n",
    "fig.update_traces(marker=dict(size=28, opacity=0.7), textposition=\"top center\")\n",
    "\n",
    "fig.update_traces(\n",
    "    hovertemplate=\"<b>%{hovertext}</b><br>Positivity Rate: %{marker.color:.2f}%\",\n",
    ")\n",
    "\n",
    "fig.update_coloraxes(colorbar_title=\"Positivity Rate (%)\")\n",
    "\n",
    "fig.update_layout(\n",
    "    legend=dict(\n",
    "        title_font=dict(size=14, color=\"blue\"),\n",
    "        bgcolor=\"rgba(255,255,255,0.5)\",\n",
    "        bordercolor=\"Black\",\n",
    "        borderwidth=2,\n",
    "    ),\n",
    "    title=dict(\n",
    "        text=\"Top 10 Puskesmas with Negative Review Percentage\", x=0.5, xanchor=\"center\"\n",
    "    ),\n",
    "    width=800,\n",
    "    height=800,\n",
    ")\n",
    "\n",
    "fig.show()"
   ]
  },
  {
   "cell_type": "markdown",
   "metadata": {},
   "source": [
    "# Why positive? Why negative?"
   ]
  },
  {
   "cell_type": "markdown",
   "metadata": {},
   "source": [
    "## Positive"
   ]
  },
  {
   "cell_type": "code",
   "execution_count": 245,
   "metadata": {},
   "outputs": [
    {
     "data": {
      "image/png": "[encoded data removed]",
      "text/plain": [
       "<Figure size 1000x1000 with 1 Axes>"
      ]
     },
     "metadata": {},
     "output_type": "display_data"
    }
   ],
   "source": [
    "from sklearn.feature_extraction.text import TfidfVectorizer\n",
    "import numpy as np\n",
    "from wordcloud import WordCloud\n",
    "import matplotlib.pyplot as plt\n",
    "\n",
    "all_reviews = predicted_data_puskesmas[\"cleaned_review_text\"]\n",
    "\n",
    "vectorizer = TfidfVectorizer(stop_words='english', max_features=10000)\n",
    "\n",
    "tfidf_matrix = vectorizer.fit_transform(all_reviews)\n",
    "\n",
    "word_scores = np.sum(tfidf_matrix, axis=0)\n",
    "\n",
    "features = vectorizer.get_feature_names_out()\n",
    "scores = word_scores.A1\n",
    "word_score_dict = dict(zip(features, scores))\n",
    "\n",
    "sorted_words = sorted(word_score_dict.items(), key=lambda x: x[1], reverse=True)\n",
    "\n",
    "positive_reviews = ' '.join(predicted_data_puskesmas[predicted_data_puskesmas['is_positive'] == 1]['cleaned_review_text'])\n",
    "\n",
    "N = 100\n",
    "common_words = set([word for word, score in sorted_words[:N]])\n",
    "\n",
    "filtered_positive_reviews = ' '.join([word for word in positive_reviews.split() if word not in common_words])\n",
    "filtered_positive_reviews = ' '.join([word for word in filtered_positive_reviews.split() if word not in detail_puskesmas['puskesmas_name'].str.lower().str.split().str[1].values])\n",
    "\n",
    "stop_words = [\"bu\", \"sih\", \"oke\", \"ya\", \"aja\", \"udah\", \"ok\", \"suka\", \"pas\", \"sukses\", \"semangat\", \"wetan\", \"bovid\", \"tes\", \"jalan\", \"darah\", \"lahir\", \"imunisasi\", \"booster\", \"bintang\", \"booster\", \"nakednya\", \"warga\", \"alam\", \"pokok\", \"medis\", \"kartu\", \"tanda\", \"arah\", \"proses\", \"farmasi\", \"usia\", \"ramai\"]\n",
    "\n",
    "filtered_positive_reviews = ' '.join([word for word in filtered_positive_reviews.split() if word not in stop_words])\n",
    "\n",
    "\n",
    "wordcloud = WordCloud(\n",
    "    width=1600, \n",
    "    height=800, \n",
    "    background_color=\"white\",\n",
    "    max_words=10, \n",
    "    colormap=\"copper\",\n",
    "    prefer_horizontal=1.0,\n",
    "    min_font_size=10,\n",
    "    max_font_size=300,\n",
    "    contour_width=3,\n",
    "    contour_color='steelblue'\n",
    ").generate(filtered_positive_reviews)\n",
    "\n",
    "plt.figure(figsize=(10, 10))\n",
    "plt.imshow(wordcloud, interpolation=\"bilinear\")\n",
    "plt.axis(\"off\")\n",
    "plt.show()"
   ]
  },
  {
   "cell_type": "code",
   "execution_count": 246,
   "metadata": {},
   "outputs": [
    {
     "name": "stdout",
     "output_type": "stream",
     "text": [
      "Word: rapi\n",
      "231: Pelayanan sudah Oke, antrian tersistem dan rapi. Pelayanan bagus mulai dr front office hingga apoteker nya. Ruang tunggu sudah bagus, ber AC dan berkipas angin ria. Dokter ramah dan cepat tanggap. Enak pakai pendaftaran online\n",
      "2725: Saya membaca review sebelumnya sepertinya sudah tidak valid, menurut saya\n",
      "Tempatnya rapi dan bersih,\n",
      "Pelayanannya cepat dan tanggap, ramah sekali, mulai dari bapak parkir, loket, sampai semua orang didalam poli. Semuanya ramah dan baik\n",
      "\n",
      "Untuk pengambilan nomor antrian saya sarankan ambil secara online lalu di tunjukkan di reseptioni untuk print no antrian, datang tepat waktu pada jam yg tertulis di antriannya\n",
      "\n",
      "Didalam puskesmas ada tanaman hijau yang menyegarkan pandangan, suasanya juga tenang..\n",
      "6075: Meskipun tempatnya agak terpencil tapi tidak mengurangi keramaian pasiennya , datang jam 7 Uda lumayan yang datang, saran aja lebih baik daftar online sebelum hari H, layanan lumayan lengkap, ada lab nya juga di lantai 2, lumayan rapi dan tertib , staf dan dokternya juga ramah dan gerak cepat\n",
      "4492: Pelayan utk pasien sgt baik  ,dr,perawatx jg ramah dlm melayani pasien x,kebersihan lingkungan puskesmas bersih dan rapi\n",
      "440: Sangat memuaskan dlm menanggapi dan melayani pasien ... Terlebih baru² ini ditingkatkan kedisiplinan dlm ruang tunggu dimana hanya pasien saja yg harus didalamnya sehingga tidak berjubel dan terlihat rapi ..mohon dijaga dan ditingkatkan terus yg seperti inii\n",
      "\n",
      "Word: gratis\n",
      "1806: Rame...petugasnya ramah2...keren dhe\n",
      "Parkir nya gratis...tapi pas masuk ke poli gigi...ada peralatan gigi yg rusak kata dokternya dha 1 minggu lbh blm ada perbaikan...\n",
      "3340: Skrg pelayanan sudah lbh baik, cepat, dan informatif .\n",
      "Dokter jg dapat memahami kondisi pasien .\n",
      "Lab cek darah jg hasil cepat keluar dalam kurang lebih 1 jam .\n",
      "Skdr masukan aja,, mgkn untuk bagian farmasi bs dipercepat untuk pelayanannya.\n",
      "Dan untuk ibuk2 parkir di depan itu menurut saya agak maksa buat kita parkir di tmpt dia, pdhal di halaman PKM ada sendiri tmpt parkir motorny yg gratis.\n",
      "Semoga bs jadi evaluasi dan masukan yg positif untuk pihak PKM.\n",
      "7486: Saya KTP surabaya periksa ke poli umum, petugas baik dan ramah pelayanan juga cukup cepat dan tidak ada biaya (gratis)\n",
      "1722: Puskesmas Sememi melayani dengan sepenuh hati,  melayani persalinan 24 jam bpjs/umum dpt foto new born + souvenir cantik gratissssss\n",
      "1347: PUSKESMAS KEPUTIH SUKOLILO .\n",
      "\n",
      "Saya sdh menjadi pasien tetap di Puskesmas Keputih Sukolilo .\n",
      "Secara rutine 2 minggu sekali perlu kontrol dan mohon obat .\n",
      "\n",
      "Pelayanannya menurut saya bisa saya katakan Sangat baik .\n",
      "Dari sudut pegawai pendaftaran hingga penanganannya ibu ibu Dokter nya menurut saya sangat ramah dan komunikasinya baik sekali .\n",
      "\n",
      "Saya selalu kontrol untuk usia lansia , umur saya baru 63 tahun , baru dipensiun dari perusahaan swasta Asing Perancis PT. Schneider Indonesia di Jakarta .\n",
      "Dulu semasa kerja selalu menggunakan asuransi yg dihandle biayanya dokter dan obatnya sehingga terasa nyaman sekali .\n",
      "\n",
      "Selepas pensiun pulang ke Rumah Surabaya , saya aktifkan dengan kartu BPJS MANDIRI sekeluarga .\n",
      "\n",
      "Pertama daftar di Puskesmas Keputih Sukolilo pada Akhir tahun 2018 , penerimaan petugas Puskesmas Keputih Sukolilo sangat baik sekali .\n",
      "\n",
      "Bila dipoli umum kita nunggu panggilan beberapa menit kira kira 30 menit , maklum sangat banyak pasiennya  ibu ibu , bapak bapak lansia dan beberapa anak anak dan dan para pemuda yg saat itu mendaftar karena bertujuan berobat .\n",
      "\n",
      "Setelah mendapat panggilan dari poli umum kita masuk kependataan dan direcord , sakit apa , atau keluhannya apa dll.\n",
      "Setelah itu ke bagian tensi tekanan darah dan record oleh petugasnya juga lengkap dgn record berat badan dan tingginya .\n",
      "\n",
      "Lalu dikumpulkan ke meja bu Dokter nya\n",
      ",terus menunggu panggilan dan pemeriksaan .\n",
      "Mendapat panggilan memberi penjelasan keluhan sakit yg diderita.\n",
      "Bila saya berobat biasanya keluhan lansia adalah kolesterol , asam urat , diabet / gula darah , batuk dan pilek  bila badan kurang segar / kuat .\n",
      "\n",
      "Biasa dokter memberi surat antar untuk periksa darah agar pemberian obatnya bisa tepat sasarannya .\n",
      "Kita bawa surat antar periksa darah kebagian laboratorium , tdk jauh dari poli umum .\n",
      "Kita berikan kepetugasnya surat antar tersebut dan kita ambil nomor antrian panggilan pengambilan darah .\n",
      "Bila kita dipanggil petugasnya untuk pengambilan darah , baru dilakukan pengambilan darah untuk laboratoriumnya.\n",
      "\n",
      "Setelah pengambilan darah kita biasanya harus menunggu hasil laboratorium selama minimum 1,5 jam .\n",
      "Kita mendapat panggilan hasil laboratorium berupa 1 lembar kertas yg lengkap hasil laboratoriun .\n",
      "1. Kolesterol .....    standard normal ......\n",
      "2. Asam urat  .....   standard normal ......\n",
      "3. Gula darah ......   standard normal .....\n",
      "4. Dan lain lain  seperti tertulis dlm surat pengantarnya .\n",
      "\n",
      "Kemudian 1lembar hasil laboratorium tersebut diberikan ke dokternya .\n",
      "Menunggu panggilan sebentar saja sdh dipanggil oleh dokternya .\n",
      "\n",
      "Hasil laboratorium sebagai acuan untuk memberi obat .\n",
      "Dokter memberi resep dan biasanya dokter memberi sedikit wejangan : mhn jangan makan kacang kacangan  , bayam , sawi putih dll untuk asam urat yg lebih dari standard normal dll.\n",
      "\n",
      "Dgn tutur kata yg halus ramah dan mengena dihati ini , untuk dipatuhi dan diperhatikan .\n",
      "Dan sungguh bermanfaat wejangan dari bu Dokternya .\n",
      "\n",
      "Dari resep dokter tersebut kita kumpulkan kekotak pengambilan obat .\n",
      "Maklum pasiennya cukup banyak dihari hari Senin bila kita berobat , tapi hari lainnya biasa tdk sebanyak hari Senin .\n",
      "\n",
      "Beberapa menit , kira 10 menit paling lama sdh mendapat panggilan .\n",
      "Petugasnya dengan muka ceria dan ramah memanggil nama pasien untuk pengambilan obat .\n",
      "Sebelum obat diberikan ke pasien , petugas menanyakan nama dan alamat Pasiennya sebagai kontrol ketepatan dan harus benar serta pasien diharuskan tanda tangan dibalik resepnya .\n",
      "Petugas menerangkan dengan jelas satu persatu obat yg diberi dokter , agar tdk sampai keliru meminum obatnya sesuai aturan yg telah ditulis di plastik tempat obatnya masing masing dgn baik .\n",
      "\n",
      "Setelah menerima obat kita boleh pulang dengan baik .\n",
      "SEMOGA CEPAT SEMBUH .\n",
      "\n",
      "Note :\n",
      "1. Krn kita pakai BPJS maka kita tdk bayar sepeser pun alias gratis .\n",
      "2. Ongkos parkir standar sepeda motor Rp 2,000.  Aman .\n",
      "3. Puskesmas Keputih relatif bersih dan terlihat tertata rapi\n",
      "4. Toiletnya relatif bersih rapi dan air besih yang cukup.\n",
      "5. Tempat tunggu dan kursinya cukup banyak bersih rapi\n",
      "6. Petugas dan dokternya ramah dan santun.\n",
      "\n",
      "Slm Ir. H. M. Soewito J.P.\n",
      "\n",
      "Word: maju\n",
      "487: Alhamdulilla PKM Siwed kemajuannya semakin pesat n untuk pelayananya baik dan ramah jg memuaskan..tetap semangat dalam melayani masyarat.\n",
      "2533: Baru pertama kesini, coba pakai BPJS. Ternyata proses cepat, cm tunjukkan kartu BPJS dan dapat nomor antrian. Memang antrinya agak lama karena pasien banyak. Tapi masih oke, karena langsung masuk 3 org. Obat juga sudah termasuk. Sudah ada farmasi, lab juga disini. Kalo lama nubggu, kita bisa makan bakso di depan atau ampera di samping. Enak lokasi yang di dukuh kupang. Gak pernah ke puskesmas ternyata sudah maju, bangunan juga sudah modern. Baca - baca review, reception memang laki - laki, tapi kok baik aja ya.. tanya tentang poli gigi juga dijelaskan, memang kita juga gak tanya yang aneh - aneh. Cukup oke semua\n",
      "8862: Dahulu waktu saya masih tinggal di Surabaya puskesmas masih kecil sekarang sudah besar dan maju berkembang pesat layanani masyarakat\n",
      "1472: Pelayanan'nya  sekarang lebih baik dari pada sebelumnya dengan adanya mbak Gisel , Thanks mbak Gisel udah di bantu proses pendaftaran'nya semoga puskesmas gading semakin maju kedepannya 😊 …\n",
      "4345: Yth. Kepala Puskesmas Wonokusumo dan Tim,\n",
      "Terima kasih untuk layanan vaksin dosis 3 nya.\n",
      "Maju terus PKM Wonokusumo 🙋‍♀️ …\n",
      "\n",
      "Word: informatif\n",
      "1202: Alhamdulillah, pelayanan di loket cukup cepat, pelayanan di poli KIA ramah, baik perawat/bidan maupun dokter yang melayani cukup informatif. semoga kedepannya selalu baik lagi\n",
      "5397: pelayanan anc nya sangat bagus, bidan-bidannya ramah dan sangat membantu, setiap pertanyaan dan keluhan pasien dibantu dan sangat informatif sekali..semoga puskesmas tanjungsari semakin maju❤️🙏🏻 …\n",
      "5123: Alhamdulillah, pengalaman priksa kandungan sampai persalinan anak pertama disini pelayanannya sangat bagus dan ramah. Perawat dan bidannya jg sangat informatif. Terimakasih banyak dan mohon dipertahankan.\n",
      "2215: Pelayanan baik, mulai dari pendaftaran sampai selesai. Jika ingin berobat sebaiknya mendaftar online dulu melalui aplikasi JKN jadi lebih menghemat waktu. Jika sdh melakukan pendaftaran online, bisa langsung ke loket pendaftaran ulang lalu tinggal menunggu panggilan utk pemeriksaan. Petugas dan dokter-dokter ramah dan informatif.\n",
      "2377: Tempat pelayanan kesehatan publik yang terus berbenah menjadi lebih baik. Saya melihat progress perubahannya dari jaman dulu masih belum ada sistem antrian online, hingga sekarang sudah ada. Aktivitas penyuluhan kesehatan masyarakat dilaksanakan dengan baik dan jelas. Bangunannya sederhana, tidak semegah puskesmas besar lainnya, tapi pegawainya ramah dan informatif dalam melayani pasien/pengunjung. Semoga kedepannya pemerintah kota bisa merombak puskesmas ini menjadi sama megahnya dengan puskesmas lain.\n",
      "\n",
      "Terima kasih atas pelayanannya selama ini. Semoga semakin baik dan maju.\n",
      "\n",
      "Word: set\n",
      "324: Pelayananya sat set\n",
      "Dokter dan kru ramah ramah\n",
      "Top pokok e\n",
      "4245: Alhamdulillah pelayanan ramah\n",
      "Sigap dan sat set terimakasih\n",
      "5423: Mantaap pelayanannya mau minta rujukan di RS sat set sekali ..\n",
      "Ramah banget pelayanannya ..\n",
      "Sehat selalu Bu dokter ,  bidan dan semua perawat nyaa 🥰🫶 …\n",
      "7297: overall bagus, sat sett kakanya.\n",
      "nb: mungkin kalo ada perubahan harga dan lain2 di infoin biar gajadi kesalah pahaman.\n",
      "8940: Pelayanan lumayan cepat, terima respon cepat. Asal ada laporan petugas nakal di setrap\n",
      "\n",
      "Word: hati\n",
      "7988: Antrian lama bgt . Tapi untuk penanganan nya saya puas . Apa lagi sama  bidannya yg di poli KIA atas nama fitriyah klok ga salah . Masyaallah perhatian bgt telaten bgt\n",
      "1172: Pelayanan nya cepat,petugas juga ramah selalu memperhatikan kondisi pasien,tempat selalu bersih dan nyaman.tetap jaya pkm putat jaya\n",
      "4309: Meskipun berdekatan dengan SDN WONOKUSUMO IV/43 SURABAYA. Saya yang bertugas di SDN ini sejak 5 Januari 2019, baru berkunjung ke Puskesmas Wonokusumo, 19 Maret 2021 karena Suktik Vaksin Covid 19. Petugas Puskesmas bahkan yang paling sering ke SDN ini karena Bias, memberikan Bantuan Tempat makan dan Tumbler untuk siswa kelas 1, periksa jentik, dan penyuluhan Kesehatan. MoU antara SDN ini dengan Puskesmas berlangsung sejak lama. Pelayanan petugas Ramah, Familiar, dan baik hati. Puskesmas Wonokusumo merupakan salah satu Wilayah yang padat penduduk. Memang harus sabar melayani masyarakat. Semoga Dokter, Perawat, dan Tenaga Medis di tempat ini selalu mendapat perlindungan Allah SWT.\n",
      "6844: Puas ama pelayanan poli gigi Puskesmas Mulyorejo. Apalagi dokter gigi Satria yg ramah dan baik hati. Dokter gigi hits Surabaya. Saya suka bgt ama konten edukasinya. Sukses ya pak dokter. Jaya selalu\n",
      "4630: sukses selalu pkm takal, perawatnya oke oke, apalagi bu Sri ramah, kl nyuntik, swab ga sakit itu bukti jika melayani dgn hati, smoga sukses bu Sri\n",
      "\n",
      "Word: detail\n",
      "2903: Pelayanannya baik & ramah. Waktu berobat kebetulan bpjs posisi non aktif, sama mbak² yang di pendaftaran langsung dibantu untuk proses pengaktifan kembali. Bagian pemeriksaan petugasnya ramah. Dokternya juga enak buat diajak sharing masalah kesehatan. Dibagian pengambilan obat petugasnya juga ramah. Penjelasan mengenai obatnya juga detail. Pokoknya beda dengan review 2 - 3 tahun yang lalu👍🏼\n",
      "5056: Pelayanan nya cepet dan ramah bgt, dijelaskan secara detail. Kirain nunggu lama karena pelayanan nya lelet, tnyata emg pasien nya membludak, pdahal klo dlihat dari cara kerjanya udah gercep, gak byk rumpi. Sukak deh\n",
      "4959: Alhamdulillah pelayanannya baik sekali,  ramah, detail tanpa di tanyakan langsung dijelaskan sampai paham sekali. Terimakasih banyak 🙏 …\n",
      "4200: Dokter Pipit  sangat oke menjelaskan ke pasien sangat detail full senyum orangnya semoga selalu menjaga kualitas pelayanan agar pasien merasa nyaman berobat di PKM Wonokusumo\n",
      "Sukses untuk PKM Wonokusumo\n",
      "4941: dari tahun 2011 periksa disini, akhirnya pakai faskes 1 disini\n",
      "\n",
      "pelayanan baik, cepet, pegawai ramah.\n",
      "\n",
      "Makasih Mbak Anggi bagian BKIA yg selalu membantu dan memudahkan pemeriksaan.\n",
      "\n",
      "Makasih juga buat dokter umum yg gercep kasih obat, tanya detail keluhan, dan meminta rujukan sangat cepat, satset tidak pernah dipersulit.\n",
      "\n",
      "Semoga sehat selalu\n",
      "\n",
      "Word: cekat\n",
      "3082: Pengalaman saya pelayanan faskes baik cepat, tiket sudah online, dokter ramah cekatan 👍 permohonan rujukan jg bisa sesuai request pasien …\n",
      "770: Nyaman banget periksa di puskesmas ketabang, mbak mbaknya sabar dan cekatan, antri di poli kia pelayannya cepat dan ramah, terimakasih\n",
      "5581: Pelayanan nya ramah dan cekatan, hampir tiap kli kesana tdk pernah kecewa.. mantap pokoknya.., semoga selalu diberikan kesehatan buat pegawai nya.., terimakasih puskesmas Klampis ngasem.. juoss...\n",
      "6400: Salah satu puskesmas dengan layanan poli yang terbilang lengkap. Urusan administrasi mulai dari pengambilan antrian dan daftar pasien termasuk bagus, petugasnya cekatan dalam melayani. Terakhir kali ke sini ke poli gigi, dapat antrian jam 10 siang di web tapi begitu masuk dikasih tau sama dokter untuk datang 1 jam lebih awal dari jadwal reservasi di internet.\n",
      "3840: Pelayanan nya bagus, kemaren saya periksa hamil disini bidan nya ramah, cekatan, penjelasan nya detail, bismillah bisa lahiran disini... Bisa sekalian buat akte😍 …\n",
      "\n",
      "Word: sat\n",
      "447: Dari depan, satpamnya baik, operator yg bagian dftrin ramah dan sabar sekali tnyanya..\n",
      "Bagian aktifkan bpjs juga baik.. Tdk ada yg ketus. Lain dari puskesmas yg lain. Toppp... Pertahankan pelayanan yg baik ini\n",
      "8373: Kupang lontong, sate kerang didepan puskesmas Jagir... enak dan murah\n",
      "7747: Puskesmas manukan sat set sat set, ambil obat tanpa kertas langsung online, pulang cepat. Petugas juga ramah dan informatif\n",
      "8837: Tahun baru hrsnya semangat baru dg kinerja yg meningkat baik atau lbh baik lagi dr yg kmrin kowq malah sebalikny .... Dpt no rujukan tpi tdk diinputkan ke bpjs pusat ... Akibatny telat jadwal berobat ... Pasienny\n",
      "997: Lokasi dekat dengan lokasi wisata religi ampel terletak di jalan pegirian. Kiri jalan jika dari ampel.\n",
      "Masuk Satu arah dengan RS Paru.\n",
      "Untuk tampak depan nampak kecil, ketika masuk lumayan besar.\n",
      "Wajib memakai masker dan sudah menerapkan protokol kesehatan.\n",
      "Untuk parkir mobil sangat terbatas, motor bisa muat banyak\n",
      "Pelayanan nya ramah, penyampaian mudah dipahami, dibantu jika ad kesulitan  , seluruh jajaran puskesmas juga mengatur jika sudah terlalu ramai mengingat poli di puskesmas sangat ramai setiap hari.\n",
      "Untuk yang mau cari surat sehat juga bisa disini.\n",
      "\n",
      "Word: top\n",
      "1839: Dokter yg di poli gigi ramah dan sabar banget menangani anak saya  umur 2.5 thn yg takut buat bersihkan gigi n tambal gigi dengan segala cara beliau.. dokter nya top banget👍👍 …\n",
      "573: Puskesmas Sidotopo wetan mulai ada peningkatan pelayanan dan kualitasnya...stafnya ramah2 melayani pasien...tingkatka terus...semangat\n",
      "412: Kalau ke puskesmas Sidotopo bisa pakai bpjs tidak kak? Tapi puskesmas saya ikut Wonokusumo, di Puskesmas sana antri lama orangnya jahat-jahat juga. Dulu pas masih SD tambal gigi di puskesmas sidopo apa masih bisa ya?\n",
      "652: Puskesmas Sidotopo Wetan  sekarang semakin mudah pelayananya monggo dulur dulur yg mau periksa\n",
      "4891: PELAYANANNYA TOP !!\n",
      "\n",
      "Saya Mendapatkan vaksin untuk asisten rumah tangga saya di puskesmas ini dan dilayani dengan sangat baik...\n",
      "Dari pendaftaran (salut untuk pak handoko), vaksin , pelayanan sangat memuaskan\n",
      "ketika saya ada beberapa pertanyaan di bagian receptionist jg dijawab dengan ramah\n",
      "\n",
      "Terima kasih\n",
      "akhirnya kita sekeluarga bisa mendapatkan vaksin\n",
      "\n"
     ]
    }
   ],
   "source": [
    "top_10_words = pd.Series(filtered_positive_reviews.split()).value_counts().head(10).index\n",
    "\n",
    "for word in top_10_words:\n",
    "    print(f\"Word: {word}\")\n",
    "    sample_reviews = predicted_data_puskesmas[predicted_data_puskesmas['cleaned_review_text'].str.contains(word) & (predicted_data_puskesmas['is_positive'] == 1) & (predicted_data_puskesmas['cleaned_review_text'].str.len() > 50)]\n",
    "    for idx, review in sample_reviews.sample(5)['review_text'].items():\n",
    "        print(f'{idx}: {review}')\n",
    "    \n",
    "    print()"
   ]
  },
  {
   "cell_type": "markdown",
   "metadata": {},
   "source": [
    "## Negative"
   ]
  },
  {
   "cell_type": "code",
   "execution_count": 247,
   "metadata": {},
   "outputs": [
    {
     "data": {
      "image/png": "[encoded data removed]",
      "text/plain": [
       "<Figure size 1000x1000 with 1 Axes>"
      ]
     },
     "metadata": {},
     "output_type": "display_data"
    }
   ],
   "source": [
    "from sklearn.feature_extraction.text import TfidfVectorizer\n",
    "import numpy as np\n",
    "from wordcloud import WordCloud\n",
    "import matplotlib.pyplot as plt\n",
    "\n",
    "all_reviews = predicted_data_puskesmas[\"cleaned_review_text\"]\n",
    "\n",
    "vectorizer = TfidfVectorizer(stop_words='english', max_features=10000)\n",
    "\n",
    "tfidf_matrix = vectorizer.fit_transform(all_reviews)\n",
    "\n",
    "word_scores = np.sum(tfidf_matrix, axis=0)\n",
    "\n",
    "features = vectorizer.get_feature_names_out()\n",
    "scores = word_scores.A1\n",
    "word_score_dict = dict(zip(features, scores))\n",
    "\n",
    "sorted_words = sorted(word_score_dict.items(), key=lambda x: x[1], reverse=True)\n",
    "\n",
    "negative_reviews = ' '.join(predicted_data_puskesmas[predicted_data_puskesmas['is_positive'] == 0]['cleaned_review_text'])\n",
    "\n",
    "N = 100\n",
    "common_words = set([word for word, score in sorted_words[:N]])\n",
    "\n",
    "filtered_negative_reviews = ' '.join([word for word in negative_reviews.split() if word not in common_words])\n",
    "filtered_negative_reviews = ' '.join([word for word in filtered_negative_reviews.split() if word not in detail_puskesmas['puskesmas_name'].str.lower().str.split().str[1].values])\n",
    "\n",
    "stop_words = [\"bu\", \"sih\", \"maaf\", \"oke\", \"ya\", \"aja\", \"udah\", \"ok\", \"suka\", \"pas\", \"sukses\", \"nyata\", \"ala\", \"tua\", \"jelek\", \"lihat\", \"nama\", \"eh\", \"parah\", \"alas\", \"keluh\", \"laku\", \"salah\"]\n",
    "\n",
    "filtered_negative_reviews = ' '.join([word for word in filtered_negative_reviews.split() if word not in stop_words])\n",
    "\n",
    "wordcloud = WordCloud(\n",
    "    width=1600, \n",
    "    height=800, \n",
    "    background_color=\"white\",\n",
    "    max_words=10, \n",
    "    colormap=\"copper\",\n",
    "    prefer_horizontal=1.0,\n",
    "    min_font_size=10,\n",
    "    max_font_size=300,\n",
    "    contour_width=3,\n",
    "    contour_color='steelblue'\n",
    ").generate(filtered_negative_reviews)\n",
    "\n",
    "plt.figure(figsize=(10, 10))\n",
    "plt.imshow(wordcloud, interpolation=\"bilinear\")\n",
    "plt.axis(\"off\")\n",
    "plt.show()"
   ]
  },
  {
   "cell_type": "code",
   "execution_count": 248,
   "metadata": {},
   "outputs": [
    {
     "name": "stdout",
     "output_type": "stream",
     "text": [
      "Word: tutup\n",
      "1256: saya antrian online no 36 tertera jam 10.29-10.44 datang sebelum pukul yang tetera dari depan pintu sudah diinfo tutup tidak ada dokter dengan info pandemi covid maximal jam 09.00, suruh kembali lagi besok/cari klinik lain saja, sudah 2x kejadian dipuskesmas putat seperti ini awal antar bapak saya sakit juga seperti itu selalu tutup sebelum jam berlaku, Kalau memang tutup operasional gerbang depan tutup saja tidak usah dibuka, pendaftaran secara online dibuat otomatis jika sudah tidak melayani pasien, selalu hadir sesuai jam sampai tempat diinfo tutup.\n",
      "7148: Pelayanan sangat lelet dan lambat, masa iyaa minta surat rujukan untuk bpjs aja dari pendaftaran jam 07.30 sampe jam 10.00 belom beres … mana dokter dan petugasnya sangat ga ramah sama pasien, tutup aja lah ni puskesmas !!!\n",
      "134: Tolong infonya di perbaiki. Saya sakit keras nyari puskesmas yang buka di hari minggu, di google di tampilkan di sini. Siang2 naik sepeda motor ke sini. Sampek tempatnya ternyata tutup seperti yang lainnya. Ini bukan masalah sepwle untuk urusan puskesmas atau Rumasakit. Karena ini menyangkut nyawa orang. Kalau sekiranya tutup, infonya juga tolong bener2 tutup. Untuk tim google mslh seperti ini tolong lebih diperhatikkan, karena bukan mslh kebutuhan pokok atau apa. Tp menyangkut masalah nyawa.\n",
      "\n",
      "Sepulang dari situ kondisi saya semakin parah.\n",
      "Mohon diperhatikan lagi.\n",
      "Minta tolong untuk dinas kesehatan lebih diteliti setiap postingan yang menyangkut nyawa orang\n",
      "3730: Puskesmas ini?!?! Ditelepon bahkan diangkat dan langsung ditutup! Ditelepon lagi tidak kena! Ayo siapa yang menjawab telepon??? Jangan bilang, Risma, kamu sampah! Saya menelepon selama jam kerja\n",
      "7752: mendapatkan pengalaman yang sangat Buruk disini, bukan nya memberi tahu secara ramah, malah ngomong nya sambil bentak bentak\n",
      "TUTUP tidak sesuai waktu tutup jam 17.30 saya datang jam 16.30 tidak dilayani\n",
      "\n",
      "Word: hasil\n",
      "8961: Hasil tambal gigi sy tdk baik sesuai yg diharapkan krn sbelumnya ditempat yg sama hasilnya baik(tp ini beda dokter krn ada 2 dokter). Tujuan memperbaiki gigi malah jadi repot\n",
      "4118: Pelayanan sangat2 kurang, sy positif covid tgl 29 juni'21 trus ke puskesmas medokan ayu tgl 2 juli, tgl 9 juli di pcr medokan ayu. Hasilnya sampai skrg blm ada... Puskesmas tuh bagian dari layanan  pemerintah, tp layanannya lambat bgt, trus di tlp puskesmasnya gak di bls2... Gmn ya ini pusat kesehatan masyarakat... Tp masyarakatnya di cuekin\n",
      "7055: Palayan poli gigi sangat buruk, tidak niat kerja, niat mau bersihkan karang gigi, saya sudah datang 07:30, sudah bayar uang pendaftaran, antri dari jam 07:30 sampai jam 09:30 gak dipanggil, malah yg dipanggil dulu antrian yg ngelebihi antrian milik saya, sungguh kecewa, giliran saya masuk bertanya, malah bilang gak bisa berbelit alasan yg ini yg itu, udah bayar uang parkir, udah ngeluarin uang, hasil mengecewakan, sangat tidak profesianal\n",
      "2676: Tolong pelayanannya diperbaiki lagi yaaa... masa lg kontrol hamil, ada petugas KIA suruh yg lagi magang main salin salin hasil kontrol yg lalu cuman karena antriannya panjaaaaang!!! dan waktu itu sudah jam 12 siangan🥲🥲🥲\n",
      "Tolong bangeeet kan kita juga butuh hasil pemeriksaan kontrol buat janinnya sehat atau gimana dan kurang apaa....🙂\n",
      "5241: Sangat kecewa dengan pelayanan puskesmas Tenggilis. Saya melakukan swab menunggu hasil yang tak kunjung saya peroleh hingga 2hari, sudah saya tenyakan petugas puskesmas namun jawabanya tidak memuaskan (jawaban seperti template).\n",
      "\n",
      "Word: marah\n",
      "3967: pelayanan dokter dan perawat luama polll, nganter kaka opname kasian bgtt dari awal udah disuruh nunggu antri kamar pdhal kondisi kaka keracunan makanan badan udah lemes, mbak2 yang jaga malah tanya siapa namanya? habis itu ditinggal makan haha. giliran udah dapet ruangan malah lama lagii penangananya aduhhh. dan kita keknya juga harus marah2 dulu baru di tangani.\n",
      "malem2 badan panas gatal sm dokter cuma diliat tok dan ditangani baru paginya itu kalo orang sakit parah nunggu mati dulu keknya yaa baru di tangani :))).\n",
      "sbnrnya blum waktunya pulang tapi ttep aku minta dipulangin aja daripada di puskesmas ini gajelas pelayanan nol. oiyaaa pas akhir cabut infus malah kelacaran darah aduhhhh, aku punya fotonya tapi yaudahlahya gausah di up disini. kecewa bgttt pdhal aku disini bayar bukan pake bpjs. trus disuruh kontrol lagi kesana gw cuma senyum2 doang dalem ati \"dihh kontrol disini? gaakan. wkwkkwwkkwkw cukup sekali dan gamau kesini lagi KAPOKKK 👍\n",
      "\n",
      "BTW aku gapernah komen2 gini yaa tapi ini bener2 kelewatan, perawat nyabut infus aja gabecuss\n",
      "5494: Sekedar usul, utk dokter dan petugas medis yg di bagian pendaftaran vaksin covid, kalo bisa perbaiki sikap (terutama dokternya) , karena masalah vaksinasi covid adalah prog pemerintah yg harzs di sukseskan, perlu pendekatan yg lebih ramah kepada masy , tolong penjelasan lebih baik lagi, jangan ngegas. Seorang dokter ASN jangan sampai menjawab pertanyaan seenaknya. Saya bertanya berapa lama menunggu di tensi ulang(krn tensi awal agak tinggi), oleh dokternya dijawab: yaaa kira2 saja sampai merasa tensinya turun...\n",
      "Helloooo.... Apa tensi bisa di kira2??? Apa sulitnya iawab yg benar : ditunggu 15 mnt.. atau 30 mnt... Banyak review jelek soal PKM ini, semoga Kapusnyadan Dinkes bisa baca dan perbaiki.\n",
      "1054: Pelayanannya sangat buruk, pasien dibuat sangat lama menunggu. Padahal nomer antrian satu (1) tapi nunggu sampe hampir 3 jam,  sangat membuat marah pokonya\n",
      "1585: Tolong untuk dokter dan penjaga tiket masuk kalian ini birokrat sdh seharusnya memberikan pelayanan kpd masyarakat, jangan marah2😬 …\n",
      "2487: kesini 1x untuk KIA. Salah satu bidan kurang sopan, marah2 cerewet tidak menghargai pasien apalgi Ibu hamil kan sensitif.\n",
      "\n",
      "Word: bentak\n",
      "3879: Pelayanan di Puskemas Wiyung TIDAK BAIK. Apalagi yg ada di ruang KIA (duduknya dekat pintu) GALAK BANGET. Sangat Tidak sopan, bicara nya bentak2 dan kasar banget.. Bikin sakit hati aja.. TIDAK PANTAS MELAYANI MASYARAKAT. Minta tolong pihak kepala puskesmas, diperbaiki karyawan2 Anda..\n",
      "kecuali dokter gigi nya sangat ramah dan baik banget..\n",
      "739: Mohon untuk di perhatikan untuk pelayanannya. Karena saya dari kemarin tanggal 8/06/2021 telpon sampai beberapa kali pada saat jam kerja tidak ada yang angkat. Kalau kesana bukannya dapat informasi yg jelas malah dapat bentakan dari pegawai. Kasian apabila ada pasien yg tua atau ibu hamil yg kesana dapat perlakuan yang tidak menyenangkan hati. Niat untuk berobat untuk sembuh malah menimbulkan sakit hati.\n",
      "4195: Hari ini dateng ke poli umum, sudah waktunya nomer antrian, malah disuruh nunggu diluar. Bahkan sampe kelewat 20 nomer (karena suruh nunggu diluar). Pas saya masuk, ketemu dokter perempuan, berkerudung, kurus, ga terlalu tinggi (gatau siapa namanya). Saya masuk, suruh duduk, saya tidak disentuh atau dipriksa sama sekali oleh dokter, beliau hanya bicara jarak jauh dengan membentak dan nada marah. Jujur kecewa sekali, mana ada ke pasien tidak dipegang sama sekali 😌\n",
      "2313: puskesmas adalah sarana pemerintahan mau kami bayar brp pun tetep tugas kalian melayani masyarakat dgn sepenuh hati. Petugas KIA bidan yg Tdk ikhlas melayani dgn bentak2 nada kasar bad attitude TOLONG DIPERBAIKI\n",
      "7715: petugas poli KIA sangat lamban kerjanya, antrian cuma 5 orang nunggu hampir 2 jam, ditanya baik2 malah jawab nyolot dan bentak2. pelayanan sangat amat buruk!!!!\n",
      "\n",
      "Word: ketus\n",
      "5939: Tenaga medis yg senior bener2 tdk ramah, jawabnya ketus, jgn mentang2 terima gaji dan kerja di sektor pemerintah jd seenaknya\n",
      "112: Pelayanan jelek banget, petugas ketus semua. Baru ini ke puskesmas pelayanan buruk banget terus lama.  Gitu kok bisa di terima kerja disini, yang harus nya melayani masyarakat dengan baik ini malah ketus gk jelas.\n",
      "5920: Pasien sudah daftar online dan ada keterlambatan dtang langsung dilayani ketus bgt, kalo bukan krna sakit yg mengganggu ga akan dtang ke puskesmas ini, mana ada seorang petugas medis mengatakan buru2 segera pulang ketika ada pasien mau berobat, sumpah medis model gimanaa yang sdh di ikrarkan, pelayanan tdk ramah, ketus, kalo gajian kurang ngomong dong ke pemkot, ke menteri kota surabaya, jangan ketus ke pasien, kalo ga ada pasien, elu semua jg ga ada yg digaji.\n",
      "5774: Pelayanan tdk ramah, Dokter ketus sekali tolong diperbaiki ya..\n",
      "Kakak saya jam 1 pagi periksa ditanyain knp obat diare diminum satu kapsul sj, Pdhl anjuran dari dokter sebelumnya ya cm 1 kapsul tp ortu saya diomelin. Alhasil ortu saya kasih tau gambar obatnya dan dngn entengnya si dokter bilang \"oh iya ini satu tablet aja minumnya\". TOLONG bgt ya kalo sama pasien aplg ortu jangan lah ketus kaya gt mentang\" pake BPJS kaya gt pelayanan nya GAK BANGET\n",
      "2226: Pelayanan lama banget, penjaga vaksin ketus dan gak informatif.\n",
      "Di depan pintu banyak tukang parkir dan becak gak pakai masker kok gak diurus, bisa bisa malah jadi kluster baru kalau dibiarkan.\n",
      "Mana tempat Antrian vaksin dan swab berdekatan sekali dengan pintu masuk\n",
      "\n",
      "Word: omong\n",
      "7699: Pelayanan terburuk, saya datang ham 11.26 ditolak dengan alasan nomer antrian tutup padahal pasien sepi. Suruh daftar online untuk besok. Pdhl tertulis jam buka sampe jam 14.30. astaga nyesel pindah faskes kesini. 2x dateng kesini kecewa terus. Btw org bagian nensi juga asal2 an kl nensi asal aja nyebut 120 pdhl angka ya ga presisi\n",
      "3689: Sangat2  tidak ramah bidan kianya penyebabnya karna saya  datang sekitar jam 9 suruh tes laboratorium biasanya kontrol di puskesmas dupak (bandarejo) itu udah jam 11 tidak bisa di cek laboratorium akhirnya suruh besok nya tapi saya GK bisa karna peraturan kerja yg hanya boleh libur 1 bulan sekali trus satu bulan nya lagi saya Dateng dengan urutan yg panjang dan masuk suruh datang kapan datengnya kapan jawab sang bidan dan saya  bilang GK bisa Bu gk goleh libur kerja walau di selat2 nanti lek telat dipotong 30, ribu sedangkan saya bayaran sehari cuma 35 ribu (saya hanya ijasa SD)kalau gk bisa gk usah cek disini  di swasta aja karna disini ada peraturan jangan seenaknya saja ketus banget omong ya aku belum liat nama bidannya dan saya bilang dunia ini banyak aturan Bu apalagi dikerja saya ibu boleh GK ramah terserah tapi setidaknya saya bisa menilai karna saya biasanya kontrol di puskemas dupak (dupakbandarejo)\n",
      "walupun antrina walaupunsampek berjam2 jam setidaknya ramah  saya telat dipanggil karna ditoilet  tapi setidaknya ramah banget GK ketus  belas  bidannya Diam  tidak menjawab  seandainya ada bintang nol aku kasih nol kali ini dipuskesmas tembok duku tapi kalau yg di puskesmas bandar Rejo  aku kasih bintang 10 kalau ada\n",
      "201: Pelayanan buruk,\n",
      "Kepala rumah puskesmasnya bobrok\n",
      "Org kena musibah mau swab aja ngomong seperti orang yang tidak berpendidikan\n",
      "Ngawur\n",
      "Terlebih komentarnya melibatkan sara\n",
      "6735: Tolong ya dan juga dokter2 yg ada d poli KIA yg sopan tutur katany SM para pasien ngomong yg Baek gaush nyolot kek gk pernah sekolah aja pelayanan sangat jelek, staffny bgusnya cmn di loket pembayaran aja ramah* orngny lainny sangat buruk. Klian jg d gaji pemerintah seharusnya melayani pasien dg baik jgn kek gt\n",
      "8018: Kecewa sama mbk mbk bagian pendaftaran... KARENA TIDAK TELITI atau bahkan tidak melihat tiket yang saya tunjukin? Padahal saya sudah menunjukan 2 tiket dengan poli yang berbeda yang mengatas namakan saya sendiri. Tolong dong kalo ada yang berobat lagi kesana trs daftar dengan tiket online, tolong bgt dilihat dan diteliti! Kalau memang dari dinas tidak diperbolehkan untuk mendaftar ke 2 poli di hari yang sama, tolong disampaikan di AWAL PENDAFTARAN. Jangan pake alasan \"lagi lemot sistemnya\" lah.. emang mbknya tidak melihat tiket yang saya kasih tunjuk tadi? Beruntung dapet dokter gigi yg baik, jadi ketolong dah tuh penilaiannya. Trs yang paling terakhir adalah... mbk mbk yang manggil untuk masuk ke poli gigi, tolong mbk volume suaranya di besarin.. jujur agak ga denger tadi pas mbknya ngajak ngomong hehe🙏🏽.\n",
      "\n",
      "Word: tolak\n",
      "6670: Hari kamis tgl 21 des, datang jam 8.15 antri di loket ambil no.antrian mau cabut gigi anak ditolak dengan alasan penuh dan disuruh pulang. Menyebalkan sudah meluangkan waktu dan naik gojek malah ditolak👎 …\n",
      "1261: saya kecewa sekali, mau periksa sudah antri tp di tolak perawat dan dokternya alasan harus domisili tempat tinggal dan alasan covid 19, yang takut dokternya, pasien nya pun masih banyak yang bergerombol di luar, tetangga saya aja bisa periksa, kok saya di tolak, alasannya covid lagi. tp puskesmas nya gak ada protokol jaga jarak nunggu di luar saja masih bergerombol di luar.\n",
      "2230: Staff nya tidak profesional dan tidak bertanggung jawab dalam bekerja. Di puskesmas gunung anyar tidak bisa mengeluarkan surat keterangan dokter tanpa rapid test. Kemudian saya dpt informasi kalau disini bisa. Lalu saya menghubungi utk menanyakan apakah bisa minta surat keterangan dokter tanpa rapid test dan saya sudah bilang kalo dari wilayah gunung anyar katanya bisa tapi setelah sampai sana ditolak, kalau memang tidak bisa harusnya bilang tidak bisa biar saya ga jauh2 kesana nyempet2in waktu buat kesana. Niat banget ngerjain org, kalian ga pernah tau betapa berharganya waktu bagi org tsb dan kalian seenaknya ngerjain org. Di training lagi staff nya kalo memang dari wilayah lain tidak bisa jgn bilang bisa tapi setelah sampai sana ditolak.\n",
      "Dzolim banget cara kerjanya astaghfirullah\n",
      "1914: Saya antri utk vaksin, tgl 5 Juli 2021 dapat no 179 melalui app pedulilindungi dan saya sdh dapat no tiket\n",
      "Oleh bagian pendaftaran, dikonfirmasi bhw app pedulilindungi dapat dilayani disini\n",
      "Setelah antri 3,5 jam saya ditolak karena menggunakan app pedulilindungi\n",
      "Saya heran app ini dikembangkan oleh pemerintah, tapi pelaksanaan di lapangan blm bs dilayani\n",
      "3962: Bikin surat sehat untuk pendakian aja belibet dan ditolak, padahal kemaren bisa pas pendakian gn rinjani, lebih baik puskesmas yang lain, mohon dibenerin oknum\" nya, terimakasih\n",
      "\n",
      "Word: kartu\n",
      "5588: Keluhan sakit kepala karena mata sakit sudah hampir seminggu, malah ga di periksa, disepelekan hanya ditangani bagian administrasi tanpa cek ke dokter, dan langsung di beri obat difarmasi, obat yg diberikan hanya untuk 1 dosis saja. Pelayanan jelek sekali. Pdhal sudah tunggu sangat lama\n",
      "\n",
      "Setelah mengirim ulasan dan dibalas, ternyata pihak puskesmas menutup nutupi kesalahan, pdhl DOKTER TIDAK CEK KONDISI saya sama sekali, hrus nya waktu itu foto aja sekalian nama penjaga dan dokter nya terus sekalian diunggah ke ulasan, biar jelas dan dapat teguran langsung,  dokter dan staff puskesmas sangat menyepelekan penyakit ringan, mulai dari dokter umum smpe dokter gigi, akibat dri penangan dokter puskesmas , saya jadi HARUS PERIKSA KE DOKTER SPESIALIS MATA DAN DOKTER GIGI KARENA KONDISI MAKIN PARAH, terimakasih dokter puskesmas dan staff nya pelayanan anda SANGAT BURUK, rekomendasi aja buat pengguna bpjs mending beralih ke asuransi kesehatan yang jelas daripada merugi\n",
      "\n",
      "FYI sya awal nya ktp sby lalu pindah ktp lurkot, dan sya diinformasikan dri puskesmas sby kalau berobat di puskesmas sby, ktp lurkot cmn dpat jatah 2x periksa dan 1x rujukan. Jadi artinya sia sia periksa dengan penangan yg sangat buruk disana, cmn ngabisin jatah aja\n",
      "182: Percuma datang dari jam 5 pagi kalau urutan panggil nya menurut di kumpul kan nya kartu\n",
      "Padahal nomer urut saya pertama\n",
      "Di protes katanya gapapa\n",
      "Tidak menghargai waktu orang sama sekali\n",
      "4769: Benar benar TIDAK MELAYANI DENGAN SEPENUH HATI sih , sangat tidak ramah , mau vaksin disitu karna memang puskesmas sesuai dgn KTP , tapi malah di arah kan ke balai RW di pacar kembang (yg jelas beda banget sama alamatku) TERUS MEREKA KERJAANNYA APA DONG ??? Dia bilang \"lho kok ga vaksin di balai RW saja, disitu ya ada kegiatan vaksin\" (ya mana aku tau lah) Ngomongnya pun juga nge gas ga ada baik2nya , pelayanan sangat sangat mengecewakan !!!\n",
      "3713: PESERTA BPJS TIDAK DILAYANI DENGAN BAIK..UDAH SAYA BUANG BPJS KESEHATAN SAYA..SAYA PATAHIN KARTUNYA..BUAT APA BAYAR BPJS KLAU SELALU BUAT KALAH KALAHAN KLAU ANTRI..\n",
      "2468: Pelayanan yang sangat buruk untuk dokter anak ( poli anak )\n",
      "Seorang dokter yg bilang k pasiennya, dripada saya periksa tp gk aku kasih obat, hny karna saya berobat pakek kk ( kartu keluarga ) klo seandainya tidak boleh periksa bawa kk atau KTP, shrusnya jangan d layani semua, tetapi kenapa RT dan RWnya bilang priksa gratis bawa kk dan KTP khusus warga  ujung dan smp sana malah dokternya bilang seperti itu klo pun d sruh bayar saya pzti byar gk ush ngmng mengambil jatah pasien yg lain padahal saya warga sna sawah pulo minta tolong untuk pedokter pemimpin tata krama ucapan d training lagi apalgi untuk dokter senior poli anak\n",
      "\n",
      "Word: urus\n",
      "259: Pelayanan nya jelek.. Saya mau surat ngurus keterangan sehat aja gak bisa buat nikah. KTP kalimantan di tolak. Padahal puskesmas lain bisa.. Saya milih disini karena dekat sama kantor kerja saya. Mohon untuk pelayanan kesehatan di tingkatkan agar pasien atau costumer tidak membuang buang waktunya.\n",
      "607: Pelayanan nya kurang ramah untuk pengurusan tes kesehatan , tolong dibiasakan melayani dengan ramah , supaya pasien atau pun orang yg sedang berkepentingan kesana merasa nyaman .. Trima kasih ,\n",
      "8578: Kesan pertama: Mengecewakan~\n",
      "- Pas baru datang, emang masih pagi, mas ob masih bersih\" nyapu, tapi kenapa sampai menyuruh pasien yg sedang mengantre di loket utk keluar membersihkannya dulu hanya krn alas kakinya basah & kotor dan tempat itu mau dipel. Kebetulan pasien tsb kakek yg lumayan sepuh. Bagiku gak sopan aja.\n",
      "- Pertama kali berobat di poli umum; dipanggil lah nomor antrean, lalu masuk. Ternyata di dalam juga harus nunggu 2-3 pasien lain dg tempat duduk terbatas. Mau gak mau berdiri sambil nahan sakit (untung gak pingsan di tempat). Kukira setelah masuk poli lgsg ditangani.\n",
      "Pemeriksaan terkesan buru-buru.\n",
      "- Untuk pengurusan administrasi sudah cukup baik dan cepat.\n",
      "Semoga pelayanan semakin baik lagi kedepannya.\n",
      "3773: Sistem antrian buruk. Pelayanan juga terkesan ogah-ogahan. Kalau nggak tanya ya nggak dikasih tau prosedur berikutnya gimana.\n",
      "\n",
      "Masa ngurus surat keterangan sehat saja harus nunggu 1 jam lebih. Tanya ke bagian Front Desk cuma bisa bilang tunggu.. tunggu. Padahal ada orang yang datangnya lebih terlambat bisa dipanggil duluan. Antrian yang gak jelas.\n",
      "776: Pelayanannya lambat sekali. Masi menggunakan sistem manual.... walaupun sy sdh pendaftaran online dan no. tunggu nomer urut 1 tapi sy masi harus menunggu 1 jam an stngah . Overall tdk akan kembali lagi kl tdk ada urusan lagi... (srt …\n",
      "\n",
      "Word: bicara\n",
      "8852: Pelayanan buruk, dokter di poli umum memberikan resep obat tanpa pemeriksaan fisik pada pasien, hanya sekedar tanya jawab soal keluhan, itu pun dengan raut muka yg sangat tidak mengenakkan, dan dengan nada bicara yang sangat tidak sopan,\n",
      "3162: Beberapa kali kesini selalu saja ada pengalaman buruk. Terakhir, mas2 bagian pendaftaran tidak ramah, nadanya seperti membentak, ngomong juga gak jelas, padahal kami tanya baik-baik.\n",
      "Mohon kedepan lebih baik lagi dalam pelayanan, terutama nada bicara.\n",
      "3881: Sangat disayangkan sekali pada pelayanan pendaftaran loket di awal. Jika tidak salah nama petugasnya LELY. Petugas yang tidak layak memberikan pelayanan baik kepada pasiennya. Berbicara lantang dengan nada bahasa yang tidak sopan, membuat pasien bolak balik mengantri padahal semestinya tidak perlu bolak balik. Bukannya kita gila hormat tetapi sebagai pekerja pelayanan masyarakat harus 3S (Salam, Senyum dan Sapa).. Mohon dibenahi masukan yang katanya tidak hanya satu keluhan tentang beliau agar Puskesmas Wiyung bisa lebih bagus lagi..\n",
      "5046: Sebenarnya utk ketersediaan fasilitas & kebersihannya sudah sangat baik, tapi pelayanan nya yg menurut saya perlu dibenahi terutama dibagian KIA dan Laboratorium benar-benar mengecewakan dg cara berbicara nya yg kurang sopan & kurang enak utk didengar. Saya tdk tau apakah dg cara berbicara membentak adalah hal yg wajar utk melayani pasien di puskesmas ini? padahal saya dtg dg baik & berbicara dg sopan, kalaupun ada hal yg kurang di mengerti oleh pasien seharusnya petugas bisa menjelaskan dg baik & bukannya nyengol. Kondisi saya waktu itu jg sedang hamil tp saya dipermalukan didepan orang2 dg tutur kata yg tidak sopan. Kejadian ini tdk hanya saya saja yg merasakan, tp para pasien lain juga mengeluhkan hal yg sama kepada saya saat di puskesmas ini. Mohon untuk kedepannya lbh diperhatikan lagi hal-hal sekecil ini jg penting bagi kenyamanan para pasien, terimakasih :)\n",
      "138: Tolong Poli KIA ya pertugasnya lebih bijak dalam memilih pengolahan kata ke pasien. Saya dtg memeriksakan anak saya dg keluhan bapil dan asma. Petugasnya bertanya dulu waktu bayi minum apa. Ya saya jawab ASI dan sufor. Petugasnya kaget waktu saya bilang sufor. Dia jawab \"iya itu salahmu, ngapain ngasih sufor, jadi gini (asma) anakmu sekarang\"\n",
      "Tolong dong mgkn mksdnya petugasnya baik, cuman lebih bijak lagi memilih kata yg tepat utk lawan bicaranya.\n",
      "\n"
     ]
    }
   ],
   "source": [
    "top_10_words = pd.Series(filtered_negative_reviews.split()).value_counts().head(10).index\n",
    "\n",
    "for word in top_10_words:\n",
    "    print(f\"Word: {word}\")\n",
    "    sample_reviews = predicted_data_puskesmas[predicted_data_puskesmas['cleaned_review_text'].str.contains(word) & (predicted_data_puskesmas['is_positive'] == 0) & (predicted_data_puskesmas['cleaned_review_text'].str.len() > 50)]\n",
    "    for idx, review in sample_reviews.sample(5)['review_text'].items():\n",
    "        print(f'{idx}: {review}')\n",
    "    \n",
    "    print()"
   ]
  },
  {
   "cell_type": "markdown",
   "metadata": {},
   "source": [
    "# Top 10 Detailed Review for Positive and Negative Puskesmas"
   ]
  },
  {
   "cell_type": "markdown",
   "metadata": {},
   "source": [
    "## Positive"
   ]
  },
  {
   "cell_type": "code",
   "execution_count": 249,
   "metadata": {},
   "outputs": [
    {
     "data": {
      "text/html": [
       "<div>\n",
       "<style scoped>\n",
       "    .dataframe tbody tr th:only-of-type {\n",
       "        vertical-align: middle;\n",
       "    }\n",
       "\n",
       "    .dataframe tbody tr th {\n",
       "        vertical-align: top;\n",
       "    }\n",
       "\n",
       "    .dataframe thead th {\n",
       "        text-align: right;\n",
       "    }\n",
       "</style>\n",
       "<table border=\"1\" class=\"dataframe\">\n",
       "  <thead>\n",
       "    <tr style=\"text-align: right;\">\n",
       "      <th></th>\n",
       "      <th>puskesmas_name</th>\n",
       "      <th>kepala puskesmas</th>\n",
       "      <th>alamat</th>\n",
       "      <th>telepon</th>\n",
       "      <th>url</th>\n",
       "      <th>rate</th>\n",
       "      <th>review_num</th>\n",
       "      <th>lat</th>\n",
       "      <th>lon</th>\n",
       "      <th>display_name</th>\n",
       "      <th>positive_percentage</th>\n",
       "    </tr>\n",
       "  </thead>\n",
       "  <tbody>\n",
       "    <tr>\n",
       "      <th>50</th>\n",
       "      <td>Puskesmas Sidotopo Wetan</td>\n",
       "      <td>dr. Evi Susanti</td>\n",
       "      <td>Jln. Randu 38</td>\n",
       "      <td>(031) 3767737</td>\n",
       "      <td>https://www.google.com/maps/place/Puskesmas+Si...</td>\n",
       "      <td>4,4</td>\n",
       "      <td>(537)</td>\n",
       "      <td>-7.22658925</td>\n",
       "      <td>112.76350132938722</td>\n",
       "      <td>Puskesmas Sidotopo Wetan, Jalan Randu, RW 10, ...</td>\n",
       "      <td>82.278481</td>\n",
       "    </tr>\n",
       "    <tr>\n",
       "      <th>24</th>\n",
       "      <td>Puskesmas Ketabang</td>\n",
       "      <td>dr. Joyce Hestia Nugrahanti</td>\n",
       "      <td>Jln. Jaksa Agung Suprapto No 10</td>\n",
       "      <td>(031) 5311999</td>\n",
       "      <td>https://www.google.com/maps/place/Puskesmas+Ke...</td>\n",
       "      <td>4,5</td>\n",
       "      <td>(377)</td>\n",
       "      <td>-7.2580613</td>\n",
       "      <td>112.74677403040269</td>\n",
       "      <td>Puskesmas Ketabang, Jalan Jimerto, RW 05, Keta...</td>\n",
       "      <td>78.947368</td>\n",
       "    </tr>\n",
       "    <tr>\n",
       "      <th>57</th>\n",
       "      <td>Puskesmas Tanjungsari</td>\n",
       "      <td>dr. Yunita Andriani</td>\n",
       "      <td>Jln. Raya Tanjungsari No.116</td>\n",
       "      <td>(031) 7497858</td>\n",
       "      <td>https://www.google.com/maps/place/Puskesmas+Ta...</td>\n",
       "      <td>4,2</td>\n",
       "      <td>(300)</td>\n",
       "      <td>-7.2594043500000005</td>\n",
       "      <td>112.6892628357994</td>\n",
       "      <td>Puskesmas Tanjungsari, Jalan Raya Tandes Lor, ...</td>\n",
       "      <td>77.027027</td>\n",
       "    </tr>\n",
       "    <tr>\n",
       "      <th>56</th>\n",
       "      <td>Puskesmas Tanah Kali Kedinding</td>\n",
       "      <td>dr. Era Kartikawati</td>\n",
       "      <td>Jln. H. M. Noer 226</td>\n",
       "      <td>(031) 51501347</td>\n",
       "      <td>https://www.google.com/maps/place/Puskesmas+Ta...</td>\n",
       "      <td>4,2</td>\n",
       "      <td>(572)</td>\n",
       "      <td>-7.23037625</td>\n",
       "      <td>112.77446968315311</td>\n",
       "      <td>Puskesmas Tanah Kali Kedinding, Jalan Kedung C...</td>\n",
       "      <td>76.288660</td>\n",
       "    </tr>\n",
       "    <tr>\n",
       "      <th>51</th>\n",
       "      <td>Puskesmas Simolawang</td>\n",
       "      <td>dr. Dwi Sapta Edy Purnama</td>\n",
       "      <td>Jln. Simolawang II Barat 45 A</td>\n",
       "      <td>(031) 3717433 / 085954480937</td>\n",
       "      <td>https://www.google.com/maps/place/Puskesmas+Si...</td>\n",
       "      <td>4,2</td>\n",
       "      <td>(148)</td>\n",
       "      <td>-7.2348687</td>\n",
       "      <td>112.75104985</td>\n",
       "      <td>Puskesmas Simolawang, Jalan Simolawang Kalimir...</td>\n",
       "      <td>75.862069</td>\n",
       "    </tr>\n",
       "    <tr>\n",
       "      <th>42</th>\n",
       "      <td>Puskesmas Pucang Sewu</td>\n",
       "      <td>drg. Ummi Latifah</td>\n",
       "      <td>Jln. Pucang Anom Timur No. 72</td>\n",
       "      <td>(031) 5018527</td>\n",
       "      <td>https://www.google.com/maps/place/Puskesmas+Pu...</td>\n",
       "      <td>4,4</td>\n",
       "      <td>(464)</td>\n",
       "      <td>-7.28659415</td>\n",
       "      <td>112.75552826261239</td>\n",
       "      <td>Puskesmas Pucang Sewu, Jalan Kalibokor, RW 08,...</td>\n",
       "      <td>75.242718</td>\n",
       "    </tr>\n",
       "    <tr>\n",
       "      <th>1</th>\n",
       "      <td>Puskesmas Balas Klumprik</td>\n",
       "      <td>dr. Yessy Pebriaty Sukatendel, MM</td>\n",
       "      <td>Jln. Raya Balas Klumprik</td>\n",
       "      <td>(031) 7665219</td>\n",
       "      <td>https://www.google.com/maps/place/Puskesmas+Ba...</td>\n",
       "      <td>4,1</td>\n",
       "      <td>(96)</td>\n",
       "      <td>-7.3315249</td>\n",
       "      <td>112.69002720464968</td>\n",
       "      <td>Puskesmas Balas Klumprik, Jalan Balas Klumprik...</td>\n",
       "      <td>73.684211</td>\n",
       "    </tr>\n",
       "    <tr>\n",
       "      <th>8</th>\n",
       "      <td>Puskesmas Dukuh Kupang</td>\n",
       "      <td>dr. Khusnul Khowatin</td>\n",
       "      <td>Jln. Dukuh Kupang 25/48</td>\n",
       "      <td>(031) 5677615</td>\n",
       "      <td>https://www.google.com/maps/place/Puskesmas+Du...</td>\n",
       "      <td>4,0</td>\n",
       "      <td>(548)</td>\n",
       "      <td>-7.2832360000000005</td>\n",
       "      <td>112.71222568060509</td>\n",
       "      <td>Puskesmas Dukuh Kupang, Jalan Dukuh Kupang Gan...</td>\n",
       "      <td>71.565495</td>\n",
       "    </tr>\n",
       "    <tr>\n",
       "      <th>61</th>\n",
       "      <td>Puskesmas Wonokromo</td>\n",
       "      <td>drg. Dwiana Yuniarti</td>\n",
       "      <td>Jln. Karangrejo VI/4</td>\n",
       "      <td>(031) 8281647 / 082143561190</td>\n",
       "      <td>https://www.google.com/maps/place/Puskesmas+Wo...</td>\n",
       "      <td>4,2</td>\n",
       "      <td>(349)</td>\n",
       "      <td>-7.303176499999999</td>\n",
       "      <td>112.7303924779992</td>\n",
       "      <td>Puskesmas Wonokromo, Jalan Karang Rejo VI, RW ...</td>\n",
       "      <td>71.502591</td>\n",
       "    </tr>\n",
       "    <tr>\n",
       "      <th>62</th>\n",
       "      <td>Puskesmas Wonokusumo</td>\n",
       "      <td>dr. Heri Siswanto</td>\n",
       "      <td>Jln. Wonokusumo Tengah No.55</td>\n",
       "      <td>(031) 3717597</td>\n",
       "      <td>https://www.google.com/maps/place/Puskesmas+Wo...</td>\n",
       "      <td>4,2</td>\n",
       "      <td>(410)</td>\n",
       "      <td>-7.219663649999999</td>\n",
       "      <td>112.75256160671904</td>\n",
       "      <td>Puskesmas Wonokusumo, Jalan Wonokusumo Tengah,...</td>\n",
       "      <td>71.497585</td>\n",
       "    </tr>\n",
       "  </tbody>\n",
       "</table>\n",
       "</div>"
      ],
      "text/plain": [
       "                    puskesmas_name                   kepala puskesmas  \\\n",
       "50        Puskesmas Sidotopo Wetan                    dr. Evi Susanti   \n",
       "24              Puskesmas Ketabang        dr. Joyce Hestia Nugrahanti   \n",
       "57           Puskesmas Tanjungsari                dr. Yunita Andriani   \n",
       "56  Puskesmas Tanah Kali Kedinding                dr. Era Kartikawati   \n",
       "51            Puskesmas Simolawang          dr. Dwi Sapta Edy Purnama   \n",
       "42           Puskesmas Pucang Sewu                  drg. Ummi Latifah   \n",
       "1         Puskesmas Balas Klumprik  dr. Yessy Pebriaty Sukatendel, MM   \n",
       "8           Puskesmas Dukuh Kupang               dr. Khusnul Khowatin   \n",
       "61             Puskesmas Wonokromo               drg. Dwiana Yuniarti   \n",
       "62            Puskesmas Wonokusumo                  dr. Heri Siswanto   \n",
       "\n",
       "                             alamat                       telepon  \\\n",
       "50                    Jln. Randu 38                 (031) 3767737   \n",
       "24  Jln. Jaksa Agung Suprapto No 10                 (031) 5311999   \n",
       "57     Jln. Raya Tanjungsari No.116                 (031) 7497858   \n",
       "56              Jln. H. M. Noer 226                (031) 51501347   \n",
       "51    Jln. Simolawang II Barat 45 A  (031) 3717433 / 085954480937   \n",
       "42    Jln. Pucang Anom Timur No. 72                 (031) 5018527   \n",
       "1          Jln. Raya Balas Klumprik                 (031) 7665219   \n",
       "8           Jln. Dukuh Kupang 25/48                 (031) 5677615   \n",
       "61             Jln. Karangrejo VI/4  (031) 8281647 / 082143561190   \n",
       "62     Jln. Wonokusumo Tengah No.55                 (031) 3717597   \n",
       "\n",
       "                                                  url rate review_num  \\\n",
       "50  https://www.google.com/maps/place/Puskesmas+Si...  4,4      (537)   \n",
       "24  https://www.google.com/maps/place/Puskesmas+Ke...  4,5      (377)   \n",
       "57  https://www.google.com/maps/place/Puskesmas+Ta...  4,2      (300)   \n",
       "56  https://www.google.com/maps/place/Puskesmas+Ta...  4,2      (572)   \n",
       "51  https://www.google.com/maps/place/Puskesmas+Si...  4,2      (148)   \n",
       "42  https://www.google.com/maps/place/Puskesmas+Pu...  4,4      (464)   \n",
       "1   https://www.google.com/maps/place/Puskesmas+Ba...  4,1       (96)   \n",
       "8   https://www.google.com/maps/place/Puskesmas+Du...  4,0      (548)   \n",
       "61  https://www.google.com/maps/place/Puskesmas+Wo...  4,2      (349)   \n",
       "62  https://www.google.com/maps/place/Puskesmas+Wo...  4,2      (410)   \n",
       "\n",
       "                    lat                 lon  \\\n",
       "50          -7.22658925  112.76350132938722   \n",
       "24           -7.2580613  112.74677403040269   \n",
       "57  -7.2594043500000005   112.6892628357994   \n",
       "56          -7.23037625  112.77446968315311   \n",
       "51           -7.2348687        112.75104985   \n",
       "42          -7.28659415  112.75552826261239   \n",
       "1            -7.3315249  112.69002720464968   \n",
       "8   -7.2832360000000005  112.71222568060509   \n",
       "61   -7.303176499999999   112.7303924779992   \n",
       "62   -7.219663649999999  112.75256160671904   \n",
       "\n",
       "                                         display_name  positive_percentage  \n",
       "50  Puskesmas Sidotopo Wetan, Jalan Randu, RW 10, ...            82.278481  \n",
       "24  Puskesmas Ketabang, Jalan Jimerto, RW 05, Keta...            78.947368  \n",
       "57  Puskesmas Tanjungsari, Jalan Raya Tandes Lor, ...            77.027027  \n",
       "56  Puskesmas Tanah Kali Kedinding, Jalan Kedung C...            76.288660  \n",
       "51  Puskesmas Simolawang, Jalan Simolawang Kalimir...            75.862069  \n",
       "42  Puskesmas Pucang Sewu, Jalan Kalibokor, RW 08,...            75.242718  \n",
       "1   Puskesmas Balas Klumprik, Jalan Balas Klumprik...            73.684211  \n",
       "8   Puskesmas Dukuh Kupang, Jalan Dukuh Kupang Gan...            71.565495  \n",
       "61  Puskesmas Wonokromo, Jalan Karang Rejo VI, RW ...            71.502591  \n",
       "62  Puskesmas Wonokusumo, Jalan Wonokusumo Tengah,...            71.497585  "
      ]
     },
     "execution_count": 249,
     "metadata": {},
     "output_type": "execute_result"
    }
   ],
   "source": [
    "most_positive_review = detail_puskesmas.sort_values(\n",
    "    \"positive_percentage\", ascending=False\n",
    ").head(10)\n",
    "most_positive_review"
   ]
  },
  {
   "cell_type": "markdown",
   "metadata": {},
   "source": [
    "## Negative"
   ]
  },
  {
   "cell_type": "code",
   "execution_count": 250,
   "metadata": {},
   "outputs": [
    {
     "data": {
      "text/html": [
       "<div>\n",
       "<style scoped>\n",
       "    .dataframe tbody tr th:only-of-type {\n",
       "        vertical-align: middle;\n",
       "    }\n",
       "\n",
       "    .dataframe tbody tr th {\n",
       "        vertical-align: top;\n",
       "    }\n",
       "\n",
       "    .dataframe thead th {\n",
       "        text-align: right;\n",
       "    }\n",
       "</style>\n",
       "<table border=\"1\" class=\"dataframe\">\n",
       "  <thead>\n",
       "    <tr style=\"text-align: right;\">\n",
       "      <th></th>\n",
       "      <th>puskesmas_name</th>\n",
       "      <th>kepala puskesmas</th>\n",
       "      <th>alamat</th>\n",
       "      <th>telepon</th>\n",
       "      <th>url</th>\n",
       "      <th>rate</th>\n",
       "      <th>review_num</th>\n",
       "      <th>lat</th>\n",
       "      <th>lon</th>\n",
       "      <th>display_name</th>\n",
       "      <th>positive_percentage</th>\n",
       "    </tr>\n",
       "  </thead>\n",
       "  <tbody>\n",
       "    <tr>\n",
       "      <th>34</th>\n",
       "      <td>Puskesmas Morokrembangan</td>\n",
       "      <td>dr. Nurul Ihsani</td>\n",
       "      <td>Jln. Tambakasri 13/7 Morokrembangan</td>\n",
       "      <td>(031) 7493259</td>\n",
       "      <td>https://www.google.com/maps/place/Puskesmas+Mo...</td>\n",
       "      <td>1,9</td>\n",
       "      <td>(108)</td>\n",
       "      <td>-7.2347805</td>\n",
       "      <td>112.71244346706712</td>\n",
       "      <td>Puskesmas Moro Krembangab, Jalan Tambak Asri X...</td>\n",
       "      <td>10.666667</td>\n",
       "    </tr>\n",
       "    <tr>\n",
       "      <th>49</th>\n",
       "      <td>Puskesmas Sidotopo</td>\n",
       "      <td>dr. Galih Satryo Utomo</td>\n",
       "      <td>Jl. Pegirian No.239, Sidotopo</td>\n",
       "      <td>(031) 3767735</td>\n",
       "      <td>https://www.google.com/maps/place/Puskesmas+Si...</td>\n",
       "      <td>2,8</td>\n",
       "      <td>(80)</td>\n",
       "      <td>-7.23034775</td>\n",
       "      <td>112.74588161903259</td>\n",
       "      <td>Puskesmas Sidotopo, Jalan Sidodadi, RW 07, Sim...</td>\n",
       "      <td>27.659574</td>\n",
       "    </tr>\n",
       "    <tr>\n",
       "      <th>33</th>\n",
       "      <td>Puskesmas Mojo</td>\n",
       "      <td>dr. Ratna Megasari, M.Kes</td>\n",
       "      <td>Jln. Mojo Klanggru Wetan 2/11</td>\n",
       "      <td>(031) 5932332</td>\n",
       "      <td>https://www.google.com/maps/place/Puskesmas+Mo...</td>\n",
       "      <td>2,6</td>\n",
       "      <td>(285)</td>\n",
       "      <td>-7.2709021499999995</td>\n",
       "      <td>112.77082440581847</td>\n",
       "      <td>Puskesmas Mojo Surabaya, Jalan Mojo Klanggru W...</td>\n",
       "      <td>31.606218</td>\n",
       "    </tr>\n",
       "    <tr>\n",
       "      <th>22</th>\n",
       "      <td>Puskesmas Kenjeran</td>\n",
       "      <td>dr. Rosna Suswanti</td>\n",
       "      <td>Jl. Tambak Deres 2 Surabaya</td>\n",
       "      <td>089515356046</td>\n",
       "      <td>https://www.google.com/maps/place/Puskesmas+Ke...</td>\n",
       "      <td>3,2</td>\n",
       "      <td>(165)</td>\n",
       "      <td>-7.24111075</td>\n",
       "      <td>112.79527909779556</td>\n",
       "      <td>Puskesmas Kenjeran, Jalan Abdul Latif, RW 01, ...</td>\n",
       "      <td>38.461538</td>\n",
       "    </tr>\n",
       "    <tr>\n",
       "      <th>18</th>\n",
       "      <td>Puskesmas Kalirungkut</td>\n",
       "      <td>dr. Bernadetta Martini</td>\n",
       "      <td>Jln. Rungkut Puskesmas No. 1</td>\n",
       "      <td>(031) 8700668</td>\n",
       "      <td>https://www.google.com/maps/place/Puskesmas+Ka...</td>\n",
       "      <td>3,4</td>\n",
       "      <td>(289)</td>\n",
       "      <td>-7.3222179999999994</td>\n",
       "      <td>112.77076210366917</td>\n",
       "      <td>Puskesmas Kalirungkut, Jalan Puskesmas, RW 07,...</td>\n",
       "      <td>40.000000</td>\n",
       "    </tr>\n",
       "    <tr>\n",
       "      <th>12</th>\n",
       "      <td>Puskesmas Gundih</td>\n",
       "      <td>dr. Tita Pusparini, M. Kes</td>\n",
       "      <td>Jln. Margodadi 36 - 38 Surabaya</td>\n",
       "      <td>(031) 5476275</td>\n",
       "      <td>https://www.google.com/maps/place/Puskesmas+Gu...</td>\n",
       "      <td>3,1</td>\n",
       "      <td>(117)</td>\n",
       "      <td>-7.24724475</td>\n",
       "      <td>112.72539044999999</td>\n",
       "      <td>Puskesmas Gundih, Jalan Margodadi, RW 07, Gund...</td>\n",
       "      <td>41.333333</td>\n",
       "    </tr>\n",
       "    <tr>\n",
       "      <th>4</th>\n",
       "      <td>Puskesmas Banyu Urip</td>\n",
       "      <td>dr. Winartuti Santoso, M.Kes</td>\n",
       "      <td>Jln. Banyu Urip Kidul 6/8</td>\n",
       "      <td>(031) 7405936</td>\n",
       "      <td>https://www.google.com/maps/place/Puskesmas+Ba...</td>\n",
       "      <td>3,2</td>\n",
       "      <td>(170)</td>\n",
       "      <td>-7.2715069</td>\n",
       "      <td>112.72002732026792</td>\n",
       "      <td>Puskesmas Banyu Urip, Jalan Banyu Urip Kidul V...</td>\n",
       "      <td>42.201835</td>\n",
       "    </tr>\n",
       "    <tr>\n",
       "      <th>20</th>\n",
       "      <td>Puskesmas Kedungdoro</td>\n",
       "      <td>dr. Diah Roichan Arifiani, M.Kes</td>\n",
       "      <td>Jln. Kaliasin Pompa 79-81 Surabaya</td>\n",
       "      <td>(031) 5345968</td>\n",
       "      <td>https://www.google.com/maps/place/Puskesmas+Ke...</td>\n",
       "      <td>3,2</td>\n",
       "      <td>(145)</td>\n",
       "      <td>-7.26370155</td>\n",
       "      <td>112.73824149999999</td>\n",
       "      <td>Puskesmas Kedungdoro, Jalan Kaliasin Gang VI, ...</td>\n",
       "      <td>43.181818</td>\n",
       "    </tr>\n",
       "    <tr>\n",
       "      <th>40</th>\n",
       "      <td>Puskesmas Peneleh</td>\n",
       "      <td>dr. Ayu Ekanita Hendrayani</td>\n",
       "      <td>Jln. Makam Peneleh No.35</td>\n",
       "      <td>(031) 5343473</td>\n",
       "      <td>https://www.google.com/maps/place/Puskesmas+Pe...</td>\n",
       "      <td>3,2</td>\n",
       "      <td>(152)</td>\n",
       "      <td>-7.2523042</td>\n",
       "      <td>112.74083083291245</td>\n",
       "      <td>Puskesmas Peneleh, Jalan Makam Peneleh, Makam ...</td>\n",
       "      <td>43.478261</td>\n",
       "    </tr>\n",
       "    <tr>\n",
       "      <th>58</th>\n",
       "      <td>Puskesmas Tembok Dukuh</td>\n",
       "      <td>drg. Tiyas Pranadani</td>\n",
       "      <td>Jln. Kalibutuh No 26 Surabaya</td>\n",
       "      <td>(031) 5343410</td>\n",
       "      <td>https://www.google.com/maps/place/Puskesmas+Te...</td>\n",
       "      <td>3,7</td>\n",
       "      <td>(266)</td>\n",
       "      <td>-7.254527449999999</td>\n",
       "      <td>112.71921325</td>\n",
       "      <td>Puskesmas Tembok Dukuh, Jalan Kalibutuh, RW 02...</td>\n",
       "      <td>46.153846</td>\n",
       "    </tr>\n",
       "  </tbody>\n",
       "</table>\n",
       "</div>"
      ],
      "text/plain": [
       "              puskesmas_name                  kepala puskesmas  \\\n",
       "34  Puskesmas Morokrembangan                  dr. Nurul Ihsani   \n",
       "49        Puskesmas Sidotopo            dr. Galih Satryo Utomo   \n",
       "33            Puskesmas Mojo         dr. Ratna Megasari, M.Kes   \n",
       "22        Puskesmas Kenjeran                dr. Rosna Suswanti   \n",
       "18     Puskesmas Kalirungkut            dr. Bernadetta Martini   \n",
       "12          Puskesmas Gundih        dr. Tita Pusparini, M. Kes   \n",
       "4       Puskesmas Banyu Urip      dr. Winartuti Santoso, M.Kes   \n",
       "20      Puskesmas Kedungdoro  dr. Diah Roichan Arifiani, M.Kes   \n",
       "40         Puskesmas Peneleh        dr. Ayu Ekanita Hendrayani   \n",
       "58    Puskesmas Tembok Dukuh              drg. Tiyas Pranadani   \n",
       "\n",
       "                                 alamat        telepon  \\\n",
       "34  Jln. Tambakasri 13/7 Morokrembangan  (031) 7493259   \n",
       "49        Jl. Pegirian No.239, Sidotopo  (031) 3767735   \n",
       "33        Jln. Mojo Klanggru Wetan 2/11  (031) 5932332   \n",
       "22          Jl. Tambak Deres 2 Surabaya   089515356046   \n",
       "18         Jln. Rungkut Puskesmas No. 1  (031) 8700668   \n",
       "12      Jln. Margodadi 36 - 38 Surabaya  (031) 5476275   \n",
       "4             Jln. Banyu Urip Kidul 6/8  (031) 7405936   \n",
       "20   Jln. Kaliasin Pompa 79-81 Surabaya  (031) 5345968   \n",
       "40             Jln. Makam Peneleh No.35  (031) 5343473   \n",
       "58        Jln. Kalibutuh No 26 Surabaya  (031) 5343410   \n",
       "\n",
       "                                                  url rate review_num  \\\n",
       "34  https://www.google.com/maps/place/Puskesmas+Mo...  1,9      (108)   \n",
       "49  https://www.google.com/maps/place/Puskesmas+Si...  2,8       (80)   \n",
       "33  https://www.google.com/maps/place/Puskesmas+Mo...  2,6      (285)   \n",
       "22  https://www.google.com/maps/place/Puskesmas+Ke...  3,2      (165)   \n",
       "18  https://www.google.com/maps/place/Puskesmas+Ka...  3,4      (289)   \n",
       "12  https://www.google.com/maps/place/Puskesmas+Gu...  3,1      (117)   \n",
       "4   https://www.google.com/maps/place/Puskesmas+Ba...  3,2      (170)   \n",
       "20  https://www.google.com/maps/place/Puskesmas+Ke...  3,2      (145)   \n",
       "40  https://www.google.com/maps/place/Puskesmas+Pe...  3,2      (152)   \n",
       "58  https://www.google.com/maps/place/Puskesmas+Te...  3,7      (266)   \n",
       "\n",
       "                    lat                 lon  \\\n",
       "34           -7.2347805  112.71244346706712   \n",
       "49          -7.23034775  112.74588161903259   \n",
       "33  -7.2709021499999995  112.77082440581847   \n",
       "22          -7.24111075  112.79527909779556   \n",
       "18  -7.3222179999999994  112.77076210366917   \n",
       "12          -7.24724475  112.72539044999999   \n",
       "4            -7.2715069  112.72002732026792   \n",
       "20          -7.26370155  112.73824149999999   \n",
       "40           -7.2523042  112.74083083291245   \n",
       "58   -7.254527449999999        112.71921325   \n",
       "\n",
       "                                         display_name  positive_percentage  \n",
       "34  Puskesmas Moro Krembangab, Jalan Tambak Asri X...            10.666667  \n",
       "49  Puskesmas Sidotopo, Jalan Sidodadi, RW 07, Sim...            27.659574  \n",
       "33  Puskesmas Mojo Surabaya, Jalan Mojo Klanggru W...            31.606218  \n",
       "22  Puskesmas Kenjeran, Jalan Abdul Latif, RW 01, ...            38.461538  \n",
       "18  Puskesmas Kalirungkut, Jalan Puskesmas, RW 07,...            40.000000  \n",
       "12  Puskesmas Gundih, Jalan Margodadi, RW 07, Gund...            41.333333  \n",
       "4   Puskesmas Banyu Urip, Jalan Banyu Urip Kidul V...            42.201835  \n",
       "20  Puskesmas Kedungdoro, Jalan Kaliasin Gang VI, ...            43.181818  \n",
       "40  Puskesmas Peneleh, Jalan Makam Peneleh, Makam ...            43.478261  \n",
       "58  Puskesmas Tembok Dukuh, Jalan Kalibutuh, RW 02...            46.153846  "
      ]
     },
     "execution_count": 250,
     "metadata": {},
     "output_type": "execute_result"
    }
   ],
   "source": [
    "most_negative_review = detail_puskesmas.sort_values(\n",
    "    \"positive_percentage\", ascending=True\n",
    ").head(10)\n",
    "most_negative_review"
   ]
  },
  {
   "cell_type": "markdown",
   "metadata": {},
   "source": [
    "# Detect Overall Sentiment about 3 Quality Measures by https://www.ncbi.nlm.nih.gov/books/NBK222274/pdf/Bookshelf_NBK222274.pdf\n",
    "\n",
    "1. Safety\n",
    "2. Effectiveness, Efficiency & Timeliness\n",
    "3. Patient-centeredness & Equity"
   ]
  },
  {
   "cell_type": "code",
   "execution_count": 251,
   "metadata": {},
   "outputs": [],
   "source": [
    "import pandas as pd\n",
    "\n",
    "predicted_data_puskesmas = pd.read_csv(\"predicted-review.csv\")"
   ]
  },
  {
   "cell_type": "code",
   "execution_count": 252,
   "metadata": {},
   "outputs": [
    {
     "name": "stdout",
     "output_type": "stream",
     "text": [
      "(802, 7)\n",
      "is_positive\n",
      "1    0.750623\n",
      "0    0.249377\n",
      "Name: proportion, dtype: float64\n"
     ]
    }
   ],
   "source": [
    "from fuzzywuzzy import fuzz\n",
    "\n",
    "safety_words = [\"aman\", \"selamat\", \"nyaman\", \"terjamin\", \"lindungi\", \"perlindungan\", \"keamanan\", \"keselamatan\", \"amanah\", \"amanat\"]\n",
    "\n",
    "safety_reviews = predicted_data_puskesmas[predicted_data_puskesmas[\"cleaned_review_text\"].apply(lambda x: any(fuzz.partial_ratio(word, x) > 80 for word in safety_words))]\n",
    "print(safety_reviews.shape)\n",
    "print(safety_reviews[\"is_positive\"].value_counts(normalize=True))"
   ]
  },
  {
   "cell_type": "code",
   "execution_count": 253,
   "metadata": {},
   "outputs": [
    {
     "name": "stdout",
     "output_type": "stream",
     "text": [
      "(5285, 7)\n",
      "is_positive\n",
      "1    0.776727\n",
      "0    0.223273\n",
      "Name: proportion, dtype: float64\n"
     ]
    }
   ],
   "source": [
    "from fuzzywuzzy import fuzz\n",
    "\n",
    "effectiveness_words = [\"efektif\", \"efektivitas\", \"efisien\", \"efisiensi\", \"cepat\", \"cepatan\", \"tepat\", \"tepatan\", \"waktu\", \"waktunya\", \"waktu\", \"waktunya\", \"hasil\", \"hasilnya\", \"berhasil\", \"berhasilnya\", \"sukses\", \"suksesnya\", \"beres\", \"beresnya\", \"selesai\", \"selesainya\", \"selesai\", \"selesainya\", \"segera\", \"segeranya\", \"segera\", \"segeranya\", \"tuntas\", \"tuntasnya\", \"tuntas\", \"tuntasnya\", \"lengkap\", \"lengkapnya\", \"lengkap\", \"lengkapnya\", \"memuaskan\", \"memuaskannya\", \"memuaskan\", \"memuaskannya\", \"puas\", \"puasnya\", \"puas\", \"puasnya\", \"bagus\", \"bagusnya\", \"bagus\", \"bagusnya\", \"baik\", \"baiknya\"]\n",
    "efficiency_words = [\"efisien\", \"efisiensi\", \"hemat\", \"hematnya\", \"hemat\", \"hematnya\", \"murah\", \"murahnya\", \"murah\", \"murahnya\", \"biaya\", \"biayanya\", \"biaya\", \"biayanya\", \"uang\", \"uangnya\", \"uang\", \"uangnya\", \"tarif\", \"tarifnya\", \"tarif\", \"tarifnya\", \"harga\", \"harganya\", \"harga\", \"harganya\", \"mahal\", \"mahalnya\", \"mahal\", \"mahalnya\", \"berkualitas\", \"berkualitasnya\", \"berkualitas\", \"berkualitasnya\", \"ramah\", \"ramahnya\", \"ramah\", \"ramahnya\", \"cepat\", \"cepatnya\", \"cepat\", \"cepatnya\", \"tepat\", \"tepatnya\", \"tepat\", \"tepatnya\", \"waktu\", \"waktunya\", \"waktu\", \"waktunya\", \"hasil\", \"hasilnya\", \"berhasil\", \"berhasilnya\", \"sukses\", \"suksesnya\", \"beres\", \"beresnya\", \"selesai\", \"selesainya\", \"selesai\", \"selesainya\", \"segera\", \"segeranya\", \"segera\", \"segeranya\", \"tuntas\", \"tuntasnya\", \"tuntas\", \"tuntasnya\", \"lengkap\", \"lengkapnya\", \"lengkap\", \"lengkapnya\", \"memuaskan\", \"memuaskannya\", \"memuaskan\", \"memuaskannya\", \"puas\", \"puasnya\", \"puas\", \"puasnya\", \"bagus\", \"bagusnya\", \"bagus\", \"bagusnya\", \"baik\", \"baiknya\"]\n",
    "timeliness_words = [\"cepat\", \"cepatan\", \"tepat\", \"tepatan\", \"waktu\", \"waktunya\", \"waktu\", \"waktunya\", \"hasil\", \"hasilnya\", \"berhasil\", \"berhasilnya\", \"sukses\", \"suksesnya\", \"beres\", \"beresnya\", \"selesai\", \"selesainya\", \"selesai\", \"selesainya\", \"segera\", \"segeranya\", \"segera\", \"segeranya\", \"tuntas\", \"tuntasnya\", \"tuntas\", \"tuntasnya\", \"lengkap\", \"lengkapnya\", \"lengkap\", \"lengkapnya\", \"memuaskan\", \"memuaskannya\", \"memuaskan\", \"memuaskannya\", \"puas\", \"puasnya\", \"puas\", \"puasnya\", \"bagus\", \"bagusnya\", \"bagus\", \"bagusnya\", \"baik\", \"baiknya\"]\n",
    "\n",
    "overall_words_of_interest = set(effectiveness_words).union(efficiency_words).union(timeliness_words)\n",
    "\n",
    "effective_efficiency_timeliness_reviews = predicted_data_puskesmas[predicted_data_puskesmas[\"cleaned_review_text\"].apply(lambda x: any(fuzz.partial_ratio(word, x) > 80 for word in overall_words_of_interest))]\n",
    "print(effective_efficiency_timeliness_reviews.shape)\n",
    "print(effective_efficiency_timeliness_reviews.is_positive.value_counts(normalize=True))"
   ]
  },
  {
   "cell_type": "code",
   "execution_count": 254,
   "metadata": {},
   "outputs": [
    {
     "name": "stdout",
     "output_type": "stream",
     "text": [
      "(3431, 7)\n",
      "is_positive\n",
      "1    0.754008\n",
      "0    0.245992\n",
      "Name: proportion, dtype: float64\n"
     ]
    }
   ],
   "source": [
    "from fuzzywuzzy import fuzz\n",
    "\n",
    "patient_centeredness_words = [\"ramah\", \"ramahnya\", \"ramah\", \"ramahnya\", \"sopan\", \"sopannya\", \"sopan\", \"sopannya\"]\n",
    "equity_words = [\"adil\", \"adilnya\", \"adil\", \"adilnya\", \"layak\", \"layaknya\", \"layak\", \"layaknya\", \"pantas\", \"pantasnya\", \"pantas\", \"pantasnya\", \"seimbang\", \"seimbangnya\", \"seimbang\", \"seimbangnya\", \"setara\", \"setaranya\", \"setara\", \"setaranya\", \"sama\", \"samanya\", \"sama\", \"samanya\", \"merata\", \"meratanya\", \"merata\", \"meratanya\", \"seadil\", \"seadilnya\", \"seadil\", \"seadilnya\", \"seimbang\", \"seimbangnya\", \"seimbang\", \"seimbangnya\", \"setara\", \"setaranya\", \"setara\", \"setaranya\", \"sama\", \"samanya\", \"sama\", \"samanya\", \"merata\", \"meratanya\", \"merata\", \"meratanya\", \"seadil\", \"seadilnya\", \"seadil\", \"seadilnya\", \"seimbang\", \"seimbangnya\", \"seimbang\", \"seimbangnya\", \"setara\", \"setaranya\", \"setara\", \"setaranya\", \"sama\", \"samanya\", \"sama\", \"samanya\", \"merata\", \"meratanya\", \"merata\", \"meratanya\", \"seadil\", \"seadilnya\", \"seadil\", \"seadilnya\", \"seimbang\", \"seimbangnya\", \"seimbang\", \"seimbangnya\", \"setara\", \"setaranya\", \"setara\", \"setaranya\", \"sama\", \"samanya\", \"sama\", \"samanya\", \"merata\", \"meratanya\", \"merata\", \"meratanya\", \"seadil\", \"seadilnya\", \"seadil\", \"seadilnya\", \"seimbang\", \"seimbangnya\", \"seimbang\", \"seimbangnya\", \"setara\", \"setaranya\", \"setara\", \"setaranya\", \"sama\", \"samanya\", \"sama\", \"samanya\", \"rasis\", \"diskriminasi\", \"diskriminatif\", \"diskriminasi\", \"diskriminatif\", \"rasial\", \"rasialnya\", \"rasial\", \"rasialnya\", \"rasisme\", \"rasismenya\", \"rasisme\", \"rasismenya\", \"ras\", \"rasnya\", \"ras\", \"rasnya\", \"etnis\", \"etnisnya\", \"etnis\", \"etnisnya\", \"suku\", \"sukunya\", \"suku\", \"sukunya\", \"agama\", \"agamanya\", \"agama\", \"agamanya\", \"kepercayaan\", \"kepercayaannya\", \"kepercayaan\"]\n",
    "\n",
    "patient_centeredness_equity_words_of_interest = set(patient_centeredness_words).union(equity_words)\n",
    "\n",
    "patient_centeredness_equity_reviews = predicted_data_puskesmas[predicted_data_puskesmas[\"cleaned_review_text\"].apply(lambda x: any(fuzz.partial_ratio(word, x) > 80 for word in patient_centeredness_equity_words_of_interest))]\n",
    "print(patient_centeredness_equity_reviews.shape)\n",
    "print(patient_centeredness_equity_reviews.is_positive.value_counts(normalize=True))"
   ]
  },
  {
   "cell_type": "code",
   "execution_count": 255,
   "metadata": {},
   "outputs": [
    {
     "name": "stderr",
     "output_type": "stream",
     "text": [
      "/tmp/ipykernel_12421/176731806.py:5: SettingWithCopyWarning:\n",
      "\n",
      "\n",
      "A value is trying to be set on a copy of a slice from a DataFrame.\n",
      "Try using .loc[row_indexer,col_indexer] = value instead\n",
      "\n",
      "See the caveats in the documentation: https://pandas.pydata.org/pandas-docs/stable/user_guide/indexing.html#returning-a-view-versus-a-copy\n",
      "\n",
      "/tmp/ipykernel_12421/176731806.py:6: SettingWithCopyWarning:\n",
      "\n",
      "\n",
      "A value is trying to be set on a copy of a slice from a DataFrame.\n",
      "Try using .loc[row_indexer,col_indexer] = value instead\n",
      "\n",
      "See the caveats in the documentation: https://pandas.pydata.org/pandas-docs/stable/user_guide/indexing.html#returning-a-view-versus-a-copy\n",
      "\n",
      "/tmp/ipykernel_12421/176731806.py:7: SettingWithCopyWarning:\n",
      "\n",
      "\n",
      "A value is trying to be set on a copy of a slice from a DataFrame.\n",
      "Try using .loc[row_indexer,col_indexer] = value instead\n",
      "\n",
      "See the caveats in the documentation: https://pandas.pydata.org/pandas-docs/stable/user_guide/indexing.html#returning-a-view-versus-a-copy\n",
      "\n"
     ]
    },
    {
     "data": {
      "image/png": "[encoded data removed]",
      "text/plain": [
       "<Figure size 1000x700 with 1 Axes>"
      ]
     },
     "metadata": {},
     "output_type": "display_data"
    }
   ],
   "source": [
    "import pandas as pd\n",
    "import matplotlib.pyplot as plt\n",
    "import seaborn as sns\n",
    "\n",
    "safety_reviews[\"is_positive\"] = safety_reviews[\"is_positive\"].replace({0: \"Negative\", 1: \"Positive\"})\n",
    "effective_efficiency_timeliness_reviews[\"is_positive\"] = effective_efficiency_timeliness_reviews[\"is_positive\"].replace({0: \"Negative\", 1: \"Positive\"})\n",
    "patient_centeredness_equity_reviews[\"is_positive\"] = patient_centeredness_equity_reviews[\"is_positive\"].replace({0: \"Negative\", 1: \"Positive\"})\n",
    "\n",
    "safety_values = safety_reviews[\"is_positive\"].value_counts()\n",
    "efficiency_values = effective_efficiency_timeliness_reviews[\"is_positive\"].value_counts()\n",
    "patient_centeredness_equity_values = patient_centeredness_equity_reviews[\"is_positive\"].value_counts()\n",
    "\n",
    "safety_df = safety_values.rename_axis('Review').reset_index(name='Safety')\n",
    "efficiency_df = efficiency_values.rename_axis('Review').reset_index(name='Effectiveness, Efficiency & Timeliness')\n",
    "patient_centeredness_equity_df = patient_centeredness_equity_values.rename_axis('Review').reset_index(name='Patient Centeredness & Equity')\n",
    "\n",
    "df = pd.merge(safety_df, efficiency_df, on='Review')\n",
    "df = pd.merge(df, patient_centeredness_equity_df, on='Review')\n",
    "\n",
    "df.set_index('Review', inplace=True)\n",
    "df = df.T\n",
    "\n",
    "sns.set_palette(\"Set2\")\n",
    "\n",
    "plt.rcParams.update({'font.size': 12})\n",
    "\n",
    "fig, ax = plt.subplots(figsize=(10, 7))\n",
    "\n",
    "bars = df.plot(kind='bar', stacked=True, ax=ax, width=0.8)\n",
    "\n",
    "ax.yaxis.grid(True, linestyle='--', which='major', color='grey', alpha=0.6)\n",
    "\n",
    "iter = 0\n",
    "\n",
    "for bar in bars.patches:\n",
    "    height = bar.get_height()\n",
    "    current_category = df.iloc[iter]\n",
    "    total = current_category.sum()\n",
    "\n",
    "    percentage = f'{100 * height/total:.1f}%'\n",
    "    \n",
    "    text_x = bar.get_x() + bar.get_width() / 2\n",
    "    if height < total * 0.05:\n",
    "        text_y = bar.get_y() + height + total * 0.05\n",
    "    elif height > total * 0.95: \n",
    "        text_y = bar.get_y() + height - total * 0.05\n",
    "    else:\n",
    "        text_y = bar.get_y() + height / 2\n",
    "    \n",
    "    ax.text(text_x, text_y, f'{int(height)}\\n({percentage})', ha='center', va='center', color='black', fontsize=10)\n",
    "\n",
    "    iter += 1\n",
    "\n",
    "    if iter == 3:\n",
    "        iter = 0\n",
    "    \n",
    "\n",
    "plt.title(\"Distribution of Positive and Negative\\nReviews Across Categories\", fontsize=14, pad=20)\n",
    "plt.xticks(rotation=0, fontsize=10)\n",
    "plt.yticks(fontsize=8)\n",
    "plt.legend(title='Review Outcome', title_fontsize='12', fontsize='10', loc='upper left')\n",
    "\n",
    "plt.tight_layout()\n",
    "plt.show()"
   ]
  },
  {
   "cell_type": "markdown",
   "metadata": {},
   "source": [
    "# Plot Distribution of Positive Percentage in all Puskesmas"
   ]
  },
  {
   "cell_type": "code",
   "execution_count": 256,
   "metadata": {},
   "outputs": [],
   "source": [
    "import pandas as pd\n",
    "\n",
    "detail_puskesmas = pd.read_csv(\"puskesmas_detail.csv\")"
   ]
  },
  {
   "cell_type": "code",
   "execution_count": 257,
   "metadata": {},
   "outputs": [
    {
     "data": {
      "application/vnd.plotly.v1+json": {
       "config": {
        "plotlyServerURL": "https://plot.ly"
       },
       "data": [
        {
         "alignmentgroup": "True",
         "customdata": [
          [
           "(108)"
          ],
          [
           "(170)"
          ],
          [
           "(82)"
          ],
          [
           "(161)"
          ],
          [
           "(237)"
          ],
          [
           "(458)"
          ],
          [
           "(407)"
          ],
          [
           "(224)"
          ],
          [
           "(344)"
          ],
          [
           "(548)"
          ],
          [
           "(537)"
          ]
         ],
         "hovertemplate": "=%{marker.color}<br>Puskesmas Name=%{y}<br>review_num=%{customdata[0]}<extra></extra>",
         "legendgroup": "",
         "marker": {
          "color": [
           10.666666666666668,
           42.201834862385326,
           50,
           52.74725274725275,
           53.90625,
           59.16666666666666,
           63.52201257861635,
           67.3202614379085,
           69,
           71.56549520766772,
           82.27848101265823
          ],
          "coloraxis": "coloraxis",
          "line": {
           "color": "darkgrey",
           "width": 1
          },
          "pattern": {
           "shape": ""
          }
         },
         "name": "",
         "offsetgroup": "",
         "orientation": "h",
         "showlegend": false,
         "text": [
          10.666666666666668,
          42.201834862385326,
          50,
          52.74725274725275,
          53.90625,
          59.16666666666666,
          63.52201257861635,
          67.3202614379085,
          69,
          71.56549520766772,
          82.27848101265823
         ],
         "textposition": "outside",
         "texttemplate": "%{text:.2f}",
         "type": "bar",
         "x": [
          10.666666666666668,
          42.201834862385326,
          50,
          52.74725274725275,
          53.90625,
          59.16666666666666,
          63.52201257861635,
          67.3202614379085,
          69,
          71.56549520766772,
          82.27848101265823
         ],
         "xaxis": "x",
         "y": [
          "Puskesmas Morokrembangan",
          "Puskesmas Banyu Urip",
          "Puskesmas Bulak Banteng",
          "Puskesmas Kedurus",
          "Puskesmas Tambak Rejo",
          "Puskesmas Gunung Anyar",
          "Puskesmas Sawahan",
          "Puskesmas Pakis",
          "Puskesmas Tenggilis",
          "Puskesmas Dukuh Kupang",
          "Puskesmas Sidotopo Wetan"
         ],
         "yaxis": "y"
        }
       ],
       "layout": {
        "barmode": "relative",
        "coloraxis": {
         "colorbar": {
          "title": {
           "text": ""
          }
         },
         "colorscale": [
          [
           0,
           "rgb(208, 88, 126)"
          ],
          [
           0.16666666666666666,
           "rgb(217, 137, 148)"
          ],
          [
           0.3333333333333333,
           "rgb(229, 185, 173)"
          ],
          [
           0.5,
           "rgb(241, 234, 200)"
          ],
          [
           0.6666666666666666,
           "rgb(177, 199, 179)"
          ],
          [
           0.8333333333333334,
           "rgb(114, 170, 161)"
          ],
          [
           1,
           "rgb(0, 147, 146)"
          ]
         ]
        },
        "font": {
         "color": "black",
         "family": "Helvetica, sans-serif",
         "size": 12
        },
        "height": 600,
        "legend": {
         "tracegroupgap": 0
        },
        "margin": {
         "b": 100,
         "l": 100,
         "r": 100,
         "t": 100
        },
        "plot_bgcolor": "rgba(255,255,255,1)",
        "template": {
         "data": {
          "bar": [
           {
            "error_x": {
             "color": "#2a3f5f"
            },
            "error_y": {
             "color": "#2a3f5f"
            },
            "marker": {
             "line": {
              "color": "#E5ECF6",
              "width": 0.5
             },
             "pattern": {
              "fillmode": "overlay",
              "size": 10,
              "solidity": 0.2
             }
            },
            "type": "bar"
           }
          ],
          "barpolar": [
           {
            "marker": {
             "line": {
              "color": "#E5ECF6",
              "width": 0.5
             },
             "pattern": {
              "fillmode": "overlay",
              "size": 10,
              "solidity": 0.2
             }
            },
            "type": "barpolar"
           }
          ],
          "carpet": [
           {
            "aaxis": {
             "endlinecolor": "#2a3f5f",
             "gridcolor": "white",
             "linecolor": "white",
             "minorgridcolor": "white",
             "startlinecolor": "#2a3f5f"
            },
            "baxis": {
             "endlinecolor": "#2a3f5f",
             "gridcolor": "white",
             "linecolor": "white",
             "minorgridcolor": "white",
             "startlinecolor": "#2a3f5f"
            },
            "type": "carpet"
           }
          ],
          "choropleth": [
           {
            "colorbar": {
             "outlinewidth": 0,
             "ticks": ""
            },
            "type": "choropleth"
           }
          ],
          "contour": [
           {
            "colorbar": {
             "outlinewidth": 0,
             "ticks": ""
            },
            "colorscale": [
             [
              0,
              "#0d0887"
             ],
             [
              0.1111111111111111,
              "#46039f"
             ],
             [
              0.2222222222222222,
              "#7201a8"
             ],
             [
              0.3333333333333333,
              "#9c179e"
             ],
             [
              0.4444444444444444,
              "#bd3786"
             ],
             [
              0.5555555555555556,
              "#d8576b"
             ],
             [
              0.6666666666666666,
              "#ed7953"
             ],
             [
              0.7777777777777778,
              "#fb9f3a"
             ],
             [
              0.8888888888888888,
              "#fdca26"
             ],
             [
              1,
              "#f0f921"
             ]
            ],
            "type": "contour"
           }
          ],
          "contourcarpet": [
           {
            "colorbar": {
             "outlinewidth": 0,
             "ticks": ""
            },
            "type": "contourcarpet"
           }
          ],
          "heatmap": [
           {
            "colorbar": {
             "outlinewidth": 0,
             "ticks": ""
            },
            "colorscale": [
             [
              0,
              "#0d0887"
             ],
             [
              0.1111111111111111,
              "#46039f"
             ],
             [
              0.2222222222222222,
              "#7201a8"
             ],
             [
              0.3333333333333333,
              "#9c179e"
             ],
             [
              0.4444444444444444,
              "#bd3786"
             ],
             [
              0.5555555555555556,
              "#d8576b"
             ],
             [
              0.6666666666666666,
              "#ed7953"
             ],
             [
              0.7777777777777778,
              "#fb9f3a"
             ],
             [
              0.8888888888888888,
              "#fdca26"
             ],
             [
              1,
              "#f0f921"
             ]
            ],
            "type": "heatmap"
           }
          ],
          "heatmapgl": [
           {
            "colorbar": {
             "outlinewidth": 0,
             "ticks": ""
            },
            "colorscale": [
             [
              0,
              "#0d0887"
             ],
             [
              0.1111111111111111,
              "#46039f"
             ],
             [
              0.2222222222222222,
              "#7201a8"
             ],
             [
              0.3333333333333333,
              "#9c179e"
             ],
             [
              0.4444444444444444,
              "#bd3786"
             ],
             [
              0.5555555555555556,
              "#d8576b"
             ],
             [
              0.6666666666666666,
              "#ed7953"
             ],
             [
              0.7777777777777778,
              "#fb9f3a"
             ],
             [
              0.8888888888888888,
              "#fdca26"
             ],
             [
              1,
              "#f0f921"
             ]
            ],
            "type": "heatmapgl"
           }
          ],
          "histogram": [
           {
            "marker": {
             "pattern": {
              "fillmode": "overlay",
              "size": 10,
              "solidity": 0.2
             }
            },
            "type": "histogram"
           }
          ],
          "histogram2d": [
           {
            "colorbar": {
             "outlinewidth": 0,
             "ticks": ""
            },
            "colorscale": [
             [
              0,
              "#0d0887"
             ],
             [
              0.1111111111111111,
              "#46039f"
             ],
             [
              0.2222222222222222,
              "#7201a8"
             ],
             [
              0.3333333333333333,
              "#9c179e"
             ],
             [
              0.4444444444444444,
              "#bd3786"
             ],
             [
              0.5555555555555556,
              "#d8576b"
             ],
             [
              0.6666666666666666,
              "#ed7953"
             ],
             [
              0.7777777777777778,
              "#fb9f3a"
             ],
             [
              0.8888888888888888,
              "#fdca26"
             ],
             [
              1,
              "#f0f921"
             ]
            ],
            "type": "histogram2d"
           }
          ],
          "histogram2dcontour": [
           {
            "colorbar": {
             "outlinewidth": 0,
             "ticks": ""
            },
            "colorscale": [
             [
              0,
              "#0d0887"
             ],
             [
              0.1111111111111111,
              "#46039f"
             ],
             [
              0.2222222222222222,
              "#7201a8"
             ],
             [
              0.3333333333333333,
              "#9c179e"
             ],
             [
              0.4444444444444444,
              "#bd3786"
             ],
             [
              0.5555555555555556,
              "#d8576b"
             ],
             [
              0.6666666666666666,
              "#ed7953"
             ],
             [
              0.7777777777777778,
              "#fb9f3a"
             ],
             [
              0.8888888888888888,
              "#fdca26"
             ],
             [
              1,
              "#f0f921"
             ]
            ],
            "type": "histogram2dcontour"
           }
          ],
          "mesh3d": [
           {
            "colorbar": {
             "outlinewidth": 0,
             "ticks": ""
            },
            "type": "mesh3d"
           }
          ],
          "parcoords": [
           {
            "line": {
             "colorbar": {
              "outlinewidth": 0,
              "ticks": ""
             }
            },
            "type": "parcoords"
           }
          ],
          "pie": [
           {
            "automargin": true,
            "type": "pie"
           }
          ],
          "scatter": [
           {
            "fillpattern": {
             "fillmode": "overlay",
             "size": 10,
             "solidity": 0.2
            },
            "type": "scatter"
           }
          ],
          "scatter3d": [
           {
            "line": {
             "colorbar": {
              "outlinewidth": 0,
              "ticks": ""
             }
            },
            "marker": {
             "colorbar": {
              "outlinewidth": 0,
              "ticks": ""
             }
            },
            "type": "scatter3d"
           }
          ],
          "scattercarpet": [
           {
            "marker": {
             "colorbar": {
              "outlinewidth": 0,
              "ticks": ""
             }
            },
            "type": "scattercarpet"
           }
          ],
          "scattergeo": [
           {
            "marker": {
             "colorbar": {
              "outlinewidth": 0,
              "ticks": ""
             }
            },
            "type": "scattergeo"
           }
          ],
          "scattergl": [
           {
            "marker": {
             "colorbar": {
              "outlinewidth": 0,
              "ticks": ""
             }
            },
            "type": "scattergl"
           }
          ],
          "scattermapbox": [
           {
            "marker": {
             "colorbar": {
              "outlinewidth": 0,
              "ticks": ""
             }
            },
            "type": "scattermapbox"
           }
          ],
          "scatterpolar": [
           {
            "marker": {
             "colorbar": {
              "outlinewidth": 0,
              "ticks": ""
             }
            },
            "type": "scatterpolar"
           }
          ],
          "scatterpolargl": [
           {
            "marker": {
             "colorbar": {
              "outlinewidth": 0,
              "ticks": ""
             }
            },
            "type": "scatterpolargl"
           }
          ],
          "scatterternary": [
           {
            "marker": {
             "colorbar": {
              "outlinewidth": 0,
              "ticks": ""
             }
            },
            "type": "scatterternary"
           }
          ],
          "surface": [
           {
            "colorbar": {
             "outlinewidth": 0,
             "ticks": ""
            },
            "colorscale": [
             [
              0,
              "#0d0887"
             ],
             [
              0.1111111111111111,
              "#46039f"
             ],
             [
              0.2222222222222222,
              "#7201a8"
             ],
             [
              0.3333333333333333,
              "#9c179e"
             ],
             [
              0.4444444444444444,
              "#bd3786"
             ],
             [
              0.5555555555555556,
              "#d8576b"
             ],
             [
              0.6666666666666666,
              "#ed7953"
             ],
             [
              0.7777777777777778,
              "#fb9f3a"
             ],
             [
              0.8888888888888888,
              "#fdca26"
             ],
             [
              1,
              "#f0f921"
             ]
            ],
            "type": "surface"
           }
          ],
          "table": [
           {
            "cells": {
             "fill": {
              "color": "#EBF0F8"
             },
             "line": {
              "color": "white"
             }
            },
            "header": {
             "fill": {
              "color": "#C8D4E3"
             },
             "line": {
              "color": "white"
             }
            },
            "type": "table"
           }
          ]
         },
         "layout": {
          "annotationdefaults": {
           "arrowcolor": "#2a3f5f",
           "arrowhead": 0,
           "arrowwidth": 1
          },
          "autotypenumbers": "strict",
          "coloraxis": {
           "colorbar": {
            "outlinewidth": 0,
            "ticks": ""
           }
          },
          "colorscale": {
           "diverging": [
            [
             0,
             "#8e0152"
            ],
            [
             0.1,
             "#c51b7d"
            ],
            [
             0.2,
             "#de77ae"
            ],
            [
             0.3,
             "#f1b6da"
            ],
            [
             0.4,
             "#fde0ef"
            ],
            [
             0.5,
             "#f7f7f7"
            ],
            [
             0.6,
             "#e6f5d0"
            ],
            [
             0.7,
             "#b8e186"
            ],
            [
             0.8,
             "#7fbc41"
            ],
            [
             0.9,
             "#4d9221"
            ],
            [
             1,
             "#276419"
            ]
           ],
           "sequential": [
            [
             0,
             "#0d0887"
            ],
            [
             0.1111111111111111,
             "#46039f"
            ],
            [
             0.2222222222222222,
             "#7201a8"
            ],
            [
             0.3333333333333333,
             "#9c179e"
            ],
            [
             0.4444444444444444,
             "#bd3786"
            ],
            [
             0.5555555555555556,
             "#d8576b"
            ],
            [
             0.6666666666666666,
             "#ed7953"
            ],
            [
             0.7777777777777778,
             "#fb9f3a"
            ],
            [
             0.8888888888888888,
             "#fdca26"
            ],
            [
             1,
             "#f0f921"
            ]
           ],
           "sequentialminus": [
            [
             0,
             "#0d0887"
            ],
            [
             0.1111111111111111,
             "#46039f"
            ],
            [
             0.2222222222222222,
             "#7201a8"
            ],
            [
             0.3333333333333333,
             "#9c179e"
            ],
            [
             0.4444444444444444,
             "#bd3786"
            ],
            [
             0.5555555555555556,
             "#d8576b"
            ],
            [
             0.6666666666666666,
             "#ed7953"
            ],
            [
             0.7777777777777778,
             "#fb9f3a"
            ],
            [
             0.8888888888888888,
             "#fdca26"
            ],
            [
             1,
             "#f0f921"
            ]
           ]
          },
          "colorway": [
           "#636efa",
           "#EF553B",
           "#00cc96",
           "#ab63fa",
           "#FFA15A",
           "#19d3f3",
           "#FF6692",
           "#B6E880",
           "#FF97FF",
           "#FECB52"
          ],
          "font": {
           "color": "#2a3f5f"
          },
          "geo": {
           "bgcolor": "white",
           "lakecolor": "white",
           "landcolor": "#E5ECF6",
           "showlakes": true,
           "showland": true,
           "subunitcolor": "white"
          },
          "hoverlabel": {
           "align": "left"
          },
          "hovermode": "closest",
          "mapbox": {
           "style": "light"
          },
          "paper_bgcolor": "white",
          "plot_bgcolor": "#E5ECF6",
          "polar": {
           "angularaxis": {
            "gridcolor": "white",
            "linecolor": "white",
            "ticks": ""
           },
           "bgcolor": "#E5ECF6",
           "radialaxis": {
            "gridcolor": "white",
            "linecolor": "white",
            "ticks": ""
           }
          },
          "scene": {
           "xaxis": {
            "backgroundcolor": "#E5ECF6",
            "gridcolor": "white",
            "gridwidth": 2,
            "linecolor": "white",
            "showbackground": true,
            "ticks": "",
            "zerolinecolor": "white"
           },
           "yaxis": {
            "backgroundcolor": "#E5ECF6",
            "gridcolor": "white",
            "gridwidth": 2,
            "linecolor": "white",
            "showbackground": true,
            "ticks": "",
            "zerolinecolor": "white"
           },
           "zaxis": {
            "backgroundcolor": "#E5ECF6",
            "gridcolor": "white",
            "gridwidth": 2,
            "linecolor": "white",
            "showbackground": true,
            "ticks": "",
            "zerolinecolor": "white"
           }
          },
          "shapedefaults": {
           "line": {
            "color": "#2a3f5f"
           }
          },
          "ternary": {
           "aaxis": {
            "gridcolor": "white",
            "linecolor": "white",
            "ticks": ""
           },
           "baxis": {
            "gridcolor": "white",
            "linecolor": "white",
            "ticks": ""
           },
           "bgcolor": "#E5ECF6",
           "caxis": {
            "gridcolor": "white",
            "linecolor": "white",
            "ticks": ""
           }
          },
          "title": {
           "x": 0.05
          },
          "xaxis": {
           "automargin": true,
           "gridcolor": "white",
           "linecolor": "white",
           "ticks": "",
           "title": {
            "standoff": 15
           },
           "zerolinecolor": "white",
           "zerolinewidth": 2
          },
          "yaxis": {
           "automargin": true,
           "gridcolor": "white",
           "linecolor": "white",
           "ticks": "",
           "title": {
            "standoff": 15
           },
           "zerolinecolor": "white",
           "zerolinewidth": 2
          }
         }
        },
        "title": {
         "font": {
          "color": "black",
          "family": "Helvetica, sans-serif",
          "size": 20
         },
         "text": "Positive Review Percentage Distribution<br>for Puskesmas in Surabaya (Every 10 Steps)"
        },
        "width": 800,
        "xaxis": {
         "anchor": "y",
         "domain": [
          0,
          1
         ],
         "showgrid": false,
         "title": {
          "font": {
           "color": "black",
           "family": "Helvetica, sans-serif",
           "size": 14
          },
          "text": "Positive Review (%)"
         }
        },
        "yaxis": {
         "anchor": "x",
         "domain": [
          0,
          1
         ],
         "showgrid": false,
         "title": {
          "font": {
           "color": "black",
           "family": "Helvetica, sans-serif",
           "size": 14
          }
         }
        }
       }
      }
     },
     "metadata": {},
     "output_type": "display_data"
    }
   ],
   "source": [
    "import plotly.express as px\n",
    "\n",
    "detail_puskesmas = detail_puskesmas.sort_values(\"positive_percentage\", ascending=True)\n",
    "detail_puskesmas = detail_puskesmas[detail_puskesmas[\"puskesmas_name\"] != \"Puskesmas Dr. Soetomo\"]\n",
    "\n",
    "total_rows = len(detail_puskesmas)\n",
    "intervals = 10\n",
    "step = max(total_rows // intervals, 1)\n",
    "\n",
    "indices = [0]\n",
    "indices.extend(range(step, total_rows - step, step))\n",
    "if total_rows > 1:\n",
    "    indices.append(total_rows - 1)\n",
    "\n",
    "unique_indices = sorted(set(indices))\n",
    "\n",
    "filtered_puskesmas = detail_puskesmas.iloc[unique_indices]\n",
    "\n",
    "fig = px.bar(\n",
    "    filtered_puskesmas,\n",
    "    x=\"positive_percentage\",\n",
    "    y=\"puskesmas_name\",\n",
    "    labels={\"positive_percentage\": \"\", \"puskesmas_name\": \"Puskesmas Name\"},\n",
    "    text=\"positive_percentage\",\n",
    "    color=\"positive_percentage\",\n",
    "    orientation='h',\n",
    "    color_continuous_scale=px.colors.diverging.Tealrose_r,\n",
    "    hover_data=[\"positive_percentage\", \"review_num\"]\n",
    ")\n",
    "\n",
    "fig.update_traces(marker_line_color=\"darkgrey\", marker_line_width=1, texttemplate='%{text:.2f}', textposition='outside')\n",
    "\n",
    "fig.update_layout(\n",
    "    yaxis_title=None,  # Hides the y-axis title\n",
    "    xaxis_title=\"Positive Review (%)\",\n",
    "    title=\"Positive Review Percentage Distribution<br>for Puskesmas in Surabaya (Every 10 Steps)\",\n",
    "    height=600,\n",
    "    width=800,\n",
    "    font=dict(family=\"Helvetica, sans-serif\", size=12, color=\"black\"),\n",
    "    plot_bgcolor='rgba(255,255,255,1)',\n",
    "    title_font=dict(size=20, color=\"black\", family=\"Helvetica, sans-serif\"),\n",
    "    xaxis_title_font=dict(size=14, color=\"black\", family=\"Helvetica, sans-serif\"),\n",
    "    yaxis_title_font=dict(size=14, color=\"black\", family=\"Helvetica, sans-serif\"),\n",
    "    xaxis=dict(showgrid=False),\n",
    "    yaxis=dict(showgrid=False),\n",
    "    margin=dict(t=100, b=100, l=100, r=100),\n",
    ")\n",
    "fig.show()"
   ]
  },
  {
   "cell_type": "markdown",
   "metadata": {},
   "source": [
    "# Save Detailed Puskesmas Review Conclusion"
   ]
  },
  {
   "cell_type": "code",
   "execution_count": 258,
   "metadata": {},
   "outputs": [
    {
     "data": {
      "text/html": [
       "<div>\n",
       "<style scoped>\n",
       "    .dataframe tbody tr th:only-of-type {\n",
       "        vertical-align: middle;\n",
       "    }\n",
       "\n",
       "    .dataframe tbody tr th {\n",
       "        vertical-align: top;\n",
       "    }\n",
       "\n",
       "    .dataframe thead th {\n",
       "        text-align: right;\n",
       "    }\n",
       "</style>\n",
       "<table border=\"1\" class=\"dataframe\">\n",
       "  <thead>\n",
       "    <tr style=\"text-align: right;\">\n",
       "      <th></th>\n",
       "      <th>puskesmas_name</th>\n",
       "      <th>kepala puskesmas</th>\n",
       "      <th>alamat</th>\n",
       "      <th>telepon</th>\n",
       "      <th>url</th>\n",
       "      <th>rate</th>\n",
       "      <th>review_num</th>\n",
       "      <th>lat</th>\n",
       "      <th>lon</th>\n",
       "      <th>display_name</th>\n",
       "      <th>positive_percentage</th>\n",
       "    </tr>\n",
       "  </thead>\n",
       "  <tbody>\n",
       "    <tr>\n",
       "      <th>0</th>\n",
       "      <td>Puskesmas Morokrembangan</td>\n",
       "      <td>dr. Nurul Ihsani</td>\n",
       "      <td>Jln. Tambakasri 13/7 Morokrembangan</td>\n",
       "      <td>(031) 7493259</td>\n",
       "      <td>https://www.google.com/maps/place/Puskesmas+Mo...</td>\n",
       "      <td>1,9</td>\n",
       "      <td>(108)</td>\n",
       "      <td>-7.234781</td>\n",
       "      <td>112.712443</td>\n",
       "      <td>Puskesmas Moro Krembangab, Jalan Tambak Asri X...</td>\n",
       "      <td>10.666667</td>\n",
       "    </tr>\n",
       "    <tr>\n",
       "      <th>1</th>\n",
       "      <td>Puskesmas Sidotopo</td>\n",
       "      <td>dr. Galih Satryo Utomo</td>\n",
       "      <td>Jl. Pegirian No.239, Sidotopo</td>\n",
       "      <td>(031) 3767735</td>\n",
       "      <td>https://www.google.com/maps/place/Puskesmas+Si...</td>\n",
       "      <td>2,8</td>\n",
       "      <td>(80)</td>\n",
       "      <td>-7.230348</td>\n",
       "      <td>112.745882</td>\n",
       "      <td>Puskesmas Sidotopo, Jalan Sidodadi, RW 07, Sim...</td>\n",
       "      <td>27.659574</td>\n",
       "    </tr>\n",
       "    <tr>\n",
       "      <th>2</th>\n",
       "      <td>Puskesmas Mojo</td>\n",
       "      <td>dr. Ratna Megasari, M.Kes</td>\n",
       "      <td>Jln. Mojo Klanggru Wetan 2/11</td>\n",
       "      <td>(031) 5932332</td>\n",
       "      <td>https://www.google.com/maps/place/Puskesmas+Mo...</td>\n",
       "      <td>2,6</td>\n",
       "      <td>(285)</td>\n",
       "      <td>-7.270902</td>\n",
       "      <td>112.770824</td>\n",
       "      <td>Puskesmas Mojo Surabaya, Jalan Mojo Klanggru W...</td>\n",
       "      <td>31.606218</td>\n",
       "    </tr>\n",
       "    <tr>\n",
       "      <th>3</th>\n",
       "      <td>Puskesmas Kenjeran</td>\n",
       "      <td>dr. Rosna Suswanti</td>\n",
       "      <td>Jl. Tambak Deres 2 Surabaya</td>\n",
       "      <td>089515356046</td>\n",
       "      <td>https://www.google.com/maps/place/Puskesmas+Ke...</td>\n",
       "      <td>3,2</td>\n",
       "      <td>(165)</td>\n",
       "      <td>-7.241111</td>\n",
       "      <td>112.795279</td>\n",
       "      <td>Puskesmas Kenjeran, Jalan Abdul Latif, RW 01, ...</td>\n",
       "      <td>38.461538</td>\n",
       "    </tr>\n",
       "    <tr>\n",
       "      <th>4</th>\n",
       "      <td>Puskesmas Kalirungkut</td>\n",
       "      <td>dr. Bernadetta Martini</td>\n",
       "      <td>Jln. Rungkut Puskesmas No. 1</td>\n",
       "      <td>(031) 8700668</td>\n",
       "      <td>https://www.google.com/maps/place/Puskesmas+Ka...</td>\n",
       "      <td>3,4</td>\n",
       "      <td>(289)</td>\n",
       "      <td>-7.322218</td>\n",
       "      <td>112.770762</td>\n",
       "      <td>Puskesmas Kalirungkut, Jalan Puskesmas, RW 07,...</td>\n",
       "      <td>40.000000</td>\n",
       "    </tr>\n",
       "  </tbody>\n",
       "</table>\n",
       "</div>"
      ],
      "text/plain": [
       "             puskesmas_name           kepala puskesmas  \\\n",
       "0  Puskesmas Morokrembangan           dr. Nurul Ihsani   \n",
       "1        Puskesmas Sidotopo     dr. Galih Satryo Utomo   \n",
       "2            Puskesmas Mojo  dr. Ratna Megasari, M.Kes   \n",
       "3        Puskesmas Kenjeran         dr. Rosna Suswanti   \n",
       "4     Puskesmas Kalirungkut     dr. Bernadetta Martini   \n",
       "\n",
       "                                alamat        telepon  \\\n",
       "0  Jln. Tambakasri 13/7 Morokrembangan  (031) 7493259   \n",
       "1        Jl. Pegirian No.239, Sidotopo  (031) 3767735   \n",
       "2        Jln. Mojo Klanggru Wetan 2/11  (031) 5932332   \n",
       "3          Jl. Tambak Deres 2 Surabaya   089515356046   \n",
       "4         Jln. Rungkut Puskesmas No. 1  (031) 8700668   \n",
       "\n",
       "                                                 url rate review_num  \\\n",
       "0  https://www.google.com/maps/place/Puskesmas+Mo...  1,9      (108)   \n",
       "1  https://www.google.com/maps/place/Puskesmas+Si...  2,8       (80)   \n",
       "2  https://www.google.com/maps/place/Puskesmas+Mo...  2,6      (285)   \n",
       "3  https://www.google.com/maps/place/Puskesmas+Ke...  3,2      (165)   \n",
       "4  https://www.google.com/maps/place/Puskesmas+Ka...  3,4      (289)   \n",
       "\n",
       "        lat         lon                                       display_name  \\\n",
       "0 -7.234781  112.712443  Puskesmas Moro Krembangab, Jalan Tambak Asri X...   \n",
       "1 -7.230348  112.745882  Puskesmas Sidotopo, Jalan Sidodadi, RW 07, Sim...   \n",
       "2 -7.270902  112.770824  Puskesmas Mojo Surabaya, Jalan Mojo Klanggru W...   \n",
       "3 -7.241111  112.795279  Puskesmas Kenjeran, Jalan Abdul Latif, RW 01, ...   \n",
       "4 -7.322218  112.770762  Puskesmas Kalirungkut, Jalan Puskesmas, RW 07,...   \n",
       "\n",
       "   positive_percentage  \n",
       "0            10.666667  \n",
       "1            27.659574  \n",
       "2            31.606218  \n",
       "3            38.461538  \n",
       "4            40.000000  "
      ]
     },
     "execution_count": 258,
     "metadata": {},
     "output_type": "execute_result"
    }
   ],
   "source": [
    "detail_puskesmas.head()"
   ]
  },
  {
   "cell_type": "code",
   "execution_count": 259,
   "metadata": {},
   "outputs": [],
   "source": [
    "detail_puskesmas.to_csv(\"puskesmas_detail.csv\", index=False)"
   ]
  }
 ],
 "metadata": {
  "kernelspec": {
   "display_name": "Python 3",
   "language": "python",
   "name": "python3"
  },
  "language_info": {
   "codemirror_mode": {
    "name": "ipython",
    "version": 3
   },
   "file_extension": ".py",
   "mimetype": "text/x-python",
   "name": "python",
   "nbconvert_exporter": "python",
   "pygments_lexer": "ipython3",
   "version": "3.11.5"
  }
 },
 "nbformat": 4,
 "nbformat_minor": 2
}
