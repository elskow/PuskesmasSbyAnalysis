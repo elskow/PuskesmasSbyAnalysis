{
 "cells": [
  {
   "cell_type": "markdown",
   "metadata": {},
   "source": [
    "# Load Data"
   ]
  },
  {
   "cell_type": "code",
   "execution_count": 1,
   "metadata": {},
   "outputs": [
    {
     "data": {
      "text/html": [
       "<div>\n",
       "<style scoped>\n",
       "    .dataframe tbody tr th:only-of-type {\n",
       "        vertical-align: middle;\n",
       "    }\n",
       "\n",
       "    .dataframe tbody tr th {\n",
       "        vertical-align: top;\n",
       "    }\n",
       "\n",
       "    .dataframe thead th {\n",
       "        text-align: right;\n",
       "    }\n",
       "</style>\n",
       "<table border=\"1\" class=\"dataframe\">\n",
       "  <thead>\n",
       "    <tr style=\"text-align: right;\">\n",
       "      <th></th>\n",
       "      <th>reviewer_name</th>\n",
       "      <th>rating</th>\n",
       "      <th>review_text</th>\n",
       "      <th>puskesmas_name</th>\n",
       "      <th>cleaned_review_text</th>\n",
       "      <th>language</th>\n",
       "      <th>is_positive</th>\n",
       "    </tr>\n",
       "  </thead>\n",
       "  <tbody>\n",
       "    <tr>\n",
       "      <th>0</th>\n",
       "      <td>Mira Diah V</td>\n",
       "      <td>5</td>\n",
       "      <td>Pelayanan di poli KIA bagus&amp;informatif sekali....</td>\n",
       "      <td>Puskesmas Simomulyo</td>\n",
       "      <td>layan pol kia bagusinformatif anak imunisasi a...</td>\n",
       "      <td>id</td>\n",
       "      <td>1</td>\n",
       "    </tr>\n",
       "    <tr>\n",
       "      <th>1</th>\n",
       "      <td>Ranitya Dewi Ayu Sadian</td>\n",
       "      <td>1</td>\n",
       "      <td>Pelayanan poli KIA lama sekali…\\nKamis pagi se...</td>\n",
       "      <td>Puskesmas Simomulyo</td>\n",
       "      <td>layan pol kia kamis pagi puskesmas daftar pol ...</td>\n",
       "      <td>id</td>\n",
       "      <td>0</td>\n",
       "    </tr>\n",
       "    <tr>\n",
       "      <th>2</th>\n",
       "      <td>Yuliasti Ika</td>\n",
       "      <td>5</td>\n",
       "      <td>Puskesmas dengan pelayanan yang baik sekali, s...</td>\n",
       "      <td>Puskesmas Simomulyo</td>\n",
       "      <td>puskesmas layan layan ramah lengkap fasilitas ...</td>\n",
       "      <td>id</td>\n",
       "      <td>1</td>\n",
       "    </tr>\n",
       "    <tr>\n",
       "      <th>3</th>\n",
       "      <td>Yusup Jaya</td>\n",
       "      <td>1</td>\n",
       "      <td>Pelayanan tambah lelet, mohon managentnya di p...</td>\n",
       "      <td>Puskesmas Simomulyo</td>\n",
       "      <td>layan lambat mohon managernya sat set rujuk ce...</td>\n",
       "      <td>id</td>\n",
       "      <td>0</td>\n",
       "    </tr>\n",
       "    <tr>\n",
       "      <th>4</th>\n",
       "      <td>Yunia Ardina</td>\n",
       "      <td>1</td>\n",
       "      <td>Saya mau kasih masukan sekaligus protes..\\n\\nS...</td>\n",
       "      <td>Puskesmas Simomulyo</td>\n",
       "      <td>kasih masuk protes tanggal february jaman prik...</td>\n",
       "      <td>id</td>\n",
       "      <td>0</td>\n",
       "    </tr>\n",
       "  </tbody>\n",
       "</table>\n",
       "</div>"
      ],
      "text/plain": [
       "             reviewer_name  rating  \\\n",
       "0              Mira Diah V       5   \n",
       "1  Ranitya Dewi Ayu Sadian       1   \n",
       "2             Yuliasti Ika       5   \n",
       "3               Yusup Jaya       1   \n",
       "4             Yunia Ardina       1   \n",
       "\n",
       "                                         review_text       puskesmas_name  \\\n",
       "0  Pelayanan di poli KIA bagus&informatif sekali....  Puskesmas Simomulyo   \n",
       "1  Pelayanan poli KIA lama sekali…\\nKamis pagi se...  Puskesmas Simomulyo   \n",
       "2  Puskesmas dengan pelayanan yang baik sekali, s...  Puskesmas Simomulyo   \n",
       "3  Pelayanan tambah lelet, mohon managentnya di p...  Puskesmas Simomulyo   \n",
       "4  Saya mau kasih masukan sekaligus protes..\\n\\nS...  Puskesmas Simomulyo   \n",
       "\n",
       "                                 cleaned_review_text language  is_positive  \n",
       "0  layan pol kia bagusinformatif anak imunisasi a...       id            1  \n",
       "1  layan pol kia kamis pagi puskesmas daftar pol ...       id            0  \n",
       "2  puskesmas layan layan ramah lengkap fasilitas ...       id            1  \n",
       "3  layan lambat mohon managernya sat set rujuk ce...       id            0  \n",
       "4  kasih masuk protes tanggal february jaman prik...       id            0  "
      ]
     },
     "execution_count": 1,
     "metadata": {},
     "output_type": "execute_result"
    }
   ],
   "source": [
    "import pandas as pd\n",
    "\n",
    "predicted_data_puskesmas = pd.read_csv(\"predicted-review.csv\")\n",
    "\n",
    "predicted_data_puskesmas.head()"
   ]
  },
  {
   "cell_type": "code",
   "execution_count": 2,
   "metadata": {},
   "outputs": [
    {
     "data": {
      "text/html": [
       "<div>\n",
       "<style scoped>\n",
       "    .dataframe tbody tr th:only-of-type {\n",
       "        vertical-align: middle;\n",
       "    }\n",
       "\n",
       "    .dataframe tbody tr th {\n",
       "        vertical-align: top;\n",
       "    }\n",
       "\n",
       "    .dataframe thead th {\n",
       "        text-align: right;\n",
       "    }\n",
       "</style>\n",
       "<table border=\"1\" class=\"dataframe\">\n",
       "  <thead>\n",
       "    <tr style=\"text-align: right;\">\n",
       "      <th></th>\n",
       "      <th>name</th>\n",
       "      <th>kepala puskesmas</th>\n",
       "      <th>alamat</th>\n",
       "      <th>telepon</th>\n",
       "      <th>url</th>\n",
       "      <th>rate</th>\n",
       "      <th>review_num</th>\n",
       "    </tr>\n",
       "  </thead>\n",
       "  <tbody>\n",
       "    <tr>\n",
       "      <th>0</th>\n",
       "      <td>Puskesmas Asemrowo</td>\n",
       "      <td>dr. Diah Miryati</td>\n",
       "      <td>Jln. Asem Raya No. 8</td>\n",
       "      <td>(031) 5456122 / 081252965070</td>\n",
       "      <td>https://www.google.com/maps/place/Puskesmas+As...</td>\n",
       "      <td>3,5</td>\n",
       "      <td>(131)</td>\n",
       "    </tr>\n",
       "    <tr>\n",
       "      <th>1</th>\n",
       "      <td>Puskesmas Balas Klumprik</td>\n",
       "      <td>dr. Yessy Pebriaty Sukatendel, MM</td>\n",
       "      <td>Jln. Raya Balas Klumprik</td>\n",
       "      <td>(031) 7665219</td>\n",
       "      <td>https://www.google.com/maps/place/Puskesmas+Ba...</td>\n",
       "      <td>4,1</td>\n",
       "      <td>(96)</td>\n",
       "    </tr>\n",
       "    <tr>\n",
       "      <th>2</th>\n",
       "      <td>Puskesmas Balongsari</td>\n",
       "      <td>dr. Dewi Ayuning Asih</td>\n",
       "      <td>Jln. Balongsari Tama No. 2 Surabaya</td>\n",
       "      <td>(031) 7417104</td>\n",
       "      <td>https://www.google.com/maps/place/Puskesmas+Ba...</td>\n",
       "      <td>3,9</td>\n",
       "      <td>(308)</td>\n",
       "    </tr>\n",
       "    <tr>\n",
       "      <th>3</th>\n",
       "      <td>Puskesmas Bangkingan</td>\n",
       "      <td>dr. Tri Indah Rachmawati</td>\n",
       "      <td>Jln. Banyu Urip Kidul 6/8</td>\n",
       "      <td>(031) 5685424 - 5615292 / 081334932007</td>\n",
       "      <td>https://www.google.com/maps/place/Puskesmas+Ba...</td>\n",
       "      <td>3,8</td>\n",
       "      <td>(84)</td>\n",
       "    </tr>\n",
       "    <tr>\n",
       "      <th>4</th>\n",
       "      <td>Puskesmas Banyu Urip</td>\n",
       "      <td>dr. Winartuti Santoso, M.Kes</td>\n",
       "      <td>Jln. Banyu Urip Kidul 6/8</td>\n",
       "      <td>(031) 7405936</td>\n",
       "      <td>https://www.google.com/maps/place/Puskesmas+Ba...</td>\n",
       "      <td>3,2</td>\n",
       "      <td>(170)</td>\n",
       "    </tr>\n",
       "  </tbody>\n",
       "</table>\n",
       "</div>"
      ],
      "text/plain": [
       "                       name                   kepala puskesmas  \\\n",
       "0        Puskesmas Asemrowo                   dr. Diah Miryati   \n",
       "1  Puskesmas Balas Klumprik  dr. Yessy Pebriaty Sukatendel, MM   \n",
       "2      Puskesmas Balongsari              dr. Dewi Ayuning Asih   \n",
       "3      Puskesmas Bangkingan           dr. Tri Indah Rachmawati   \n",
       "4      Puskesmas Banyu Urip       dr. Winartuti Santoso, M.Kes   \n",
       "\n",
       "                                alamat  \\\n",
       "0                 Jln. Asem Raya No. 8   \n",
       "1             Jln. Raya Balas Klumprik   \n",
       "2  Jln. Balongsari Tama No. 2 Surabaya   \n",
       "3            Jln. Banyu Urip Kidul 6/8   \n",
       "4            Jln. Banyu Urip Kidul 6/8   \n",
       "\n",
       "                                  telepon  \\\n",
       "0            (031) 5456122 / 081252965070   \n",
       "1                           (031) 7665219   \n",
       "2                           (031) 7417104   \n",
       "3  (031) 5685424 - 5615292 / 081334932007   \n",
       "4                           (031) 7405936   \n",
       "\n",
       "                                                 url rate review_num  \n",
       "0  https://www.google.com/maps/place/Puskesmas+As...  3,5      (131)  \n",
       "1  https://www.google.com/maps/place/Puskesmas+Ba...  4,1       (96)  \n",
       "2  https://www.google.com/maps/place/Puskesmas+Ba...  3,9      (308)  \n",
       "3  https://www.google.com/maps/place/Puskesmas+Ba...  3,8       (84)  \n",
       "4  https://www.google.com/maps/place/Puskesmas+Ba...  3,2      (170)  "
      ]
     },
     "execution_count": 2,
     "metadata": {},
     "output_type": "execute_result"
    }
   ],
   "source": [
    "detail_puskesmas = pd.read_csv(\"scrapping/cleaned_puskesmas.csv\")\n",
    "\n",
    "detail_puskesmas.head()"
   ]
  },
  {
   "cell_type": "markdown",
   "metadata": {},
   "source": [
    "# Get longtiude and latitude of each puskesmas"
   ]
  },
  {
   "cell_type": "code",
   "execution_count": 3,
   "metadata": {},
   "outputs": [
    {
     "data": {
      "application/vnd.jupyter.widget-view+json": {
       "model_id": "d1c9ed01d8bc423c8e31093eb97b674d",
       "version_major": 2,
       "version_minor": 0
      },
      "text/plain": [
       "  0%|          | 0/63 [00:00<?, ?it/s]"
      ]
     },
     "metadata": {},
     "output_type": "display_data"
    },
    {
     "name": "stdout",
     "output_type": "stream",
     "text": [
      "Index(['name', 'kepala puskesmas', 'alamat', 'telepon', 'url', 'rate',\n",
      "       'review_num', 'lat', 'lon', 'display_name'],\n",
      "      dtype='object')\n"
     ]
    }
   ],
   "source": [
    "import plotly.express as px\n",
    "from tqdm.notebook import tqdm\n",
    "import requests\n",
    "import random\n",
    "\n",
    "\n",
    "def get_lat_lon(puskesmas_name):\n",
    "    user_agents = [\n",
    "        \"Mozilla/5.0 (Windows NT 10.0; Win64; x64) AppleWebKit/537.36 (KHTML, like Gecko) Chrome/58.0.3029.110 Safari/537.3\",\n",
    "        \"Mozilla/5.0 (Macintosh; Intel Mac OS X 10_15_7) AppleWebKit/605.1.15 (KHTML, like Gecko) Version/14.0.3 Safari/605.1.15\",\n",
    "        \"Mozilla/5.0 (Windows NT 10.0; Win64; x64; rv:88.0) Gecko/20100101 Firefox/88.0\",\n",
    "        \"Mozilla/5.0 (Linux; Android 6.0; Nexus 5 Build/MRA58N) AppleWebKit/537.36 (KHTML, like Gecko) Chrome/86.0.4240.110 Mobile Safari/537.36\",\n",
    "        \"Mozilla/5.0 (iPad; CPU OS 13_7 like Mac OS X) AppleWebKit/605.1.15 (KHTML, like Gecko) Version/13.1.2 Mobile/15E148 Safari/604.1\",\n",
    "    ]\n",
    "    attempts = 0\n",
    "    while attempts < 10:\n",
    "        try:\n",
    "            headers = {\"User-Agent\": random.choice(user_agents)}\n",
    "            url = f\"https://nominatim.openstreetmap.org/search?q={puskesmas_name}, surabaya&format=jsonv2\"\n",
    "            response = requests.get(url, headers=headers)\n",
    "            if response.status_code == 200:\n",
    "                data = response.json()\n",
    "                return data[0][\"lat\"], data[0][\"lon\"], data[0][\"display_name\"]\n",
    "            else:\n",
    "                attempts += 1\n",
    "                # print(f\"Attempt {attempts}: Failed to get data for {puskesmas_name}\")\n",
    "        except Exception as e:\n",
    "            attempts += 1\n",
    "            # print(f\"Attempt {attempts}: Error for {puskesmas_name} - {e}\")\n",
    "    return None, None\n",
    "\n",
    "\n",
    "tqdm.pandas()\n",
    "detail_puskesmas[\"lat\"], detail_puskesmas[\"lon\"], detail_puskesmas[\"display_name\"] = (\n",
    "    zip(*detail_puskesmas[\"name\"].progress_apply(get_lat_lon))\n",
    ")\n",
    "\n",
    "print(detail_puskesmas.columns)\n",
    "\n",
    "detail_puskesmas = detail_puskesmas.rename(columns={\"name\": \"puskesmas_name\"})\n",
    "\n",
    "positive_review_counts = predicted_data_puskesmas.groupby(\"puskesmas_name\")[\n",
    "    \"is_positive\"\n",
    "].sum()\n",
    "total_review_counts = predicted_data_puskesmas.groupby(\"puskesmas_name\")[\n",
    "    \"is_positive\"\n",
    "].count()\n",
    "percentage_positive_reviews = (\n",
    "    positive_review_counts / total_review_counts * 100\n",
    ").reset_index()\n",
    "percentage_positive_reviews.columns = [\"puskesmas_name\", \"positive_percentage\"]\n",
    "\n",
    "detail_puskesmas = detail_puskesmas.merge(\n",
    "    percentage_positive_reviews, on=\"puskesmas_name\", how=\"left\"\n",
    ")"
   ]
  },
  {
   "cell_type": "markdown",
   "metadata": {},
   "source": [
    "# Geolocation of each puskesmas reviewed from google maps"
   ]
  },
  {
   "cell_type": "code",
   "execution_count": 4,
   "metadata": {},
   "outputs": [
    {
     "name": "stderr",
     "output_type": "stream",
     "text": [
      "/tmp/ipykernel_4869/295796426.py:5: SettingWithCopyWarning: \n",
      "A value is trying to be set on a copy of a slice from a DataFrame.\n",
      "Try using .loc[row_indexer,col_indexer] = value instead\n",
      "\n",
      "See the caveats in the documentation: https://pandas.pydata.org/pandas-docs/stable/user_guide/indexing.html#returning-a-view-versus-a-copy\n",
      "  data_for_plotting[\"lat\"] = pd.to_numeric(data_for_plotting[\"lat\"], errors=\"coerce\")\n",
      "/tmp/ipykernel_4869/295796426.py:6: SettingWithCopyWarning: \n",
      "A value is trying to be set on a copy of a slice from a DataFrame.\n",
      "Try using .loc[row_indexer,col_indexer] = value instead\n",
      "\n",
      "See the caveats in the documentation: https://pandas.pydata.org/pandas-docs/stable/user_guide/indexing.html#returning-a-view-versus-a-copy\n",
      "  data_for_plotting[\"lon\"] = pd.to_numeric(data_for_plotting[\"lon\"], errors=\"coerce\")\n",
      "/tmp/ipykernel_4869/295796426.py:7: SettingWithCopyWarning: \n",
      "A value is trying to be set on a copy of a slice from a DataFrame.\n",
      "Try using .loc[row_indexer,col_indexer] = value instead\n",
      "\n",
      "See the caveats in the documentation: https://pandas.pydata.org/pandas-docs/stable/user_guide/indexing.html#returning-a-view-versus-a-copy\n",
      "  data_for_plotting[\"positive_percentage\"] = data_for_plotting[\n"
     ]
    },
    {
     "data": {
      "application/vnd.plotly.v1+json": {
       "config": {
        "plotlyServerURL": "https://plot.ly"
       },
       "data": [
        {
         "customdata": [
          [
           54.347826086956516
          ],
          [
           73.68421052631578
          ],
          [
           63.97849462365591
          ],
          [
           53.333333333333336
          ],
          [
           42.201834862385326
          ],
          [
           67.85714285714286
          ],
          [
           50
          ],
          [
           71.56549520766772
          ],
          [
           52.57731958762887
          ],
          [
           56.27705627705628
          ],
          [
           61.34020618556701
          ],
          [
           41.333333333333336
          ],
          [
           59.166666666666664
          ],
          [
           67.04545454545455
          ],
          [
           62.23776223776224
          ],
          [
           58.88888888888889
          ],
          [
           53.21100917431193
          ],
          [
           40
          ],
          [
           62.62626262626263
          ],
          [
           43.18181818181818
          ],
          [
           52.74725274725275
          ],
          [
           38.46153846153847
          ],
          [
           51.35135135135135
          ],
          [
           78.94736842105263
          ],
          [
           70.77625570776256
          ],
          [
           60
          ],
          [
           68.83116883116884
          ],
          [
           53.68421052631579
          ],
          [
           55.932203389830505
          ],
          [
           67.32673267326733
          ],
          [
           61.80555555555556
          ],
          [
           53.74149659863946
          ],
          [
           31.606217616580313
          ],
          [
           10.666666666666668
          ],
          [
           71.19565217391305
          ],
          [
           70.04830917874396
          ],
          [
           53.459119496855344
          ],
          [
           67.3202614379085
          ],
          [
           67.5
          ],
          [
           43.47826086956522
          ],
          [
           50.495049504950494
          ],
          [
           75.24271844660194
          ],
          [
           64.1891891891892
          ],
          [
           56.08108108108109
          ],
          [
           67.64705882352942
          ],
          [
           63.52201257861635
          ],
          [
           66.45962732919256
          ],
          [
           51.35135135135135
          ],
          [
           27.659574468085108
          ],
          [
           82.27848101265823
          ],
          [
           75.86206896551724
          ],
          [
           51.07913669064749
          ],
          [
           47.11538461538461
          ],
          [
           53.90625
          ],
          [
           66.01941747572816
          ],
          [
           76.28865979381443
          ],
          [
           77.02702702702703
          ],
          [
           46.15384615384615
          ],
          [
           69
          ],
          [
           49.30555555555556
          ],
          [
           71.50259067357513
          ],
          [
           71.49758454106279
          ]
         ],
         "hovertemplate": "<b>%{hovertext}</b><br><br>positive_percentage=%{marker.color}<br>lat=%{lat}<br>lon=%{lon}<extra></extra>",
         "hovertext": [
          "Puskesmas Asemrowo",
          "Puskesmas Balas Klumprik",
          "Puskesmas Balongsari",
          "Puskesmas Bangkingan",
          "Puskesmas Banyu Urip",
          "Puskesmas Benowo",
          "Puskesmas Bulak Banteng",
          "Puskesmas Dukuh Kupang",
          "Puskesmas Dupak",
          "Puskesmas Gading",
          "Puskesmas Gayungan",
          "Puskesmas Gundih",
          "Puskesmas Gunung Anyar",
          "Puskesmas Jagir",
          "Puskesmas Jemursari",
          "Puskesmas Jeruk",
          "Puskesmas Kalijudan",
          "Puskesmas Kalirungkut",
          "Puskesmas Kebonsari",
          "Puskesmas Kedungdoro",
          "Puskesmas Kedurus",
          "Puskesmas Kenjeran",
          "Puskesmas Keputih",
          "Puskesmas Ketabang",
          "Puskesmas Klampis Ngasem",
          "Puskesmas Krembangan Selatan",
          "Puskesmas Lidah Kulon",
          "Puskesmas Lontar",
          "Puskesmas Made",
          "Puskesmas Manukan Kulon",
          "Puskesmas Medokan Ayu",
          "Puskesmas Menur",
          "Puskesmas Mojo",
          "Puskesmas Morokrembangan",
          "Puskesmas Mulyorejo",
          "Puskesmas Ngagel Rejo",
          "Puskesmas Pacar Keling",
          "Puskesmas Pakis",
          "Puskesmas Pegirian",
          "Puskesmas Peneleh",
          "Puskesmas Perak Timur",
          "Puskesmas Pucang Sewu",
          "Puskesmas Putat Jaya",
          "Puskesmas Rangkah",
          "Puskesmas Sawah Pulo",
          "Puskesmas Sawahan",
          "Puskesmas Sememi",
          "Puskesmas Sidosermo",
          "Puskesmas Sidotopo",
          "Puskesmas Sidotopo Wetan",
          "Puskesmas Simolawang",
          "Puskesmas Simomulyo",
          "Puskesmas Siwalankerto",
          "Puskesmas Tambak Rejo",
          "Puskesmas Tambak Wedi",
          "Puskesmas Tanah Kali Kedinding",
          "Puskesmas Tanjungsari",
          "Puskesmas Tembok Dukuh",
          "Puskesmas Tenggilis",
          "Puskesmas Wiyung",
          "Puskesmas Wonokromo",
          "Puskesmas Wonokusumo"
         ],
         "lat": [
          -7.25186115,
          -7.3315249,
          -7.259228849999999,
          -7.32492005,
          -7.2715069,
          -7.2347252,
          -7.2177947,
          -7.283236,
          -7.2393518,
          -7.242490650000001,
          -7.33810175,
          -7.24724475,
          -7.3408664,
          -7.3056601,
          -7.32608185,
          -7.3054418,
          -7.2573961,
          -7.322217999999999,
          -7.32840065,
          -7.26370155,
          -7.319754749999999,
          -7.24111075,
          -7.293995499999999,
          -7.2580613,
          -7.289156200000001,
          -7.233071049999999,
          -7.2850638,
          -7.2850638,
          -7.27731115,
          -7.25846525,
          -7.3239443,
          -7.29687275,
          -7.270902149999999,
          -7.2347805,
          -7.26072255,
          -7.29296335,
          -7.2571931,
          -7.28177405,
          -7.224634399999999,
          -7.2523042,
          -7.222732150000001,
          -7.28659415,
          -7.28142245,
          -7.24630815,
          -7.22281235,
          -7.26558135,
          -7.2483503,
          -7.307331299999999,
          -7.23034775,
          -7.22658925,
          -7.2348687,
          -7.26246035,
          -7.3403897,
          -7.24844815,
          -7.217479750000001,
          -7.23037625,
          -7.25940435,
          -7.254527449999999,
          -7.32236045,
          -7.30968085,
          -7.303176499999999,
          -7.219663649999999
         ],
         "legendgroup": "",
         "lon": [
          112.71456194620362,
          112.69002720464968,
          112.6783010204094,
          112.65610895,
          112.72002732026792,
          112.61150062729084,
          112.76627915520368,
          112.71222568060509,
          112.71726505,
          112.76403442545316,
          112.7186968178111,
          112.72539045,
          112.78397605,
          112.73773229111424,
          112.73996903263736,
          112.63838027163932,
          112.77801422512428,
          112.77076210366916,
          112.714445632565,
          112.7382415,
          112.70939454900804,
          112.79527909779556,
          112.80187601901248,
          112.74677403040268,
          112.77848995,
          112.73121758057744,
          112.66273285,
          112.66273285,
          112.63703473548794,
          112.66064382684382,
          112.79498318410756,
          112.76434694828671,
          112.77082440581847,
          112.71244346706712,
          112.784748,
          112.74878868683348,
          112.76268455308642,
          112.72848119117782,
          112.74691545896944,
          112.74083083291244,
          112.7354623755392,
          112.7555282626124,
          112.72236434495444,
          112.7672265,
          112.7446747690776,
          112.7277503978,
          112.6354712,
          112.7556756,
          112.7458816190326,
          112.76350132938722,
          112.75104985,
          112.7120093,
          112.7363945,
          112.75555569656396,
          112.7724023,
          112.77446968315311,
          112.6892628357994,
          112.71921325,
          112.76211047263912,
          112.67497509450482,
          112.7303924779992,
          112.75256160671904
         ],
         "marker": {
          "color": [
           54.347826086956516,
           73.68421052631578,
           63.97849462365591,
           53.333333333333336,
           42.201834862385326,
           67.85714285714286,
           50,
           71.56549520766772,
           52.57731958762887,
           56.27705627705628,
           61.34020618556701,
           41.333333333333336,
           59.166666666666664,
           67.04545454545455,
           62.23776223776224,
           58.88888888888889,
           53.21100917431193,
           40,
           62.62626262626263,
           43.18181818181818,
           52.74725274725275,
           38.46153846153847,
           51.35135135135135,
           78.94736842105263,
           70.77625570776256,
           60,
           68.83116883116884,
           53.68421052631579,
           55.932203389830505,
           67.32673267326733,
           61.80555555555556,
           53.74149659863946,
           31.606217616580313,
           10.666666666666668,
           71.19565217391305,
           70.04830917874396,
           53.459119496855344,
           67.3202614379085,
           67.5,
           43.47826086956522,
           50.495049504950494,
           75.24271844660194,
           64.1891891891892,
           56.08108108108109,
           67.64705882352942,
           63.52201257861635,
           66.45962732919256,
           51.35135135135135,
           27.659574468085108,
           82.27848101265823,
           75.86206896551724,
           51.07913669064749,
           47.11538461538461,
           53.90625,
           66.01941747572816,
           76.28865979381443,
           77.02702702702703,
           46.15384615384615,
           69,
           49.30555555555556,
           71.50259067357513,
           71.49758454106279
          ],
          "coloraxis": "coloraxis",
          "size": [
           54.347826086956516,
           73.68421052631578,
           63.97849462365591,
           53.333333333333336,
           42.201834862385326,
           67.85714285714286,
           50,
           71.56549520766772,
           52.57731958762887,
           56.27705627705628,
           61.34020618556701,
           41.333333333333336,
           59.166666666666664,
           67.04545454545455,
           62.23776223776224,
           58.88888888888889,
           53.21100917431193,
           40,
           62.62626262626263,
           43.18181818181818,
           52.74725274725275,
           38.46153846153847,
           51.35135135135135,
           78.94736842105263,
           70.77625570776256,
           60,
           68.83116883116884,
           53.68421052631579,
           55.932203389830505,
           67.32673267326733,
           61.80555555555556,
           53.74149659863946,
           31.606217616580313,
           10.666666666666668,
           71.19565217391305,
           70.04830917874396,
           53.459119496855344,
           67.3202614379085,
           67.5,
           43.47826086956522,
           50.495049504950494,
           75.24271844660194,
           64.1891891891892,
           56.08108108108109,
           67.64705882352942,
           63.52201257861635,
           66.45962732919256,
           51.35135135135135,
           27.659574468085108,
           82.27848101265823,
           75.86206896551724,
           51.07913669064749,
           47.11538461538461,
           53.90625,
           66.01941747572816,
           76.28865979381443,
           77.02702702702703,
           46.15384615384615,
           69,
           49.30555555555556,
           71.50259067357513,
           71.49758454106279
          ],
          "sizemode": "area",
          "sizeref": 0.3656821378340366
         },
         "mode": "markers",
         "name": "",
         "showlegend": false,
         "subplot": "mapbox",
         "type": "scattermapbox"
        }
       ],
       "layout": {
        "coloraxis": {
         "colorbar": {
          "title": {
           "text": "positive_percentage"
          }
         },
         "colorscale": [
          [
           0,
           "rgb(208, 88, 126)"
          ],
          [
           0.16666666666666666,
           "rgb(217, 137, 148)"
          ],
          [
           0.3333333333333333,
           "rgb(229, 185, 173)"
          ],
          [
           0.5,
           "rgb(241, 234, 200)"
          ],
          [
           0.6666666666666666,
           "rgb(177, 199, 179)"
          ],
          [
           0.8333333333333334,
           "rgb(114, 170, 161)"
          ],
          [
           1,
           "rgb(0, 147, 146)"
          ]
         ]
        },
        "height": 800,
        "legend": {
         "itemsizing": "constant",
         "title": {
          "text": "Positive Review %"
         },
         "tracegroupgap": 0
        },
        "mapbox": {
         "center": {
          "lat": -7.272093603225807,
          "lon": 112.73066282964216
         },
         "domain": {
          "x": [
           0,
           1
          ],
          "y": [
           0,
           1
          ]
         },
         "style": "carto-positron",
         "zoom": 10
        },
        "template": {
         "data": {
          "bar": [
           {
            "error_x": {
             "color": "#2a3f5f"
            },
            "error_y": {
             "color": "#2a3f5f"
            },
            "marker": {
             "line": {
              "color": "#E5ECF6",
              "width": 0.5
             },
             "pattern": {
              "fillmode": "overlay",
              "size": 10,
              "solidity": 0.2
             }
            },
            "type": "bar"
           }
          ],
          "barpolar": [
           {
            "marker": {
             "line": {
              "color": "#E5ECF6",
              "width": 0.5
             },
             "pattern": {
              "fillmode": "overlay",
              "size": 10,
              "solidity": 0.2
             }
            },
            "type": "barpolar"
           }
          ],
          "carpet": [
           {
            "aaxis": {
             "endlinecolor": "#2a3f5f",
             "gridcolor": "white",
             "linecolor": "white",
             "minorgridcolor": "white",
             "startlinecolor": "#2a3f5f"
            },
            "baxis": {
             "endlinecolor": "#2a3f5f",
             "gridcolor": "white",
             "linecolor": "white",
             "minorgridcolor": "white",
             "startlinecolor": "#2a3f5f"
            },
            "type": "carpet"
           }
          ],
          "choropleth": [
           {
            "colorbar": {
             "outlinewidth": 0,
             "ticks": ""
            },
            "type": "choropleth"
           }
          ],
          "contour": [
           {
            "colorbar": {
             "outlinewidth": 0,
             "ticks": ""
            },
            "colorscale": [
             [
              0,
              "#0d0887"
             ],
             [
              0.1111111111111111,
              "#46039f"
             ],
             [
              0.2222222222222222,
              "#7201a8"
             ],
             [
              0.3333333333333333,
              "#9c179e"
             ],
             [
              0.4444444444444444,
              "#bd3786"
             ],
             [
              0.5555555555555556,
              "#d8576b"
             ],
             [
              0.6666666666666666,
              "#ed7953"
             ],
             [
              0.7777777777777778,
              "#fb9f3a"
             ],
             [
              0.8888888888888888,
              "#fdca26"
             ],
             [
              1,
              "#f0f921"
             ]
            ],
            "type": "contour"
           }
          ],
          "contourcarpet": [
           {
            "colorbar": {
             "outlinewidth": 0,
             "ticks": ""
            },
            "type": "contourcarpet"
           }
          ],
          "heatmap": [
           {
            "colorbar": {
             "outlinewidth": 0,
             "ticks": ""
            },
            "colorscale": [
             [
              0,
              "#0d0887"
             ],
             [
              0.1111111111111111,
              "#46039f"
             ],
             [
              0.2222222222222222,
              "#7201a8"
             ],
             [
              0.3333333333333333,
              "#9c179e"
             ],
             [
              0.4444444444444444,
              "#bd3786"
             ],
             [
              0.5555555555555556,
              "#d8576b"
             ],
             [
              0.6666666666666666,
              "#ed7953"
             ],
             [
              0.7777777777777778,
              "#fb9f3a"
             ],
             [
              0.8888888888888888,
              "#fdca26"
             ],
             [
              1,
              "#f0f921"
             ]
            ],
            "type": "heatmap"
           }
          ],
          "heatmapgl": [
           {
            "colorbar": {
             "outlinewidth": 0,
             "ticks": ""
            },
            "colorscale": [
             [
              0,
              "#0d0887"
             ],
             [
              0.1111111111111111,
              "#46039f"
             ],
             [
              0.2222222222222222,
              "#7201a8"
             ],
             [
              0.3333333333333333,
              "#9c179e"
             ],
             [
              0.4444444444444444,
              "#bd3786"
             ],
             [
              0.5555555555555556,
              "#d8576b"
             ],
             [
              0.6666666666666666,
              "#ed7953"
             ],
             [
              0.7777777777777778,
              "#fb9f3a"
             ],
             [
              0.8888888888888888,
              "#fdca26"
             ],
             [
              1,
              "#f0f921"
             ]
            ],
            "type": "heatmapgl"
           }
          ],
          "histogram": [
           {
            "marker": {
             "pattern": {
              "fillmode": "overlay",
              "size": 10,
              "solidity": 0.2
             }
            },
            "type": "histogram"
           }
          ],
          "histogram2d": [
           {
            "colorbar": {
             "outlinewidth": 0,
             "ticks": ""
            },
            "colorscale": [
             [
              0,
              "#0d0887"
             ],
             [
              0.1111111111111111,
              "#46039f"
             ],
             [
              0.2222222222222222,
              "#7201a8"
             ],
             [
              0.3333333333333333,
              "#9c179e"
             ],
             [
              0.4444444444444444,
              "#bd3786"
             ],
             [
              0.5555555555555556,
              "#d8576b"
             ],
             [
              0.6666666666666666,
              "#ed7953"
             ],
             [
              0.7777777777777778,
              "#fb9f3a"
             ],
             [
              0.8888888888888888,
              "#fdca26"
             ],
             [
              1,
              "#f0f921"
             ]
            ],
            "type": "histogram2d"
           }
          ],
          "histogram2dcontour": [
           {
            "colorbar": {
             "outlinewidth": 0,
             "ticks": ""
            },
            "colorscale": [
             [
              0,
              "#0d0887"
             ],
             [
              0.1111111111111111,
              "#46039f"
             ],
             [
              0.2222222222222222,
              "#7201a8"
             ],
             [
              0.3333333333333333,
              "#9c179e"
             ],
             [
              0.4444444444444444,
              "#bd3786"
             ],
             [
              0.5555555555555556,
              "#d8576b"
             ],
             [
              0.6666666666666666,
              "#ed7953"
             ],
             [
              0.7777777777777778,
              "#fb9f3a"
             ],
             [
              0.8888888888888888,
              "#fdca26"
             ],
             [
              1,
              "#f0f921"
             ]
            ],
            "type": "histogram2dcontour"
           }
          ],
          "mesh3d": [
           {
            "colorbar": {
             "outlinewidth": 0,
             "ticks": ""
            },
            "type": "mesh3d"
           }
          ],
          "parcoords": [
           {
            "line": {
             "colorbar": {
              "outlinewidth": 0,
              "ticks": ""
             }
            },
            "type": "parcoords"
           }
          ],
          "pie": [
           {
            "automargin": true,
            "type": "pie"
           }
          ],
          "scatter": [
           {
            "fillpattern": {
             "fillmode": "overlay",
             "size": 10,
             "solidity": 0.2
            },
            "type": "scatter"
           }
          ],
          "scatter3d": [
           {
            "line": {
             "colorbar": {
              "outlinewidth": 0,
              "ticks": ""
             }
            },
            "marker": {
             "colorbar": {
              "outlinewidth": 0,
              "ticks": ""
             }
            },
            "type": "scatter3d"
           }
          ],
          "scattercarpet": [
           {
            "marker": {
             "colorbar": {
              "outlinewidth": 0,
              "ticks": ""
             }
            },
            "type": "scattercarpet"
           }
          ],
          "scattergeo": [
           {
            "marker": {
             "colorbar": {
              "outlinewidth": 0,
              "ticks": ""
             }
            },
            "type": "scattergeo"
           }
          ],
          "scattergl": [
           {
            "marker": {
             "colorbar": {
              "outlinewidth": 0,
              "ticks": ""
             }
            },
            "type": "scattergl"
           }
          ],
          "scattermapbox": [
           {
            "marker": {
             "colorbar": {
              "outlinewidth": 0,
              "ticks": ""
             }
            },
            "type": "scattermapbox"
           }
          ],
          "scatterpolar": [
           {
            "marker": {
             "colorbar": {
              "outlinewidth": 0,
              "ticks": ""
             }
            },
            "type": "scatterpolar"
           }
          ],
          "scatterpolargl": [
           {
            "marker": {
             "colorbar": {
              "outlinewidth": 0,
              "ticks": ""
             }
            },
            "type": "scatterpolargl"
           }
          ],
          "scatterternary": [
           {
            "marker": {
             "colorbar": {
              "outlinewidth": 0,
              "ticks": ""
             }
            },
            "type": "scatterternary"
           }
          ],
          "surface": [
           {
            "colorbar": {
             "outlinewidth": 0,
             "ticks": ""
            },
            "colorscale": [
             [
              0,
              "#0d0887"
             ],
             [
              0.1111111111111111,
              "#46039f"
             ],
             [
              0.2222222222222222,
              "#7201a8"
             ],
             [
              0.3333333333333333,
              "#9c179e"
             ],
             [
              0.4444444444444444,
              "#bd3786"
             ],
             [
              0.5555555555555556,
              "#d8576b"
             ],
             [
              0.6666666666666666,
              "#ed7953"
             ],
             [
              0.7777777777777778,
              "#fb9f3a"
             ],
             [
              0.8888888888888888,
              "#fdca26"
             ],
             [
              1,
              "#f0f921"
             ]
            ],
            "type": "surface"
           }
          ],
          "table": [
           {
            "cells": {
             "fill": {
              "color": "#EBF0F8"
             },
             "line": {
              "color": "white"
             }
            },
            "header": {
             "fill": {
              "color": "#C8D4E3"
             },
             "line": {
              "color": "white"
             }
            },
            "type": "table"
           }
          ]
         },
         "layout": {
          "annotationdefaults": {
           "arrowcolor": "#2a3f5f",
           "arrowhead": 0,
           "arrowwidth": 1
          },
          "autotypenumbers": "strict",
          "coloraxis": {
           "colorbar": {
            "outlinewidth": 0,
            "ticks": ""
           }
          },
          "colorscale": {
           "diverging": [
            [
             0,
             "#8e0152"
            ],
            [
             0.1,
             "#c51b7d"
            ],
            [
             0.2,
             "#de77ae"
            ],
            [
             0.3,
             "#f1b6da"
            ],
            [
             0.4,
             "#fde0ef"
            ],
            [
             0.5,
             "#f7f7f7"
            ],
            [
             0.6,
             "#e6f5d0"
            ],
            [
             0.7,
             "#b8e186"
            ],
            [
             0.8,
             "#7fbc41"
            ],
            [
             0.9,
             "#4d9221"
            ],
            [
             1,
             "#276419"
            ]
           ],
           "sequential": [
            [
             0,
             "#0d0887"
            ],
            [
             0.1111111111111111,
             "#46039f"
            ],
            [
             0.2222222222222222,
             "#7201a8"
            ],
            [
             0.3333333333333333,
             "#9c179e"
            ],
            [
             0.4444444444444444,
             "#bd3786"
            ],
            [
             0.5555555555555556,
             "#d8576b"
            ],
            [
             0.6666666666666666,
             "#ed7953"
            ],
            [
             0.7777777777777778,
             "#fb9f3a"
            ],
            [
             0.8888888888888888,
             "#fdca26"
            ],
            [
             1,
             "#f0f921"
            ]
           ],
           "sequentialminus": [
            [
             0,
             "#0d0887"
            ],
            [
             0.1111111111111111,
             "#46039f"
            ],
            [
             0.2222222222222222,
             "#7201a8"
            ],
            [
             0.3333333333333333,
             "#9c179e"
            ],
            [
             0.4444444444444444,
             "#bd3786"
            ],
            [
             0.5555555555555556,
             "#d8576b"
            ],
            [
             0.6666666666666666,
             "#ed7953"
            ],
            [
             0.7777777777777778,
             "#fb9f3a"
            ],
            [
             0.8888888888888888,
             "#fdca26"
            ],
            [
             1,
             "#f0f921"
            ]
           ]
          },
          "colorway": [
           "#636efa",
           "#EF553B",
           "#00cc96",
           "#ab63fa",
           "#FFA15A",
           "#19d3f3",
           "#FF6692",
           "#B6E880",
           "#FF97FF",
           "#FECB52"
          ],
          "font": {
           "color": "#2a3f5f"
          },
          "geo": {
           "bgcolor": "white",
           "lakecolor": "white",
           "landcolor": "#E5ECF6",
           "showlakes": true,
           "showland": true,
           "subunitcolor": "white"
          },
          "hoverlabel": {
           "align": "left"
          },
          "hovermode": "closest",
          "mapbox": {
           "style": "light"
          },
          "paper_bgcolor": "white",
          "plot_bgcolor": "#E5ECF6",
          "polar": {
           "angularaxis": {
            "gridcolor": "white",
            "linecolor": "white",
            "ticks": ""
           },
           "bgcolor": "#E5ECF6",
           "radialaxis": {
            "gridcolor": "white",
            "linecolor": "white",
            "ticks": ""
           }
          },
          "scene": {
           "xaxis": {
            "backgroundcolor": "#E5ECF6",
            "gridcolor": "white",
            "gridwidth": 2,
            "linecolor": "white",
            "showbackground": true,
            "ticks": "",
            "zerolinecolor": "white"
           },
           "yaxis": {
            "backgroundcolor": "#E5ECF6",
            "gridcolor": "white",
            "gridwidth": 2,
            "linecolor": "white",
            "showbackground": true,
            "ticks": "",
            "zerolinecolor": "white"
           },
           "zaxis": {
            "backgroundcolor": "#E5ECF6",
            "gridcolor": "white",
            "gridwidth": 2,
            "linecolor": "white",
            "showbackground": true,
            "ticks": "",
            "zerolinecolor": "white"
           }
          },
          "shapedefaults": {
           "line": {
            "color": "#2a3f5f"
           }
          },
          "ternary": {
           "aaxis": {
            "gridcolor": "white",
            "linecolor": "white",
            "ticks": ""
           },
           "baxis": {
            "gridcolor": "white",
            "linecolor": "white",
            "ticks": ""
           },
           "bgcolor": "#E5ECF6",
           "caxis": {
            "gridcolor": "white",
            "linecolor": "white",
            "ticks": ""
           }
          },
          "title": {
           "x": 0.05
          },
          "xaxis": {
           "automargin": true,
           "gridcolor": "white",
           "linecolor": "white",
           "ticks": "",
           "title": {
            "standoff": 15
           },
           "zerolinecolor": "white",
           "zerolinewidth": 2
          },
          "yaxis": {
           "automargin": true,
           "gridcolor": "white",
           "linecolor": "white",
           "ticks": "",
           "title": {
            "standoff": 15
           },
           "zerolinecolor": "white",
           "zerolinewidth": 2
          }
         }
        },
        "title": {
         "text": "Puskesmas Positive Review Percentage",
         "x": 0.5,
         "xanchor": "center"
        },
        "width": 800
       }
      }
     },
     "metadata": {},
     "output_type": "display_data"
    }
   ],
   "source": [
    "data_for_plotting = detail_puskesmas[\n",
    "    [\"lat\", \"lon\", \"puskesmas_name\", \"positive_percentage\"]\n",
    "]\n",
    "\n",
    "data_for_plotting[\"lat\"] = pd.to_numeric(data_for_plotting[\"lat\"], errors=\"coerce\")\n",
    "data_for_plotting[\"lon\"] = pd.to_numeric(data_for_plotting[\"lon\"], errors=\"coerce\")\n",
    "data_for_plotting[\"positive_percentage\"] = data_for_plotting[\n",
    "    \"positive_percentage\"\n",
    "].fillna(0)\n",
    "\n",
    "data_for_plotting = data_for_plotting[data_for_plotting[\"positive_percentage\"] != 0]\n",
    "\n",
    "fig = px.scatter_mapbox(\n",
    "    data_for_plotting,\n",
    "    lat=\"lat\",\n",
    "    lon=\"lon\",\n",
    "    color=\"positive_percentage\",\n",
    "    size=\"positive_percentage\",\n",
    "    hover_name=\"puskesmas_name\",\n",
    "    hover_data={\"positive_percentage\": True},\n",
    "    size_max=15,\n",
    "    zoom=10,\n",
    "    center={\n",
    "        \"lat\": data_for_plotting[\"lat\"].mean(),\n",
    "        \"lon\": data_for_plotting[\"lon\"].mean(),\n",
    "    },\n",
    "    mapbox_style=\"carto-positron\",\n",
    "    color_continuous_scale=px.colors.diverging.Tealrose_r,\n",
    "    title=\"Puskesmas Positive Review Percentage\",\n",
    ")\n",
    "\n",
    "fig.update_traces(marker=dict(size=64, opacity=0.7), selector=dict(mode=\"markers+text\"))\n",
    "\n",
    "fig.update_layout(\n",
    "    legend_title_text=\"Positive Review %\",\n",
    "    title=dict(text=\"Puskesmas Positive Review Percentage\", x=0.5, xanchor=\"center\"),\n",
    ")\n",
    "\n",
    "fig.update_layout(width=800, height=800)\n",
    "fig.show()"
   ]
  },
  {
   "cell_type": "markdown",
   "metadata": {},
   "source": [
    "## Top 10 Puskesmas with the positive review"
   ]
  },
  {
   "cell_type": "code",
   "execution_count": 5,
   "metadata": {},
   "outputs": [
    {
     "name": "stderr",
     "output_type": "stream",
     "text": [
      "/tmp/ipykernel_4869/2427489040.py:8: SettingWithCopyWarning:\n",
      "\n",
      "\n",
      "A value is trying to be set on a copy of a slice from a DataFrame.\n",
      "Try using .loc[row_indexer,col_indexer] = value instead\n",
      "\n",
      "See the caveats in the documentation: https://pandas.pydata.org/pandas-docs/stable/user_guide/indexing.html#returning-a-view-versus-a-copy\n",
      "\n",
      "/tmp/ipykernel_4869/2427489040.py:9: SettingWithCopyWarning:\n",
      "\n",
      "\n",
      "A value is trying to be set on a copy of a slice from a DataFrame.\n",
      "Try using .loc[row_indexer,col_indexer] = value instead\n",
      "\n",
      "See the caveats in the documentation: https://pandas.pydata.org/pandas-docs/stable/user_guide/indexing.html#returning-a-view-versus-a-copy\n",
      "\n",
      "/tmp/ipykernel_4869/2427489040.py:10: SettingWithCopyWarning:\n",
      "\n",
      "\n",
      "A value is trying to be set on a copy of a slice from a DataFrame.\n",
      "Try using .loc[row_indexer,col_indexer] = value instead\n",
      "\n",
      "See the caveats in the documentation: https://pandas.pydata.org/pandas-docs/stable/user_guide/indexing.html#returning-a-view-versus-a-copy\n",
      "\n"
     ]
    },
    {
     "data": {
      "application/vnd.plotly.v1+json": {
       "config": {
        "plotlyServerURL": "https://plot.ly"
       },
       "data": [
        {
         "customdata": [
          [
           82.27848101265823
          ],
          [
           78.94736842105263
          ],
          [
           77.02702702702703
          ],
          [
           76.28865979381443
          ],
          [
           75.86206896551724
          ],
          [
           75.24271844660194
          ],
          [
           73.68421052631578
          ],
          [
           71.56549520766772
          ],
          [
           71.50259067357513
          ],
          [
           71.49758454106279
          ]
         ],
         "hovertemplate": "<b>%{hovertext}</b><br>Positivity Rate: %{marker.color:.2f}%",
         "hovertext": [
          "Puskesmas Sidotopo Wetan",
          "Puskesmas Ketabang",
          "Puskesmas Tanjungsari",
          "Puskesmas Tanah Kali Kedinding",
          "Puskesmas Simolawang",
          "Puskesmas Pucang Sewu",
          "Puskesmas Balas Klumprik",
          "Puskesmas Dukuh Kupang",
          "Puskesmas Wonokromo",
          "Puskesmas Wonokusumo"
         ],
         "lat": [
          -7.22658925,
          -7.2580613,
          -7.25940435,
          -7.23037625,
          -7.2348687,
          -7.28659415,
          -7.3315249,
          -7.283236,
          -7.303176499999999,
          -7.219663649999999
         ],
         "legendgroup": "",
         "lon": [
          112.76350132938722,
          112.74677403040268,
          112.6892628357994,
          112.77446968315311,
          112.75104985,
          112.7555282626124,
          112.69002720464968,
          112.71222568060509,
          112.7303924779992,
          112.75256160671904
         ],
         "marker": {
          "color": [
           82.27848101265823,
           78.94736842105263,
           77.02702702702703,
           76.28865979381443,
           75.86206896551724,
           75.24271844660194,
           73.68421052631578,
           71.56549520766772,
           71.50259067357513,
           71.49758454106279
          ],
          "coloraxis": "coloraxis",
          "opacity": 0.7,
          "size": 28,
          "sizemode": "area",
          "sizeref": 0.3656821378340366
         },
         "mode": "markers",
         "name": "",
         "showlegend": false,
         "subplot": "mapbox",
         "textposition": "top center",
         "type": "scattermapbox"
        }
       ],
       "layout": {
        "coloraxis": {
         "cmax": 82.27848101265823,
         "cmin": 10.666666666666668,
         "colorbar": {
          "title": {
           "text": "Positivity Rate (%)"
          }
         },
         "colorscale": [
          [
           0,
           "rgb(208, 88, 126)"
          ],
          [
           0.16666666666666666,
           "rgb(217, 137, 148)"
          ],
          [
           0.3333333333333333,
           "rgb(229, 185, 173)"
          ],
          [
           0.5,
           "rgb(241, 234, 200)"
          ],
          [
           0.6666666666666666,
           "rgb(177, 199, 179)"
          ],
          [
           0.8333333333333334,
           "rgb(114, 170, 161)"
          ],
          [
           1,
           "rgb(0, 147, 146)"
          ]
         ]
        },
        "height": 800,
        "legend": {
         "bgcolor": "rgba(255,255,255,0.5)",
         "bordercolor": "Black",
         "borderwidth": 2,
         "itemsizing": "constant",
         "title": {
          "font": {
           "color": "blue",
           "size": 14
          }
         },
         "tracegroupgap": 0
        },
        "mapbox": {
         "center": {
          "lat": -7.263349504999999,
          "lon": 112.73657929613277
         },
         "domain": {
          "x": [
           0,
           1
          ],
          "y": [
           0,
           1
          ]
         },
         "style": "carto-positron",
         "zoom": 10
        },
        "template": {
         "data": {
          "bar": [
           {
            "error_x": {
             "color": "#2a3f5f"
            },
            "error_y": {
             "color": "#2a3f5f"
            },
            "marker": {
             "line": {
              "color": "#E5ECF6",
              "width": 0.5
             },
             "pattern": {
              "fillmode": "overlay",
              "size": 10,
              "solidity": 0.2
             }
            },
            "type": "bar"
           }
          ],
          "barpolar": [
           {
            "marker": {
             "line": {
              "color": "#E5ECF6",
              "width": 0.5
             },
             "pattern": {
              "fillmode": "overlay",
              "size": 10,
              "solidity": 0.2
             }
            },
            "type": "barpolar"
           }
          ],
          "carpet": [
           {
            "aaxis": {
             "endlinecolor": "#2a3f5f",
             "gridcolor": "white",
             "linecolor": "white",
             "minorgridcolor": "white",
             "startlinecolor": "#2a3f5f"
            },
            "baxis": {
             "endlinecolor": "#2a3f5f",
             "gridcolor": "white",
             "linecolor": "white",
             "minorgridcolor": "white",
             "startlinecolor": "#2a3f5f"
            },
            "type": "carpet"
           }
          ],
          "choropleth": [
           {
            "colorbar": {
             "outlinewidth": 0,
             "ticks": ""
            },
            "type": "choropleth"
           }
          ],
          "contour": [
           {
            "colorbar": {
             "outlinewidth": 0,
             "ticks": ""
            },
            "colorscale": [
             [
              0,
              "#0d0887"
             ],
             [
              0.1111111111111111,
              "#46039f"
             ],
             [
              0.2222222222222222,
              "#7201a8"
             ],
             [
              0.3333333333333333,
              "#9c179e"
             ],
             [
              0.4444444444444444,
              "#bd3786"
             ],
             [
              0.5555555555555556,
              "#d8576b"
             ],
             [
              0.6666666666666666,
              "#ed7953"
             ],
             [
              0.7777777777777778,
              "#fb9f3a"
             ],
             [
              0.8888888888888888,
              "#fdca26"
             ],
             [
              1,
              "#f0f921"
             ]
            ],
            "type": "contour"
           }
          ],
          "contourcarpet": [
           {
            "colorbar": {
             "outlinewidth": 0,
             "ticks": ""
            },
            "type": "contourcarpet"
           }
          ],
          "heatmap": [
           {
            "colorbar": {
             "outlinewidth": 0,
             "ticks": ""
            },
            "colorscale": [
             [
              0,
              "#0d0887"
             ],
             [
              0.1111111111111111,
              "#46039f"
             ],
             [
              0.2222222222222222,
              "#7201a8"
             ],
             [
              0.3333333333333333,
              "#9c179e"
             ],
             [
              0.4444444444444444,
              "#bd3786"
             ],
             [
              0.5555555555555556,
              "#d8576b"
             ],
             [
              0.6666666666666666,
              "#ed7953"
             ],
             [
              0.7777777777777778,
              "#fb9f3a"
             ],
             [
              0.8888888888888888,
              "#fdca26"
             ],
             [
              1,
              "#f0f921"
             ]
            ],
            "type": "heatmap"
           }
          ],
          "heatmapgl": [
           {
            "colorbar": {
             "outlinewidth": 0,
             "ticks": ""
            },
            "colorscale": [
             [
              0,
              "#0d0887"
             ],
             [
              0.1111111111111111,
              "#46039f"
             ],
             [
              0.2222222222222222,
              "#7201a8"
             ],
             [
              0.3333333333333333,
              "#9c179e"
             ],
             [
              0.4444444444444444,
              "#bd3786"
             ],
             [
              0.5555555555555556,
              "#d8576b"
             ],
             [
              0.6666666666666666,
              "#ed7953"
             ],
             [
              0.7777777777777778,
              "#fb9f3a"
             ],
             [
              0.8888888888888888,
              "#fdca26"
             ],
             [
              1,
              "#f0f921"
             ]
            ],
            "type": "heatmapgl"
           }
          ],
          "histogram": [
           {
            "marker": {
             "pattern": {
              "fillmode": "overlay",
              "size": 10,
              "solidity": 0.2
             }
            },
            "type": "histogram"
           }
          ],
          "histogram2d": [
           {
            "colorbar": {
             "outlinewidth": 0,
             "ticks": ""
            },
            "colorscale": [
             [
              0,
              "#0d0887"
             ],
             [
              0.1111111111111111,
              "#46039f"
             ],
             [
              0.2222222222222222,
              "#7201a8"
             ],
             [
              0.3333333333333333,
              "#9c179e"
             ],
             [
              0.4444444444444444,
              "#bd3786"
             ],
             [
              0.5555555555555556,
              "#d8576b"
             ],
             [
              0.6666666666666666,
              "#ed7953"
             ],
             [
              0.7777777777777778,
              "#fb9f3a"
             ],
             [
              0.8888888888888888,
              "#fdca26"
             ],
             [
              1,
              "#f0f921"
             ]
            ],
            "type": "histogram2d"
           }
          ],
          "histogram2dcontour": [
           {
            "colorbar": {
             "outlinewidth": 0,
             "ticks": ""
            },
            "colorscale": [
             [
              0,
              "#0d0887"
             ],
             [
              0.1111111111111111,
              "#46039f"
             ],
             [
              0.2222222222222222,
              "#7201a8"
             ],
             [
              0.3333333333333333,
              "#9c179e"
             ],
             [
              0.4444444444444444,
              "#bd3786"
             ],
             [
              0.5555555555555556,
              "#d8576b"
             ],
             [
              0.6666666666666666,
              "#ed7953"
             ],
             [
              0.7777777777777778,
              "#fb9f3a"
             ],
             [
              0.8888888888888888,
              "#fdca26"
             ],
             [
              1,
              "#f0f921"
             ]
            ],
            "type": "histogram2dcontour"
           }
          ],
          "mesh3d": [
           {
            "colorbar": {
             "outlinewidth": 0,
             "ticks": ""
            },
            "type": "mesh3d"
           }
          ],
          "parcoords": [
           {
            "line": {
             "colorbar": {
              "outlinewidth": 0,
              "ticks": ""
             }
            },
            "type": "parcoords"
           }
          ],
          "pie": [
           {
            "automargin": true,
            "type": "pie"
           }
          ],
          "scatter": [
           {
            "fillpattern": {
             "fillmode": "overlay",
             "size": 10,
             "solidity": 0.2
            },
            "type": "scatter"
           }
          ],
          "scatter3d": [
           {
            "line": {
             "colorbar": {
              "outlinewidth": 0,
              "ticks": ""
             }
            },
            "marker": {
             "colorbar": {
              "outlinewidth": 0,
              "ticks": ""
             }
            },
            "type": "scatter3d"
           }
          ],
          "scattercarpet": [
           {
            "marker": {
             "colorbar": {
              "outlinewidth": 0,
              "ticks": ""
             }
            },
            "type": "scattercarpet"
           }
          ],
          "scattergeo": [
           {
            "marker": {
             "colorbar": {
              "outlinewidth": 0,
              "ticks": ""
             }
            },
            "type": "scattergeo"
           }
          ],
          "scattergl": [
           {
            "marker": {
             "colorbar": {
              "outlinewidth": 0,
              "ticks": ""
             }
            },
            "type": "scattergl"
           }
          ],
          "scattermapbox": [
           {
            "marker": {
             "colorbar": {
              "outlinewidth": 0,
              "ticks": ""
             }
            },
            "type": "scattermapbox"
           }
          ],
          "scatterpolar": [
           {
            "marker": {
             "colorbar": {
              "outlinewidth": 0,
              "ticks": ""
             }
            },
            "type": "scatterpolar"
           }
          ],
          "scatterpolargl": [
           {
            "marker": {
             "colorbar": {
              "outlinewidth": 0,
              "ticks": ""
             }
            },
            "type": "scatterpolargl"
           }
          ],
          "scatterternary": [
           {
            "marker": {
             "colorbar": {
              "outlinewidth": 0,
              "ticks": ""
             }
            },
            "type": "scatterternary"
           }
          ],
          "surface": [
           {
            "colorbar": {
             "outlinewidth": 0,
             "ticks": ""
            },
            "colorscale": [
             [
              0,
              "#0d0887"
             ],
             [
              0.1111111111111111,
              "#46039f"
             ],
             [
              0.2222222222222222,
              "#7201a8"
             ],
             [
              0.3333333333333333,
              "#9c179e"
             ],
             [
              0.4444444444444444,
              "#bd3786"
             ],
             [
              0.5555555555555556,
              "#d8576b"
             ],
             [
              0.6666666666666666,
              "#ed7953"
             ],
             [
              0.7777777777777778,
              "#fb9f3a"
             ],
             [
              0.8888888888888888,
              "#fdca26"
             ],
             [
              1,
              "#f0f921"
             ]
            ],
            "type": "surface"
           }
          ],
          "table": [
           {
            "cells": {
             "fill": {
              "color": "#EBF0F8"
             },
             "line": {
              "color": "white"
             }
            },
            "header": {
             "fill": {
              "color": "#C8D4E3"
             },
             "line": {
              "color": "white"
             }
            },
            "type": "table"
           }
          ]
         },
         "layout": {
          "annotationdefaults": {
           "arrowcolor": "#2a3f5f",
           "arrowhead": 0,
           "arrowwidth": 1
          },
          "autotypenumbers": "strict",
          "coloraxis": {
           "colorbar": {
            "outlinewidth": 0,
            "ticks": ""
           }
          },
          "colorscale": {
           "diverging": [
            [
             0,
             "#8e0152"
            ],
            [
             0.1,
             "#c51b7d"
            ],
            [
             0.2,
             "#de77ae"
            ],
            [
             0.3,
             "#f1b6da"
            ],
            [
             0.4,
             "#fde0ef"
            ],
            [
             0.5,
             "#f7f7f7"
            ],
            [
             0.6,
             "#e6f5d0"
            ],
            [
             0.7,
             "#b8e186"
            ],
            [
             0.8,
             "#7fbc41"
            ],
            [
             0.9,
             "#4d9221"
            ],
            [
             1,
             "#276419"
            ]
           ],
           "sequential": [
            [
             0,
             "#0d0887"
            ],
            [
             0.1111111111111111,
             "#46039f"
            ],
            [
             0.2222222222222222,
             "#7201a8"
            ],
            [
             0.3333333333333333,
             "#9c179e"
            ],
            [
             0.4444444444444444,
             "#bd3786"
            ],
            [
             0.5555555555555556,
             "#d8576b"
            ],
            [
             0.6666666666666666,
             "#ed7953"
            ],
            [
             0.7777777777777778,
             "#fb9f3a"
            ],
            [
             0.8888888888888888,
             "#fdca26"
            ],
            [
             1,
             "#f0f921"
            ]
           ],
           "sequentialminus": [
            [
             0,
             "#0d0887"
            ],
            [
             0.1111111111111111,
             "#46039f"
            ],
            [
             0.2222222222222222,
             "#7201a8"
            ],
            [
             0.3333333333333333,
             "#9c179e"
            ],
            [
             0.4444444444444444,
             "#bd3786"
            ],
            [
             0.5555555555555556,
             "#d8576b"
            ],
            [
             0.6666666666666666,
             "#ed7953"
            ],
            [
             0.7777777777777778,
             "#fb9f3a"
            ],
            [
             0.8888888888888888,
             "#fdca26"
            ],
            [
             1,
             "#f0f921"
            ]
           ]
          },
          "colorway": [
           "#636efa",
           "#EF553B",
           "#00cc96",
           "#ab63fa",
           "#FFA15A",
           "#19d3f3",
           "#FF6692",
           "#B6E880",
           "#FF97FF",
           "#FECB52"
          ],
          "font": {
           "color": "#2a3f5f"
          },
          "geo": {
           "bgcolor": "white",
           "lakecolor": "white",
           "landcolor": "#E5ECF6",
           "showlakes": true,
           "showland": true,
           "subunitcolor": "white"
          },
          "hoverlabel": {
           "align": "left"
          },
          "hovermode": "closest",
          "mapbox": {
           "style": "light"
          },
          "paper_bgcolor": "white",
          "plot_bgcolor": "#E5ECF6",
          "polar": {
           "angularaxis": {
            "gridcolor": "white",
            "linecolor": "white",
            "ticks": ""
           },
           "bgcolor": "#E5ECF6",
           "radialaxis": {
            "gridcolor": "white",
            "linecolor": "white",
            "ticks": ""
           }
          },
          "scene": {
           "xaxis": {
            "backgroundcolor": "#E5ECF6",
            "gridcolor": "white",
            "gridwidth": 2,
            "linecolor": "white",
            "showbackground": true,
            "ticks": "",
            "zerolinecolor": "white"
           },
           "yaxis": {
            "backgroundcolor": "#E5ECF6",
            "gridcolor": "white",
            "gridwidth": 2,
            "linecolor": "white",
            "showbackground": true,
            "ticks": "",
            "zerolinecolor": "white"
           },
           "zaxis": {
            "backgroundcolor": "#E5ECF6",
            "gridcolor": "white",
            "gridwidth": 2,
            "linecolor": "white",
            "showbackground": true,
            "ticks": "",
            "zerolinecolor": "white"
           }
          },
          "shapedefaults": {
           "line": {
            "color": "#2a3f5f"
           }
          },
          "ternary": {
           "aaxis": {
            "gridcolor": "white",
            "linecolor": "white",
            "ticks": ""
           },
           "baxis": {
            "gridcolor": "white",
            "linecolor": "white",
            "ticks": ""
           },
           "bgcolor": "#E5ECF6",
           "caxis": {
            "gridcolor": "white",
            "linecolor": "white",
            "ticks": ""
           }
          },
          "title": {
           "x": 0.05
          },
          "xaxis": {
           "automargin": true,
           "gridcolor": "white",
           "linecolor": "white",
           "ticks": "",
           "title": {
            "standoff": 15
           },
           "zerolinecolor": "white",
           "zerolinewidth": 2
          },
          "yaxis": {
           "automargin": true,
           "gridcolor": "white",
           "linecolor": "white",
           "ticks": "",
           "title": {
            "standoff": 15
           },
           "zerolinecolor": "white",
           "zerolinewidth": 2
          }
         }
        },
        "title": {
         "text": "Top 10 Puskesmas with Positive Review Percentage",
         "x": 0.5,
         "xanchor": "center"
        },
        "width": 800
       }
      }
     },
     "metadata": {},
     "output_type": "display_data"
    }
   ],
   "source": [
    "import pandas as pd\n",
    "import plotly.express as px\n",
    "\n",
    "data_for_plotting = detail_puskesmas[\n",
    "    [\"lat\", \"lon\", \"puskesmas_name\", \"positive_percentage\"]\n",
    "]\n",
    "\n",
    "data_for_plotting[\"lat\"] = pd.to_numeric(data_for_plotting[\"lat\"], errors=\"coerce\")\n",
    "data_for_plotting[\"lon\"] = pd.to_numeric(data_for_plotting[\"lon\"], errors=\"coerce\")\n",
    "data_for_plotting[\"positive_percentage\"] = data_for_plotting[\n",
    "    \"positive_percentage\"\n",
    "].fillna(0)\n",
    "\n",
    "data_for_plotting = data_for_plotting[data_for_plotting[\"positive_percentage\"] != 0]\n",
    "\n",
    "top_10_data_for_plotting = data_for_plotting.sort_values(\n",
    "    by=\"positive_percentage\", ascending=False\n",
    ").head(10)\n",
    "\n",
    "fig = px.scatter_mapbox(\n",
    "    top_10_data_for_plotting,\n",
    "    lat=\"lat\",\n",
    "    lon=\"lon\",\n",
    "    color=\"positive_percentage\",\n",
    "    size=\"positive_percentage\",\n",
    "    hover_name=\"puskesmas_name\",\n",
    "    hover_data={\"positive_percentage\": True},\n",
    "    size_max=15,\n",
    "    zoom=10,\n",
    "    center={\n",
    "        \"lat\": top_10_data_for_plotting[\"lat\"].mean(),\n",
    "        \"lon\": top_10_data_for_plotting[\"lon\"].mean(),\n",
    "    },\n",
    "    mapbox_style=\"carto-positron\", \n",
    "    color_continuous_scale=px.colors.diverging.Tealrose_r,\n",
    "    title=\"Top 10 Puskesmas with Positive Review Percentage\",\n",
    "    range_color=[detail_puskesmas['positive_percentage'].min(), detail_puskesmas[\"positive_percentage\"].max()],\n",
    ")\n",
    "\n",
    "fig.update_traces(marker=dict(size=28, opacity=0.7), textposition=\"top center\")\n",
    "\n",
    "fig.update_traces(\n",
    "    hovertemplate=\"<b>%{hovertext}</b><br>Positivity Rate: %{marker.color:.2f}%\"\n",
    ")\n",
    "\n",
    "fig.update_coloraxes(colorbar_title=\"Positivity Rate (%)\")\n",
    "\n",
    "fig.update_layout(\n",
    "    legend=dict(\n",
    "        title_font=dict(size=14, color=\"blue\"),\n",
    "        bgcolor=\"rgba(255,255,255,0.5)\",\n",
    "        bordercolor=\"Black\",\n",
    "        borderwidth=2,\n",
    "    ),\n",
    "    title=dict(\n",
    "        text=\"Top 10 Puskesmas with Positive Review Percentage\", x=0.5, xanchor=\"center\"\n",
    "    ),\n",
    "    width=800,\n",
    "    height=800,\n",
    ")\n",
    "\n",
    "fig.show()"
   ]
  },
  {
   "cell_type": "markdown",
   "metadata": {},
   "source": [
    "## Top 10 Puskesmas with the negative review"
   ]
  },
  {
   "cell_type": "code",
   "execution_count": 6,
   "metadata": {},
   "outputs": [
    {
     "name": "stderr",
     "output_type": "stream",
     "text": [
      "/tmp/ipykernel_4869/118797639.py:8: SettingWithCopyWarning:\n",
      "\n",
      "\n",
      "A value is trying to be set on a copy of a slice from a DataFrame.\n",
      "Try using .loc[row_indexer,col_indexer] = value instead\n",
      "\n",
      "See the caveats in the documentation: https://pandas.pydata.org/pandas-docs/stable/user_guide/indexing.html#returning-a-view-versus-a-copy\n",
      "\n",
      "/tmp/ipykernel_4869/118797639.py:9: SettingWithCopyWarning:\n",
      "\n",
      "\n",
      "A value is trying to be set on a copy of a slice from a DataFrame.\n",
      "Try using .loc[row_indexer,col_indexer] = value instead\n",
      "\n",
      "See the caveats in the documentation: https://pandas.pydata.org/pandas-docs/stable/user_guide/indexing.html#returning-a-view-versus-a-copy\n",
      "\n",
      "/tmp/ipykernel_4869/118797639.py:10: SettingWithCopyWarning:\n",
      "\n",
      "\n",
      "A value is trying to be set on a copy of a slice from a DataFrame.\n",
      "Try using .loc[row_indexer,col_indexer] = value instead\n",
      "\n",
      "See the caveats in the documentation: https://pandas.pydata.org/pandas-docs/stable/user_guide/indexing.html#returning-a-view-versus-a-copy\n",
      "\n"
     ]
    },
    {
     "data": {
      "application/vnd.plotly.v1+json": {
       "config": {
        "plotlyServerURL": "https://plot.ly"
       },
       "data": [
        {
         "customdata": [
          [
           10.666666666666668
          ],
          [
           27.659574468085108
          ],
          [
           31.606217616580313
          ],
          [
           38.46153846153847
          ],
          [
           40
          ],
          [
           41.333333333333336
          ],
          [
           42.201834862385326
          ],
          [
           43.18181818181818
          ],
          [
           43.47826086956522
          ],
          [
           46.15384615384615
          ]
         ],
         "hovertemplate": "<b>%{hovertext}</b><br>Positivity Rate: %{marker.color:.2f}%",
         "hovertext": [
          "Puskesmas Morokrembangan",
          "Puskesmas Sidotopo",
          "Puskesmas Mojo",
          "Puskesmas Kenjeran",
          "Puskesmas Kalirungkut",
          "Puskesmas Gundih",
          "Puskesmas Banyu Urip",
          "Puskesmas Kedungdoro",
          "Puskesmas Peneleh",
          "Puskesmas Tembok Dukuh"
         ],
         "lat": [
          -7.2347805,
          -7.23034775,
          -7.270902149999999,
          -7.24111075,
          -7.322217999999999,
          -7.24724475,
          -7.2715069,
          -7.26370155,
          -7.2523042,
          -7.254527449999999
         ],
         "legendgroup": "",
         "lon": [
          112.71244346706712,
          112.7458816190326,
          112.77082440581847,
          112.79527909779556,
          112.77076210366916,
          112.72539045,
          112.72002732026792,
          112.7382415,
          112.74083083291244,
          112.71921325
         ],
         "marker": {
          "color": [
           10.666666666666668,
           27.659574468085108,
           31.606217616580313,
           38.46153846153847,
           40,
           41.333333333333336,
           42.201834862385326,
           43.18181818181818,
           43.47826086956522,
           46.15384615384615
          ],
          "coloraxis": "coloraxis",
          "opacity": 0.7,
          "size": 28,
          "sizemode": "area",
          "sizeref": 0.20512820512820512
         },
         "mode": "markers",
         "name": "",
         "showlegend": false,
         "subplot": "mapbox",
         "textposition": "top center",
         "type": "scattermapbox"
        }
       ],
       "layout": {
        "coloraxis": {
         "cmax": 82.27848101265823,
         "cmin": 10.666666666666668,
         "colorbar": {
          "title": {
           "text": "Positivity Rate (%)"
          }
         },
         "colorscale": [
          [
           0,
           "rgb(208, 88, 126)"
          ],
          [
           0.16666666666666666,
           "rgb(217, 137, 148)"
          ],
          [
           0.3333333333333333,
           "rgb(229, 185, 173)"
          ],
          [
           0.5,
           "rgb(241, 234, 200)"
          ],
          [
           0.6666666666666666,
           "rgb(177, 199, 179)"
          ],
          [
           0.8333333333333334,
           "rgb(114, 170, 161)"
          ],
          [
           1,
           "rgb(0, 147, 146)"
          ]
         ]
        },
        "height": 800,
        "legend": {
         "bgcolor": "rgba(255,255,255,0.5)",
         "bordercolor": "Black",
         "borderwidth": 2,
         "itemsizing": "constant",
         "title": {
          "font": {
           "color": "blue",
           "size": 14
          }
         },
         "tracegroupgap": 0
        },
        "mapbox": {
         "center": {
          "lat": -7.258864399999998,
          "lon": 112.74388940465633
         },
         "domain": {
          "x": [
           0,
           1
          ],
          "y": [
           0,
           1
          ]
         },
         "style": "carto-positron",
         "zoom": 10
        },
        "template": {
         "data": {
          "bar": [
           {
            "error_x": {
             "color": "#2a3f5f"
            },
            "error_y": {
             "color": "#2a3f5f"
            },
            "marker": {
             "line": {
              "color": "#E5ECF6",
              "width": 0.5
             },
             "pattern": {
              "fillmode": "overlay",
              "size": 10,
              "solidity": 0.2
             }
            },
            "type": "bar"
           }
          ],
          "barpolar": [
           {
            "marker": {
             "line": {
              "color": "#E5ECF6",
              "width": 0.5
             },
             "pattern": {
              "fillmode": "overlay",
              "size": 10,
              "solidity": 0.2
             }
            },
            "type": "barpolar"
           }
          ],
          "carpet": [
           {
            "aaxis": {
             "endlinecolor": "#2a3f5f",
             "gridcolor": "white",
             "linecolor": "white",
             "minorgridcolor": "white",
             "startlinecolor": "#2a3f5f"
            },
            "baxis": {
             "endlinecolor": "#2a3f5f",
             "gridcolor": "white",
             "linecolor": "white",
             "minorgridcolor": "white",
             "startlinecolor": "#2a3f5f"
            },
            "type": "carpet"
           }
          ],
          "choropleth": [
           {
            "colorbar": {
             "outlinewidth": 0,
             "ticks": ""
            },
            "type": "choropleth"
           }
          ],
          "contour": [
           {
            "colorbar": {
             "outlinewidth": 0,
             "ticks": ""
            },
            "colorscale": [
             [
              0,
              "#0d0887"
             ],
             [
              0.1111111111111111,
              "#46039f"
             ],
             [
              0.2222222222222222,
              "#7201a8"
             ],
             [
              0.3333333333333333,
              "#9c179e"
             ],
             [
              0.4444444444444444,
              "#bd3786"
             ],
             [
              0.5555555555555556,
              "#d8576b"
             ],
             [
              0.6666666666666666,
              "#ed7953"
             ],
             [
              0.7777777777777778,
              "#fb9f3a"
             ],
             [
              0.8888888888888888,
              "#fdca26"
             ],
             [
              1,
              "#f0f921"
             ]
            ],
            "type": "contour"
           }
          ],
          "contourcarpet": [
           {
            "colorbar": {
             "outlinewidth": 0,
             "ticks": ""
            },
            "type": "contourcarpet"
           }
          ],
          "heatmap": [
           {
            "colorbar": {
             "outlinewidth": 0,
             "ticks": ""
            },
            "colorscale": [
             [
              0,
              "#0d0887"
             ],
             [
              0.1111111111111111,
              "#46039f"
             ],
             [
              0.2222222222222222,
              "#7201a8"
             ],
             [
              0.3333333333333333,
              "#9c179e"
             ],
             [
              0.4444444444444444,
              "#bd3786"
             ],
             [
              0.5555555555555556,
              "#d8576b"
             ],
             [
              0.6666666666666666,
              "#ed7953"
             ],
             [
              0.7777777777777778,
              "#fb9f3a"
             ],
             [
              0.8888888888888888,
              "#fdca26"
             ],
             [
              1,
              "#f0f921"
             ]
            ],
            "type": "heatmap"
           }
          ],
          "heatmapgl": [
           {
            "colorbar": {
             "outlinewidth": 0,
             "ticks": ""
            },
            "colorscale": [
             [
              0,
              "#0d0887"
             ],
             [
              0.1111111111111111,
              "#46039f"
             ],
             [
              0.2222222222222222,
              "#7201a8"
             ],
             [
              0.3333333333333333,
              "#9c179e"
             ],
             [
              0.4444444444444444,
              "#bd3786"
             ],
             [
              0.5555555555555556,
              "#d8576b"
             ],
             [
              0.6666666666666666,
              "#ed7953"
             ],
             [
              0.7777777777777778,
              "#fb9f3a"
             ],
             [
              0.8888888888888888,
              "#fdca26"
             ],
             [
              1,
              "#f0f921"
             ]
            ],
            "type": "heatmapgl"
           }
          ],
          "histogram": [
           {
            "marker": {
             "pattern": {
              "fillmode": "overlay",
              "size": 10,
              "solidity": 0.2
             }
            },
            "type": "histogram"
           }
          ],
          "histogram2d": [
           {
            "colorbar": {
             "outlinewidth": 0,
             "ticks": ""
            },
            "colorscale": [
             [
              0,
              "#0d0887"
             ],
             [
              0.1111111111111111,
              "#46039f"
             ],
             [
              0.2222222222222222,
              "#7201a8"
             ],
             [
              0.3333333333333333,
              "#9c179e"
             ],
             [
              0.4444444444444444,
              "#bd3786"
             ],
             [
              0.5555555555555556,
              "#d8576b"
             ],
             [
              0.6666666666666666,
              "#ed7953"
             ],
             [
              0.7777777777777778,
              "#fb9f3a"
             ],
             [
              0.8888888888888888,
              "#fdca26"
             ],
             [
              1,
              "#f0f921"
             ]
            ],
            "type": "histogram2d"
           }
          ],
          "histogram2dcontour": [
           {
            "colorbar": {
             "outlinewidth": 0,
             "ticks": ""
            },
            "colorscale": [
             [
              0,
              "#0d0887"
             ],
             [
              0.1111111111111111,
              "#46039f"
             ],
             [
              0.2222222222222222,
              "#7201a8"
             ],
             [
              0.3333333333333333,
              "#9c179e"
             ],
             [
              0.4444444444444444,
              "#bd3786"
             ],
             [
              0.5555555555555556,
              "#d8576b"
             ],
             [
              0.6666666666666666,
              "#ed7953"
             ],
             [
              0.7777777777777778,
              "#fb9f3a"
             ],
             [
              0.8888888888888888,
              "#fdca26"
             ],
             [
              1,
              "#f0f921"
             ]
            ],
            "type": "histogram2dcontour"
           }
          ],
          "mesh3d": [
           {
            "colorbar": {
             "outlinewidth": 0,
             "ticks": ""
            },
            "type": "mesh3d"
           }
          ],
          "parcoords": [
           {
            "line": {
             "colorbar": {
              "outlinewidth": 0,
              "ticks": ""
             }
            },
            "type": "parcoords"
           }
          ],
          "pie": [
           {
            "automargin": true,
            "type": "pie"
           }
          ],
          "scatter": [
           {
            "fillpattern": {
             "fillmode": "overlay",
             "size": 10,
             "solidity": 0.2
            },
            "type": "scatter"
           }
          ],
          "scatter3d": [
           {
            "line": {
             "colorbar": {
              "outlinewidth": 0,
              "ticks": ""
             }
            },
            "marker": {
             "colorbar": {
              "outlinewidth": 0,
              "ticks": ""
             }
            },
            "type": "scatter3d"
           }
          ],
          "scattercarpet": [
           {
            "marker": {
             "colorbar": {
              "outlinewidth": 0,
              "ticks": ""
             }
            },
            "type": "scattercarpet"
           }
          ],
          "scattergeo": [
           {
            "marker": {
             "colorbar": {
              "outlinewidth": 0,
              "ticks": ""
             }
            },
            "type": "scattergeo"
           }
          ],
          "scattergl": [
           {
            "marker": {
             "colorbar": {
              "outlinewidth": 0,
              "ticks": ""
             }
            },
            "type": "scattergl"
           }
          ],
          "scattermapbox": [
           {
            "marker": {
             "colorbar": {
              "outlinewidth": 0,
              "ticks": ""
             }
            },
            "type": "scattermapbox"
           }
          ],
          "scatterpolar": [
           {
            "marker": {
             "colorbar": {
              "outlinewidth": 0,
              "ticks": ""
             }
            },
            "type": "scatterpolar"
           }
          ],
          "scatterpolargl": [
           {
            "marker": {
             "colorbar": {
              "outlinewidth": 0,
              "ticks": ""
             }
            },
            "type": "scatterpolargl"
           }
          ],
          "scatterternary": [
           {
            "marker": {
             "colorbar": {
              "outlinewidth": 0,
              "ticks": ""
             }
            },
            "type": "scatterternary"
           }
          ],
          "surface": [
           {
            "colorbar": {
             "outlinewidth": 0,
             "ticks": ""
            },
            "colorscale": [
             [
              0,
              "#0d0887"
             ],
             [
              0.1111111111111111,
              "#46039f"
             ],
             [
              0.2222222222222222,
              "#7201a8"
             ],
             [
              0.3333333333333333,
              "#9c179e"
             ],
             [
              0.4444444444444444,
              "#bd3786"
             ],
             [
              0.5555555555555556,
              "#d8576b"
             ],
             [
              0.6666666666666666,
              "#ed7953"
             ],
             [
              0.7777777777777778,
              "#fb9f3a"
             ],
             [
              0.8888888888888888,
              "#fdca26"
             ],
             [
              1,
              "#f0f921"
             ]
            ],
            "type": "surface"
           }
          ],
          "table": [
           {
            "cells": {
             "fill": {
              "color": "#EBF0F8"
             },
             "line": {
              "color": "white"
             }
            },
            "header": {
             "fill": {
              "color": "#C8D4E3"
             },
             "line": {
              "color": "white"
             }
            },
            "type": "table"
           }
          ]
         },
         "layout": {
          "annotationdefaults": {
           "arrowcolor": "#2a3f5f",
           "arrowhead": 0,
           "arrowwidth": 1
          },
          "autotypenumbers": "strict",
          "coloraxis": {
           "colorbar": {
            "outlinewidth": 0,
            "ticks": ""
           }
          },
          "colorscale": {
           "diverging": [
            [
             0,
             "#8e0152"
            ],
            [
             0.1,
             "#c51b7d"
            ],
            [
             0.2,
             "#de77ae"
            ],
            [
             0.3,
             "#f1b6da"
            ],
            [
             0.4,
             "#fde0ef"
            ],
            [
             0.5,
             "#f7f7f7"
            ],
            [
             0.6,
             "#e6f5d0"
            ],
            [
             0.7,
             "#b8e186"
            ],
            [
             0.8,
             "#7fbc41"
            ],
            [
             0.9,
             "#4d9221"
            ],
            [
             1,
             "#276419"
            ]
           ],
           "sequential": [
            [
             0,
             "#0d0887"
            ],
            [
             0.1111111111111111,
             "#46039f"
            ],
            [
             0.2222222222222222,
             "#7201a8"
            ],
            [
             0.3333333333333333,
             "#9c179e"
            ],
            [
             0.4444444444444444,
             "#bd3786"
            ],
            [
             0.5555555555555556,
             "#d8576b"
            ],
            [
             0.6666666666666666,
             "#ed7953"
            ],
            [
             0.7777777777777778,
             "#fb9f3a"
            ],
            [
             0.8888888888888888,
             "#fdca26"
            ],
            [
             1,
             "#f0f921"
            ]
           ],
           "sequentialminus": [
            [
             0,
             "#0d0887"
            ],
            [
             0.1111111111111111,
             "#46039f"
            ],
            [
             0.2222222222222222,
             "#7201a8"
            ],
            [
             0.3333333333333333,
             "#9c179e"
            ],
            [
             0.4444444444444444,
             "#bd3786"
            ],
            [
             0.5555555555555556,
             "#d8576b"
            ],
            [
             0.6666666666666666,
             "#ed7953"
            ],
            [
             0.7777777777777778,
             "#fb9f3a"
            ],
            [
             0.8888888888888888,
             "#fdca26"
            ],
            [
             1,
             "#f0f921"
            ]
           ]
          },
          "colorway": [
           "#636efa",
           "#EF553B",
           "#00cc96",
           "#ab63fa",
           "#FFA15A",
           "#19d3f3",
           "#FF6692",
           "#B6E880",
           "#FF97FF",
           "#FECB52"
          ],
          "font": {
           "color": "#2a3f5f"
          },
          "geo": {
           "bgcolor": "white",
           "lakecolor": "white",
           "landcolor": "#E5ECF6",
           "showlakes": true,
           "showland": true,
           "subunitcolor": "white"
          },
          "hoverlabel": {
           "align": "left"
          },
          "hovermode": "closest",
          "mapbox": {
           "style": "light"
          },
          "paper_bgcolor": "white",
          "plot_bgcolor": "#E5ECF6",
          "polar": {
           "angularaxis": {
            "gridcolor": "white",
            "linecolor": "white",
            "ticks": ""
           },
           "bgcolor": "#E5ECF6",
           "radialaxis": {
            "gridcolor": "white",
            "linecolor": "white",
            "ticks": ""
           }
          },
          "scene": {
           "xaxis": {
            "backgroundcolor": "#E5ECF6",
            "gridcolor": "white",
            "gridwidth": 2,
            "linecolor": "white",
            "showbackground": true,
            "ticks": "",
            "zerolinecolor": "white"
           },
           "yaxis": {
            "backgroundcolor": "#E5ECF6",
            "gridcolor": "white",
            "gridwidth": 2,
            "linecolor": "white",
            "showbackground": true,
            "ticks": "",
            "zerolinecolor": "white"
           },
           "zaxis": {
            "backgroundcolor": "#E5ECF6",
            "gridcolor": "white",
            "gridwidth": 2,
            "linecolor": "white",
            "showbackground": true,
            "ticks": "",
            "zerolinecolor": "white"
           }
          },
          "shapedefaults": {
           "line": {
            "color": "#2a3f5f"
           }
          },
          "ternary": {
           "aaxis": {
            "gridcolor": "white",
            "linecolor": "white",
            "ticks": ""
           },
           "baxis": {
            "gridcolor": "white",
            "linecolor": "white",
            "ticks": ""
           },
           "bgcolor": "#E5ECF6",
           "caxis": {
            "gridcolor": "white",
            "linecolor": "white",
            "ticks": ""
           }
          },
          "title": {
           "x": 0.05
          },
          "xaxis": {
           "automargin": true,
           "gridcolor": "white",
           "linecolor": "white",
           "ticks": "",
           "title": {
            "standoff": 15
           },
           "zerolinecolor": "white",
           "zerolinewidth": 2
          },
          "yaxis": {
           "automargin": true,
           "gridcolor": "white",
           "linecolor": "white",
           "ticks": "",
           "title": {
            "standoff": 15
           },
           "zerolinecolor": "white",
           "zerolinewidth": 2
          }
         }
        },
        "title": {
         "text": "Top 10 Puskesmas with Negative Review Percentage",
         "x": 0.5,
         "xanchor": "center"
        },
        "width": 800
       }
      }
     },
     "metadata": {},
     "output_type": "display_data"
    }
   ],
   "source": [
    "import pandas as pd\n",
    "import plotly.express as px\n",
    "\n",
    "data_for_plotting = detail_puskesmas[\n",
    "    [\"lat\", \"lon\", \"puskesmas_name\", \"positive_percentage\"]\n",
    "]\n",
    "\n",
    "data_for_plotting[\"lat\"] = pd.to_numeric(data_for_plotting[\"lat\"], errors=\"coerce\")\n",
    "data_for_plotting[\"lon\"] = pd.to_numeric(data_for_plotting[\"lon\"], errors=\"coerce\")\n",
    "data_for_plotting[\"positive_percentage\"] = data_for_plotting[\n",
    "    \"positive_percentage\"\n",
    "].fillna(0)\n",
    "\n",
    "data_for_plotting = data_for_plotting[data_for_plotting[\"positive_percentage\"] != 0]\n",
    "\n",
    "top_10_data_for_plotting = data_for_plotting.sort_values(\n",
    "    by=\"positive_percentage\", ascending=True\n",
    ").head(10)\n",
    "\n",
    "fig = px.scatter_mapbox(\n",
    "    top_10_data_for_plotting,\n",
    "    lat=\"lat\",\n",
    "    lon=\"lon\",\n",
    "    color=\"positive_percentage\",\n",
    "    size=\"positive_percentage\",\n",
    "    hover_name=\"puskesmas_name\",\n",
    "    hover_data={\"positive_percentage\": True},\n",
    "    size_max=15,\n",
    "    zoom=10,\n",
    "    center={\n",
    "        \"lat\": top_10_data_for_plotting[\"lat\"].mean(),\n",
    "        \"lon\": top_10_data_for_plotting[\"lon\"].mean(),\n",
    "    },\n",
    "    mapbox_style=\"carto-positron\",\n",
    "    color_continuous_scale=px.colors.diverging.Tealrose_r,\n",
    "    title=\"Top 10 Puskesmas with Negative Review Percentage\",\n",
    "    range_color=[detail_puskesmas['positive_percentage'].min(), detail_puskesmas[\"positive_percentage\"].max()],\n",
    ")\n",
    "\n",
    "fig.update_traces(marker=dict(size=28, opacity=0.7), textposition=\"top center\")\n",
    "\n",
    "fig.update_traces(\n",
    "    hovertemplate=\"<b>%{hovertext}</b><br>Positivity Rate: %{marker.color:.2f}%\",\n",
    ")\n",
    "\n",
    "fig.update_coloraxes(colorbar_title=\"Positivity Rate (%)\")\n",
    "\n",
    "fig.update_layout(\n",
    "    legend=dict(\n",
    "        title_font=dict(size=14, color=\"blue\"),\n",
    "        bgcolor=\"rgba(255,255,255,0.5)\",\n",
    "        bordercolor=\"Black\",\n",
    "        borderwidth=2,\n",
    "    ),\n",
    "    title=dict(\n",
    "        text=\"Top 10 Puskesmas with Negative Review Percentage\", x=0.5, xanchor=\"center\"\n",
    "    ),\n",
    "    width=800,\n",
    "    height=800,\n",
    ")\n",
    "\n",
    "fig.show()"
   ]
  },
  {
   "cell_type": "markdown",
   "metadata": {},
   "source": [
    "# Why positive? Why negative?"
   ]
  },
  {
   "cell_type": "markdown",
   "metadata": {},
   "source": [
    "## Positive"
   ]
  },
  {
   "cell_type": "code",
   "execution_count": 7,
   "metadata": {},
   "outputs": [
    {
     "data": {
      "image/png": "[encoded data removed]",
      "text/plain": [
       "<Figure size 1000x1000 with 1 Axes>"
      ]
     },
     "metadata": {},
     "output_type": "display_data"
    }
   ],
   "source": [
    "from sklearn.feature_extraction.text import TfidfVectorizer\n",
    "import numpy as np\n",
    "from wordcloud import WordCloud\n",
    "import matplotlib.pyplot as plt\n",
    "\n",
    "all_reviews = predicted_data_puskesmas[\"cleaned_review_text\"]\n",
    "\n",
    "vectorizer = TfidfVectorizer(stop_words='english', max_features=10000)\n",
    "\n",
    "tfidf_matrix = vectorizer.fit_transform(all_reviews)\n",
    "\n",
    "word_scores = np.sum(tfidf_matrix, axis=0)\n",
    "\n",
    "features = vectorizer.get_feature_names_out()\n",
    "scores = word_scores.A1\n",
    "word_score_dict = dict(zip(features, scores))\n",
    "\n",
    "sorted_words = sorted(word_score_dict.items(), key=lambda x: x[1], reverse=True)\n",
    "\n",
    "positive_reviews = ' '.join(predicted_data_puskesmas[predicted_data_puskesmas['is_positive'] == 1]['cleaned_review_text'])\n",
    "\n",
    "N = 100\n",
    "common_words = set([word for word, score in sorted_words[:N]])\n",
    "\n",
    "filtered_positive_reviews = ' '.join([word for word in positive_reviews.split() if word not in common_words])\n",
    "filtered_positive_reviews = ' '.join([word for word in filtered_positive_reviews.split() if word not in detail_puskesmas['puskesmas_name'].str.lower().str.split().str[1].values])\n",
    "\n",
    "stop_words = [\"bu\", \"sih\", \"oke\", \"ya\", \"aja\", \"udah\", \"ok\", \"suka\", \"pas\", \"sukses\", \"semangat\", \"wetan\", \"bovid\", \"tes\", \"jalan\", \"darah\", \"lahir\", \"imunisasi\", \"booster\", \"bintang\", \"booster\", \"nakednya\", \"warga\", \"alam\", \"pokok\", \"medis\", \"kartu\", \"tanda\", \"arah\", \"proses\", \"farmasi\", \"usia\", \"ramai\"]\n",
    "\n",
    "filtered_positive_reviews = ' '.join([word for word in filtered_positive_reviews.split() if word not in stop_words])\n",
    "\n",
    "\n",
    "wordcloud = WordCloud(\n",
    "    width=1600, \n",
    "    height=800, \n",
    "    background_color=\"white\",\n",
    "    max_words=10, \n",
    "    colormap=\"copper\",\n",
    "    prefer_horizontal=1.0,\n",
    "    min_font_size=10,\n",
    "    max_font_size=300,\n",
    "    contour_width=3,\n",
    "    contour_color='steelblue'\n",
    ").generate(filtered_positive_reviews)\n",
    "\n",
    "plt.figure(figsize=(10, 10))\n",
    "plt.imshow(wordcloud, interpolation=\"bilinear\")\n",
    "plt.axis(\"off\")\n",
    "plt.show()"
   ]
  },
  {
   "cell_type": "code",
   "execution_count": 8,
   "metadata": {},
   "outputs": [
    {
     "name": "stdout",
     "output_type": "stream",
     "text": [
      "Word: rapi\n",
      "1347: PUSKESMAS KEPUTIH SUKOLILO .\n",
      "\n",
      "Saya sdh menjadi pasien tetap di Puskesmas Keputih Sukolilo .\n",
      "Secara rutine 2 minggu sekali perlu kontrol dan mohon obat .\n",
      "\n",
      "Pelayanannya menurut saya bisa saya katakan Sangat baik .\n",
      "Dari sudut pegawai pendaftaran hingga penanganannya ibu ibu Dokter nya menurut saya sangat ramah dan komunikasinya baik sekali .\n",
      "\n",
      "Saya selalu kontrol untuk usia lansia , umur saya baru 63 tahun , baru dipensiun dari perusahaan swasta Asing Perancis PT. Schneider Indonesia di Jakarta .\n",
      "Dulu semasa kerja selalu menggunakan asuransi yg dihandle biayanya dokter dan obatnya sehingga terasa nyaman sekali .\n",
      "\n",
      "Selepas pensiun pulang ke Rumah Surabaya , saya aktifkan dengan kartu BPJS MANDIRI sekeluarga .\n",
      "\n",
      "Pertama daftar di Puskesmas Keputih Sukolilo pada Akhir tahun 2018 , penerimaan petugas Puskesmas Keputih Sukolilo sangat baik sekali .\n",
      "\n",
      "Bila dipoli umum kita nunggu panggilan beberapa menit kira kira 30 menit , maklum sangat banyak pasiennya  ibu ibu , bapak bapak lansia dan beberapa anak anak dan dan para pemuda yg saat itu mendaftar karena bertujuan berobat .\n",
      "\n",
      "Setelah mendapat panggilan dari poli umum kita masuk kependataan dan direcord , sakit apa , atau keluhannya apa dll.\n",
      "Setelah itu ke bagian tensi tekanan darah dan record oleh petugasnya juga lengkap dgn record berat badan dan tingginya .\n",
      "\n",
      "Lalu dikumpulkan ke meja bu Dokter nya\n",
      ",terus menunggu panggilan dan pemeriksaan .\n",
      "Mendapat panggilan memberi penjelasan keluhan sakit yg diderita.\n",
      "Bila saya berobat biasanya keluhan lansia adalah kolesterol , asam urat , diabet / gula darah , batuk dan pilek  bila badan kurang segar / kuat .\n",
      "\n",
      "Biasa dokter memberi surat antar untuk periksa darah agar pemberian obatnya bisa tepat sasarannya .\n",
      "Kita bawa surat antar periksa darah kebagian laboratorium , tdk jauh dari poli umum .\n",
      "Kita berikan kepetugasnya surat antar tersebut dan kita ambil nomor antrian panggilan pengambilan darah .\n",
      "Bila kita dipanggil petugasnya untuk pengambilan darah , baru dilakukan pengambilan darah untuk laboratoriumnya.\n",
      "\n",
      "Setelah pengambilan darah kita biasanya harus menunggu hasil laboratorium selama minimum 1,5 jam .\n",
      "Kita mendapat panggilan hasil laboratorium berupa 1 lembar kertas yg lengkap hasil laboratoriun .\n",
      "1. Kolesterol .....    standard normal ......\n",
      "2. Asam urat  .....   standard normal ......\n",
      "3. Gula darah ......   standard normal .....\n",
      "4. Dan lain lain  seperti tertulis dlm surat pengantarnya .\n",
      "\n",
      "Kemudian 1lembar hasil laboratorium tersebut diberikan ke dokternya .\n",
      "Menunggu panggilan sebentar saja sdh dipanggil oleh dokternya .\n",
      "\n",
      "Hasil laboratorium sebagai acuan untuk memberi obat .\n",
      "Dokter memberi resep dan biasanya dokter memberi sedikit wejangan : mhn jangan makan kacang kacangan  , bayam , sawi putih dll untuk asam urat yg lebih dari standard normal dll.\n",
      "\n",
      "Dgn tutur kata yg halus ramah dan mengena dihati ini , untuk dipatuhi dan diperhatikan .\n",
      "Dan sungguh bermanfaat wejangan dari bu Dokternya .\n",
      "\n",
      "Dari resep dokter tersebut kita kumpulkan kekotak pengambilan obat .\n",
      "Maklum pasiennya cukup banyak dihari hari Senin bila kita berobat , tapi hari lainnya biasa tdk sebanyak hari Senin .\n",
      "\n",
      "Beberapa menit , kira 10 menit paling lama sdh mendapat panggilan .\n",
      "Petugasnya dengan muka ceria dan ramah memanggil nama pasien untuk pengambilan obat .\n",
      "Sebelum obat diberikan ke pasien , petugas menanyakan nama dan alamat Pasiennya sebagai kontrol ketepatan dan harus benar serta pasien diharuskan tanda tangan dibalik resepnya .\n",
      "Petugas menerangkan dengan jelas satu persatu obat yg diberi dokter , agar tdk sampai keliru meminum obatnya sesuai aturan yg telah ditulis di plastik tempat obatnya masing masing dgn baik .\n",
      "\n",
      "Setelah menerima obat kita boleh pulang dengan baik .\n",
      "SEMOGA CEPAT SEMBUH .\n",
      "\n",
      "Note :\n",
      "1. Krn kita pakai BPJS maka kita tdk bayar sepeser pun alias gratis .\n",
      "2. Ongkos parkir standar sepeda motor Rp 2,000.  Aman .\n",
      "3. Puskesmas Keputih relatif bersih dan terlihat tertata rapi\n",
      "4. Toiletnya relatif bersih rapi dan air besih yang cukup.\n",
      "5. Tempat tunggu dan kursinya cukup banyak bersih rapi\n",
      "6. Petugas dan dokternya ramah dan santun.\n",
      "\n",
      "Slm Ir. H. M. Soewito J.P.\n",
      "3839: Pelayanan cepat, dokter ramah ramah dan bidan bidannya. Tempat bersih dan rapi\n",
      "8032: Pusat Pelayanan Kesehatan Masyarakat yg bersih dan rapi, pelayanan ramah dan baik, tersedia lahan parkir untuk motor. Lokasi strategis di oinggir jalan, sehingga mudah untuk ditemukan.\n",
      "2269: Puskesmas yang cukup lengkap...\n",
      "Beberapa aspek yang ingin saya bagikan:\n",
      "\n",
      "1. Kebersihan : 4.5\n",
      "2. Tata Letak : 4.2\n",
      "3. Desain : 4.0\n",
      "4. Pelayanan : 4.5\n",
      "5. Keramahan : 4.0\n",
      "6. Akses : 4.7\n",
      "7. Sirkulasi Udara : 4.5\n",
      "8. Kerapihan : 4.0\n",
      "9. Pencahayaan : 4.2\n",
      "10. Taman Lembah : 4.5\n",
      "2587: puskesmasnya bersih, rapi, dan petugas/nakes yg melayani ramah dan murah senyum. sukses terus pkm dukuh kupang\n",
      "\n",
      "Word: gratis\n",
      "2831: Waktu saya melakukan cabut gigi di puskesmas di Benowo. awal nya Krn BPJS saya tidak aktif sempat kuatir tapi di sarankan sana Bu dokter untuk di urusan program BPJS gratis, dan oleh petugas loket diuruskan dan bisa di gunakan langsung hari itu juga. Progam ini bagus memudahkan masyarakat untuk mendapatkan layanan kesehatan gratis.\n",
      "Untuk antrian lebih cepat dan pelayanan semua petugasnya ramah2.\n",
      "Terima kasih untuk semua pihak.\n",
      "4871: Tempatnya cukup besar untuk ukuran Puskesmas, parkir tersedia banyak untuk kendaraan roda 2. Untuk roda 4 space tersedia tapi tidak banyak.\n",
      "\n",
      "Di sini sering antre, jadi usahakan sebelum datang sudah mendaftar online dahulu via ehealth.surabaya.go.id\n",
      "\n",
      "Untuk warga Surabaya biaya administrasi gratis. Jika warga non Surabaya dikenakan biaya administrasi Rp. 5.000,- murah meriah kok.\n",
      "\n",
      "Tarif berobat pun seperti foto terlampir seperi daftar harga Nasi Goreng. Rata-rata hanya 10.000 - 15.000. Obat yang didapat juga gratis ya, jadi mmg sangat bersahabat di kantong eh dompet.\n",
      "\n",
      "Like review ini kalau menurut kalian suka/ merasa terbantu.\n",
      "\n",
      "~Thanks.\n",
      "1844: memudahkan warga surabaya khususnya kecamatan gunung anyar untuk berobat gratis...semua poli sesuai prosedur ,kalo antri ya memang resiko banyak yg berobat tapi yg berkesan & memudahkan saya berobat di poli gigi...anak saya giginya banyak lubang,tapi ditangani dg telaten & sabar ... Terimakasih bu dokter gigi 🙏 semoga lelahnya menjadi lillah..👍👍\n",
      "1817: Tempatnya bersih dan tertib\n",
      "Pelayanan yang sangat ramah, cepat, dan memuaskan untuk mengurus surat keterangan sehat utk nikah. Gratis juga\n",
      "\n",
      "Terima kasih 👍👍👍\n",
      "1744: Pertama kali datang kesini sekitar bulan Juni agak kecewa soalnya jauh2 datang dan lama antri mau tes darah hamil sekitar 2-3 jam.an ternyata pas sampai bidan mau tes darah dibilangin kalau lab nya lagi tidak bisa dipakai huhuhu kenapa tidak di bilangi waktu aku daftar di kasir yaa 😫\n",
      "\n",
      "Tapi kemarin aku datang Alhamdulillah di layani dengan baik apalagi bidan dan tenaga lab nya juga baik. Berasa nyaman kontrol di sana dan Alhamdulillah obat nya lengkap. Biasanya aku ke bidan mandiri itu Bayar sekitar 45-75rb cuma dapat Asam folat sama kalsium aja padahal trakhir kontrol tekanan darahku rendah 🤔 tapi di puskesmas Sememi di kasih tambah darah dan vitamin c dan gratis tisss Alhamdulillah.\n",
      "\n",
      "Tips kalau mau kesini bisa daftar online / offline tapi datang pagi2 sekali aja jam 8 biar ga antri lama dan selesai nya cepet. Sukses selalu buat puskesmas sememi ☺️😊\n",
      "\n",
      "Word: maju\n",
      "5405: Pukesmas tanjungsari banyak sekali perubahan dan kemajuanya dokter dan nakes ramah sudah sat set....pelayananya.jangan lupa senyum dan ttp semangat yg luar biasa.\n",
      "506: Pelayanan d puskesmas Sidotopo wetan semakin baik dan maju.. smga mutu pelayanan puskesmas sidotopo wetan terus meningkat lebih baik lagi..semoga ada inovasi inovasi pelayanan yg lebih baik.\n",
      "521: Alhamdulillah,, puskesmas Sidotopo wetan skrg pelayanan nya menjadi lebih baik dan cepat,,banyak kemajuan,, pokoknya is the best,👍 …\n",
      "2991: Kita datang disambut petugas dgn ramah dan diarahkan mulai pendaftaran sesuai kebutuhan .\n",
      "Pelayanan di poli juga sangat memuaskan krn sangat sabar dan telaten.\n",
      "Semoga semakin maju buat puskesmas balongsari dan sehat sehat buat semuanya.\n",
      "8862: Dahulu waktu saya masih tinggal di Surabaya puskesmas masih kecil sekarang sudah besar dan maju berkembang pesat layanani masyarakat\n",
      "\n",
      "Word: informatif\n",
      "5728: Nyaman tempat menunggunya. Ramah dan informatif pegawai, dokter dan tenaga kesehatannya.\n",
      "4465: Pelayanan di puskesmas tanah kali kedindng sangat baik, sangat membantu dan informatif, petugas medis dan petugas liannya sangat ramah memberikan pelayanan terhadap masyarakat untuk kesehatan, tempat juga sangat nyaman dan bersih. Memang patut diberikan bintang 5. Semoga semakin sukses. Terima kasih 😆 …\n",
      "1865: Sangat informatif, tanya melalui telepon juga sangat jelas jawabannya. Bisa daftar vaksin booster lewat telepon. Nanti kalau sudah masuk kuota langsung dihubungi kembali buat jadwal vaksinnya. Mantap.\n",
      "125: mengikuti kegiatan posyandu pkm dr. soetomo, tidak hanya timbang, bisa imunisasi juga, bidan sangaat ramah dan informatif, sangaat puass\n",
      "7066: Kebetulan kesini untuk antar ortu vaksin booster, tempatnya luas bersih, petugasnya informatif, datang jam 8 pagi petugas sudah siap melayani dan ramah², ada UGD disini, fasilitasnya saya rasa cukup komplit, demi percepatan vaksin minggu pun buka untuk vaksin hebat nihh, semoga sama juga di puskesmas lain² pelayanannya ok dan tepat waktu, semangat terus bagi petugas yang melayani, Terimakasih\n",
      "\n",
      "Word: set\n",
      "1057: Pelayanan Ramah, Senyum, Gercep Sat Set, yg gak suka di bagian Parkirnya karna orangnya terima uang doang nggak bantu kita ngeluarkan motor, Satpam Puskesmas Gercep pelayanannya, Tempat Bersih, Nyaman, Adem karna banyak Pohon, bisa juga check up dan minta Surat  KETERANGAN SEHAT\n",
      "3963: Puskesmas andalan ku hihi periksa kehamilan petama kali disini, ibu bidan responsif, helpfull dan ramah di poli KIA. Semepet kepikiran dulu katnya bidan itu suka marah marah, ternyata engga, wlpn kelihatannya kyk gitu tapi  menurutku itu ga marah si, lebih keee tegas ekwkw.\n",
      "Pelayanan juga sat set anti lelet” wlpun kadang lelet, tapi itu krn banyak pasien. Bisa dimaklumi bgt.\n",
      "Sampai sekarang rutin tiap bulan kesini buat imunisasi.\n",
      "Fasilitas lengkap, bersih dan harum.\n",
      "Polinya juga lengkap.\n",
      "Semoga lebih baik lagi yaooooo ❤️\n",
      "1874: Baru kali ini, ke puskesmas pelayanannya    sat set gak pake lama\n",
      "Bidannya baik, ramah-ramah, full senyum pula\n",
      "3667: Pembaharuan sistem antrian loket online mempercepat proses pelayanan.penambahan perangkat monitor electrik berisi daftar loket pelayanan poli berserta status antrian sangat bermanfaat. Pelayanan perpanjangan rujukan ke rumah sakit semula memakan waktu lebih 1 jam antrian bisa dipangkas cuma butuh waktu 15 menit saja. Saran saya kalo ambil no antrian online sebaiknya 1 minggu sebelum kedatangan biar dapat no antrian kecil 😃.  Suka ama cara kerja yg sat set.. Sat set.. Sukses slalu.\n",
      "6385: Kapan hari berobat kesini dan mau ngasih penilaian buruk karena lahan parkir untuk mobil susah... Setelah dapat parkir diarahkan sama bapak linmasnya akhirnya bisa parkir dan langsung disambut dengan baik oleh petugas pendaftaran untuk daftar antrian berobat. Meskipun agak lama antriannya karena saya butuh sehat jadi tetap menunggu dengan setia. Setelah nomer antrian saya dipanggil dan dipersilahkan ketemu dokternya sungguh Ramah dokternya melayani dengan sepenuh hati dan diarahkan untuk berobat lanjutan ke Dokter spesialis rujukan dari puskesmas menur. Terima kasih atas pelayanannya ☺👍\n",
      "\n",
      "Word: hati\n",
      "7073: Hari ini saya berkunjung ke puskesmas kebonsari untuk berobat bagi anak saya,pelayanan nya cepat dan ramah, terutama dokter nya komunikatif dan ramah sekali, terima kasih puskesmas kebonsari...terus maju dan melayani dengan hati ya....\n",
      "3172: Beberapa kali saya sama anak saya periksa sllu Rama dan baik hati apalagi dokter yang dari KiA yang gemuk itu sllu Rama banget\n",
      "6555: Penilaian Jujur kali ini Pantas Buat PKM Balas Klumprik 🥳\n",
      "\n",
      "(Saya Pendatang) Senin, 26 Juni 2023 kemarin habis periksain anak dg keluhan panas kadang naik kadang turun sama keluhan perut sebelah kiri sakit.\n",
      "\n",
      "Pertama Kali Masuk langsung ada 2 orang petugas didepan yang langsung Gercep nanyain (mau periksa apa pak? Sudah daftar Online?). Dalam hati : wih kayaknya nyaman nih pelayanannya karena diawal sudah disambut dg Ramah bgt.\n",
      "\n",
      "Buat yg blm pernah ke PKM wajar ya gak tau kalo ada daftar online, tapi tenang pas udah masuk sini nanti dibantu daftar sama yang jaga kok, tinggal setor identitas aja (KK/KTP).\n",
      "\n",
      "Setelah daftar sy bayar Rp 5.000 krn bukan KK Surabaya dan Non BPJS.\n",
      "\n",
      "Respons Masing² Profesi dari Satpam, Pendaftaran, Asisten dan Dokternya , bagian Laboratorium dan Farmasi (Obat) sangat² Baik dan Informatif.\n",
      "\n",
      "Ini adalah ulasan Terbaik dari beberapa tempat kesehatan yg saya temui.\n",
      "\n",
      "Saran Kalo mau Berkunjung sebaiknya Pagi Hari lebih Sepi...\n",
      "\n",
      "Saya spill biaya checkup anak saya Non-BPJS :\n",
      "\n",
      "- Pendaftaran : Rp 5.000\n",
      "- Pemeriksaan Lab : Rp 40.000\n",
      "- Obat : Gratis\n",
      "- Parkir : Gratis\n",
      "\n",
      "Yang Terbantu dg Ulasan ini jangan Lupa di Like yaa ....\n",
      "207: Ramah & Koorperatif dalam memberi solusi medis\n",
      "Penanganan menggunakan BPJS juga sangat cepat & setiap penanganan medis dsni diperhatikan\n",
      "5121: pelayanan dari petugs FO sudah baik, ramah & memberikan informasi yg jelas sehingga pasien tidak menimbulkan kebingungan. perawat dan dokternya juga tepat dalam menangani keluhan pasien serta pemberian obat/vitamin yg sesuai. psikolog yang bertugas disini juga sangat ramah, friendly dan sabar dalam mendengarkan keluhan, cerita pasien sehingga pasien timbul rasa nyaman dan segera mendapatkan penanganan yg tepat utk setiap keluhannya. sejauh ini, puskesmas tenggilis merupakan puskesmas yg okay & sangat memerhatikan kondisi pasien sehingga dapat ditangani dengan cepat dan tepat.\n",
      "\n",
      "Word: detail\n",
      "5443: pelayanan nya baguss sekali, bidan dan dokter nya ramah ramah jelasin nya detail sekaliii\n",
      "5409: Pelayanan catin di Puskesmas Tanjung sari sangat baik dan lengkap, bidan yang bertugas memberikan pelayanan dan penjelasan yang sangat jelas dan detail sehingga mudah dipahami\n",
      "4941: dari tahun 2011 periksa disini, akhirnya pakai faskes 1 disini\n",
      "\n",
      "pelayanan baik, cepet, pegawai ramah.\n",
      "\n",
      "Makasih Mbak Anggi bagian BKIA yg selalu membantu dan memudahkan pemeriksaan.\n",
      "\n",
      "Makasih juga buat dokter umum yg gercep kasih obat, tanya detail keluhan, dan meminta rujukan sangat cepat, satset tidak pernah dipersulit.\n",
      "\n",
      "Semoga sehat selalu\n",
      "5023: poli KIA pelayanannya sangatt bagus\n",
      "Bidannya ramah2 sekalii dan cara menjelaskan pengobatannya sangat jelas dan detail😍 …\n",
      "5025: Pelayanan cepat, penjelasan jelas dan detail sekali. Saya orang awam jadi mengerti tentang kesehatan anak dan ibu. Mantab untuk Poli KIA\n",
      "\n",
      "Word: cekat\n",
      "4198: Pelayanan sudah jauh lebih baik dan tertata dari pada yang dulu, petugasnya gercep\" dan tanggap, dokternya sangat cekatan sekali pokoknya sudah baik sekali dan sangat modern\n",
      "7088: Cekatan, memuaskan. Saya kontrol COVID-19, vaksin COVID-19, pemeriksaan catin, surat sehat, dsb. tidak ada kendala. Ditambah interior cenderung lebih bagus daripada desain² puskesmas² lain yang desainnya itu² aja.\n",
      "5505: Terimakasih untuk penjelasan dan pelayanan kb nya.... Sy jd tak ragu lg ikut kb susuk implant... Bidannya sabar dan cekatan.... Terimakasih\n",
      "5581: Pelayanan nya ramah dan cekatan, hampir tiap kli kesana tdk pernah kecewa.. mantap pokoknya.., semoga selalu diberikan kesehatan buat pegawai nya.., terimakasih puskesmas Klampis ngasem.. juoss...\n",
      "4704: Fasilitas perawatannya relatif lengkap dan SDM nya cekatan dan mumpuni\n",
      "\n",
      "Word: sat\n",
      "2288: Pusat pelayanan masyarakat yg mudah di jangkau dn cepat pelayananya serta petugasnya ramah smua\n",
      "6860: Dokter gigi nya kece. Dok satria... seleb tiktok tp jd dokter..uda keren, pelayanan nya top pula.. sukses terus ya dook 👍👍 …\n",
      "7285: Pusat Kesehatan Masyarakat Wilayah Kedurus, pelayanan UGD dan Bersalin 24 Jam.\n",
      "6571: Pernah lab darah, syuntik vaksin dll kesini. pelayanannya waw banget satset-watwet. makasih buat pada nakes, kelean luar biasa\n",
      "7430: Petugasnya poli lansia dan umum ramah sekali, pelayanan lumayan cepat , pertahankan pelayanannya yg sat set sat set\n",
      "\n",
      "Word: top\n",
      "597: Puskesmas Sidotopo wetan pelayanan nya nyaman Alhamdulillah saya cocok dokternya ramah dan baik baik\n",
      "531: Pelayanan di puskesmas Sidotopo wetan sudah bagus, bidanya juga ramah dan sabar,semoga kedepannya sukses\n",
      "308: Pelayanan poli gigi nya ramah baik dan rapi di arahkan untuk swab dulu lalu Pelayanan swab tertata baik dan teratur top lah pokoknya👍 …\n",
      "405: Bener bener bikin saya syok pas kesini syok nya itu bener bener ada perubahan drastis mulai dari pelayanan , ketertiban, kebersihan\n",
      "Sekarang Bintang 5 semua dah\n",
      "Tidak seperti jaman dulu yang pelayanan nya sangat lemot bahkan semua tim nya ketus dan tidak sopan pokok nya bintang 1 kalau dulu\n",
      "\n",
      "Tidak dengan sekarang semua pelayanan tim nya baik ramah sopan dan Gercep bahkan di siplin tertata rapi dan tidak di persulit bagi yang ingin di puskesmas sini berbagai macam keperluan proses nya super cepat\n",
      "\n",
      "Sooooo PERTAHANKAN 👍🏻✔️🤗\n",
      "\n",
      "Terima Kasih Sukses Selalu Buat Para Tim dan Pertanggung Jawab Puskesmas Sidotopo Wetan\n",
      "\n",
      "Salam Sukses dan Salam BOLBOL'FAMS 🤗✔️👍🏻\n",
      "\n",
      "Terim\n",
      "4462: Puskesmas takal dulu pelayanan nya sangat lemot waktu hamil anak pertama . TAPI sekarang sudah bagus . Pelayanan juga sudah cepat . Dokter nya juga ramah . Pelayanan BPJS nya juga enak waktu jelasin . Tempat juga bersih .Wes pokok nya top sekarang . Pertahankan yaa 😊 …\n",
      "\n"
     ]
    }
   ],
   "source": [
    "top_10_words = pd.Series(filtered_positive_reviews.split()).value_counts().head(10).index\n",
    "\n",
    "for word in top_10_words:\n",
    "    print(f\"Word: {word}\")\n",
    "    sample_reviews = predicted_data_puskesmas[predicted_data_puskesmas['cleaned_review_text'].str.contains(word) & (predicted_data_puskesmas['is_positive'] == 1) & (predicted_data_puskesmas['cleaned_review_text'].str.len() > 50)]\n",
    "    for idx, review in sample_reviews.sample(5)['review_text'].items():\n",
    "        print(f'{idx}: {review}')\n",
    "    \n",
    "    print()"
   ]
  },
  {
   "cell_type": "markdown",
   "metadata": {},
   "source": [
    "## Negative"
   ]
  },
  {
   "cell_type": "code",
   "execution_count": 9,
   "metadata": {},
   "outputs": [
    {
     "data": {
      "image/png": "[encoded data removed]",
      "text/plain": [
       "<Figure size 1000x1000 with 1 Axes>"
      ]
     },
     "metadata": {},
     "output_type": "display_data"
    }
   ],
   "source": [
    "from sklearn.feature_extraction.text import TfidfVectorizer\n",
    "import numpy as np\n",
    "from wordcloud import WordCloud\n",
    "import matplotlib.pyplot as plt\n",
    "\n",
    "all_reviews = predicted_data_puskesmas[\"cleaned_review_text\"]\n",
    "\n",
    "vectorizer = TfidfVectorizer(stop_words='english', max_features=10000)\n",
    "\n",
    "tfidf_matrix = vectorizer.fit_transform(all_reviews)\n",
    "\n",
    "word_scores = np.sum(tfidf_matrix, axis=0)\n",
    "\n",
    "features = vectorizer.get_feature_names_out()\n",
    "scores = word_scores.A1\n",
    "word_score_dict = dict(zip(features, scores))\n",
    "\n",
    "sorted_words = sorted(word_score_dict.items(), key=lambda x: x[1], reverse=True)\n",
    "\n",
    "negative_reviews = ' '.join(predicted_data_puskesmas[predicted_data_puskesmas['is_positive'] == 0]['cleaned_review_text'])\n",
    "\n",
    "N = 100\n",
    "common_words = set([word for word, score in sorted_words[:N]])\n",
    "\n",
    "filtered_negative_reviews = ' '.join([word for word in negative_reviews.split() if word not in common_words])\n",
    "filtered_negative_reviews = ' '.join([word for word in filtered_negative_reviews.split() if word not in detail_puskesmas['puskesmas_name'].str.lower().str.split().str[1].values])\n",
    "\n",
    "stop_words = [\"bu\", \"sih\", \"maaf\", \"oke\", \"ya\", \"aja\", \"udah\", \"ok\", \"suka\", \"pas\", \"sukses\", \"nyata\", \"ala\", \"tua\", \"jelek\", \"lihat\", \"nama\", \"eh\", \"parah\", \"alas\", \"keluh\", \"laku\", \"salah\"]\n",
    "\n",
    "filtered_negative_reviews = ' '.join([word for word in filtered_negative_reviews.split() if word not in stop_words])\n",
    "\n",
    "wordcloud = WordCloud(\n",
    "    width=1600, \n",
    "    height=800, \n",
    "    background_color=\"white\",\n",
    "    max_words=10, \n",
    "    colormap=\"copper\",\n",
    "    prefer_horizontal=1.0,\n",
    "    min_font_size=10,\n",
    "    max_font_size=300,\n",
    "    contour_width=3,\n",
    "    contour_color='steelblue'\n",
    ").generate(filtered_negative_reviews)\n",
    "\n",
    "plt.figure(figsize=(10, 10))\n",
    "plt.imshow(wordcloud, interpolation=\"bilinear\")\n",
    "plt.axis(\"off\")\n",
    "plt.show()"
   ]
  },
  {
   "cell_type": "code",
   "execution_count": 10,
   "metadata": {},
   "outputs": [
    {
     "name": "stdout",
     "output_type": "stream",
     "text": [
      "Word: tutup\n",
      "2814: Hari ini ke puskesmas ini\n",
      "Rencana mau periksa gigi anak saya karena sakit\n",
      "Pas nyampe...ambil antrian KIA seperti biasa dan berjalan normal\n",
      "Waktu ke poli GIGI dipanggil\n",
      "Saya denger salah satu mbak disitu bilang\n",
      "Loh..kok siang siang gini\n",
      "Lah meskipun siang kan masih jam operasional\n",
      "Kalau ga mau ada pasien siang...kasih tulisan tutup jam 8 atau jam berapa biar ga siang\n",
      "Waktu di dalam juga\n",
      "Dokternya kayak ogah ogahan\n",
      "Dibilang BPJS.nya belum pindah faskes\n",
      "Baik,terus caranya gimana dok\n",
      "Dia dengan jutek,hanya dengan gerakan tangan ke salah satu perawat tanpa ada omongan,\n",
      "mengarahkan saya ke. Salah satu perawat...\n",
      "\n",
      "Apa karena pakai BPJS jadi pelayannya seperti ini?\n",
      "Padahal sebelumnya juga pernah kesini tambal gigi anak saya juga\n",
      "Parah...pelayanan masyarakat tapi kok seperti ini\n",
      "Mengecewakan\n",
      "1859: Pelayanan KIA tolong diperbaiki ya. Kita daftar online kelewat sudah nomor antrian. Kita uda bersedia menunggu. Tapi 2 jam menunggu tidak ada kejelasan sama sekali. Dikomplain malah bilang minta nomor pihak loket. dan sedangkan pihak loket bilang langsung komfirmasi ke KIA. Kalaupun sudah kelewat harusnya per 10 di ulang kembali, takutnya ada yg nunggu. Gak malah diterusin nomor antrian sampai ke 40. Poli KIA pasti tau permasalahan ini setiap hari. Tapi gmna cara mengatasinya ? Harusnya ada evaluasi dong! 2 jam gak ada kejelasan sampek kapan nunggu antrian sampek puskesmas tutup ! Sudah banyak yg ngasih ulasan tapi gak ada itu perbaikan pelayanan.\n",
      "7854: Ruang pendaftaran ga teratur, lumayan lama, ruangannya tertutup ada 2 ac tp ga di nyalakan semua. Sauna sudah, kira2 ac nya buat apa ya\n",
      "1574: kepada walikota surabaya, lebih baik puskesmas ini ditutup saja karena pelayanan sangat buruk! datang berkali2 tapi ditolak, tidak sesuai jadwal yang mereka tulis, seenaknya saja. pertama kali saya dtg disuruh lihat jadwal. lalu saya dtg k2 kali beralasan petugas ada meeting. padahal saya datang sesuai hari dan jam yg sudah ditentukan. tidak profesional! terima kasih!\n",
      "5315: Pelayanan buruk bagian resepsionis ibu2 tua, informasi tidak jelas dan detail, datang siang hari mau suntik TT, di bilang besok pagi datang jam 7 ambil antrian dulu krna skrg sdh tutup bagian lab nya. Oke sudah datang besoknya di bilang yg bagian petugas ga ada, di suruh datang besok lagi ya ambil antrian. Ampun deh, pelayanannya.. pantesn bintang 1 nya banyak, di persulit sekali disini.👎👎👎👎\n",
      "\n",
      "mas2 petugas nya yg ambilin bagian antrian jg tidak ramah👎👎👎👎\n",
      "\n",
      "Word: hasil\n",
      "8240: Pernah disuruh cek darah, oke tusuk sana sini(kurang pandai orangnya). Ujung2nya hasilnya buat syok harus saat itu juga rujuk opname ke rs. Untungnya di rs cek darah lagi ternyata normal semua. Kok bisa hasil labnya puskesmas beda jauh dengan hasil labnya rs, cuma beda berapa jam dengan kondisi kesehatan yg sama gak mungkin tiba2 membaik hasilnya dengan sangat drastis.😓\n",
      "6756: Sudah antri lama gak di panggil, eh ternyata nomor antrian harus di kumpulkan di loket pendaftaran, terus gunanya apa coba nomor antrian beserta tulisan tujuan poli,,,,\n",
      "\n",
      "Petugas ngak ngasih tau kalau habis ambil nomor antrian harus ke loket pendaftaran, kecewa berat, sudah nunggu hampir 2 jam gak ada hasil\n",
      "441: Saya berdoa agar semua petugas dan dokter dipuskesmas ini sehat, kalau pun sakit semoga bisa merasakan sakit parah yg diderita orang lain ketika tgl merah dan cuti bersama... Ada yg lebih penting dari pada penyakit saat ini yaitu libur tgl merah dan cuti bersama... Kalian para dokter seharusnya sudah di sumpah untuk membantu sesama... Tapi mungkin saja kalian hanya membeli title dokter saja untuk menghasilkan uang... Apa yg kalian perbuat kepada orang sakit parah dan tidak dilayani saat tgl merah nanti apa yg kalian dapat didunia atau bisa nanti di akhirat\n",
      "6506: Pelayanan mengecewakan, orang tua saya mau ambil hasil lab, dari bawah suruh naik keatas . Tapi yg diatas malah nanya siapa yg nyuruh , dan petugas lab bicara dg nada tinggi ke ortu saya didepan orang banyak . Pdhal ortu saya sudah tua\n",
      "5219: Hari ini saya daftar utk periksa lab, kemudian saya tanya d tmpt pendaftaran kemudian jawabannya bisa, ketika saya masuk k poli umum dan menunjukkan hasil lab yg kemaren, periksa d lab Cito mbak2 yg d poli umum blg \"gabisa mbk kalo jam segini periksa labnya, bisanya pagi, periksa d Cito aja\" terus saya minta surat keterangan dokter utk ijin istirahat karna tidak masuk kerja, dibilang besok aja sekalian periksa lab, lha dikira kerjaan bisa ditinggal terus gt? Tp utk pelayanan pendaftaran nya bagus, baik, ramah sekali orgnya. Jujur kecewa bgt sm pelayanan poli umumnya\n",
      "\n",
      "Word: marah\n",
      "6742: Saya rating buruk karna, pelayanan buruk,lama,hanya untuk minta surat sehat buat urus sekolah nunggu 3 jam lebih,sedangkan yg baru Dateng didahulukan, kalau kita nanya pegawai puskesmas malah dimarahin ,kecewaa sekali!!!!\n",
      "3838: pelayanan sangat tidak baik, orang pemerintahan tapi minus atittude!! apa lagi petugas yg di loket (ibu-ibu) DIGANTI SAJA!!! bukanya bantu malah marah marah. KALAU CAPE KERJA YA PULANG AJA!\n",
      "8208: pelayanan lumayan oke, cuma di poli gigi dokternya gk ramah. saya mau minta solusi eh, malah dimarahi. mau nyabut gigi dikasih obat mulu...\n",
      "3675: Seharusnya PENGAWAS PUSAT kusus PUSKESMAS ini menegaskan agar lebih mementingkan pelayanan yang ramah dan koordinasi yang bagus. Petugas A mengarahkan ke Petugas B, eh petugas B ngegas marah, kan lucu.. saran deh ya mending bayar daripada dapat pelayanan buruk\n",
      "6762: Satpam nya sok tau. Ngomng nya ngegas bnget. Anak saya  mau vaksin harus ada gandengan nya. Tapi besok pas saya kembali lagi di puskesmas sendirian nggk ada gandengan Nya, ya bisa. Haduh\n",
      "\n",
      "Word: bentak\n",
      "188: Pelayanannya disini parah banget, ada pasien malah menyalakan musik dangdutan kenceng bgt, bercanda, teriak².. saya heran.. ini puskesmas atau apa? Tolong dong, atitude nya dijaga.. kecuali kalo gak ada pasien silahkan kayak gt.. memalukan, puskesmas di kota besar kok kayak gini.. selain itu ada petugas selain dokter, kalo ditanya malah bentak. Sok2an bgt.. orang bertanya kan berarti dia gk tau, harusnya dikasih tw, bukannya di bentak²\n",
      "4613: Pengalaman saya ambil obat di dokter umum :\n",
      "Apoteker berada di tempat tertutup, sebelah ada kipas angin gede berisik, belum suara pasien yg nunggu juga berisik. Sehingga saya ga denger apa yg dikatakan apoteker saya suruh ngulang malah bentak dengan nada kesal. Kalo ada di ruang tertutup gitu ya pake microphone lah buat komunikasi.. Kondisinya disitu selalu rame.. Ngasih/ngambil sesuatu juga kek jijik Gitu.. Takut covid juga ga perlu segitunya.. Saya juga takut.. TETEP RESPECT sama orng. TATAKRAMA DIJAGA.. Thanks.\n",
      "\n",
      "Saya juga baca riview yg laen ternyata emang sama keluhannya PELAYANAN TIDAK RAMAH.\n",
      "3199: Minta tolong kepada pihak puskesmas bulak banteng untuk menegur petugas di poli umum yg jaga depan pengobatan tradisional itu sangat tidak ramah, bentak bentak pasien apalagi lansia cuma perkara geser kursi sedikit\n",
      "5957: Pelayanan sangat kasar . Orang yg jaga pendaftaran sangat tidak ramah . Orang mau berobat kok di bentak . Tolong di ganti itu pegawainya\n",
      "5835: Poli KIA bidannya ketus²,gak bisa melayani dengan hati, ngomong gak bisa pelan bentak² kya lagi di hutan, pelayanan di loket juga buruk 👎🏿👎🏿👎🏿👎🏿👎🏿 …\n",
      "\n",
      "Word: ketus\n",
      "2854: Pelayanan dokter umum ketus dan tidak ramah sama sekali, lebih baik pindah faskes saja, apa karena pasien bpjs PBI pelayanan yang didapat jelek?\n",
      "202: Petugas loket antrian sangat ketus dan tidak ikhlas melayani. Tidak ada ramah2nya. Bintang satu masih kebagusan buat dia.\n",
      "Untuk dokternya good 👍👍 …\n",
      "1299: Dia kira pkek BPJS, haha pantessan ketuuuusss bgt, mana kasar sma anak kecil.\n",
      "Ini sya koment untuk dokter gigi yah. Yg poli gigi mending dokternya ganti deh, sudah tua gk ramah sma anak kecil.\n",
      "Lucunya setelah tahu klo gk pkek BPJS, auto ramah dia wkwkwk\n",
      "\n",
      "Gajimu gk berkah bu dokter, mentang² bgt yah. Astagfirullah...\n",
      "Kok ada manusia sdh tua, ibu² kok kasar sma anak kecil lo... gk punya hati nurani, bukan hanya kata²ny yg kasar ya ini... tpi perilaku dan tindakannya sangat² tidak mnyengangkan.\n",
      "Klo sya rekam bisa viral kejadian ini bisa dicopot kali kamu bu dokter tua.\n",
      "Nyesel berobat di sini\n",
      "9016: Petugasnya infomatif, meskipun ada petugas ibu ibu yang agak ketus tapi sangat perhatian, seperti dimarahin ibuk sendiri sambil nyari kaos kaki yang ilang, ngomel tp tetap dibantu cari XD\n",
      "1767: Pelayanan buruk di loket satu sama mbak2 gak tau namanya.ketus jawabnya.mbokya jangan gitu.kita pasien baru juga bingung faskes sudah pindah apa belum.padahal tadi bapak2 njawabnya enak.pelayanan mengecewakan.wong ya digaji kok njawabe ketus gitu\n",
      "\n",
      "Word: omong\n",
      "3658: Pelayanan kurang ramah. Saya di sana mau kontrol hamil Karna mual-mual dan drop banget badan saya karnA gak mau makan. Malah Sama mbk staff bidan nya di sana di marah-marahin dan berbicara kasar yang tidak seharusnya di keluarkan. Yang buat saya jengkel kata-katanya itu adalah gak usah buat anak mbk dan ada lagi yang di katakan yang seharusnya gak pantas di keluarkan sebagai bidan atau staff di sana. Saya di sana itu mau kontrol hamil & minta resep obat & solusi agar gak mual karna saya barusan pertama kali hamil. Malah sama yang di sana di segran dan kasar omongannya buat saya gak nyaman. Apa mentang\" pakai BPJs gak banyak jadi seperti itu pelayanan nya. Saya baru pertama kali kontrol Di puskesmas pelayanan seperti itu. Tidak ramah sama sekali staf di sana.\n",
      "5810: Puskesmas ato klinik kesehatan terparah sepengelamanku berobat, baru kali ini ditempat ini dokter meriksa cuma kek orang wawancara, didepan laptop, jawabnya terkesan ngasal, gak ada medical check up yg bener² kyk di cek ditanyain lebih mendetail buat tau penyakitnya apa, tujuan saya kesini buat nanya sebenernya ini saya sakit apa BUKAN ASAL MENGIYAKAN APA YG SAYA OMONGKAN!!!!! Serius baru kali ini liat ato tau dokter periksa pasien pake laptop+kek org wawancara. WORS BANGET!!!!! Dan andalannya besok kalo gk membaik kesini lagi, pertanyaannya y para STAFF & DOKTER PUSKESMAS KENJERAN YG CERDAS DAN BUDIMAN!!!!\n",
      "1. Apa pasien anda tidak bekerja ato punya urusan lain?\n",
      "2. Kenapa harus 2x kalo ADA YG BISA ATO CUKUP dicek 1x?\n",
      "3. Ya kalo sampe kekunjungan selanjutnya, kalo gak!? Mau tanggung jawab!!?\n",
      "407: Baru aja datang kesana periksain anak sama suami, semua pelayanan dari loker tensi sama dokter welcome bgt bagus👍 tapi waktu ambil obat kenapa pelayannya jelek bgt👎baru pertama kali dari sekian lama kesana baru kali ini marah\" karna katanya lainnya sudah plg cuma dia aja yg belum karna Masih ngelayani saya, dahal sudah jelas masih ada org dokter pun ada knp dia sendiri yg kesetanan keburu pulang kalau cuma mikiri pulang seharusnya jgn kerja dari pada bentak\" pasien, pasien juga gamau sakit kalau tiba\" anak panas tinggi sore masak mau diperiksain pagi bener syok bgt smpk skrg omngnnya kasar jgn mentang\" saya masih muda cuma saya yg dilayani jelek, tolong diperbaiki lagi jgn Sampek org lain sakit mau berobat malah dimarah..\n",
      "7557: Sangat kecewa sma dokter nya ngmng nya ngawur bgt kerja yang profesional dong namanya pasien apalagi pasien yang kudett klau gatau ya mau ga mau harus jelasin dong dari awal bukan malah mentang2 anda dokter disitu pasien di kata2in seenaknya.\n",
      "1923: Sepertinya gaperlu banyak omong, sudah sama seperti ulasan² yg ada dibawah ini. Semoga pemkot surabaya melantik orang² didalam puskesmas gunung anyar ini lebih profesional. Saya orang gunung anyar tp entah kalau saya gak kepepet untuk ke puskes gunung anyar saya lebih jauh milih ke puskes pucang sewu yg pelayanannya lebih lebih jauh profesional dan menghargai ☺️\n",
      "\n",
      "Word: tolak\n",
      "3962: Bikin surat sehat untuk pendakian aja belibet dan ditolak, padahal kemaren bisa pas pendakian gn rinjani, lebih baik puskesmas yang lain, mohon dibenerin oknum\" nya, terimakasih\n",
      "3166: Beberapa kali ke puskesmas selalu terjadi penolakan entah team loket nya istirahat atau dokternya sudah pulang. Padahal itu masih jam 10 pagi. Dan saya hanya mau cek kesehatan. Disuruh datang lagi jam 3 sore. Setelah jam 3 sore datang. Bilang nya team loket sudah pada pulang. Ini mau nya seperti apa?.\n",
      "2922: Minta surat sakit malah di kasih surat berobat, akhirnya cuti dari pekerjaan di tolak... Saya kembali lagi ke puskesmas untuk minta surat sakit malah jawabnya dokter gak bisa di kasih surat sakitnya terus malah jawabnya tulis sendiri... Maksudte tulis sendiri gimana😏belum selesai ngomong malah di tinggal pulang... Pikirku dokterre koclok... Percuma tiap bulan gajiku di potong buat bayar bpjs kesehatan, faskes juga di puskesmas asemrowo\n",
      "4104: Sangat Kecewa...Krn kemarin tgl 24 Mei 2018 ke puskesmas jam stengah12 u/ imunisasi anak ditolak dgn alasan sdh tutup krn jam operasional smpe jam11 (memang saya yg salah krn tdk telp terlebih dahulu dgn catatan hny melihat jam operasional via web pdhl ini bulan ramadhan/puasa), diminta kembali hari ini tgl 25 Mei 2018 u/ memastikan lg msh buka/tdk saya telp terlebih dahulu krn msh jam stengah10, dgn jwb'an dr slh1 karyawan msh bs dan buka krn msh jam10 kemudian dipersilahkan u/ datang. Giliran saya datang jam9.53 (tercatat di riwayat grab) ke puskesmas eh smua karyawan di loket depan kompak bilang sdh tutup, dgn alasan karyawan'nya yang pulang jam11. Alhasil disruh lg kembali besok pagi tgl 26 Mei 2018, sangat disayangkan pelayanan masyarakat'nya sprt ini. Mohon untuk evaluasi kedepannya.\n",
      "1574: kepada walikota surabaya, lebih baik puskesmas ini ditutup saja karena pelayanan sangat buruk! datang berkali2 tapi ditolak, tidak sesuai jadwal yang mereka tulis, seenaknya saja. pertama kali saya dtg disuruh lihat jadwal. lalu saya dtg k2 kali beralasan petugas ada meeting. padahal saya datang sesuai hari dan jam yg sudah ditentukan. tidak profesional! terima kasih!\n",
      "\n",
      "Word: kartu\n",
      "8935: Bagi saudara-saudara dan teman2 yg akan vaksin di puskesmas kebonsari, bisa datang pukul 6 pagi untuk ambil nomor antrian, dengan membawa 2 fotocopy KTP dan di belakang KTP nya di tulis nomor telepon, biasanya vaksin di mulai jam 8\\ 9.30, proses nya lumayan cepat, kalo bingung langung tanya sama petugas depan dan kalau di cuekin bisa tanya satpam di dekat pintu masuk\n",
      "8151: Kenapa sih tingkat kepuasan dipelayanan puskesmas menurun yaaa karena beberapa orang gini, saat pendaftaran aman sih online lalu antrian nya juga sedikit lalu disuruh membayar biaya retribusi karena ktp luar 20k oke lah, saat dipanggil di meja pertama ditanyain saya bilang \"mau minta surat sehat\" akhirnya petugasnya tidak metensi dan suruh masuk langsung keruang dokter, dokternya ramah banget sih, saat keruang dokter suruh balik lagi buat ke meja pertama untuk tensi, karena aku bilang belom ditensi, haloo sebenernya SPO nya gimana sih, setauku aku belajar kesehatan juga pasien sehat maupun sakit kalau dateng yaa yang pertama ttvnya dan aku liat tulisan tensinya tuh 128/80 an gitu tp petugasnya meja pertama bilang 110/70 an dan terus pas kedokternya yang di surat beda lagi haduh😭. Terus bayar biaya pelayanan 20k aku sih oke² aja jika pelayanan juga baik dan ramah di segala aspek padahal di puskesmas² lain sekitar 20k-30k an karena kukira lebih deket dan lebih nyaman karena surabaya pelayanannya terbaik daerah.\n",
      "270: knp gak melayani ktp luar kota, atau mengurus kepentingan untuk kebutuhan di luar kota. padahal aku juga mau bayar loh. huffttt\n",
      "6099: Mau ambil surat/sertifikate vaksin di persulit, mulai hari prtama surat pengambilannya sdh di minta, 3hari lagi suruh kembali cukup bawa foto kopi ktp saja, di hari ke 3 sy datang dengan mengumpulkan foto kopi ktp, tapi ujung2nya sampau setengah hari menunggu blm ada hasil Dan sy di suruh pulang dulu Dan kembali lagi di lain hari saja kata petugas puskesmas. Trus ini bagaimama kebijakan pemerintah?\n",
      "6575: Benar2 kecewa katanya bisa vaksin ktp luar kota tp pas udah ngantri nunggu lama mlah dsruh ke puskesmas tmpat domisili nya..katanya hamil 8 bln bisa klo moderna mknnya slma ini nunggu adanya moderna mlah katanya jg gk bisa..klo gk sesuai mnding bilang gk bisa aja dr pda udah lma ngantri pas udh di pnggil mlah bilang gk bisa\n",
      "\n",
      "Word: urus\n",
      "2402: Cumak ngurus surat kesehatan buat perpanjangan SIM aja nungguin nya lama sampai tempat perpanjangan nya tutup gara gara puskesmas lelet.\n",
      "6346: Maaf saya kasi bintang 1 dulu, lebih baik poster KOMPENSASI PASIEN dicabut saja karna tidak terealisasi. Saya daftar online ke poli umum dapat no.antrian 37 jadwal yg dilampirkan 8.30-8.45 tapi trnyta sampe jam 9.55 saya masih menunggu dipanggil, awalnya saya masih positif thinking kalau pelayanan staf tidak akan melebihi dari 1 jam karna kalau lebih dari 1 jam pasien akan diberi 50.000 sesuai poster, tapi nyatanya juga terlambat dan tidak ada kompensasi, jadi lebih baik posternya dicabut saja. Saya mau melampirkan video kalau memang se-lama itu (no.antrian dan jam pelayanannya) benar\" tidak sesuai, terlambat jauh, tapi trnyta hanya bisa melampirkan foto saja di ulasan.\n",
      "\n",
      "Satu lagi, terkait parkir, padahal saya pernah datang kesana saat ada acara dari pemkot ada pemberitahuan tidak perlu bayar parkir apabila tidak dapat karcis, dan saat ada acara itu memang tidak dimintai uang parkir, tapi nyatanya hari ini saya ke puskesmas bapak tukang parkirnya nyegat saya buat bayar, bodoamat lah saya lanjut lurus aja karna juga dia gak kasih karcis tapi kok nyegat dan suruh bayar~ entah td si bapak ngedumel apa, saya gak denger, pokok dia gak kasi karcis ya saya juga gakmau bayar. Harusnya kalo sudah tau ada pemberitahuan seperti itu dari pemkot si bapak jangan memaksa, kalau memang ada yg mau ngasih ya ditrima, kalau enggak yaudah. Kalo pihak puskesmas udh tau ada pungli yg masih stay disitu harusnya tiru Indomaret/alfamart yg temboknya dikasi tulisan BEBAS PARKIR, biar nggak ambigu gini.\n",
      "\n",
      "Smoga bisa lebih baik lagiThanks\n",
      "1397: Ngurus surat keterangan sehat untuk catin,Daftar dari jam pagu smpe jam stengah 10 belom juga dilayani.......... Astagaaaaaa........................... Izin kerja bisa seharian ini...hadoohhhhh\n",
      "5019: 5 bulan yang lalu saya mengurus surat kesehatan guna kelengkapan pernikahan. Yang seharusnya diwajibkan untuk suntik TT, di puskesmas ini malah tidak disuntik TT dengan dalih dulu waktu kecil sudah suntik lengkap jadi sekarang tidak perlu suntik TT lagi. Sekarang saat saya ada pemeriksaan ke puskesmas lain ditanya apakah sblm nikah sudah suntik TT? Saya infokan tidak disuntik oleh puskesmas, malah dibilang ngawur itu. Suntik TT sblm nikah itu WAJIB. Bagaimana bisa pelayanan sesama puskesmas tp berbeda-beda. Setelah saya dijelaskan memang penting sekali suntik TT sblm menikah. TOLONG EDUKASI LEBIH LANJUT BAGIAN POLI KIA\n",
      "8048: Dapat antrian nomor 2, pas dateng belum jam setengah 8. Di layar uda tertera no.2 dan tanya ke petugas didepan apa ini sudah giliran saya? Katanya ya sudah no.2 masuk aja. Pas masuk petugas di dalam poli umum belum siap, cuma anak magang bagian tensi yg ud siap. Jadi cuma di tanya keluhan & di beri obat yg d tanyakan ke dokternya tanpa konsul dokter lebih lanjut.\n",
      "\n",
      "Kalau emang masih belum waktunya melayani pasien kan bisa bilang saat saya masuk, atau bisa koordinasi dengan petugas depan kapan mulainya pelayanan.\n",
      "\n",
      "Untuk bagian loket kasir sangat ramah pelayanannya, saya mau urus pengaktifan bpjs dilayani dengan baik.\n",
      "\n",
      "Kalo gak lg butuh urus bpjs juga saya malas kesini karena tiap kesini pelayanan di poli umum tidak ada perubahan\n",
      "\n",
      "Word: bicara\n",
      "8096: Kebersihan tidak bagus, udara nya kalau banyak pasien panas. Kalo menakar obat tidak sama alias ngawur buat racikannya.. apalagi buat anak kecil? Wahduh apotekernya harus di latih lagi ya..?\n",
      "6669: Sangat KECEWA kepada LINMAS atau orang yang bertugas mengentry antrian di puskesmas MOJO..\n",
      "karena sy tidak sempat melihat tag nama dada adapun cirinya petugas LINMAS memakai 3 cincin AKIK sebesar telor puyuh..\n",
      "\n",
      "sy berniat BERTANYA  untuk ganti faskes dan berbicara PELAN tapi LINMAS memberi respon dengan berbicara KERAS seperti orang bertengkar, sy MALU dilihat banyak orang..\n",
      "\n",
      "Mohon Kepala Pukesmas Mojo untuk menegur petugas LINMASnya supaya berbicara dengan SOPAN dan TIDAK KERAS..\n",
      "\n",
      "Trimakasih..\n",
      "3049: bagian administari yang daftarin saya baik ramah dan cepat, tapi mbak mbak agak tua yang bagian tensi tolong diperbaiki pelayanan dan attitude dalam berbicara dengan pasien, orang udah sakit harusnya diajak omong yang baik. saya cuma mau jelasin yang saya rasakan sebelumnya biar ada kelanjutan berkali kali pilek sampek berdarah minta rujukan gadikasih ini langsung di jawab keluhan sekarang aja apa dengan nada ga enak, kalo ga niat kerja gausa kerja urusannya sama nyawa orang tolong diperbaiki ya\n",
      "1470: pelayanan tidak ramah saya masih sakit hati bbrp bln yg lalu itu saya minta surat dokter bu dokter yng bagian pc berbadan gemuk di poli umum menjelaskan tidak ada surat dokter ... singkat cerita saya kesana dngan ibu saya ..jadi ibu saya memohon 1x lagi apakah bisa  .. spontan dokter yang di pc cewe berkerudung berbicara nada keras ke ibu saya langsung saya gandeng ibu saya \" sudah tidak apa apa bu ayo kita pergi \" sungguh semoga tidak dibalas dengan anaknya amiin\n",
      "3905: Dokter nya tdk profesional, kasik obat ngawur ,tdk sesuai dgn sakitnya , puskesmas terbusuk di ind\n",
      "\n"
     ]
    }
   ],
   "source": [
    "top_10_words = pd.Series(filtered_negative_reviews.split()).value_counts().head(10).index\n",
    "\n",
    "for word in top_10_words:\n",
    "    print(f\"Word: {word}\")\n",
    "    sample_reviews = predicted_data_puskesmas[predicted_data_puskesmas['cleaned_review_text'].str.contains(word) & (predicted_data_puskesmas['is_positive'] == 0) & (predicted_data_puskesmas['cleaned_review_text'].str.len() > 50)]\n",
    "    for idx, review in sample_reviews.sample(5)['review_text'].items():\n",
    "        print(f'{idx}: {review}')\n",
    "    \n",
    "    print()"
   ]
  },
  {
   "cell_type": "markdown",
   "metadata": {},
   "source": [
    "# Top 10 Detailed Review for Positive and Negative Puskesmas"
   ]
  },
  {
   "cell_type": "markdown",
   "metadata": {},
   "source": [
    "## Positive"
   ]
  },
  {
   "cell_type": "code",
   "execution_count": 11,
   "metadata": {},
   "outputs": [
    {
     "data": {
      "text/html": [
       "<div>\n",
       "<style scoped>\n",
       "    .dataframe tbody tr th:only-of-type {\n",
       "        vertical-align: middle;\n",
       "    }\n",
       "\n",
       "    .dataframe tbody tr th {\n",
       "        vertical-align: top;\n",
       "    }\n",
       "\n",
       "    .dataframe thead th {\n",
       "        text-align: right;\n",
       "    }\n",
       "</style>\n",
       "<table border=\"1\" class=\"dataframe\">\n",
       "  <thead>\n",
       "    <tr style=\"text-align: right;\">\n",
       "      <th></th>\n",
       "      <th>puskesmas_name</th>\n",
       "      <th>kepala puskesmas</th>\n",
       "      <th>alamat</th>\n",
       "      <th>telepon</th>\n",
       "      <th>url</th>\n",
       "      <th>rate</th>\n",
       "      <th>review_num</th>\n",
       "      <th>lat</th>\n",
       "      <th>lon</th>\n",
       "      <th>display_name</th>\n",
       "      <th>positive_percentage</th>\n",
       "    </tr>\n",
       "  </thead>\n",
       "  <tbody>\n",
       "    <tr>\n",
       "      <th>50</th>\n",
       "      <td>Puskesmas Sidotopo Wetan</td>\n",
       "      <td>dr. Evi Susanti</td>\n",
       "      <td>Jln. Randu 38</td>\n",
       "      <td>(031) 3767737</td>\n",
       "      <td>https://www.google.com/maps/place/Puskesmas+Si...</td>\n",
       "      <td>4,4</td>\n",
       "      <td>(537)</td>\n",
       "      <td>-7.22658925</td>\n",
       "      <td>112.76350132938722</td>\n",
       "      <td>Puskesmas Sidotopo Wetan, Jalan Randu, RW 10, ...</td>\n",
       "      <td>82.278481</td>\n",
       "    </tr>\n",
       "    <tr>\n",
       "      <th>24</th>\n",
       "      <td>Puskesmas Ketabang</td>\n",
       "      <td>dr. Joyce Hestia Nugrahanti</td>\n",
       "      <td>Jln. Jaksa Agung Suprapto No 10</td>\n",
       "      <td>(031) 5311999</td>\n",
       "      <td>https://www.google.com/maps/place/Puskesmas+Ke...</td>\n",
       "      <td>4,5</td>\n",
       "      <td>(377)</td>\n",
       "      <td>-7.2580613</td>\n",
       "      <td>112.74677403040269</td>\n",
       "      <td>Puskesmas Ketabang, Jalan Jimerto, RW 05, Keta...</td>\n",
       "      <td>78.947368</td>\n",
       "    </tr>\n",
       "    <tr>\n",
       "      <th>57</th>\n",
       "      <td>Puskesmas Tanjungsari</td>\n",
       "      <td>dr. Yunita Andriani</td>\n",
       "      <td>Jln. Raya Tanjungsari No.116</td>\n",
       "      <td>(031) 7497858</td>\n",
       "      <td>https://www.google.com/maps/place/Puskesmas+Ta...</td>\n",
       "      <td>4,2</td>\n",
       "      <td>(300)</td>\n",
       "      <td>-7.2594043500000005</td>\n",
       "      <td>112.6892628357994</td>\n",
       "      <td>Puskesmas Tanjungsari, Jalan Raya Tandes Lor, ...</td>\n",
       "      <td>77.027027</td>\n",
       "    </tr>\n",
       "    <tr>\n",
       "      <th>56</th>\n",
       "      <td>Puskesmas Tanah Kali Kedinding</td>\n",
       "      <td>dr. Era Kartikawati</td>\n",
       "      <td>Jln. H. M. Noer 226</td>\n",
       "      <td>(031) 51501347</td>\n",
       "      <td>https://www.google.com/maps/place/Puskesmas+Ta...</td>\n",
       "      <td>4,2</td>\n",
       "      <td>(572)</td>\n",
       "      <td>-7.23037625</td>\n",
       "      <td>112.77446968315311</td>\n",
       "      <td>Puskesmas Tanah Kali Kedinding, Jalan Kedung C...</td>\n",
       "      <td>76.288660</td>\n",
       "    </tr>\n",
       "    <tr>\n",
       "      <th>51</th>\n",
       "      <td>Puskesmas Simolawang</td>\n",
       "      <td>dr. Dwi Sapta Edy Purnama</td>\n",
       "      <td>Jln. Simolawang II Barat 45 A</td>\n",
       "      <td>(031) 3717433 / 085954480937</td>\n",
       "      <td>https://www.google.com/maps/place/Puskesmas+Si...</td>\n",
       "      <td>4,2</td>\n",
       "      <td>(148)</td>\n",
       "      <td>-7.2348687</td>\n",
       "      <td>112.75104985</td>\n",
       "      <td>Puskesmas Simolawang, Jalan Simolawang Kalimir...</td>\n",
       "      <td>75.862069</td>\n",
       "    </tr>\n",
       "    <tr>\n",
       "      <th>42</th>\n",
       "      <td>Puskesmas Pucang Sewu</td>\n",
       "      <td>drg. Ummi Latifah</td>\n",
       "      <td>Jln. Pucang Anom Timur No. 72</td>\n",
       "      <td>(031) 5018527</td>\n",
       "      <td>https://www.google.com/maps/place/Puskesmas+Pu...</td>\n",
       "      <td>4,4</td>\n",
       "      <td>(464)</td>\n",
       "      <td>-7.28659415</td>\n",
       "      <td>112.75552826261239</td>\n",
       "      <td>Puskesmas Pucang Sewu, Jalan Kalibokor, RW 08,...</td>\n",
       "      <td>75.242718</td>\n",
       "    </tr>\n",
       "    <tr>\n",
       "      <th>1</th>\n",
       "      <td>Puskesmas Balas Klumprik</td>\n",
       "      <td>dr. Yessy Pebriaty Sukatendel, MM</td>\n",
       "      <td>Jln. Raya Balas Klumprik</td>\n",
       "      <td>(031) 7665219</td>\n",
       "      <td>https://www.google.com/maps/place/Puskesmas+Ba...</td>\n",
       "      <td>4,1</td>\n",
       "      <td>(96)</td>\n",
       "      <td>-7.3315249</td>\n",
       "      <td>112.69002720464968</td>\n",
       "      <td>Puskesmas Balas Klumprik, Jalan Balas Klumprik...</td>\n",
       "      <td>73.684211</td>\n",
       "    </tr>\n",
       "    <tr>\n",
       "      <th>8</th>\n",
       "      <td>Puskesmas Dukuh Kupang</td>\n",
       "      <td>dr. Khusnul Khowatin</td>\n",
       "      <td>Jln. Dukuh Kupang 25/48</td>\n",
       "      <td>(031) 5677615</td>\n",
       "      <td>https://www.google.com/maps/place/Puskesmas+Du...</td>\n",
       "      <td>4,0</td>\n",
       "      <td>(548)</td>\n",
       "      <td>-7.2832360000000005</td>\n",
       "      <td>112.71222568060509</td>\n",
       "      <td>Puskesmas Dukuh Kupang, Jalan Dukuh Kupang Gan...</td>\n",
       "      <td>71.565495</td>\n",
       "    </tr>\n",
       "    <tr>\n",
       "      <th>61</th>\n",
       "      <td>Puskesmas Wonokromo</td>\n",
       "      <td>drg. Dwiana Yuniarti</td>\n",
       "      <td>Jln. Karangrejo VI/4</td>\n",
       "      <td>(031) 8281647 / 082143561190</td>\n",
       "      <td>https://www.google.com/maps/place/Puskesmas+Wo...</td>\n",
       "      <td>4,2</td>\n",
       "      <td>(349)</td>\n",
       "      <td>-7.303176499999999</td>\n",
       "      <td>112.7303924779992</td>\n",
       "      <td>Puskesmas Wonokromo, Jalan Karang Rejo VI, RW ...</td>\n",
       "      <td>71.502591</td>\n",
       "    </tr>\n",
       "    <tr>\n",
       "      <th>62</th>\n",
       "      <td>Puskesmas Wonokusumo</td>\n",
       "      <td>dr. Heri Siswanto</td>\n",
       "      <td>Jln. Wonokusumo Tengah No.55</td>\n",
       "      <td>(031) 3717597</td>\n",
       "      <td>https://www.google.com/maps/place/Puskesmas+Wo...</td>\n",
       "      <td>4,2</td>\n",
       "      <td>(410)</td>\n",
       "      <td>-7.219663649999999</td>\n",
       "      <td>112.75256160671904</td>\n",
       "      <td>Puskesmas Wonokusumo, Jalan Wonokusumo Tengah,...</td>\n",
       "      <td>71.497585</td>\n",
       "    </tr>\n",
       "  </tbody>\n",
       "</table>\n",
       "</div>"
      ],
      "text/plain": [
       "                    puskesmas_name                   kepala puskesmas  \\\n",
       "50        Puskesmas Sidotopo Wetan                    dr. Evi Susanti   \n",
       "24              Puskesmas Ketabang        dr. Joyce Hestia Nugrahanti   \n",
       "57           Puskesmas Tanjungsari                dr. Yunita Andriani   \n",
       "56  Puskesmas Tanah Kali Kedinding                dr. Era Kartikawati   \n",
       "51            Puskesmas Simolawang          dr. Dwi Sapta Edy Purnama   \n",
       "42           Puskesmas Pucang Sewu                  drg. Ummi Latifah   \n",
       "1         Puskesmas Balas Klumprik  dr. Yessy Pebriaty Sukatendel, MM   \n",
       "8           Puskesmas Dukuh Kupang               dr. Khusnul Khowatin   \n",
       "61             Puskesmas Wonokromo               drg. Dwiana Yuniarti   \n",
       "62            Puskesmas Wonokusumo                  dr. Heri Siswanto   \n",
       "\n",
       "                             alamat                       telepon  \\\n",
       "50                    Jln. Randu 38                 (031) 3767737   \n",
       "24  Jln. Jaksa Agung Suprapto No 10                 (031) 5311999   \n",
       "57     Jln. Raya Tanjungsari No.116                 (031) 7497858   \n",
       "56              Jln. H. M. Noer 226                (031) 51501347   \n",
       "51    Jln. Simolawang II Barat 45 A  (031) 3717433 / 085954480937   \n",
       "42    Jln. Pucang Anom Timur No. 72                 (031) 5018527   \n",
       "1          Jln. Raya Balas Klumprik                 (031) 7665219   \n",
       "8           Jln. Dukuh Kupang 25/48                 (031) 5677615   \n",
       "61             Jln. Karangrejo VI/4  (031) 8281647 / 082143561190   \n",
       "62     Jln. Wonokusumo Tengah No.55                 (031) 3717597   \n",
       "\n",
       "                                                  url rate review_num  \\\n",
       "50  https://www.google.com/maps/place/Puskesmas+Si...  4,4      (537)   \n",
       "24  https://www.google.com/maps/place/Puskesmas+Ke...  4,5      (377)   \n",
       "57  https://www.google.com/maps/place/Puskesmas+Ta...  4,2      (300)   \n",
       "56  https://www.google.com/maps/place/Puskesmas+Ta...  4,2      (572)   \n",
       "51  https://www.google.com/maps/place/Puskesmas+Si...  4,2      (148)   \n",
       "42  https://www.google.com/maps/place/Puskesmas+Pu...  4,4      (464)   \n",
       "1   https://www.google.com/maps/place/Puskesmas+Ba...  4,1       (96)   \n",
       "8   https://www.google.com/maps/place/Puskesmas+Du...  4,0      (548)   \n",
       "61  https://www.google.com/maps/place/Puskesmas+Wo...  4,2      (349)   \n",
       "62  https://www.google.com/maps/place/Puskesmas+Wo...  4,2      (410)   \n",
       "\n",
       "                    lat                 lon  \\\n",
       "50          -7.22658925  112.76350132938722   \n",
       "24           -7.2580613  112.74677403040269   \n",
       "57  -7.2594043500000005   112.6892628357994   \n",
       "56          -7.23037625  112.77446968315311   \n",
       "51           -7.2348687        112.75104985   \n",
       "42          -7.28659415  112.75552826261239   \n",
       "1            -7.3315249  112.69002720464968   \n",
       "8   -7.2832360000000005  112.71222568060509   \n",
       "61   -7.303176499999999   112.7303924779992   \n",
       "62   -7.219663649999999  112.75256160671904   \n",
       "\n",
       "                                         display_name  positive_percentage  \n",
       "50  Puskesmas Sidotopo Wetan, Jalan Randu, RW 10, ...            82.278481  \n",
       "24  Puskesmas Ketabang, Jalan Jimerto, RW 05, Keta...            78.947368  \n",
       "57  Puskesmas Tanjungsari, Jalan Raya Tandes Lor, ...            77.027027  \n",
       "56  Puskesmas Tanah Kali Kedinding, Jalan Kedung C...            76.288660  \n",
       "51  Puskesmas Simolawang, Jalan Simolawang Kalimir...            75.862069  \n",
       "42  Puskesmas Pucang Sewu, Jalan Kalibokor, RW 08,...            75.242718  \n",
       "1   Puskesmas Balas Klumprik, Jalan Balas Klumprik...            73.684211  \n",
       "8   Puskesmas Dukuh Kupang, Jalan Dukuh Kupang Gan...            71.565495  \n",
       "61  Puskesmas Wonokromo, Jalan Karang Rejo VI, RW ...            71.502591  \n",
       "62  Puskesmas Wonokusumo, Jalan Wonokusumo Tengah,...            71.497585  "
      ]
     },
     "execution_count": 11,
     "metadata": {},
     "output_type": "execute_result"
    }
   ],
   "source": [
    "most_positive_review = detail_puskesmas.sort_values(\n",
    "    \"positive_percentage\", ascending=False\n",
    ").head(10)\n",
    "most_positive_review"
   ]
  },
  {
   "cell_type": "markdown",
   "metadata": {},
   "source": [
    "## Negative"
   ]
  },
  {
   "cell_type": "code",
   "execution_count": 12,
   "metadata": {},
   "outputs": [
    {
     "data": {
      "text/html": [
       "<div>\n",
       "<style scoped>\n",
       "    .dataframe tbody tr th:only-of-type {\n",
       "        vertical-align: middle;\n",
       "    }\n",
       "\n",
       "    .dataframe tbody tr th {\n",
       "        vertical-align: top;\n",
       "    }\n",
       "\n",
       "    .dataframe thead th {\n",
       "        text-align: right;\n",
       "    }\n",
       "</style>\n",
       "<table border=\"1\" class=\"dataframe\">\n",
       "  <thead>\n",
       "    <tr style=\"text-align: right;\">\n",
       "      <th></th>\n",
       "      <th>puskesmas_name</th>\n",
       "      <th>kepala puskesmas</th>\n",
       "      <th>alamat</th>\n",
       "      <th>telepon</th>\n",
       "      <th>url</th>\n",
       "      <th>rate</th>\n",
       "      <th>review_num</th>\n",
       "      <th>lat</th>\n",
       "      <th>lon</th>\n",
       "      <th>display_name</th>\n",
       "      <th>positive_percentage</th>\n",
       "    </tr>\n",
       "  </thead>\n",
       "  <tbody>\n",
       "    <tr>\n",
       "      <th>34</th>\n",
       "      <td>Puskesmas Morokrembangan</td>\n",
       "      <td>dr. Nurul Ihsani</td>\n",
       "      <td>Jln. Tambakasri 13/7 Morokrembangan</td>\n",
       "      <td>(031) 7493259</td>\n",
       "      <td>https://www.google.com/maps/place/Puskesmas+Mo...</td>\n",
       "      <td>1,9</td>\n",
       "      <td>(108)</td>\n",
       "      <td>-7.2347805</td>\n",
       "      <td>112.71244346706712</td>\n",
       "      <td>Puskesmas Moro Krembangab, Jalan Tambak Asri X...</td>\n",
       "      <td>10.666667</td>\n",
       "    </tr>\n",
       "    <tr>\n",
       "      <th>49</th>\n",
       "      <td>Puskesmas Sidotopo</td>\n",
       "      <td>dr. Galih Satryo Utomo</td>\n",
       "      <td>Jl. Pegirian No.239, Sidotopo</td>\n",
       "      <td>(031) 3767735</td>\n",
       "      <td>https://www.google.com/maps/place/Puskesmas+Si...</td>\n",
       "      <td>2,8</td>\n",
       "      <td>(80)</td>\n",
       "      <td>-7.23034775</td>\n",
       "      <td>112.74588161903259</td>\n",
       "      <td>Puskesmas Sidotopo, Jalan Sidodadi, RW 07, Sim...</td>\n",
       "      <td>27.659574</td>\n",
       "    </tr>\n",
       "    <tr>\n",
       "      <th>33</th>\n",
       "      <td>Puskesmas Mojo</td>\n",
       "      <td>dr. Ratna Megasari, M.Kes</td>\n",
       "      <td>Jln. Mojo Klanggru Wetan 2/11</td>\n",
       "      <td>(031) 5932332</td>\n",
       "      <td>https://www.google.com/maps/place/Puskesmas+Mo...</td>\n",
       "      <td>2,6</td>\n",
       "      <td>(285)</td>\n",
       "      <td>-7.2709021499999995</td>\n",
       "      <td>112.77082440581847</td>\n",
       "      <td>Puskesmas Mojo Surabaya, Jalan Mojo Klanggru W...</td>\n",
       "      <td>31.606218</td>\n",
       "    </tr>\n",
       "    <tr>\n",
       "      <th>22</th>\n",
       "      <td>Puskesmas Kenjeran</td>\n",
       "      <td>dr. Rosna Suswanti</td>\n",
       "      <td>Jl. Tambak Deres 2 Surabaya</td>\n",
       "      <td>089515356046</td>\n",
       "      <td>https://www.google.com/maps/place/Puskesmas+Ke...</td>\n",
       "      <td>3,2</td>\n",
       "      <td>(165)</td>\n",
       "      <td>-7.24111075</td>\n",
       "      <td>112.79527909779556</td>\n",
       "      <td>Puskesmas Kenjeran, Jalan Abdul Latif, RW 01, ...</td>\n",
       "      <td>38.461538</td>\n",
       "    </tr>\n",
       "    <tr>\n",
       "      <th>18</th>\n",
       "      <td>Puskesmas Kalirungkut</td>\n",
       "      <td>dr. Bernadetta Martini</td>\n",
       "      <td>Jln. Rungkut Puskesmas No. 1</td>\n",
       "      <td>(031) 8700668</td>\n",
       "      <td>https://www.google.com/maps/place/Puskesmas+Ka...</td>\n",
       "      <td>3,4</td>\n",
       "      <td>(289)</td>\n",
       "      <td>-7.3222179999999994</td>\n",
       "      <td>112.77076210366917</td>\n",
       "      <td>Puskesmas Kalirungkut, Jalan Puskesmas, RW 07,...</td>\n",
       "      <td>40.000000</td>\n",
       "    </tr>\n",
       "    <tr>\n",
       "      <th>12</th>\n",
       "      <td>Puskesmas Gundih</td>\n",
       "      <td>dr. Tita Pusparini, M. Kes</td>\n",
       "      <td>Jln. Margodadi 36 - 38 Surabaya</td>\n",
       "      <td>(031) 5476275</td>\n",
       "      <td>https://www.google.com/maps/place/Puskesmas+Gu...</td>\n",
       "      <td>3,1</td>\n",
       "      <td>(117)</td>\n",
       "      <td>-7.24724475</td>\n",
       "      <td>112.72539044999999</td>\n",
       "      <td>Puskesmas Gundih, Jalan Margodadi, RW 07, Gund...</td>\n",
       "      <td>41.333333</td>\n",
       "    </tr>\n",
       "    <tr>\n",
       "      <th>4</th>\n",
       "      <td>Puskesmas Banyu Urip</td>\n",
       "      <td>dr. Winartuti Santoso, M.Kes</td>\n",
       "      <td>Jln. Banyu Urip Kidul 6/8</td>\n",
       "      <td>(031) 7405936</td>\n",
       "      <td>https://www.google.com/maps/place/Puskesmas+Ba...</td>\n",
       "      <td>3,2</td>\n",
       "      <td>(170)</td>\n",
       "      <td>-7.2715069</td>\n",
       "      <td>112.72002732026792</td>\n",
       "      <td>Puskesmas Banyu Urip, Jalan Banyu Urip Kidul V...</td>\n",
       "      <td>42.201835</td>\n",
       "    </tr>\n",
       "    <tr>\n",
       "      <th>20</th>\n",
       "      <td>Puskesmas Kedungdoro</td>\n",
       "      <td>dr. Diah Roichan Arifiani, M.Kes</td>\n",
       "      <td>Jln. Kaliasin Pompa 79-81 Surabaya</td>\n",
       "      <td>(031) 5345968</td>\n",
       "      <td>https://www.google.com/maps/place/Puskesmas+Ke...</td>\n",
       "      <td>3,2</td>\n",
       "      <td>(145)</td>\n",
       "      <td>-7.26370155</td>\n",
       "      <td>112.73824149999999</td>\n",
       "      <td>Puskesmas Kedungdoro, Jalan Kaliasin Gang VI, ...</td>\n",
       "      <td>43.181818</td>\n",
       "    </tr>\n",
       "    <tr>\n",
       "      <th>40</th>\n",
       "      <td>Puskesmas Peneleh</td>\n",
       "      <td>dr. Ayu Ekanita Hendrayani</td>\n",
       "      <td>Jln. Makam Peneleh No.35</td>\n",
       "      <td>(031) 5343473</td>\n",
       "      <td>https://www.google.com/maps/place/Puskesmas+Pe...</td>\n",
       "      <td>3,2</td>\n",
       "      <td>(152)</td>\n",
       "      <td>-7.2523042</td>\n",
       "      <td>112.74083083291245</td>\n",
       "      <td>Puskesmas Peneleh, Jalan Makam Peneleh, Makam ...</td>\n",
       "      <td>43.478261</td>\n",
       "    </tr>\n",
       "    <tr>\n",
       "      <th>58</th>\n",
       "      <td>Puskesmas Tembok Dukuh</td>\n",
       "      <td>drg. Tiyas Pranadani</td>\n",
       "      <td>Jln. Kalibutuh No 26 Surabaya</td>\n",
       "      <td>(031) 5343410</td>\n",
       "      <td>https://www.google.com/maps/place/Puskesmas+Te...</td>\n",
       "      <td>3,7</td>\n",
       "      <td>(266)</td>\n",
       "      <td>-7.254527449999999</td>\n",
       "      <td>112.71921325</td>\n",
       "      <td>Puskesmas Tembok Dukuh, Jalan Kalibutuh, RW 02...</td>\n",
       "      <td>46.153846</td>\n",
       "    </tr>\n",
       "  </tbody>\n",
       "</table>\n",
       "</div>"
      ],
      "text/plain": [
       "              puskesmas_name                  kepala puskesmas  \\\n",
       "34  Puskesmas Morokrembangan                  dr. Nurul Ihsani   \n",
       "49        Puskesmas Sidotopo            dr. Galih Satryo Utomo   \n",
       "33            Puskesmas Mojo         dr. Ratna Megasari, M.Kes   \n",
       "22        Puskesmas Kenjeran                dr. Rosna Suswanti   \n",
       "18     Puskesmas Kalirungkut            dr. Bernadetta Martini   \n",
       "12          Puskesmas Gundih        dr. Tita Pusparini, M. Kes   \n",
       "4       Puskesmas Banyu Urip      dr. Winartuti Santoso, M.Kes   \n",
       "20      Puskesmas Kedungdoro  dr. Diah Roichan Arifiani, M.Kes   \n",
       "40         Puskesmas Peneleh        dr. Ayu Ekanita Hendrayani   \n",
       "58    Puskesmas Tembok Dukuh              drg. Tiyas Pranadani   \n",
       "\n",
       "                                 alamat        telepon  \\\n",
       "34  Jln. Tambakasri 13/7 Morokrembangan  (031) 7493259   \n",
       "49        Jl. Pegirian No.239, Sidotopo  (031) 3767735   \n",
       "33        Jln. Mojo Klanggru Wetan 2/11  (031) 5932332   \n",
       "22          Jl. Tambak Deres 2 Surabaya   089515356046   \n",
       "18         Jln. Rungkut Puskesmas No. 1  (031) 8700668   \n",
       "12      Jln. Margodadi 36 - 38 Surabaya  (031) 5476275   \n",
       "4             Jln. Banyu Urip Kidul 6/8  (031) 7405936   \n",
       "20   Jln. Kaliasin Pompa 79-81 Surabaya  (031) 5345968   \n",
       "40             Jln. Makam Peneleh No.35  (031) 5343473   \n",
       "58        Jln. Kalibutuh No 26 Surabaya  (031) 5343410   \n",
       "\n",
       "                                                  url rate review_num  \\\n",
       "34  https://www.google.com/maps/place/Puskesmas+Mo...  1,9      (108)   \n",
       "49  https://www.google.com/maps/place/Puskesmas+Si...  2,8       (80)   \n",
       "33  https://www.google.com/maps/place/Puskesmas+Mo...  2,6      (285)   \n",
       "22  https://www.google.com/maps/place/Puskesmas+Ke...  3,2      (165)   \n",
       "18  https://www.google.com/maps/place/Puskesmas+Ka...  3,4      (289)   \n",
       "12  https://www.google.com/maps/place/Puskesmas+Gu...  3,1      (117)   \n",
       "4   https://www.google.com/maps/place/Puskesmas+Ba...  3,2      (170)   \n",
       "20  https://www.google.com/maps/place/Puskesmas+Ke...  3,2      (145)   \n",
       "40  https://www.google.com/maps/place/Puskesmas+Pe...  3,2      (152)   \n",
       "58  https://www.google.com/maps/place/Puskesmas+Te...  3,7      (266)   \n",
       "\n",
       "                    lat                 lon  \\\n",
       "34           -7.2347805  112.71244346706712   \n",
       "49          -7.23034775  112.74588161903259   \n",
       "33  -7.2709021499999995  112.77082440581847   \n",
       "22          -7.24111075  112.79527909779556   \n",
       "18  -7.3222179999999994  112.77076210366917   \n",
       "12          -7.24724475  112.72539044999999   \n",
       "4            -7.2715069  112.72002732026792   \n",
       "20          -7.26370155  112.73824149999999   \n",
       "40           -7.2523042  112.74083083291245   \n",
       "58   -7.254527449999999        112.71921325   \n",
       "\n",
       "                                         display_name  positive_percentage  \n",
       "34  Puskesmas Moro Krembangab, Jalan Tambak Asri X...            10.666667  \n",
       "49  Puskesmas Sidotopo, Jalan Sidodadi, RW 07, Sim...            27.659574  \n",
       "33  Puskesmas Mojo Surabaya, Jalan Mojo Klanggru W...            31.606218  \n",
       "22  Puskesmas Kenjeran, Jalan Abdul Latif, RW 01, ...            38.461538  \n",
       "18  Puskesmas Kalirungkut, Jalan Puskesmas, RW 07,...            40.000000  \n",
       "12  Puskesmas Gundih, Jalan Margodadi, RW 07, Gund...            41.333333  \n",
       "4   Puskesmas Banyu Urip, Jalan Banyu Urip Kidul V...            42.201835  \n",
       "20  Puskesmas Kedungdoro, Jalan Kaliasin Gang VI, ...            43.181818  \n",
       "40  Puskesmas Peneleh, Jalan Makam Peneleh, Makam ...            43.478261  \n",
       "58  Puskesmas Tembok Dukuh, Jalan Kalibutuh, RW 02...            46.153846  "
      ]
     },
     "execution_count": 12,
     "metadata": {},
     "output_type": "execute_result"
    }
   ],
   "source": [
    "most_negative_review = detail_puskesmas.sort_values(\n",
    "    \"positive_percentage\", ascending=True\n",
    ").head(10)\n",
    "most_negative_review"
   ]
  },
  {
   "cell_type": "markdown",
   "metadata": {},
   "source": [
    "# Detect Overall Sentiment about 3 Quality Measures by https://www.ncbi.nlm.nih.gov/books/NBK222274/pdf/Bookshelf_NBK222274.pdf\n",
    "\n",
    "1. Safety\n",
    "2. Effectiveness, Efficiency & Timeliness\n",
    "3. Patient-centeredness & Equity"
   ]
  },
  {
   "cell_type": "code",
   "execution_count": 13,
   "metadata": {},
   "outputs": [],
   "source": [
    "import pandas as pd\n",
    "\n",
    "predicted_data_puskesmas = pd.read_csv(\"predicted-review.csv\")"
   ]
  },
  {
   "cell_type": "code",
   "execution_count": 14,
   "metadata": {},
   "outputs": [
    {
     "name": "stderr",
     "output_type": "stream",
     "text": [
      "/home/helmyl-linux/.pyenv/versions/anaconda3-2024.02-1/lib/python3.11/site-packages/fuzzywuzzy/fuzz.py:11: UserWarning:\n",
      "\n",
      "Using slow pure-python SequenceMatcher. Install python-Levenshtein to remove this warning\n",
      "\n"
     ]
    },
    {
     "name": "stdout",
     "output_type": "stream",
     "text": [
      "(802, 7)\n",
      "is_positive\n",
      "1    0.750623\n",
      "0    0.249377\n",
      "Name: proportion, dtype: float64\n"
     ]
    }
   ],
   "source": [
    "from fuzzywuzzy import fuzz\n",
    "\n",
    "safety_words = [\"aman\", \"selamat\", \"nyaman\", \"terjamin\", \"lindungi\", \"perlindungan\", \"keamanan\", \"keselamatan\", \"amanah\", \"amanat\"]\n",
    "\n",
    "safety_reviews = predicted_data_puskesmas[predicted_data_puskesmas[\"cleaned_review_text\"].apply(lambda x: any(fuzz.partial_ratio(word, x) > 80 for word in safety_words))]\n",
    "print(safety_reviews.shape)\n",
    "print(safety_reviews[\"is_positive\"].value_counts(normalize=True))"
   ]
  },
  {
   "cell_type": "code",
   "execution_count": 15,
   "metadata": {},
   "outputs": [
    {
     "name": "stdout",
     "output_type": "stream",
     "text": [
      "(5285, 7)\n",
      "is_positive\n",
      "1    0.776727\n",
      "0    0.223273\n",
      "Name: proportion, dtype: float64\n"
     ]
    }
   ],
   "source": [
    "from fuzzywuzzy import fuzz\n",
    "\n",
    "effectiveness_words = [\"efektif\", \"efektivitas\", \"efisien\", \"efisiensi\", \"cepat\", \"cepatan\", \"tepat\", \"tepatan\", \"waktu\", \"waktunya\", \"waktu\", \"waktunya\", \"hasil\", \"hasilnya\", \"berhasil\", \"berhasilnya\", \"sukses\", \"suksesnya\", \"beres\", \"beresnya\", \"selesai\", \"selesainya\", \"selesai\", \"selesainya\", \"segera\", \"segeranya\", \"segera\", \"segeranya\", \"tuntas\", \"tuntasnya\", \"tuntas\", \"tuntasnya\", \"lengkap\", \"lengkapnya\", \"lengkap\", \"lengkapnya\", \"memuaskan\", \"memuaskannya\", \"memuaskan\", \"memuaskannya\", \"puas\", \"puasnya\", \"puas\", \"puasnya\", \"bagus\", \"bagusnya\", \"bagus\", \"bagusnya\", \"baik\", \"baiknya\"]\n",
    "efficiency_words = [\"efisien\", \"efisiensi\", \"hemat\", \"hematnya\", \"hemat\", \"hematnya\", \"murah\", \"murahnya\", \"murah\", \"murahnya\", \"biaya\", \"biayanya\", \"biaya\", \"biayanya\", \"uang\", \"uangnya\", \"uang\", \"uangnya\", \"tarif\", \"tarifnya\", \"tarif\", \"tarifnya\", \"harga\", \"harganya\", \"harga\", \"harganya\", \"mahal\", \"mahalnya\", \"mahal\", \"mahalnya\", \"berkualitas\", \"berkualitasnya\", \"berkualitas\", \"berkualitasnya\", \"ramah\", \"ramahnya\", \"ramah\", \"ramahnya\", \"cepat\", \"cepatnya\", \"cepat\", \"cepatnya\", \"tepat\", \"tepatnya\", \"tepat\", \"tepatnya\", \"waktu\", \"waktunya\", \"waktu\", \"waktunya\", \"hasil\", \"hasilnya\", \"berhasil\", \"berhasilnya\", \"sukses\", \"suksesnya\", \"beres\", \"beresnya\", \"selesai\", \"selesainya\", \"selesai\", \"selesainya\", \"segera\", \"segeranya\", \"segera\", \"segeranya\", \"tuntas\", \"tuntasnya\", \"tuntas\", \"tuntasnya\", \"lengkap\", \"lengkapnya\", \"lengkap\", \"lengkapnya\", \"memuaskan\", \"memuaskannya\", \"memuaskan\", \"memuaskannya\", \"puas\", \"puasnya\", \"puas\", \"puasnya\", \"bagus\", \"bagusnya\", \"bagus\", \"bagusnya\", \"baik\", \"baiknya\"]\n",
    "timeliness_words = [\"cepat\", \"cepatan\", \"tepat\", \"tepatan\", \"waktu\", \"waktunya\", \"waktu\", \"waktunya\", \"hasil\", \"hasilnya\", \"berhasil\", \"berhasilnya\", \"sukses\", \"suksesnya\", \"beres\", \"beresnya\", \"selesai\", \"selesainya\", \"selesai\", \"selesainya\", \"segera\", \"segeranya\", \"segera\", \"segeranya\", \"tuntas\", \"tuntasnya\", \"tuntas\", \"tuntasnya\", \"lengkap\", \"lengkapnya\", \"lengkap\", \"lengkapnya\", \"memuaskan\", \"memuaskannya\", \"memuaskan\", \"memuaskannya\", \"puas\", \"puasnya\", \"puas\", \"puasnya\", \"bagus\", \"bagusnya\", \"bagus\", \"bagusnya\", \"baik\", \"baiknya\"]\n",
    "\n",
    "overall_words_of_interest = set(effectiveness_words).union(efficiency_words).union(timeliness_words)\n",
    "\n",
    "effective_efficiency_timeliness_reviews = predicted_data_puskesmas[predicted_data_puskesmas[\"cleaned_review_text\"].apply(lambda x: any(fuzz.partial_ratio(word, x) > 80 for word in overall_words_of_interest))]\n",
    "print(effective_efficiency_timeliness_reviews.shape)\n",
    "print(effective_efficiency_timeliness_reviews.is_positive.value_counts(normalize=True))"
   ]
  },
  {
   "cell_type": "code",
   "execution_count": 16,
   "metadata": {},
   "outputs": [
    {
     "name": "stdout",
     "output_type": "stream",
     "text": [
      "(3431, 7)\n",
      "is_positive\n",
      "1    0.754008\n",
      "0    0.245992\n",
      "Name: proportion, dtype: float64\n"
     ]
    }
   ],
   "source": [
    "from fuzzywuzzy import fuzz\n",
    "\n",
    "patient_centeredness_words = [\"ramah\", \"ramahnya\", \"ramah\", \"ramahnya\", \"sopan\", \"sopannya\", \"sopan\", \"sopannya\"]\n",
    "equity_words = [\"adil\", \"adilnya\", \"adil\", \"adilnya\", \"layak\", \"layaknya\", \"layak\", \"layaknya\", \"pantas\", \"pantasnya\", \"pantas\", \"pantasnya\", \"seimbang\", \"seimbangnya\", \"seimbang\", \"seimbangnya\", \"setara\", \"setaranya\", \"setara\", \"setaranya\", \"sama\", \"samanya\", \"sama\", \"samanya\", \"merata\", \"meratanya\", \"merata\", \"meratanya\", \"seadil\", \"seadilnya\", \"seadil\", \"seadilnya\", \"seimbang\", \"seimbangnya\", \"seimbang\", \"seimbangnya\", \"setara\", \"setaranya\", \"setara\", \"setaranya\", \"sama\", \"samanya\", \"sama\", \"samanya\", \"merata\", \"meratanya\", \"merata\", \"meratanya\", \"seadil\", \"seadilnya\", \"seadil\", \"seadilnya\", \"seimbang\", \"seimbangnya\", \"seimbang\", \"seimbangnya\", \"setara\", \"setaranya\", \"setara\", \"setaranya\", \"sama\", \"samanya\", \"sama\", \"samanya\", \"merata\", \"meratanya\", \"merata\", \"meratanya\", \"seadil\", \"seadilnya\", \"seadil\", \"seadilnya\", \"seimbang\", \"seimbangnya\", \"seimbang\", \"seimbangnya\", \"setara\", \"setaranya\", \"setara\", \"setaranya\", \"sama\", \"samanya\", \"sama\", \"samanya\", \"merata\", \"meratanya\", \"merata\", \"meratanya\", \"seadil\", \"seadilnya\", \"seadil\", \"seadilnya\", \"seimbang\", \"seimbangnya\", \"seimbang\", \"seimbangnya\", \"setara\", \"setaranya\", \"setara\", \"setaranya\", \"sama\", \"samanya\", \"sama\", \"samanya\", \"rasis\", \"diskriminasi\", \"diskriminatif\", \"diskriminasi\", \"diskriminatif\", \"rasial\", \"rasialnya\", \"rasial\", \"rasialnya\", \"rasisme\", \"rasismenya\", \"rasisme\", \"rasismenya\", \"ras\", \"rasnya\", \"ras\", \"rasnya\", \"etnis\", \"etnisnya\", \"etnis\", \"etnisnya\", \"suku\", \"sukunya\", \"suku\", \"sukunya\", \"agama\", \"agamanya\", \"agama\", \"agamanya\", \"kepercayaan\", \"kepercayaannya\", \"kepercayaan\"]\n",
    "\n",
    "patient_centeredness_equity_words_of_interest = set(patient_centeredness_words).union(equity_words)\n",
    "\n",
    "patient_centeredness_equity_reviews = predicted_data_puskesmas[predicted_data_puskesmas[\"cleaned_review_text\"].apply(lambda x: any(fuzz.partial_ratio(word, x) > 80 for word in patient_centeredness_equity_words_of_interest))]\n",
    "print(patient_centeredness_equity_reviews.shape)\n",
    "print(patient_centeredness_equity_reviews.is_positive.value_counts(normalize=True))"
   ]
  },
  {
   "cell_type": "code",
   "execution_count": 90,
   "metadata": {},
   "outputs": [
    {
     "name": "stderr",
     "output_type": "stream",
     "text": [
      "/tmp/ipykernel_4869/3549968995.py:5: SettingWithCopyWarning:\n",
      "\n",
      "\n",
      "A value is trying to be set on a copy of a slice from a DataFrame.\n",
      "Try using .loc[row_indexer,col_indexer] = value instead\n",
      "\n",
      "See the caveats in the documentation: https://pandas.pydata.org/pandas-docs/stable/user_guide/indexing.html#returning-a-view-versus-a-copy\n",
      "\n",
      "/tmp/ipykernel_4869/3549968995.py:6: SettingWithCopyWarning:\n",
      "\n",
      "\n",
      "A value is trying to be set on a copy of a slice from a DataFrame.\n",
      "Try using .loc[row_indexer,col_indexer] = value instead\n",
      "\n",
      "See the caveats in the documentation: https://pandas.pydata.org/pandas-docs/stable/user_guide/indexing.html#returning-a-view-versus-a-copy\n",
      "\n",
      "/tmp/ipykernel_4869/3549968995.py:7: SettingWithCopyWarning:\n",
      "\n",
      "\n",
      "A value is trying to be set on a copy of a slice from a DataFrame.\n",
      "Try using .loc[row_indexer,col_indexer] = value instead\n",
      "\n",
      "See the caveats in the documentation: https://pandas.pydata.org/pandas-docs/stable/user_guide/indexing.html#returning-a-view-versus-a-copy\n",
      "\n"
     ]
    },
    {
     "data": {
      "image/png": "[encoded data removed]",
      "text/plain": [
       "<Figure size 1000x700 with 1 Axes>"
      ]
     },
     "metadata": {},
     "output_type": "display_data"
    }
   ],
   "source": [
    "import pandas as pd\n",
    "import matplotlib.pyplot as plt\n",
    "import seaborn as sns\n",
    "\n",
    "safety_reviews[\"is_positive\"] = safety_reviews[\"is_positive\"].replace({0: \"Negative\", 1: \"Positive\"})\n",
    "effective_efficiency_timeliness_reviews[\"is_positive\"] = effective_efficiency_timeliness_reviews[\"is_positive\"].replace({0: \"Negative\", 1: \"Positive\"})\n",
    "patient_centeredness_equity_reviews[\"is_positive\"] = patient_centeredness_equity_reviews[\"is_positive\"].replace({0: \"Negative\", 1: \"Positive\"})\n",
    "\n",
    "safety_values = safety_reviews[\"is_positive\"].value_counts(normalize=True)\n",
    "efficiency_values = effective_efficiency_timeliness_reviews[\"is_positive\"].value_counts(normalize=True)\n",
    "patient_centeredness_equity_values = patient_centeredness_equity_reviews[\"is_positive\"].value_counts(normalize=True)\n",
    "\n",
    "safety_counts = safety_reviews[\"is_positive\"].value_counts()\n",
    "efficiency_counts = effective_efficiency_timeliness_reviews[\"is_positive\"].value_counts()\n",
    "patient_centeredness_equity_counts = patient_centeredness_equity_reviews[\"is_positive\"].value_counts()\n",
    "\n",
    "categories_with_counts = {\n",
    "    'Safety': safety_counts.sum(),\n",
    "    'Effectiveness, Efficiency & Timeliness': efficiency_counts.sum(),\n",
    "    'Patient Centeredness & Equity': patient_centeredness_equity_counts.sum()\n",
    "}\n",
    "\n",
    "safety_df = safety_values.rename_axis('Review').reset_index(name='Safety')\n",
    "efficiency_df = efficiency_values.rename_axis('Review').reset_index(name='Effectiveness, Efficiency & Timeliness')\n",
    "patient_centeredness_equity_df = patient_centeredness_equity_values.rename_axis('Review').reset_index(name='Patient Centeredness & Equity')\n",
    "\n",
    "df = pd.merge(safety_df, efficiency_df, on='Review')\n",
    "df = pd.merge(df, patient_centeredness_equity_df, on='Review')\n",
    "\n",
    "df.set_index('Review', inplace=True)\n",
    "df = df.T\n",
    "\n",
    "sns.set_palette(\"Set2\")\n",
    "\n",
    "plt.rcParams.update({'font.size': 12})\n",
    "\n",
    "fig, ax = plt.subplots(figsize=(10, 7))\n",
    "\n",
    "bars = df.plot(kind='bar', stacked=True, ax=ax, width=0.8)\n",
    "\n",
    "ax.yaxis.grid(True, linestyle='--', which='major', color='grey', alpha=0.6)\n",
    "ax.set_xticklabels([f'{index}\\n({categories_with_counts[index]} rows)' for index in df.index], rotation=0, fontsize=10)\n",
    "\n",
    "\n",
    "iter = 0\n",
    "\n",
    "for bar in bars.patches:\n",
    "    height = bar.get_height()\n",
    "    current_category = df.iloc[iter]\n",
    "    total = current_category.sum()\n",
    "\n",
    "    percentage = f'{100 * height/total:.1f}%'\n",
    "    \n",
    "    text_x = bar.get_x() + bar.get_width() / 2\n",
    "    if height < total * 0.05:\n",
    "        text_y = bar.get_y() + height + total * 0.05\n",
    "    elif height > total * 0.95: \n",
    "        text_y = bar.get_y() + height - total * 0.05\n",
    "    else:\n",
    "        text_y = bar.get_y() + height / 2\n",
    "    \n",
    "    ax.text(text_x, text_y, f'({percentage})', ha='center', va='center', color='black', fontsize=10)\n",
    "\n",
    "    iter += 1\n",
    "\n",
    "    if iter == 3:\n",
    "        iter = 0\n",
    "    \n",
    "\n",
    "plt.title(\"Distribution of Positive and Negative\\nReviews Across Categories\", fontsize=14, pad=20)\n",
    "plt.xticks(rotation=0, fontsize=10)\n",
    "plt.yticks(fontsize=8)\n",
    "plt.legend(title='Review Outcome', title_fontsize='12', fontsize='10', loc='upper left')\n",
    "\n",
    "plt.tight_layout()\n",
    "plt.show()"
   ]
  },
  {
   "cell_type": "markdown",
   "metadata": {},
   "source": [
    "# Plot Distribution of Positive Percentage in all Puskesmas"
   ]
  },
  {
   "cell_type": "code",
   "execution_count": 18,
   "metadata": {},
   "outputs": [],
   "source": [
    "import pandas as pd\n",
    "\n",
    "detail_puskesmas = pd.read_csv(\"puskesmas_detail.csv\")"
   ]
  },
  {
   "cell_type": "code",
   "execution_count": 81,
   "metadata": {},
   "outputs": [
    {
     "name": "stderr",
     "output_type": "stream",
     "text": [
      "/tmp/ipykernel_4869/451078694.py:27: SettingWithCopyWarning:\n",
      "\n",
      "\n",
      "A value is trying to be set on a copy of a slice from a DataFrame.\n",
      "Try using .loc[row_indexer,col_indexer] = value instead\n",
      "\n",
      "See the caveats in the documentation: https://pandas.pydata.org/pandas-docs/stable/user_guide/indexing.html#returning-a-view-versus-a-copy\n",
      "\n",
      "/tmp/ipykernel_4869/451078694.py:40: SettingWithCopyWarning:\n",
      "\n",
      "\n",
      "A value is trying to be set on a copy of a slice from a DataFrame.\n",
      "Try using .loc[row_indexer,col_indexer] = value instead\n",
      "\n",
      "See the caveats in the documentation: https://pandas.pydata.org/pandas-docs/stable/user_guide/indexing.html#returning-a-view-versus-a-copy\n",
      "\n"
     ]
    },
    {
     "data": {
      "application/vnd.plotly.v1+json": {
       "config": {
        "plotlyServerURL": "https://plot.ly"
       },
       "data": [
        {
         "marker": {
          "color": "rgba(102,194,165,255)",
          "line": {
           "color": "rgba(0, 128, 128, 1.0)",
           "width": 3
          }
         },
         "name": "Positif",
         "orientation": "h",
         "text": [
          "  10.67%  ",
          "  42.2%  ",
          "  50.0%  ",
          "  52.75%  ",
          "  53.91%  ",
          "  59.17%  ",
          "  63.52%  ",
          "  67.32%  ",
          "  69.0%  ",
          "  71.57%  ",
          "  82.28%  "
         ],
         "textfont": {
          "color": "black",
          "family": "Arial, sans-serif",
          "size": 12
         },
         "textposition": "outside",
         "type": "bar",
         "x": [
          10.67,
          42.2,
          50,
          52.75,
          53.91,
          59.17,
          63.52,
          67.32,
          69,
          71.57,
          82.28
         ],
         "y": [
          "Puskesmas Morokrembangan",
          "Puskesmas Banyu Urip",
          "Puskesmas Bulak Banteng",
          "Puskesmas Kedurus",
          "Puskesmas Tambak Rejo",
          "Puskesmas Gunung Anyar",
          "Puskesmas Sawahan",
          "Puskesmas Pakis",
          "Puskesmas Tenggilis",
          "Puskesmas Dukuh Kupang",
          "Puskesmas Sidotopo Wetan"
         ]
        },
        {
         "marker": {
          "color": "rgba(255, 113, 206, 0.6)",
          "line": {
           "color": "rgba(255, 113, 206, 1.0)",
           "width": 3
          }
         },
         "name": "Negatif",
         "orientation": "h",
         "text": [
          "89.33%  ",
          "57.8%  ",
          "50.0%  ",
          "47.25%  ",
          "46.09%  ",
          "40.83%  ",
          "36.48%  ",
          "32.68%  ",
          "31.0%  ",
          "28.43%  ",
          "17.72%  "
         ],
         "textfont": {
          "color": "black",
          "family": "Arial, sans-serif",
          "size": 12
         },
         "textposition": "inside",
         "type": "bar",
         "x": [
          "89.33%  ",
          "57.8%  ",
          "50.0%  ",
          "47.25%  ",
          "46.09%  ",
          "40.83%  ",
          "36.48%  ",
          "32.68%  ",
          "31.0%  ",
          "28.43%  ",
          "17.72%  "
         ],
         "y": [
          "Puskesmas Morokrembangan",
          "Puskesmas Banyu Urip",
          "Puskesmas Bulak Banteng",
          "Puskesmas Kedurus",
          "Puskesmas Tambak Rejo",
          "Puskesmas Gunung Anyar",
          "Puskesmas Sawahan",
          "Puskesmas Pakis",
          "Puskesmas Tenggilis",
          "Puskesmas Dukuh Kupang",
          "Puskesmas Sidotopo Wetan"
         ]
        }
       ],
       "layout": {
        "barmode": "stack",
        "font": {
         "color": "black",
         "family": "Helvetica, sans-serif",
         "size": 12
        },
        "height": 600,
        "legend": {
         "traceorder": "reversed"
        },
        "margin": {
         "b": 100,
         "l": 100,
         "r": 100,
         "t": 100
        },
        "plot_bgcolor": "rgba(255,255,255,1)",
        "template": {
         "data": {
          "bar": [
           {
            "error_x": {
             "color": "#2a3f5f"
            },
            "error_y": {
             "color": "#2a3f5f"
            },
            "marker": {
             "line": {
              "color": "#E5ECF6",
              "width": 0.5
             },
             "pattern": {
              "fillmode": "overlay",
              "size": 10,
              "solidity": 0.2
             }
            },
            "type": "bar"
           }
          ],
          "barpolar": [
           {
            "marker": {
             "line": {
              "color": "#E5ECF6",
              "width": 0.5
             },
             "pattern": {
              "fillmode": "overlay",
              "size": 10,
              "solidity": 0.2
             }
            },
            "type": "barpolar"
           }
          ],
          "carpet": [
           {
            "aaxis": {
             "endlinecolor": "#2a3f5f",
             "gridcolor": "white",
             "linecolor": "white",
             "minorgridcolor": "white",
             "startlinecolor": "#2a3f5f"
            },
            "baxis": {
             "endlinecolor": "#2a3f5f",
             "gridcolor": "white",
             "linecolor": "white",
             "minorgridcolor": "white",
             "startlinecolor": "#2a3f5f"
            },
            "type": "carpet"
           }
          ],
          "choropleth": [
           {
            "colorbar": {
             "outlinewidth": 0,
             "ticks": ""
            },
            "type": "choropleth"
           }
          ],
          "contour": [
           {
            "colorbar": {
             "outlinewidth": 0,
             "ticks": ""
            },
            "colorscale": [
             [
              0,
              "#0d0887"
             ],
             [
              0.1111111111111111,
              "#46039f"
             ],
             [
              0.2222222222222222,
              "#7201a8"
             ],
             [
              0.3333333333333333,
              "#9c179e"
             ],
             [
              0.4444444444444444,
              "#bd3786"
             ],
             [
              0.5555555555555556,
              "#d8576b"
             ],
             [
              0.6666666666666666,
              "#ed7953"
             ],
             [
              0.7777777777777778,
              "#fb9f3a"
             ],
             [
              0.8888888888888888,
              "#fdca26"
             ],
             [
              1,
              "#f0f921"
             ]
            ],
            "type": "contour"
           }
          ],
          "contourcarpet": [
           {
            "colorbar": {
             "outlinewidth": 0,
             "ticks": ""
            },
            "type": "contourcarpet"
           }
          ],
          "heatmap": [
           {
            "colorbar": {
             "outlinewidth": 0,
             "ticks": ""
            },
            "colorscale": [
             [
              0,
              "#0d0887"
             ],
             [
              0.1111111111111111,
              "#46039f"
             ],
             [
              0.2222222222222222,
              "#7201a8"
             ],
             [
              0.3333333333333333,
              "#9c179e"
             ],
             [
              0.4444444444444444,
              "#bd3786"
             ],
             [
              0.5555555555555556,
              "#d8576b"
             ],
             [
              0.6666666666666666,
              "#ed7953"
             ],
             [
              0.7777777777777778,
              "#fb9f3a"
             ],
             [
              0.8888888888888888,
              "#fdca26"
             ],
             [
              1,
              "#f0f921"
             ]
            ],
            "type": "heatmap"
           }
          ],
          "heatmapgl": [
           {
            "colorbar": {
             "outlinewidth": 0,
             "ticks": ""
            },
            "colorscale": [
             [
              0,
              "#0d0887"
             ],
             [
              0.1111111111111111,
              "#46039f"
             ],
             [
              0.2222222222222222,
              "#7201a8"
             ],
             [
              0.3333333333333333,
              "#9c179e"
             ],
             [
              0.4444444444444444,
              "#bd3786"
             ],
             [
              0.5555555555555556,
              "#d8576b"
             ],
             [
              0.6666666666666666,
              "#ed7953"
             ],
             [
              0.7777777777777778,
              "#fb9f3a"
             ],
             [
              0.8888888888888888,
              "#fdca26"
             ],
             [
              1,
              "#f0f921"
             ]
            ],
            "type": "heatmapgl"
           }
          ],
          "histogram": [
           {
            "marker": {
             "pattern": {
              "fillmode": "overlay",
              "size": 10,
              "solidity": 0.2
             }
            },
            "type": "histogram"
           }
          ],
          "histogram2d": [
           {
            "colorbar": {
             "outlinewidth": 0,
             "ticks": ""
            },
            "colorscale": [
             [
              0,
              "#0d0887"
             ],
             [
              0.1111111111111111,
              "#46039f"
             ],
             [
              0.2222222222222222,
              "#7201a8"
             ],
             [
              0.3333333333333333,
              "#9c179e"
             ],
             [
              0.4444444444444444,
              "#bd3786"
             ],
             [
              0.5555555555555556,
              "#d8576b"
             ],
             [
              0.6666666666666666,
              "#ed7953"
             ],
             [
              0.7777777777777778,
              "#fb9f3a"
             ],
             [
              0.8888888888888888,
              "#fdca26"
             ],
             [
              1,
              "#f0f921"
             ]
            ],
            "type": "histogram2d"
           }
          ],
          "histogram2dcontour": [
           {
            "colorbar": {
             "outlinewidth": 0,
             "ticks": ""
            },
            "colorscale": [
             [
              0,
              "#0d0887"
             ],
             [
              0.1111111111111111,
              "#46039f"
             ],
             [
              0.2222222222222222,
              "#7201a8"
             ],
             [
              0.3333333333333333,
              "#9c179e"
             ],
             [
              0.4444444444444444,
              "#bd3786"
             ],
             [
              0.5555555555555556,
              "#d8576b"
             ],
             [
              0.6666666666666666,
              "#ed7953"
             ],
             [
              0.7777777777777778,
              "#fb9f3a"
             ],
             [
              0.8888888888888888,
              "#fdca26"
             ],
             [
              1,
              "#f0f921"
             ]
            ],
            "type": "histogram2dcontour"
           }
          ],
          "mesh3d": [
           {
            "colorbar": {
             "outlinewidth": 0,
             "ticks": ""
            },
            "type": "mesh3d"
           }
          ],
          "parcoords": [
           {
            "line": {
             "colorbar": {
              "outlinewidth": 0,
              "ticks": ""
             }
            },
            "type": "parcoords"
           }
          ],
          "pie": [
           {
            "automargin": true,
            "type": "pie"
           }
          ],
          "scatter": [
           {
            "fillpattern": {
             "fillmode": "overlay",
             "size": 10,
             "solidity": 0.2
            },
            "type": "scatter"
           }
          ],
          "scatter3d": [
           {
            "line": {
             "colorbar": {
              "outlinewidth": 0,
              "ticks": ""
             }
            },
            "marker": {
             "colorbar": {
              "outlinewidth": 0,
              "ticks": ""
             }
            },
            "type": "scatter3d"
           }
          ],
          "scattercarpet": [
           {
            "marker": {
             "colorbar": {
              "outlinewidth": 0,
              "ticks": ""
             }
            },
            "type": "scattercarpet"
           }
          ],
          "scattergeo": [
           {
            "marker": {
             "colorbar": {
              "outlinewidth": 0,
              "ticks": ""
             }
            },
            "type": "scattergeo"
           }
          ],
          "scattergl": [
           {
            "marker": {
             "colorbar": {
              "outlinewidth": 0,
              "ticks": ""
             }
            },
            "type": "scattergl"
           }
          ],
          "scattermapbox": [
           {
            "marker": {
             "colorbar": {
              "outlinewidth": 0,
              "ticks": ""
             }
            },
            "type": "scattermapbox"
           }
          ],
          "scatterpolar": [
           {
            "marker": {
             "colorbar": {
              "outlinewidth": 0,
              "ticks": ""
             }
            },
            "type": "scatterpolar"
           }
          ],
          "scatterpolargl": [
           {
            "marker": {
             "colorbar": {
              "outlinewidth": 0,
              "ticks": ""
             }
            },
            "type": "scatterpolargl"
           }
          ],
          "scatterternary": [
           {
            "marker": {
             "colorbar": {
              "outlinewidth": 0,
              "ticks": ""
             }
            },
            "type": "scatterternary"
           }
          ],
          "surface": [
           {
            "colorbar": {
             "outlinewidth": 0,
             "ticks": ""
            },
            "colorscale": [
             [
              0,
              "#0d0887"
             ],
             [
              0.1111111111111111,
              "#46039f"
             ],
             [
              0.2222222222222222,
              "#7201a8"
             ],
             [
              0.3333333333333333,
              "#9c179e"
             ],
             [
              0.4444444444444444,
              "#bd3786"
             ],
             [
              0.5555555555555556,
              "#d8576b"
             ],
             [
              0.6666666666666666,
              "#ed7953"
             ],
             [
              0.7777777777777778,
              "#fb9f3a"
             ],
             [
              0.8888888888888888,
              "#fdca26"
             ],
             [
              1,
              "#f0f921"
             ]
            ],
            "type": "surface"
           }
          ],
          "table": [
           {
            "cells": {
             "fill": {
              "color": "#EBF0F8"
             },
             "line": {
              "color": "white"
             }
            },
            "header": {
             "fill": {
              "color": "#C8D4E3"
             },
             "line": {
              "color": "white"
             }
            },
            "type": "table"
           }
          ]
         },
         "layout": {
          "annotationdefaults": {
           "arrowcolor": "#2a3f5f",
           "arrowhead": 0,
           "arrowwidth": 1
          },
          "autotypenumbers": "strict",
          "coloraxis": {
           "colorbar": {
            "outlinewidth": 0,
            "ticks": ""
           }
          },
          "colorscale": {
           "diverging": [
            [
             0,
             "#8e0152"
            ],
            [
             0.1,
             "#c51b7d"
            ],
            [
             0.2,
             "#de77ae"
            ],
            [
             0.3,
             "#f1b6da"
            ],
            [
             0.4,
             "#fde0ef"
            ],
            [
             0.5,
             "#f7f7f7"
            ],
            [
             0.6,
             "#e6f5d0"
            ],
            [
             0.7,
             "#b8e186"
            ],
            [
             0.8,
             "#7fbc41"
            ],
            [
             0.9,
             "#4d9221"
            ],
            [
             1,
             "#276419"
            ]
           ],
           "sequential": [
            [
             0,
             "#0d0887"
            ],
            [
             0.1111111111111111,
             "#46039f"
            ],
            [
             0.2222222222222222,
             "#7201a8"
            ],
            [
             0.3333333333333333,
             "#9c179e"
            ],
            [
             0.4444444444444444,
             "#bd3786"
            ],
            [
             0.5555555555555556,
             "#d8576b"
            ],
            [
             0.6666666666666666,
             "#ed7953"
            ],
            [
             0.7777777777777778,
             "#fb9f3a"
            ],
            [
             0.8888888888888888,
             "#fdca26"
            ],
            [
             1,
             "#f0f921"
            ]
           ],
           "sequentialminus": [
            [
             0,
             "#0d0887"
            ],
            [
             0.1111111111111111,
             "#46039f"
            ],
            [
             0.2222222222222222,
             "#7201a8"
            ],
            [
             0.3333333333333333,
             "#9c179e"
            ],
            [
             0.4444444444444444,
             "#bd3786"
            ],
            [
             0.5555555555555556,
             "#d8576b"
            ],
            [
             0.6666666666666666,
             "#ed7953"
            ],
            [
             0.7777777777777778,
             "#fb9f3a"
            ],
            [
             0.8888888888888888,
             "#fdca26"
            ],
            [
             1,
             "#f0f921"
            ]
           ]
          },
          "colorway": [
           "#636efa",
           "#EF553B",
           "#00cc96",
           "#ab63fa",
           "#FFA15A",
           "#19d3f3",
           "#FF6692",
           "#B6E880",
           "#FF97FF",
           "#FECB52"
          ],
          "font": {
           "color": "#2a3f5f"
          },
          "geo": {
           "bgcolor": "white",
           "lakecolor": "white",
           "landcolor": "#E5ECF6",
           "showlakes": true,
           "showland": true,
           "subunitcolor": "white"
          },
          "hoverlabel": {
           "align": "left"
          },
          "hovermode": "closest",
          "mapbox": {
           "style": "light"
          },
          "paper_bgcolor": "white",
          "plot_bgcolor": "#E5ECF6",
          "polar": {
           "angularaxis": {
            "gridcolor": "white",
            "linecolor": "white",
            "ticks": ""
           },
           "bgcolor": "#E5ECF6",
           "radialaxis": {
            "gridcolor": "white",
            "linecolor": "white",
            "ticks": ""
           }
          },
          "scene": {
           "xaxis": {
            "backgroundcolor": "#E5ECF6",
            "gridcolor": "white",
            "gridwidth": 2,
            "linecolor": "white",
            "showbackground": true,
            "ticks": "",
            "zerolinecolor": "white"
           },
           "yaxis": {
            "backgroundcolor": "#E5ECF6",
            "gridcolor": "white",
            "gridwidth": 2,
            "linecolor": "white",
            "showbackground": true,
            "ticks": "",
            "zerolinecolor": "white"
           },
           "zaxis": {
            "backgroundcolor": "#E5ECF6",
            "gridcolor": "white",
            "gridwidth": 2,
            "linecolor": "white",
            "showbackground": true,
            "ticks": "",
            "zerolinecolor": "white"
           }
          },
          "shapedefaults": {
           "line": {
            "color": "#2a3f5f"
           }
          },
          "ternary": {
           "aaxis": {
            "gridcolor": "white",
            "linecolor": "white",
            "ticks": ""
           },
           "baxis": {
            "gridcolor": "white",
            "linecolor": "white",
            "ticks": ""
           },
           "bgcolor": "#E5ECF6",
           "caxis": {
            "gridcolor": "white",
            "linecolor": "white",
            "ticks": ""
           }
          },
          "title": {
           "x": 0.05
          },
          "xaxis": {
           "automargin": true,
           "gridcolor": "white",
           "linecolor": "white",
           "ticks": "",
           "title": {
            "standoff": 15
           },
           "zerolinecolor": "white",
           "zerolinewidth": 2
          },
          "yaxis": {
           "automargin": true,
           "gridcolor": "white",
           "linecolor": "white",
           "ticks": "",
           "title": {
            "standoff": 15
           },
           "zerolinecolor": "white",
           "zerolinewidth": 2
          }
         }
        },
        "title": {
         "font": {
          "color": "black",
          "family": "Helvetica, sans-serif",
          "size": 20
         },
         "text": "Distribusi Persentase Review<br>untuk Puskesmas di Surabaya (Setiap 10 Langkah)"
        },
        "width": 800,
        "xaxis": {
         "showgrid": false,
         "title": {
          "font": {
           "color": "black",
           "family": "Helvetica, sans-serif",
           "size": 14
          },
          "text": "Review Percentage (%)"
         }
        },
        "yaxis": {
         "showgrid": false,
         "title": {
          "font": {
           "color": "black",
           "family": "Helvetica, sans-serif",
           "size": 14
          }
         }
        }
       }
      }
     },
     "metadata": {},
     "output_type": "display_data"
    }
   ],
   "source": [
    "import plotly.graph_objects as go\n",
    "\n",
    "detail_puskesmas['negative_percentage'] = 100 - detail_puskesmas['positive_percentage']\n",
    "\n",
    "# Round the values to 2 decimals\n",
    "detail_puskesmas['positive_percentage'] = detail_puskesmas['positive_percentage'].round(2)\n",
    "detail_puskesmas['negative_percentage'] = detail_puskesmas['negative_percentage'].round(2)\n",
    "\n",
    "detail_puskesmas = detail_puskesmas.sort_values(\"positive_percentage\", ascending=True)\n",
    "detail_puskesmas = detail_puskesmas[detail_puskesmas[\"puskesmas_name\"] != \"Puskesmas Dr. Soetomo\"]\n",
    "\n",
    "total_rows = len(detail_puskesmas)\n",
    "intervals = 10\n",
    "step = max(total_rows // intervals, 1)\n",
    "\n",
    "indices = [0]\n",
    "indices.extend(range(step, total_rows - step, step))\n",
    "if total_rows > 1:\n",
    "    indices.append(total_rows - 1)\n",
    "\n",
    "unique_indices = sorted(set(indices))\n",
    "\n",
    "filtered_puskesmas = detail_puskesmas.iloc[unique_indices]\n",
    "\n",
    "fig = go.Figure()\n",
    "\n",
    "filtered_puskesmas['positive_percentage_text'] = '  ' + filtered_puskesmas['positive_percentage'].astype(str) + '%  '\n",
    "\n",
    "fig.add_trace(go.Bar(\n",
    "    x=filtered_puskesmas['positive_percentage'],\n",
    "    y=filtered_puskesmas['puskesmas_name'],\n",
    "    name='Positif',\n",
    "    orientation='h',\n",
    "    marker=dict(color='rgba(102,194,165,255)', line=dict(color='rgba(0, 128, 128, 1.0)', width=3)),\n",
    "    text=filtered_puskesmas['positive_percentage_text'],\n",
    "    textposition='outside',\n",
    "    textfont=dict(size=12, color=\"black\", family=\"Arial, sans-serif\")\n",
    "))\n",
    "\n",
    "filtered_puskesmas['negative_percentage'] = filtered_puskesmas['negative_percentage'].astype(str) + '%  '\n",
    "\n",
    "fig.add_trace(go.Bar(\n",
    "    x=filtered_puskesmas['negative_percentage'],\n",
    "    y=filtered_puskesmas['puskesmas_name'],\n",
    "    name='Negatif',\n",
    "    orientation='h',\n",
    "    marker=dict(color='rgba(255, 113, 206, 0.6)', line=dict(color='rgba(255, 113, 206, 1.0)', width=3)),\n",
    "    text=filtered_puskesmas['negative_percentage'],\n",
    "    textposition='inside',\n",
    "    textfont=dict(size=12, color=\"black\", family=\"Arial, sans-serif\")\n",
    "))\n",
    "\n",
    "fig.update_layout(\n",
    "    barmode='stack',\n",
    "    yaxis_title=None,\n",
    "    xaxis_title=\"Review Percentage (%)\",\n",
    "    title=\"Distribusi Persentase Review<br>untuk Puskesmas di Surabaya (Setiap 10 Langkah)\",\n",
    "    height=600,\n",
    "    width=800,\n",
    "    font=dict(family=\"Helvetica, sans-serif\", size=12, color=\"black\"),\n",
    "    plot_bgcolor='rgba(255,255,255,1)',\n",
    "    title_font=dict(size=20, color=\"black\", family=\"Helvetica, sans-serif\"),\n",
    "    xaxis_title_font=dict(size=14, color=\"black\", family=\"Helvetica, sans-serif\"),\n",
    "    yaxis_title_font=dict(size=14, color=\"black\", family=\"Helvetica, sans-serif\"),\n",
    "    xaxis=dict(showgrid=False),\n",
    "    yaxis=dict(showgrid=False),\n",
    "    margin=dict(t=100, b=100, l=100, r=100),\n",
    "    legend_traceorder='reversed',\n",
    ")\n",
    "\n",
    "fig.show()"
   ]
  },
  {
   "cell_type": "markdown",
   "metadata": {},
   "source": [
    "# Save Detailed Puskesmas Review Conclusion"
   ]
  },
  {
   "cell_type": "code",
   "execution_count": 20,
   "metadata": {},
   "outputs": [
    {
     "data": {
      "text/html": [
       "<div>\n",
       "<style scoped>\n",
       "    .dataframe tbody tr th:only-of-type {\n",
       "        vertical-align: middle;\n",
       "    }\n",
       "\n",
       "    .dataframe tbody tr th {\n",
       "        vertical-align: top;\n",
       "    }\n",
       "\n",
       "    .dataframe thead th {\n",
       "        text-align: right;\n",
       "    }\n",
       "</style>\n",
       "<table border=\"1\" class=\"dataframe\">\n",
       "  <thead>\n",
       "    <tr style=\"text-align: right;\">\n",
       "      <th></th>\n",
       "      <th>puskesmas_name</th>\n",
       "      <th>kepala puskesmas</th>\n",
       "      <th>alamat</th>\n",
       "      <th>telepon</th>\n",
       "      <th>url</th>\n",
       "      <th>rate</th>\n",
       "      <th>review_num</th>\n",
       "      <th>lat</th>\n",
       "      <th>lon</th>\n",
       "      <th>display_name</th>\n",
       "      <th>positive_percentage</th>\n",
       "      <th>negative_percentage</th>\n",
       "    </tr>\n",
       "  </thead>\n",
       "  <tbody>\n",
       "    <tr>\n",
       "      <th>0</th>\n",
       "      <td>Puskesmas Morokrembangan</td>\n",
       "      <td>dr. Nurul Ihsani</td>\n",
       "      <td>Jln. Tambakasri 13/7 Morokrembangan</td>\n",
       "      <td>(031) 7493259</td>\n",
       "      <td>https://www.google.com/maps/place/Puskesmas+Mo...</td>\n",
       "      <td>1,9</td>\n",
       "      <td>(108)</td>\n",
       "      <td>-7.234781</td>\n",
       "      <td>112.712443</td>\n",
       "      <td>Puskesmas Moro Krembangab, Jalan Tambak Asri X...</td>\n",
       "      <td>10.666667</td>\n",
       "      <td>89.333333</td>\n",
       "    </tr>\n",
       "    <tr>\n",
       "      <th>1</th>\n",
       "      <td>Puskesmas Sidotopo</td>\n",
       "      <td>dr. Galih Satryo Utomo</td>\n",
       "      <td>Jl. Pegirian No.239, Sidotopo</td>\n",
       "      <td>(031) 3767735</td>\n",
       "      <td>https://www.google.com/maps/place/Puskesmas+Si...</td>\n",
       "      <td>2,8</td>\n",
       "      <td>(80)</td>\n",
       "      <td>-7.230348</td>\n",
       "      <td>112.745882</td>\n",
       "      <td>Puskesmas Sidotopo, Jalan Sidodadi, RW 07, Sim...</td>\n",
       "      <td>27.659574</td>\n",
       "      <td>72.340426</td>\n",
       "    </tr>\n",
       "    <tr>\n",
       "      <th>2</th>\n",
       "      <td>Puskesmas Mojo</td>\n",
       "      <td>dr. Ratna Megasari, M.Kes</td>\n",
       "      <td>Jln. Mojo Klanggru Wetan 2/11</td>\n",
       "      <td>(031) 5932332</td>\n",
       "      <td>https://www.google.com/maps/place/Puskesmas+Mo...</td>\n",
       "      <td>2,6</td>\n",
       "      <td>(285)</td>\n",
       "      <td>-7.270902</td>\n",
       "      <td>112.770824</td>\n",
       "      <td>Puskesmas Mojo Surabaya, Jalan Mojo Klanggru W...</td>\n",
       "      <td>31.606218</td>\n",
       "      <td>68.393782</td>\n",
       "    </tr>\n",
       "    <tr>\n",
       "      <th>3</th>\n",
       "      <td>Puskesmas Kenjeran</td>\n",
       "      <td>dr. Rosna Suswanti</td>\n",
       "      <td>Jl. Tambak Deres 2 Surabaya</td>\n",
       "      <td>089515356046</td>\n",
       "      <td>https://www.google.com/maps/place/Puskesmas+Ke...</td>\n",
       "      <td>3,2</td>\n",
       "      <td>(165)</td>\n",
       "      <td>-7.241111</td>\n",
       "      <td>112.795279</td>\n",
       "      <td>Puskesmas Kenjeran, Jalan Abdul Latif, RW 01, ...</td>\n",
       "      <td>38.461538</td>\n",
       "      <td>61.538462</td>\n",
       "    </tr>\n",
       "    <tr>\n",
       "      <th>4</th>\n",
       "      <td>Puskesmas Kalirungkut</td>\n",
       "      <td>dr. Bernadetta Martini</td>\n",
       "      <td>Jln. Rungkut Puskesmas No. 1</td>\n",
       "      <td>(031) 8700668</td>\n",
       "      <td>https://www.google.com/maps/place/Puskesmas+Ka...</td>\n",
       "      <td>3,4</td>\n",
       "      <td>(289)</td>\n",
       "      <td>-7.322218</td>\n",
       "      <td>112.770762</td>\n",
       "      <td>Puskesmas Kalirungkut, Jalan Puskesmas, RW 07,...</td>\n",
       "      <td>40.000000</td>\n",
       "      <td>60.000000</td>\n",
       "    </tr>\n",
       "  </tbody>\n",
       "</table>\n",
       "</div>"
      ],
      "text/plain": [
       "             puskesmas_name           kepala puskesmas  \\\n",
       "0  Puskesmas Morokrembangan           dr. Nurul Ihsani   \n",
       "1        Puskesmas Sidotopo     dr. Galih Satryo Utomo   \n",
       "2            Puskesmas Mojo  dr. Ratna Megasari, M.Kes   \n",
       "3        Puskesmas Kenjeran         dr. Rosna Suswanti   \n",
       "4     Puskesmas Kalirungkut     dr. Bernadetta Martini   \n",
       "\n",
       "                                alamat        telepon  \\\n",
       "0  Jln. Tambakasri 13/7 Morokrembangan  (031) 7493259   \n",
       "1        Jl. Pegirian No.239, Sidotopo  (031) 3767735   \n",
       "2        Jln. Mojo Klanggru Wetan 2/11  (031) 5932332   \n",
       "3          Jl. Tambak Deres 2 Surabaya   089515356046   \n",
       "4         Jln. Rungkut Puskesmas No. 1  (031) 8700668   \n",
       "\n",
       "                                                 url rate review_num  \\\n",
       "0  https://www.google.com/maps/place/Puskesmas+Mo...  1,9      (108)   \n",
       "1  https://www.google.com/maps/place/Puskesmas+Si...  2,8       (80)   \n",
       "2  https://www.google.com/maps/place/Puskesmas+Mo...  2,6      (285)   \n",
       "3  https://www.google.com/maps/place/Puskesmas+Ke...  3,2      (165)   \n",
       "4  https://www.google.com/maps/place/Puskesmas+Ka...  3,4      (289)   \n",
       "\n",
       "        lat         lon                                       display_name  \\\n",
       "0 -7.234781  112.712443  Puskesmas Moro Krembangab, Jalan Tambak Asri X...   \n",
       "1 -7.230348  112.745882  Puskesmas Sidotopo, Jalan Sidodadi, RW 07, Sim...   \n",
       "2 -7.270902  112.770824  Puskesmas Mojo Surabaya, Jalan Mojo Klanggru W...   \n",
       "3 -7.241111  112.795279  Puskesmas Kenjeran, Jalan Abdul Latif, RW 01, ...   \n",
       "4 -7.322218  112.770762  Puskesmas Kalirungkut, Jalan Puskesmas, RW 07,...   \n",
       "\n",
       "   positive_percentage  negative_percentage  \n",
       "0            10.666667            89.333333  \n",
       "1            27.659574            72.340426  \n",
       "2            31.606218            68.393782  \n",
       "3            38.461538            61.538462  \n",
       "4            40.000000            60.000000  "
      ]
     },
     "execution_count": 20,
     "metadata": {},
     "output_type": "execute_result"
    }
   ],
   "source": [
    "detail_puskesmas.head()"
   ]
  },
  {
   "cell_type": "code",
   "execution_count": 21,
   "metadata": {},
   "outputs": [],
   "source": [
    "detail_puskesmas.to_csv(\"puskesmas_detail.csv\", index=False)"
   ]
  }
 ],
 "metadata": {
  "kernelspec": {
   "display_name": "Python 3",
   "language": "python",
   "name": "python3"
  },
  "language_info": {
   "codemirror_mode": {
    "name": "ipython",
    "version": 3
   },
   "file_extension": ".py",
   "mimetype": "text/x-python",
   "name": "python",
   "nbconvert_exporter": "python",
   "pygments_lexer": "ipython3",
   "version": "undefined.undefined.undefined"
  }
 },
 "nbformat": 4,
 "nbformat_minor": 2
}
