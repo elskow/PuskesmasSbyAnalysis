{
 "cells": [
  {
   "cell_type": "markdown",
   "metadata": {},
   "source": [
    "# Load Data"
   ]
  },
  {
   "cell_type": "code",
   "execution_count": 2,
   "metadata": {},
   "outputs": [
    {
     "data": {
      "text/html": [
       "<div>\n",
       "<style scoped>\n",
       "    .dataframe tbody tr th:only-of-type {\n",
       "        vertical-align: middle;\n",
       "    }\n",
       "\n",
       "    .dataframe tbody tr th {\n",
       "        vertical-align: top;\n",
       "    }\n",
       "\n",
       "    .dataframe thead th {\n",
       "        text-align: right;\n",
       "    }\n",
       "</style>\n",
       "<table border=\"1\" class=\"dataframe\">\n",
       "  <thead>\n",
       "    <tr style=\"text-align: right;\">\n",
       "      <th></th>\n",
       "      <th>reviewer_name</th>\n",
       "      <th>rating</th>\n",
       "      <th>review_text</th>\n",
       "      <th>puskesmas_name</th>\n",
       "      <th>cleaned_review_text</th>\n",
       "      <th>language</th>\n",
       "      <th>is_positive</th>\n",
       "    </tr>\n",
       "  </thead>\n",
       "  <tbody>\n",
       "    <tr>\n",
       "      <th>0</th>\n",
       "      <td>Mira Diah V</td>\n",
       "      <td>5</td>\n",
       "      <td>Pelayanan di poli KIA bagus&amp;informatif sekali....</td>\n",
       "      <td>Puskesmas Simomulyo</td>\n",
       "      <td>layan pol kia bagusinformatif anak imunisasi a...</td>\n",
       "      <td>id</td>\n",
       "      <td>1</td>\n",
       "    </tr>\n",
       "    <tr>\n",
       "      <th>1</th>\n",
       "      <td>Ranitya Dewi Ayu Sadian</td>\n",
       "      <td>1</td>\n",
       "      <td>Pelayanan poli KIA lama sekali…\\nKamis pagi se...</td>\n",
       "      <td>Puskesmas Simomulyo</td>\n",
       "      <td>layan pol kia kamis pagi puskesmas daftar pol ...</td>\n",
       "      <td>id</td>\n",
       "      <td>0</td>\n",
       "    </tr>\n",
       "    <tr>\n",
       "      <th>2</th>\n",
       "      <td>Yuliasti Ika</td>\n",
       "      <td>5</td>\n",
       "      <td>Puskesmas dengan pelayanan yang baik sekali, s...</td>\n",
       "      <td>Puskesmas Simomulyo</td>\n",
       "      <td>puskesmas layan layan ramah lengkap fasilitas ...</td>\n",
       "      <td>id</td>\n",
       "      <td>1</td>\n",
       "    </tr>\n",
       "    <tr>\n",
       "      <th>3</th>\n",
       "      <td>Yusup Jaya</td>\n",
       "      <td>1</td>\n",
       "      <td>Pelayanan tambah lelet, mohon managentnya di p...</td>\n",
       "      <td>Puskesmas Simomulyo</td>\n",
       "      <td>layan lambat mohon managernya sat set rujuk ce...</td>\n",
       "      <td>id</td>\n",
       "      <td>0</td>\n",
       "    </tr>\n",
       "    <tr>\n",
       "      <th>4</th>\n",
       "      <td>Yunia Ardina</td>\n",
       "      <td>1</td>\n",
       "      <td>Saya mau kasih masukan sekaligus protes..\\n\\nS...</td>\n",
       "      <td>Puskesmas Simomulyo</td>\n",
       "      <td>kasih masuk protes tanggal february jaman prik...</td>\n",
       "      <td>id</td>\n",
       "      <td>0</td>\n",
       "    </tr>\n",
       "  </tbody>\n",
       "</table>\n",
       "</div>"
      ],
      "text/plain": [
       "             reviewer_name  rating  \\\n",
       "0              Mira Diah V       5   \n",
       "1  Ranitya Dewi Ayu Sadian       1   \n",
       "2             Yuliasti Ika       5   \n",
       "3               Yusup Jaya       1   \n",
       "4             Yunia Ardina       1   \n",
       "\n",
       "                                         review_text       puskesmas_name  \\\n",
       "0  Pelayanan di poli KIA bagus&informatif sekali....  Puskesmas Simomulyo   \n",
       "1  Pelayanan poli KIA lama sekali…\\nKamis pagi se...  Puskesmas Simomulyo   \n",
       "2  Puskesmas dengan pelayanan yang baik sekali, s...  Puskesmas Simomulyo   \n",
       "3  Pelayanan tambah lelet, mohon managentnya di p...  Puskesmas Simomulyo   \n",
       "4  Saya mau kasih masukan sekaligus protes..\\n\\nS...  Puskesmas Simomulyo   \n",
       "\n",
       "                                 cleaned_review_text language  is_positive  \n",
       "0  layan pol kia bagusinformatif anak imunisasi a...       id            1  \n",
       "1  layan pol kia kamis pagi puskesmas daftar pol ...       id            0  \n",
       "2  puskesmas layan layan ramah lengkap fasilitas ...       id            1  \n",
       "3  layan lambat mohon managernya sat set rujuk ce...       id            0  \n",
       "4  kasih masuk protes tanggal february jaman prik...       id            0  "
      ]
     },
     "execution_count": 2,
     "metadata": {},
     "output_type": "execute_result"
    }
   ],
   "source": [
    "import pandas as pd\n",
    "\n",
    "predicted_data_puskesmas = pd.read_csv(\"predicted-review.csv\")\n",
    "\n",
    "predicted_data_puskesmas.head()"
   ]
  },
  {
   "cell_type": "code",
   "execution_count": 3,
   "metadata": {},
   "outputs": [
    {
     "data": {
      "text/html": [
       "<div>\n",
       "<style scoped>\n",
       "    .dataframe tbody tr th:only-of-type {\n",
       "        vertical-align: middle;\n",
       "    }\n",
       "\n",
       "    .dataframe tbody tr th {\n",
       "        vertical-align: top;\n",
       "    }\n",
       "\n",
       "    .dataframe thead th {\n",
       "        text-align: right;\n",
       "    }\n",
       "</style>\n",
       "<table border=\"1\" class=\"dataframe\">\n",
       "  <thead>\n",
       "    <tr style=\"text-align: right;\">\n",
       "      <th></th>\n",
       "      <th>name</th>\n",
       "      <th>kepala puskesmas</th>\n",
       "      <th>alamat</th>\n",
       "      <th>telepon</th>\n",
       "      <th>url</th>\n",
       "      <th>rate</th>\n",
       "      <th>review_num</th>\n",
       "    </tr>\n",
       "  </thead>\n",
       "  <tbody>\n",
       "    <tr>\n",
       "      <th>0</th>\n",
       "      <td>Puskesmas Asemrowo</td>\n",
       "      <td>dr. Diah Miryati</td>\n",
       "      <td>Jln. Asem Raya No. 8</td>\n",
       "      <td>(031) 5456122 / 081252965070</td>\n",
       "      <td>https://www.google.com/maps/place/Puskesmas+As...</td>\n",
       "      <td>3,5</td>\n",
       "      <td>(131)</td>\n",
       "    </tr>\n",
       "    <tr>\n",
       "      <th>1</th>\n",
       "      <td>Puskesmas Balas Klumprik</td>\n",
       "      <td>dr. Yessy Pebriaty Sukatendel, MM</td>\n",
       "      <td>Jln. Raya Balas Klumprik</td>\n",
       "      <td>(031) 7665219</td>\n",
       "      <td>https://www.google.com/maps/place/Puskesmas+Ba...</td>\n",
       "      <td>4,1</td>\n",
       "      <td>(96)</td>\n",
       "    </tr>\n",
       "    <tr>\n",
       "      <th>2</th>\n",
       "      <td>Puskesmas Balongsari</td>\n",
       "      <td>dr. Dewi Ayuning Asih</td>\n",
       "      <td>Jln. Balongsari Tama No. 2 Surabaya</td>\n",
       "      <td>(031) 7417104</td>\n",
       "      <td>https://www.google.com/maps/place/Puskesmas+Ba...</td>\n",
       "      <td>3,9</td>\n",
       "      <td>(308)</td>\n",
       "    </tr>\n",
       "    <tr>\n",
       "      <th>3</th>\n",
       "      <td>Puskesmas Bangkingan</td>\n",
       "      <td>dr. Tri Indah Rachmawati</td>\n",
       "      <td>Jln. Banyu Urip Kidul 6/8</td>\n",
       "      <td>(031) 5685424 - 5615292 / 081334932007</td>\n",
       "      <td>https://www.google.com/maps/place/Puskesmas+Ba...</td>\n",
       "      <td>3,8</td>\n",
       "      <td>(84)</td>\n",
       "    </tr>\n",
       "    <tr>\n",
       "      <th>4</th>\n",
       "      <td>Puskesmas Banyu Urip</td>\n",
       "      <td>dr. Winartuti Santoso, M.Kes</td>\n",
       "      <td>Jln. Banyu Urip Kidul 6/8</td>\n",
       "      <td>(031) 7405936</td>\n",
       "      <td>https://www.google.com/maps/place/Puskesmas+Ba...</td>\n",
       "      <td>3,2</td>\n",
       "      <td>(170)</td>\n",
       "    </tr>\n",
       "  </tbody>\n",
       "</table>\n",
       "</div>"
      ],
      "text/plain": [
       "                       name                   kepala puskesmas  \\\n",
       "0        Puskesmas Asemrowo                   dr. Diah Miryati   \n",
       "1  Puskesmas Balas Klumprik  dr. Yessy Pebriaty Sukatendel, MM   \n",
       "2      Puskesmas Balongsari              dr. Dewi Ayuning Asih   \n",
       "3      Puskesmas Bangkingan           dr. Tri Indah Rachmawati   \n",
       "4      Puskesmas Banyu Urip       dr. Winartuti Santoso, M.Kes   \n",
       "\n",
       "                                alamat  \\\n",
       "0                 Jln. Asem Raya No. 8   \n",
       "1             Jln. Raya Balas Klumprik   \n",
       "2  Jln. Balongsari Tama No. 2 Surabaya   \n",
       "3            Jln. Banyu Urip Kidul 6/8   \n",
       "4            Jln. Banyu Urip Kidul 6/8   \n",
       "\n",
       "                                  telepon  \\\n",
       "0            (031) 5456122 / 081252965070   \n",
       "1                           (031) 7665219   \n",
       "2                           (031) 7417104   \n",
       "3  (031) 5685424 - 5615292 / 081334932007   \n",
       "4                           (031) 7405936   \n",
       "\n",
       "                                                 url rate review_num  \n",
       "0  https://www.google.com/maps/place/Puskesmas+As...  3,5      (131)  \n",
       "1  https://www.google.com/maps/place/Puskesmas+Ba...  4,1       (96)  \n",
       "2  https://www.google.com/maps/place/Puskesmas+Ba...  3,9      (308)  \n",
       "3  https://www.google.com/maps/place/Puskesmas+Ba...  3,8       (84)  \n",
       "4  https://www.google.com/maps/place/Puskesmas+Ba...  3,2      (170)  "
      ]
     },
     "execution_count": 3,
     "metadata": {},
     "output_type": "execute_result"
    }
   ],
   "source": [
    "detail_puskesmas = pd.read_csv(\"scrapping/cleaned_puskesmas.csv\")\n",
    "\n",
    "detail_puskesmas.head()"
   ]
  },
  {
   "cell_type": "markdown",
   "metadata": {},
   "source": [
    "# Get longtiude and latitude of each puskesmas"
   ]
  },
  {
   "cell_type": "code",
   "execution_count": 4,
   "metadata": {},
   "outputs": [
    {
     "data": {
      "application/vnd.jupyter.widget-view+json": {
       "model_id": "68d61f4447e24c23beba26a032d95f75",
       "version_major": 2,
       "version_minor": 0
      },
      "text/plain": [
       "  0%|          | 0/63 [00:00<?, ?it/s]"
      ]
     },
     "metadata": {},
     "output_type": "display_data"
    },
    {
     "name": "stdout",
     "output_type": "stream",
     "text": [
      "Index(['name', 'kepala puskesmas', 'alamat', 'telepon', 'url', 'rate',\n",
      "       'review_num', 'lat', 'lon', 'display_name'],\n",
      "      dtype='object')\n"
     ]
    }
   ],
   "source": [
    "import plotly.express as px\n",
    "from tqdm.notebook import tqdm\n",
    "import requests\n",
    "import random\n",
    "\n",
    "\n",
    "def get_lat_lon(puskesmas_name):\n",
    "    user_agents = [\n",
    "        \"Mozilla/5.0 (Windows NT 10.0; Win64; x64) AppleWebKit/537.36 (KHTML, like Gecko) Chrome/58.0.3029.110 Safari/537.3\",\n",
    "        \"Mozilla/5.0 (Macintosh; Intel Mac OS X 10_15_7) AppleWebKit/605.1.15 (KHTML, like Gecko) Version/14.0.3 Safari/605.1.15\",\n",
    "        \"Mozilla/5.0 (Windows NT 10.0; Win64; x64; rv:88.0) Gecko/20100101 Firefox/88.0\",\n",
    "        \"Mozilla/5.0 (Linux; Android 6.0; Nexus 5 Build/MRA58N) AppleWebKit/537.36 (KHTML, like Gecko) Chrome/86.0.4240.110 Mobile Safari/537.36\",\n",
    "        \"Mozilla/5.0 (iPad; CPU OS 13_7 like Mac OS X) AppleWebKit/605.1.15 (KHTML, like Gecko) Version/13.1.2 Mobile/15E148 Safari/604.1\",\n",
    "    ]\n",
    "    attempts = 0\n",
    "    while attempts < 10:\n",
    "        try:\n",
    "            headers = {\"User-Agent\": random.choice(user_agents)}\n",
    "            url = f\"https://nominatim.openstreetmap.org/search?q={puskesmas_name}, surabaya&format=jsonv2\"\n",
    "            response = requests.get(url, headers=headers)\n",
    "            if response.status_code == 200:\n",
    "                data = response.json()\n",
    "                return data[0][\"lat\"], data[0][\"lon\"], data[0][\"display_name\"]\n",
    "            else:\n",
    "                attempts += 1\n",
    "                # print(f\"Attempt {attempts}: Failed to get data for {puskesmas_name}\")\n",
    "        except Exception as e:\n",
    "            attempts += 1\n",
    "            # print(f\"Attempt {attempts}: Error for {puskesmas_name} - {e}\")\n",
    "    return None, None\n",
    "\n",
    "\n",
    "tqdm.pandas()\n",
    "detail_puskesmas[\"lat\"], detail_puskesmas[\"lon\"], detail_puskesmas[\"display_name\"] = (\n",
    "    zip(*detail_puskesmas[\"name\"].progress_apply(get_lat_lon))\n",
    ")\n",
    "\n",
    "print(detail_puskesmas.columns)\n",
    "\n",
    "detail_puskesmas = detail_puskesmas.rename(columns={\"name\": \"puskesmas_name\"})\n",
    "\n",
    "positive_review_counts = predicted_data_puskesmas.groupby(\"puskesmas_name\")[\n",
    "    \"is_positive\"\n",
    "].sum()\n",
    "total_review_counts = predicted_data_puskesmas.groupby(\"puskesmas_name\")[\n",
    "    \"is_positive\"\n",
    "].count()\n",
    "percentage_positive_reviews = (\n",
    "    positive_review_counts / total_review_counts * 100\n",
    ").reset_index()\n",
    "percentage_positive_reviews.columns = [\"puskesmas_name\", \"positive_percentage\"]\n",
    "\n",
    "detail_puskesmas = detail_puskesmas.merge(\n",
    "    percentage_positive_reviews, on=\"puskesmas_name\", how=\"left\"\n",
    ")"
   ]
  },
  {
   "cell_type": "markdown",
   "metadata": {},
   "source": [
    "# Geolocation of each puskesmas reviewed from google maps"
   ]
  },
  {
   "cell_type": "code",
   "execution_count": 5,
   "metadata": {},
   "outputs": [
    {
     "name": "stderr",
     "output_type": "stream",
     "text": [
      "/tmp/ipykernel_214216/295796426.py:5: SettingWithCopyWarning: \n",
      "A value is trying to be set on a copy of a slice from a DataFrame.\n",
      "Try using .loc[row_indexer,col_indexer] = value instead\n",
      "\n",
      "See the caveats in the documentation: https://pandas.pydata.org/pandas-docs/stable/user_guide/indexing.html#returning-a-view-versus-a-copy\n",
      "  data_for_plotting[\"lat\"] = pd.to_numeric(data_for_plotting[\"lat\"], errors=\"coerce\")\n",
      "/tmp/ipykernel_214216/295796426.py:6: SettingWithCopyWarning: \n",
      "A value is trying to be set on a copy of a slice from a DataFrame.\n",
      "Try using .loc[row_indexer,col_indexer] = value instead\n",
      "\n",
      "See the caveats in the documentation: https://pandas.pydata.org/pandas-docs/stable/user_guide/indexing.html#returning-a-view-versus-a-copy\n",
      "  data_for_plotting[\"lon\"] = pd.to_numeric(data_for_plotting[\"lon\"], errors=\"coerce\")\n",
      "/tmp/ipykernel_214216/295796426.py:7: SettingWithCopyWarning: \n",
      "A value is trying to be set on a copy of a slice from a DataFrame.\n",
      "Try using .loc[row_indexer,col_indexer] = value instead\n",
      "\n",
      "See the caveats in the documentation: https://pandas.pydata.org/pandas-docs/stable/user_guide/indexing.html#returning-a-view-versus-a-copy\n",
      "  data_for_plotting[\"positive_percentage\"] = data_for_plotting[\n"
     ]
    },
    {
     "data": {
      "application/vnd.plotly.v1+json": {
       "config": {
        "plotlyServerURL": "https://plot.ly"
       },
       "data": [
        {
         "customdata": [
          [
           54.347826086956516
          ],
          [
           73.68421052631578
          ],
          [
           63.97849462365591
          ],
          [
           53.333333333333336
          ],
          [
           42.201834862385326
          ],
          [
           67.85714285714286
          ],
          [
           50
          ],
          [
           71.56549520766772
          ],
          [
           52.57731958762887
          ],
          [
           56.27705627705628
          ],
          [
           61.34020618556701
          ],
          [
           41.333333333333336
          ],
          [
           59.166666666666664
          ],
          [
           67.04545454545455
          ],
          [
           62.23776223776224
          ],
          [
           58.88888888888889
          ],
          [
           53.21100917431193
          ],
          [
           40
          ],
          [
           62.62626262626263
          ],
          [
           43.18181818181818
          ],
          [
           52.74725274725275
          ],
          [
           38.46153846153847
          ],
          [
           51.35135135135135
          ],
          [
           78.94736842105263
          ],
          [
           70.77625570776256
          ],
          [
           60
          ],
          [
           68.83116883116884
          ],
          [
           53.68421052631579
          ],
          [
           55.932203389830505
          ],
          [
           67.32673267326733
          ],
          [
           61.80555555555556
          ],
          [
           53.74149659863946
          ],
          [
           31.606217616580313
          ],
          [
           10.666666666666668
          ],
          [
           71.19565217391305
          ],
          [
           70.04830917874396
          ],
          [
           53.459119496855344
          ],
          [
           67.3202614379085
          ],
          [
           67.5
          ],
          [
           43.47826086956522
          ],
          [
           50.495049504950494
          ],
          [
           75.24271844660194
          ],
          [
           64.1891891891892
          ],
          [
           56.08108108108109
          ],
          [
           67.64705882352942
          ],
          [
           63.52201257861635
          ],
          [
           66.45962732919256
          ],
          [
           51.35135135135135
          ],
          [
           27.659574468085108
          ],
          [
           82.27848101265823
          ],
          [
           75.86206896551724
          ],
          [
           51.07913669064749
          ],
          [
           47.11538461538461
          ],
          [
           53.90625
          ],
          [
           66.01941747572816
          ],
          [
           76.28865979381443
          ],
          [
           77.02702702702703
          ],
          [
           46.15384615384615
          ],
          [
           69
          ],
          [
           49.30555555555556
          ],
          [
           71.50259067357513
          ],
          [
           71.49758454106279
          ]
         ],
         "hovertemplate": "<b>%{hovertext}</b><br><br>positive_percentage=%{marker.color}<br>lat=%{lat}<br>lon=%{lon}<extra></extra>",
         "hovertext": [
          "Puskesmas Asemrowo",
          "Puskesmas Balas Klumprik",
          "Puskesmas Balongsari",
          "Puskesmas Bangkingan",
          "Puskesmas Banyu Urip",
          "Puskesmas Benowo",
          "Puskesmas Bulak Banteng",
          "Puskesmas Dukuh Kupang",
          "Puskesmas Dupak",
          "Puskesmas Gading",
          "Puskesmas Gayungan",
          "Puskesmas Gundih",
          "Puskesmas Gunung Anyar",
          "Puskesmas Jagir",
          "Puskesmas Jemursari",
          "Puskesmas Jeruk",
          "Puskesmas Kalijudan",
          "Puskesmas Kalirungkut",
          "Puskesmas Kebonsari",
          "Puskesmas Kedungdoro",
          "Puskesmas Kedurus",
          "Puskesmas Kenjeran",
          "Puskesmas Keputih",
          "Puskesmas Ketabang",
          "Puskesmas Klampis Ngasem",
          "Puskesmas Krembangan Selatan",
          "Puskesmas Lidah Kulon",
          "Puskesmas Lontar",
          "Puskesmas Made",
          "Puskesmas Manukan Kulon",
          "Puskesmas Medokan Ayu",
          "Puskesmas Menur",
          "Puskesmas Mojo",
          "Puskesmas Morokrembangan",
          "Puskesmas Mulyorejo",
          "Puskesmas Ngagel Rejo",
          "Puskesmas Pacar Keling",
          "Puskesmas Pakis",
          "Puskesmas Pegirian",
          "Puskesmas Peneleh",
          "Puskesmas Perak Timur",
          "Puskesmas Pucang Sewu",
          "Puskesmas Putat Jaya",
          "Puskesmas Rangkah",
          "Puskesmas Sawah Pulo",
          "Puskesmas Sawahan",
          "Puskesmas Sememi",
          "Puskesmas Sidosermo",
          "Puskesmas Sidotopo",
          "Puskesmas Sidotopo Wetan",
          "Puskesmas Simolawang",
          "Puskesmas Simomulyo",
          "Puskesmas Siwalankerto",
          "Puskesmas Tambak Rejo",
          "Puskesmas Tambak Wedi",
          "Puskesmas Tanah Kali Kedinding",
          "Puskesmas Tanjungsari",
          "Puskesmas Tembok Dukuh",
          "Puskesmas Tenggilis",
          "Puskesmas Wiyung",
          "Puskesmas Wonokromo",
          "Puskesmas Wonokusumo"
         ],
         "lat": [
          -7.25186115,
          -7.3315249,
          -7.259228849999999,
          -7.32492005,
          -7.2715069,
          -7.2347252,
          -7.2177947,
          -7.283236,
          -7.2393518,
          -7.242490650000001,
          -7.33810175,
          -7.24724475,
          -7.3408664,
          -7.3056601,
          -7.32608185,
          -7.3054418,
          -7.2573961,
          -7.322217999999999,
          -7.32840065,
          -7.26370155,
          -7.319754749999999,
          -7.24111075,
          -7.293995499999999,
          -7.2580613,
          -7.289156200000001,
          -7.233071049999999,
          -7.2850638,
          -7.2850638,
          -7.27731115,
          -7.25846525,
          -7.3239443,
          -7.29687275,
          -7.270902149999999,
          -7.2347805,
          -7.26072255,
          -7.29296335,
          -7.2571931,
          -7.28177405,
          -7.224634399999999,
          -7.2523042,
          -7.222732150000001,
          -7.28659415,
          -7.28142245,
          -7.24630815,
          -7.22281235,
          -7.26558135,
          -7.2483503,
          -7.307331299999999,
          -7.23034775,
          -7.22658925,
          -7.2348687,
          -7.26246035,
          -7.340268849999999,
          -7.24844815,
          -7.217479750000001,
          -7.23037625,
          -7.25940435,
          -7.254527449999999,
          -7.32236045,
          -7.30968085,
          -7.303176499999999,
          -7.219663649999999
         ],
         "legendgroup": "",
         "lon": [
          112.71456194620362,
          112.69002720464968,
          112.6783010204094,
          112.65610895,
          112.72002732026792,
          112.61150062729084,
          112.76627915520368,
          112.71222568060509,
          112.71726505,
          112.76403442545316,
          112.7186968178111,
          112.72539045,
          112.78397605,
          112.73773229111424,
          112.73996903263736,
          112.63838027163932,
          112.77801422512428,
          112.77076210366916,
          112.714445632565,
          112.7382415,
          112.70939454900804,
          112.79527909779556,
          112.80187601901248,
          112.74677403040268,
          112.77848995,
          112.73121758057744,
          112.66273285,
          112.66273285,
          112.63703473548794,
          112.66064382684382,
          112.79498318410756,
          112.76434694828671,
          112.77082440581847,
          112.71244346706712,
          112.784748,
          112.74878868683348,
          112.76268455308642,
          112.72848119117782,
          112.74691545896944,
          112.74083083291244,
          112.7354623755392,
          112.7555282626124,
          112.72236434495444,
          112.7672265,
          112.7446747690776,
          112.7277503978,
          112.6354712,
          112.7556756,
          112.7458816190326,
          112.76350132938722,
          112.75104985,
          112.7120093,
          112.73646558054416,
          112.75555569656396,
          112.7724023,
          112.77446968315311,
          112.6892628357994,
          112.71921325,
          112.76211047263912,
          112.67497509450482,
          112.7303924779992,
          112.75256160671904
         ],
         "marker": {
          "color": [
           54.347826086956516,
           73.68421052631578,
           63.97849462365591,
           53.333333333333336,
           42.201834862385326,
           67.85714285714286,
           50,
           71.56549520766772,
           52.57731958762887,
           56.27705627705628,
           61.34020618556701,
           41.333333333333336,
           59.166666666666664,
           67.04545454545455,
           62.23776223776224,
           58.88888888888889,
           53.21100917431193,
           40,
           62.62626262626263,
           43.18181818181818,
           52.74725274725275,
           38.46153846153847,
           51.35135135135135,
           78.94736842105263,
           70.77625570776256,
           60,
           68.83116883116884,
           53.68421052631579,
           55.932203389830505,
           67.32673267326733,
           61.80555555555556,
           53.74149659863946,
           31.606217616580313,
           10.666666666666668,
           71.19565217391305,
           70.04830917874396,
           53.459119496855344,
           67.3202614379085,
           67.5,
           43.47826086956522,
           50.495049504950494,
           75.24271844660194,
           64.1891891891892,
           56.08108108108109,
           67.64705882352942,
           63.52201257861635,
           66.45962732919256,
           51.35135135135135,
           27.659574468085108,
           82.27848101265823,
           75.86206896551724,
           51.07913669064749,
           47.11538461538461,
           53.90625,
           66.01941747572816,
           76.28865979381443,
           77.02702702702703,
           46.15384615384615,
           69,
           49.30555555555556,
           71.50259067357513,
           71.49758454106279
          ],
          "coloraxis": "coloraxis",
          "size": [
           54.347826086956516,
           73.68421052631578,
           63.97849462365591,
           53.333333333333336,
           42.201834862385326,
           67.85714285714286,
           50,
           71.56549520766772,
           52.57731958762887,
           56.27705627705628,
           61.34020618556701,
           41.333333333333336,
           59.166666666666664,
           67.04545454545455,
           62.23776223776224,
           58.88888888888889,
           53.21100917431193,
           40,
           62.62626262626263,
           43.18181818181818,
           52.74725274725275,
           38.46153846153847,
           51.35135135135135,
           78.94736842105263,
           70.77625570776256,
           60,
           68.83116883116884,
           53.68421052631579,
           55.932203389830505,
           67.32673267326733,
           61.80555555555556,
           53.74149659863946,
           31.606217616580313,
           10.666666666666668,
           71.19565217391305,
           70.04830917874396,
           53.459119496855344,
           67.3202614379085,
           67.5,
           43.47826086956522,
           50.495049504950494,
           75.24271844660194,
           64.1891891891892,
           56.08108108108109,
           67.64705882352942,
           63.52201257861635,
           66.45962732919256,
           51.35135135135135,
           27.659574468085108,
           82.27848101265823,
           75.86206896551724,
           51.07913669064749,
           47.11538461538461,
           53.90625,
           66.01941747572816,
           76.28865979381443,
           77.02702702702703,
           46.15384615384615,
           69,
           49.30555555555556,
           71.50259067357513,
           71.49758454106279
          ],
          "sizemode": "area",
          "sizeref": 0.3656821378340366
         },
         "mode": "markers",
         "name": "",
         "showlegend": false,
         "subplot": "mapbox",
         "type": "scattermapbox"
        }
       ],
       "layout": {
        "coloraxis": {
         "colorbar": {
          "title": {
           "text": "positive_percentage"
          }
         },
         "colorscale": [
          [
           0,
           "rgb(208, 88, 126)"
          ],
          [
           0.16666666666666666,
           "rgb(217, 137, 148)"
          ],
          [
           0.3333333333333333,
           "rgb(229, 185, 173)"
          ],
          [
           0.5,
           "rgb(241, 234, 200)"
          ],
          [
           0.6666666666666666,
           "rgb(177, 199, 179)"
          ],
          [
           0.8333333333333334,
           "rgb(114, 170, 161)"
          ],
          [
           1,
           "rgb(0, 147, 146)"
          ]
         ]
        },
        "height": 800,
        "legend": {
         "itemsizing": "constant",
         "title": {
          "text": "Positive Review %"
         },
         "tracegroupgap": 0
        },
        "mapbox": {
         "center": {
          "lat": -7.272091654032258,
          "lon": 112.73066397610253
         },
         "domain": {
          "x": [
           0,
           1
          ],
          "y": [
           0,
           1
          ]
         },
         "style": "carto-positron",
         "zoom": 10
        },
        "template": {
         "data": {
          "bar": [
           {
            "error_x": {
             "color": "#2a3f5f"
            },
            "error_y": {
             "color": "#2a3f5f"
            },
            "marker": {
             "line": {
              "color": "#E5ECF6",
              "width": 0.5
             },
             "pattern": {
              "fillmode": "overlay",
              "size": 10,
              "solidity": 0.2
             }
            },
            "type": "bar"
           }
          ],
          "barpolar": [
           {
            "marker": {
             "line": {
              "color": "#E5ECF6",
              "width": 0.5
             },
             "pattern": {
              "fillmode": "overlay",
              "size": 10,
              "solidity": 0.2
             }
            },
            "type": "barpolar"
           }
          ],
          "carpet": [
           {
            "aaxis": {
             "endlinecolor": "#2a3f5f",
             "gridcolor": "white",
             "linecolor": "white",
             "minorgridcolor": "white",
             "startlinecolor": "#2a3f5f"
            },
            "baxis": {
             "endlinecolor": "#2a3f5f",
             "gridcolor": "white",
             "linecolor": "white",
             "minorgridcolor": "white",
             "startlinecolor": "#2a3f5f"
            },
            "type": "carpet"
           }
          ],
          "choropleth": [
           {
            "colorbar": {
             "outlinewidth": 0,
             "ticks": ""
            },
            "type": "choropleth"
           }
          ],
          "contour": [
           {
            "colorbar": {
             "outlinewidth": 0,
             "ticks": ""
            },
            "colorscale": [
             [
              0,
              "#0d0887"
             ],
             [
              0.1111111111111111,
              "#46039f"
             ],
             [
              0.2222222222222222,
              "#7201a8"
             ],
             [
              0.3333333333333333,
              "#9c179e"
             ],
             [
              0.4444444444444444,
              "#bd3786"
             ],
             [
              0.5555555555555556,
              "#d8576b"
             ],
             [
              0.6666666666666666,
              "#ed7953"
             ],
             [
              0.7777777777777778,
              "#fb9f3a"
             ],
             [
              0.8888888888888888,
              "#fdca26"
             ],
             [
              1,
              "#f0f921"
             ]
            ],
            "type": "contour"
           }
          ],
          "contourcarpet": [
           {
            "colorbar": {
             "outlinewidth": 0,
             "ticks": ""
            },
            "type": "contourcarpet"
           }
          ],
          "heatmap": [
           {
            "colorbar": {
             "outlinewidth": 0,
             "ticks": ""
            },
            "colorscale": [
             [
              0,
              "#0d0887"
             ],
             [
              0.1111111111111111,
              "#46039f"
             ],
             [
              0.2222222222222222,
              "#7201a8"
             ],
             [
              0.3333333333333333,
              "#9c179e"
             ],
             [
              0.4444444444444444,
              "#bd3786"
             ],
             [
              0.5555555555555556,
              "#d8576b"
             ],
             [
              0.6666666666666666,
              "#ed7953"
             ],
             [
              0.7777777777777778,
              "#fb9f3a"
             ],
             [
              0.8888888888888888,
              "#fdca26"
             ],
             [
              1,
              "#f0f921"
             ]
            ],
            "type": "heatmap"
           }
          ],
          "heatmapgl": [
           {
            "colorbar": {
             "outlinewidth": 0,
             "ticks": ""
            },
            "colorscale": [
             [
              0,
              "#0d0887"
             ],
             [
              0.1111111111111111,
              "#46039f"
             ],
             [
              0.2222222222222222,
              "#7201a8"
             ],
             [
              0.3333333333333333,
              "#9c179e"
             ],
             [
              0.4444444444444444,
              "#bd3786"
             ],
             [
              0.5555555555555556,
              "#d8576b"
             ],
             [
              0.6666666666666666,
              "#ed7953"
             ],
             [
              0.7777777777777778,
              "#fb9f3a"
             ],
             [
              0.8888888888888888,
              "#fdca26"
             ],
             [
              1,
              "#f0f921"
             ]
            ],
            "type": "heatmapgl"
           }
          ],
          "histogram": [
           {
            "marker": {
             "pattern": {
              "fillmode": "overlay",
              "size": 10,
              "solidity": 0.2
             }
            },
            "type": "histogram"
           }
          ],
          "histogram2d": [
           {
            "colorbar": {
             "outlinewidth": 0,
             "ticks": ""
            },
            "colorscale": [
             [
              0,
              "#0d0887"
             ],
             [
              0.1111111111111111,
              "#46039f"
             ],
             [
              0.2222222222222222,
              "#7201a8"
             ],
             [
              0.3333333333333333,
              "#9c179e"
             ],
             [
              0.4444444444444444,
              "#bd3786"
             ],
             [
              0.5555555555555556,
              "#d8576b"
             ],
             [
              0.6666666666666666,
              "#ed7953"
             ],
             [
              0.7777777777777778,
              "#fb9f3a"
             ],
             [
              0.8888888888888888,
              "#fdca26"
             ],
             [
              1,
              "#f0f921"
             ]
            ],
            "type": "histogram2d"
           }
          ],
          "histogram2dcontour": [
           {
            "colorbar": {
             "outlinewidth": 0,
             "ticks": ""
            },
            "colorscale": [
             [
              0,
              "#0d0887"
             ],
             [
              0.1111111111111111,
              "#46039f"
             ],
             [
              0.2222222222222222,
              "#7201a8"
             ],
             [
              0.3333333333333333,
              "#9c179e"
             ],
             [
              0.4444444444444444,
              "#bd3786"
             ],
             [
              0.5555555555555556,
              "#d8576b"
             ],
             [
              0.6666666666666666,
              "#ed7953"
             ],
             [
              0.7777777777777778,
              "#fb9f3a"
             ],
             [
              0.8888888888888888,
              "#fdca26"
             ],
             [
              1,
              "#f0f921"
             ]
            ],
            "type": "histogram2dcontour"
           }
          ],
          "mesh3d": [
           {
            "colorbar": {
             "outlinewidth": 0,
             "ticks": ""
            },
            "type": "mesh3d"
           }
          ],
          "parcoords": [
           {
            "line": {
             "colorbar": {
              "outlinewidth": 0,
              "ticks": ""
             }
            },
            "type": "parcoords"
           }
          ],
          "pie": [
           {
            "automargin": true,
            "type": "pie"
           }
          ],
          "scatter": [
           {
            "fillpattern": {
             "fillmode": "overlay",
             "size": 10,
             "solidity": 0.2
            },
            "type": "scatter"
           }
          ],
          "scatter3d": [
           {
            "line": {
             "colorbar": {
              "outlinewidth": 0,
              "ticks": ""
             }
            },
            "marker": {
             "colorbar": {
              "outlinewidth": 0,
              "ticks": ""
             }
            },
            "type": "scatter3d"
           }
          ],
          "scattercarpet": [
           {
            "marker": {
             "colorbar": {
              "outlinewidth": 0,
              "ticks": ""
             }
            },
            "type": "scattercarpet"
           }
          ],
          "scattergeo": [
           {
            "marker": {
             "colorbar": {
              "outlinewidth": 0,
              "ticks": ""
             }
            },
            "type": "scattergeo"
           }
          ],
          "scattergl": [
           {
            "marker": {
             "colorbar": {
              "outlinewidth": 0,
              "ticks": ""
             }
            },
            "type": "scattergl"
           }
          ],
          "scattermapbox": [
           {
            "marker": {
             "colorbar": {
              "outlinewidth": 0,
              "ticks": ""
             }
            },
            "type": "scattermapbox"
           }
          ],
          "scatterpolar": [
           {
            "marker": {
             "colorbar": {
              "outlinewidth": 0,
              "ticks": ""
             }
            },
            "type": "scatterpolar"
           }
          ],
          "scatterpolargl": [
           {
            "marker": {
             "colorbar": {
              "outlinewidth": 0,
              "ticks": ""
             }
            },
            "type": "scatterpolargl"
           }
          ],
          "scatterternary": [
           {
            "marker": {
             "colorbar": {
              "outlinewidth": 0,
              "ticks": ""
             }
            },
            "type": "scatterternary"
           }
          ],
          "surface": [
           {
            "colorbar": {
             "outlinewidth": 0,
             "ticks": ""
            },
            "colorscale": [
             [
              0,
              "#0d0887"
             ],
             [
              0.1111111111111111,
              "#46039f"
             ],
             [
              0.2222222222222222,
              "#7201a8"
             ],
             [
              0.3333333333333333,
              "#9c179e"
             ],
             [
              0.4444444444444444,
              "#bd3786"
             ],
             [
              0.5555555555555556,
              "#d8576b"
             ],
             [
              0.6666666666666666,
              "#ed7953"
             ],
             [
              0.7777777777777778,
              "#fb9f3a"
             ],
             [
              0.8888888888888888,
              "#fdca26"
             ],
             [
              1,
              "#f0f921"
             ]
            ],
            "type": "surface"
           }
          ],
          "table": [
           {
            "cells": {
             "fill": {
              "color": "#EBF0F8"
             },
             "line": {
              "color": "white"
             }
            },
            "header": {
             "fill": {
              "color": "#C8D4E3"
             },
             "line": {
              "color": "white"
             }
            },
            "type": "table"
           }
          ]
         },
         "layout": {
          "annotationdefaults": {
           "arrowcolor": "#2a3f5f",
           "arrowhead": 0,
           "arrowwidth": 1
          },
          "autotypenumbers": "strict",
          "coloraxis": {
           "colorbar": {
            "outlinewidth": 0,
            "ticks": ""
           }
          },
          "colorscale": {
           "diverging": [
            [
             0,
             "#8e0152"
            ],
            [
             0.1,
             "#c51b7d"
            ],
            [
             0.2,
             "#de77ae"
            ],
            [
             0.3,
             "#f1b6da"
            ],
            [
             0.4,
             "#fde0ef"
            ],
            [
             0.5,
             "#f7f7f7"
            ],
            [
             0.6,
             "#e6f5d0"
            ],
            [
             0.7,
             "#b8e186"
            ],
            [
             0.8,
             "#7fbc41"
            ],
            [
             0.9,
             "#4d9221"
            ],
            [
             1,
             "#276419"
            ]
           ],
           "sequential": [
            [
             0,
             "#0d0887"
            ],
            [
             0.1111111111111111,
             "#46039f"
            ],
            [
             0.2222222222222222,
             "#7201a8"
            ],
            [
             0.3333333333333333,
             "#9c179e"
            ],
            [
             0.4444444444444444,
             "#bd3786"
            ],
            [
             0.5555555555555556,
             "#d8576b"
            ],
            [
             0.6666666666666666,
             "#ed7953"
            ],
            [
             0.7777777777777778,
             "#fb9f3a"
            ],
            [
             0.8888888888888888,
             "#fdca26"
            ],
            [
             1,
             "#f0f921"
            ]
           ],
           "sequentialminus": [
            [
             0,
             "#0d0887"
            ],
            [
             0.1111111111111111,
             "#46039f"
            ],
            [
             0.2222222222222222,
             "#7201a8"
            ],
            [
             0.3333333333333333,
             "#9c179e"
            ],
            [
             0.4444444444444444,
             "#bd3786"
            ],
            [
             0.5555555555555556,
             "#d8576b"
            ],
            [
             0.6666666666666666,
             "#ed7953"
            ],
            [
             0.7777777777777778,
             "#fb9f3a"
            ],
            [
             0.8888888888888888,
             "#fdca26"
            ],
            [
             1,
             "#f0f921"
            ]
           ]
          },
          "colorway": [
           "#636efa",
           "#EF553B",
           "#00cc96",
           "#ab63fa",
           "#FFA15A",
           "#19d3f3",
           "#FF6692",
           "#B6E880",
           "#FF97FF",
           "#FECB52"
          ],
          "font": {
           "color": "#2a3f5f"
          },
          "geo": {
           "bgcolor": "white",
           "lakecolor": "white",
           "landcolor": "#E5ECF6",
           "showlakes": true,
           "showland": true,
           "subunitcolor": "white"
          },
          "hoverlabel": {
           "align": "left"
          },
          "hovermode": "closest",
          "mapbox": {
           "style": "light"
          },
          "paper_bgcolor": "white",
          "plot_bgcolor": "#E5ECF6",
          "polar": {
           "angularaxis": {
            "gridcolor": "white",
            "linecolor": "white",
            "ticks": ""
           },
           "bgcolor": "#E5ECF6",
           "radialaxis": {
            "gridcolor": "white",
            "linecolor": "white",
            "ticks": ""
           }
          },
          "scene": {
           "xaxis": {
            "backgroundcolor": "#E5ECF6",
            "gridcolor": "white",
            "gridwidth": 2,
            "linecolor": "white",
            "showbackground": true,
            "ticks": "",
            "zerolinecolor": "white"
           },
           "yaxis": {
            "backgroundcolor": "#E5ECF6",
            "gridcolor": "white",
            "gridwidth": 2,
            "linecolor": "white",
            "showbackground": true,
            "ticks": "",
            "zerolinecolor": "white"
           },
           "zaxis": {
            "backgroundcolor": "#E5ECF6",
            "gridcolor": "white",
            "gridwidth": 2,
            "linecolor": "white",
            "showbackground": true,
            "ticks": "",
            "zerolinecolor": "white"
           }
          },
          "shapedefaults": {
           "line": {
            "color": "#2a3f5f"
           }
          },
          "ternary": {
           "aaxis": {
            "gridcolor": "white",
            "linecolor": "white",
            "ticks": ""
           },
           "baxis": {
            "gridcolor": "white",
            "linecolor": "white",
            "ticks": ""
           },
           "bgcolor": "#E5ECF6",
           "caxis": {
            "gridcolor": "white",
            "linecolor": "white",
            "ticks": ""
           }
          },
          "title": {
           "x": 0.05
          },
          "xaxis": {
           "automargin": true,
           "gridcolor": "white",
           "linecolor": "white",
           "ticks": "",
           "title": {
            "standoff": 15
           },
           "zerolinecolor": "white",
           "zerolinewidth": 2
          },
          "yaxis": {
           "automargin": true,
           "gridcolor": "white",
           "linecolor": "white",
           "ticks": "",
           "title": {
            "standoff": 15
           },
           "zerolinecolor": "white",
           "zerolinewidth": 2
          }
         }
        },
        "title": {
         "text": "Puskesmas Positive Review Percentage",
         "x": 0.5,
         "xanchor": "center"
        },
        "width": 800
       }
      }
     },
     "metadata": {},
     "output_type": "display_data"
    }
   ],
   "source": [
    "data_for_plotting = detail_puskesmas[\n",
    "    [\"lat\", \"lon\", \"puskesmas_name\", \"positive_percentage\"]\n",
    "]\n",
    "\n",
    "data_for_plotting[\"lat\"] = pd.to_numeric(data_for_plotting[\"lat\"], errors=\"coerce\")\n",
    "data_for_plotting[\"lon\"] = pd.to_numeric(data_for_plotting[\"lon\"], errors=\"coerce\")\n",
    "data_for_plotting[\"positive_percentage\"] = data_for_plotting[\n",
    "    \"positive_percentage\"\n",
    "].fillna(0)\n",
    "\n",
    "data_for_plotting = data_for_plotting[data_for_plotting[\"positive_percentage\"] != 0]\n",
    "\n",
    "fig = px.scatter_mapbox(\n",
    "    data_for_plotting,\n",
    "    lat=\"lat\",\n",
    "    lon=\"lon\",\n",
    "    color=\"positive_percentage\",\n",
    "    size=\"positive_percentage\",\n",
    "    hover_name=\"puskesmas_name\",\n",
    "    hover_data={\"positive_percentage\": True},\n",
    "    size_max=15,\n",
    "    zoom=10,\n",
    "    center={\n",
    "        \"lat\": data_for_plotting[\"lat\"].mean(),\n",
    "        \"lon\": data_for_plotting[\"lon\"].mean(),\n",
    "    },\n",
    "    mapbox_style=\"carto-positron\",\n",
    "    color_continuous_scale=px.colors.diverging.Tealrose_r,\n",
    "    title=\"Puskesmas Positive Review Percentage\",\n",
    ")\n",
    "\n",
    "fig.update_traces(marker=dict(size=64, opacity=0.7), selector=dict(mode=\"markers+text\"))\n",
    "\n",
    "fig.update_layout(\n",
    "    legend_title_text=\"Positive Review %\",\n",
    "    title=dict(text=\"Puskesmas Positive Review Percentage\", x=0.5, xanchor=\"center\"),\n",
    ")\n",
    "\n",
    "fig.update_layout(width=800, height=800)\n",
    "fig.show()"
   ]
  },
  {
   "cell_type": "markdown",
   "metadata": {},
   "source": [
    "## Top 10 Puskesmas with the positive review"
   ]
  },
  {
   "cell_type": "code",
   "execution_count": 6,
   "metadata": {},
   "outputs": [
    {
     "name": "stderr",
     "output_type": "stream",
     "text": [
      "/tmp/ipykernel_214216/2427489040.py:8: SettingWithCopyWarning:\n",
      "\n",
      "\n",
      "A value is trying to be set on a copy of a slice from a DataFrame.\n",
      "Try using .loc[row_indexer,col_indexer] = value instead\n",
      "\n",
      "See the caveats in the documentation: https://pandas.pydata.org/pandas-docs/stable/user_guide/indexing.html#returning-a-view-versus-a-copy\n",
      "\n",
      "/tmp/ipykernel_214216/2427489040.py:9: SettingWithCopyWarning:\n",
      "\n",
      "\n",
      "A value is trying to be set on a copy of a slice from a DataFrame.\n",
      "Try using .loc[row_indexer,col_indexer] = value instead\n",
      "\n",
      "See the caveats in the documentation: https://pandas.pydata.org/pandas-docs/stable/user_guide/indexing.html#returning-a-view-versus-a-copy\n",
      "\n",
      "/tmp/ipykernel_214216/2427489040.py:10: SettingWithCopyWarning:\n",
      "\n",
      "\n",
      "A value is trying to be set on a copy of a slice from a DataFrame.\n",
      "Try using .loc[row_indexer,col_indexer] = value instead\n",
      "\n",
      "See the caveats in the documentation: https://pandas.pydata.org/pandas-docs/stable/user_guide/indexing.html#returning-a-view-versus-a-copy\n",
      "\n"
     ]
    },
    {
     "data": {
      "application/vnd.plotly.v1+json": {
       "config": {
        "plotlyServerURL": "https://plot.ly"
       },
       "data": [
        {
         "customdata": [
          [
           82.27848101265823
          ],
          [
           78.94736842105263
          ],
          [
           77.02702702702703
          ],
          [
           76.28865979381443
          ],
          [
           75.86206896551724
          ],
          [
           75.24271844660194
          ],
          [
           73.68421052631578
          ],
          [
           71.56549520766772
          ],
          [
           71.50259067357513
          ],
          [
           71.49758454106279
          ]
         ],
         "hovertemplate": "<b>%{hovertext}</b><br>Positivity Rate: %{marker.color:.2f}%",
         "hovertext": [
          "Puskesmas Sidotopo Wetan",
          "Puskesmas Ketabang",
          "Puskesmas Tanjungsari",
          "Puskesmas Tanah Kali Kedinding",
          "Puskesmas Simolawang",
          "Puskesmas Pucang Sewu",
          "Puskesmas Balas Klumprik",
          "Puskesmas Dukuh Kupang",
          "Puskesmas Wonokromo",
          "Puskesmas Wonokusumo"
         ],
         "lat": [
          -7.22658925,
          -7.2580613,
          -7.25940435,
          -7.23037625,
          -7.2348687,
          -7.28659415,
          -7.3315249,
          -7.283236,
          -7.303176499999999,
          -7.219663649999999
         ],
         "legendgroup": "",
         "lon": [
          112.76350132938722,
          112.74677403040268,
          112.6892628357994,
          112.77446968315311,
          112.75104985,
          112.7555282626124,
          112.69002720464968,
          112.71222568060509,
          112.7303924779992,
          112.75256160671904
         ],
         "marker": {
          "color": [
           82.27848101265823,
           78.94736842105263,
           77.02702702702703,
           76.28865979381443,
           75.86206896551724,
           75.24271844660194,
           73.68421052631578,
           71.56549520766772,
           71.50259067357513,
           71.49758454106279
          ],
          "coloraxis": "coloraxis",
          "opacity": 0.7,
          "size": 28,
          "sizemode": "area",
          "sizeref": 0.3656821378340366
         },
         "mode": "markers",
         "name": "",
         "showlegend": false,
         "subplot": "mapbox",
         "textposition": "top center",
         "type": "scattermapbox"
        }
       ],
       "layout": {
        "coloraxis": {
         "cmax": 82.27848101265823,
         "cmin": 10.666666666666668,
         "colorbar": {
          "title": {
           "text": "Positivity Rate (%)"
          }
         },
         "colorscale": [
          [
           0,
           "rgb(208, 88, 126)"
          ],
          [
           0.16666666666666666,
           "rgb(217, 137, 148)"
          ],
          [
           0.3333333333333333,
           "rgb(229, 185, 173)"
          ],
          [
           0.5,
           "rgb(241, 234, 200)"
          ],
          [
           0.6666666666666666,
           "rgb(177, 199, 179)"
          ],
          [
           0.8333333333333334,
           "rgb(114, 170, 161)"
          ],
          [
           1,
           "rgb(0, 147, 146)"
          ]
         ]
        },
        "height": 800,
        "legend": {
         "bgcolor": "rgba(255,255,255,0.5)",
         "bordercolor": "Black",
         "borderwidth": 2,
         "itemsizing": "constant",
         "title": {
          "font": {
           "color": "blue",
           "size": 14
          }
         },
         "tracegroupgap": 0
        },
        "mapbox": {
         "center": {
          "lat": -7.263349504999999,
          "lon": 112.73657929613277
         },
         "domain": {
          "x": [
           0,
           1
          ],
          "y": [
           0,
           1
          ]
         },
         "style": "carto-positron",
         "zoom": 10
        },
        "template": {
         "data": {
          "bar": [
           {
            "error_x": {
             "color": "#2a3f5f"
            },
            "error_y": {
             "color": "#2a3f5f"
            },
            "marker": {
             "line": {
              "color": "#E5ECF6",
              "width": 0.5
             },
             "pattern": {
              "fillmode": "overlay",
              "size": 10,
              "solidity": 0.2
             }
            },
            "type": "bar"
           }
          ],
          "barpolar": [
           {
            "marker": {
             "line": {
              "color": "#E5ECF6",
              "width": 0.5
             },
             "pattern": {
              "fillmode": "overlay",
              "size": 10,
              "solidity": 0.2
             }
            },
            "type": "barpolar"
           }
          ],
          "carpet": [
           {
            "aaxis": {
             "endlinecolor": "#2a3f5f",
             "gridcolor": "white",
             "linecolor": "white",
             "minorgridcolor": "white",
             "startlinecolor": "#2a3f5f"
            },
            "baxis": {
             "endlinecolor": "#2a3f5f",
             "gridcolor": "white",
             "linecolor": "white",
             "minorgridcolor": "white",
             "startlinecolor": "#2a3f5f"
            },
            "type": "carpet"
           }
          ],
          "choropleth": [
           {
            "colorbar": {
             "outlinewidth": 0,
             "ticks": ""
            },
            "type": "choropleth"
           }
          ],
          "contour": [
           {
            "colorbar": {
             "outlinewidth": 0,
             "ticks": ""
            },
            "colorscale": [
             [
              0,
              "#0d0887"
             ],
             [
              0.1111111111111111,
              "#46039f"
             ],
             [
              0.2222222222222222,
              "#7201a8"
             ],
             [
              0.3333333333333333,
              "#9c179e"
             ],
             [
              0.4444444444444444,
              "#bd3786"
             ],
             [
              0.5555555555555556,
              "#d8576b"
             ],
             [
              0.6666666666666666,
              "#ed7953"
             ],
             [
              0.7777777777777778,
              "#fb9f3a"
             ],
             [
              0.8888888888888888,
              "#fdca26"
             ],
             [
              1,
              "#f0f921"
             ]
            ],
            "type": "contour"
           }
          ],
          "contourcarpet": [
           {
            "colorbar": {
             "outlinewidth": 0,
             "ticks": ""
            },
            "type": "contourcarpet"
           }
          ],
          "heatmap": [
           {
            "colorbar": {
             "outlinewidth": 0,
             "ticks": ""
            },
            "colorscale": [
             [
              0,
              "#0d0887"
             ],
             [
              0.1111111111111111,
              "#46039f"
             ],
             [
              0.2222222222222222,
              "#7201a8"
             ],
             [
              0.3333333333333333,
              "#9c179e"
             ],
             [
              0.4444444444444444,
              "#bd3786"
             ],
             [
              0.5555555555555556,
              "#d8576b"
             ],
             [
              0.6666666666666666,
              "#ed7953"
             ],
             [
              0.7777777777777778,
              "#fb9f3a"
             ],
             [
              0.8888888888888888,
              "#fdca26"
             ],
             [
              1,
              "#f0f921"
             ]
            ],
            "type": "heatmap"
           }
          ],
          "heatmapgl": [
           {
            "colorbar": {
             "outlinewidth": 0,
             "ticks": ""
            },
            "colorscale": [
             [
              0,
              "#0d0887"
             ],
             [
              0.1111111111111111,
              "#46039f"
             ],
             [
              0.2222222222222222,
              "#7201a8"
             ],
             [
              0.3333333333333333,
              "#9c179e"
             ],
             [
              0.4444444444444444,
              "#bd3786"
             ],
             [
              0.5555555555555556,
              "#d8576b"
             ],
             [
              0.6666666666666666,
              "#ed7953"
             ],
             [
              0.7777777777777778,
              "#fb9f3a"
             ],
             [
              0.8888888888888888,
              "#fdca26"
             ],
             [
              1,
              "#f0f921"
             ]
            ],
            "type": "heatmapgl"
           }
          ],
          "histogram": [
           {
            "marker": {
             "pattern": {
              "fillmode": "overlay",
              "size": 10,
              "solidity": 0.2
             }
            },
            "type": "histogram"
           }
          ],
          "histogram2d": [
           {
            "colorbar": {
             "outlinewidth": 0,
             "ticks": ""
            },
            "colorscale": [
             [
              0,
              "#0d0887"
             ],
             [
              0.1111111111111111,
              "#46039f"
             ],
             [
              0.2222222222222222,
              "#7201a8"
             ],
             [
              0.3333333333333333,
              "#9c179e"
             ],
             [
              0.4444444444444444,
              "#bd3786"
             ],
             [
              0.5555555555555556,
              "#d8576b"
             ],
             [
              0.6666666666666666,
              "#ed7953"
             ],
             [
              0.7777777777777778,
              "#fb9f3a"
             ],
             [
              0.8888888888888888,
              "#fdca26"
             ],
             [
              1,
              "#f0f921"
             ]
            ],
            "type": "histogram2d"
           }
          ],
          "histogram2dcontour": [
           {
            "colorbar": {
             "outlinewidth": 0,
             "ticks": ""
            },
            "colorscale": [
             [
              0,
              "#0d0887"
             ],
             [
              0.1111111111111111,
              "#46039f"
             ],
             [
              0.2222222222222222,
              "#7201a8"
             ],
             [
              0.3333333333333333,
              "#9c179e"
             ],
             [
              0.4444444444444444,
              "#bd3786"
             ],
             [
              0.5555555555555556,
              "#d8576b"
             ],
             [
              0.6666666666666666,
              "#ed7953"
             ],
             [
              0.7777777777777778,
              "#fb9f3a"
             ],
             [
              0.8888888888888888,
              "#fdca26"
             ],
             [
              1,
              "#f0f921"
             ]
            ],
            "type": "histogram2dcontour"
           }
          ],
          "mesh3d": [
           {
            "colorbar": {
             "outlinewidth": 0,
             "ticks": ""
            },
            "type": "mesh3d"
           }
          ],
          "parcoords": [
           {
            "line": {
             "colorbar": {
              "outlinewidth": 0,
              "ticks": ""
             }
            },
            "type": "parcoords"
           }
          ],
          "pie": [
           {
            "automargin": true,
            "type": "pie"
           }
          ],
          "scatter": [
           {
            "fillpattern": {
             "fillmode": "overlay",
             "size": 10,
             "solidity": 0.2
            },
            "type": "scatter"
           }
          ],
          "scatter3d": [
           {
            "line": {
             "colorbar": {
              "outlinewidth": 0,
              "ticks": ""
             }
            },
            "marker": {
             "colorbar": {
              "outlinewidth": 0,
              "ticks": ""
             }
            },
            "type": "scatter3d"
           }
          ],
          "scattercarpet": [
           {
            "marker": {
             "colorbar": {
              "outlinewidth": 0,
              "ticks": ""
             }
            },
            "type": "scattercarpet"
           }
          ],
          "scattergeo": [
           {
            "marker": {
             "colorbar": {
              "outlinewidth": 0,
              "ticks": ""
             }
            },
            "type": "scattergeo"
           }
          ],
          "scattergl": [
           {
            "marker": {
             "colorbar": {
              "outlinewidth": 0,
              "ticks": ""
             }
            },
            "type": "scattergl"
           }
          ],
          "scattermapbox": [
           {
            "marker": {
             "colorbar": {
              "outlinewidth": 0,
              "ticks": ""
             }
            },
            "type": "scattermapbox"
           }
          ],
          "scatterpolar": [
           {
            "marker": {
             "colorbar": {
              "outlinewidth": 0,
              "ticks": ""
             }
            },
            "type": "scatterpolar"
           }
          ],
          "scatterpolargl": [
           {
            "marker": {
             "colorbar": {
              "outlinewidth": 0,
              "ticks": ""
             }
            },
            "type": "scatterpolargl"
           }
          ],
          "scatterternary": [
           {
            "marker": {
             "colorbar": {
              "outlinewidth": 0,
              "ticks": ""
             }
            },
            "type": "scatterternary"
           }
          ],
          "surface": [
           {
            "colorbar": {
             "outlinewidth": 0,
             "ticks": ""
            },
            "colorscale": [
             [
              0,
              "#0d0887"
             ],
             [
              0.1111111111111111,
              "#46039f"
             ],
             [
              0.2222222222222222,
              "#7201a8"
             ],
             [
              0.3333333333333333,
              "#9c179e"
             ],
             [
              0.4444444444444444,
              "#bd3786"
             ],
             [
              0.5555555555555556,
              "#d8576b"
             ],
             [
              0.6666666666666666,
              "#ed7953"
             ],
             [
              0.7777777777777778,
              "#fb9f3a"
             ],
             [
              0.8888888888888888,
              "#fdca26"
             ],
             [
              1,
              "#f0f921"
             ]
            ],
            "type": "surface"
           }
          ],
          "table": [
           {
            "cells": {
             "fill": {
              "color": "#EBF0F8"
             },
             "line": {
              "color": "white"
             }
            },
            "header": {
             "fill": {
              "color": "#C8D4E3"
             },
             "line": {
              "color": "white"
             }
            },
            "type": "table"
           }
          ]
         },
         "layout": {
          "annotationdefaults": {
           "arrowcolor": "#2a3f5f",
           "arrowhead": 0,
           "arrowwidth": 1
          },
          "autotypenumbers": "strict",
          "coloraxis": {
           "colorbar": {
            "outlinewidth": 0,
            "ticks": ""
           }
          },
          "colorscale": {
           "diverging": [
            [
             0,
             "#8e0152"
            ],
            [
             0.1,
             "#c51b7d"
            ],
            [
             0.2,
             "#de77ae"
            ],
            [
             0.3,
             "#f1b6da"
            ],
            [
             0.4,
             "#fde0ef"
            ],
            [
             0.5,
             "#f7f7f7"
            ],
            [
             0.6,
             "#e6f5d0"
            ],
            [
             0.7,
             "#b8e186"
            ],
            [
             0.8,
             "#7fbc41"
            ],
            [
             0.9,
             "#4d9221"
            ],
            [
             1,
             "#276419"
            ]
           ],
           "sequential": [
            [
             0,
             "#0d0887"
            ],
            [
             0.1111111111111111,
             "#46039f"
            ],
            [
             0.2222222222222222,
             "#7201a8"
            ],
            [
             0.3333333333333333,
             "#9c179e"
            ],
            [
             0.4444444444444444,
             "#bd3786"
            ],
            [
             0.5555555555555556,
             "#d8576b"
            ],
            [
             0.6666666666666666,
             "#ed7953"
            ],
            [
             0.7777777777777778,
             "#fb9f3a"
            ],
            [
             0.8888888888888888,
             "#fdca26"
            ],
            [
             1,
             "#f0f921"
            ]
           ],
           "sequentialminus": [
            [
             0,
             "#0d0887"
            ],
            [
             0.1111111111111111,
             "#46039f"
            ],
            [
             0.2222222222222222,
             "#7201a8"
            ],
            [
             0.3333333333333333,
             "#9c179e"
            ],
            [
             0.4444444444444444,
             "#bd3786"
            ],
            [
             0.5555555555555556,
             "#d8576b"
            ],
            [
             0.6666666666666666,
             "#ed7953"
            ],
            [
             0.7777777777777778,
             "#fb9f3a"
            ],
            [
             0.8888888888888888,
             "#fdca26"
            ],
            [
             1,
             "#f0f921"
            ]
           ]
          },
          "colorway": [
           "#636efa",
           "#EF553B",
           "#00cc96",
           "#ab63fa",
           "#FFA15A",
           "#19d3f3",
           "#FF6692",
           "#B6E880",
           "#FF97FF",
           "#FECB52"
          ],
          "font": {
           "color": "#2a3f5f"
          },
          "geo": {
           "bgcolor": "white",
           "lakecolor": "white",
           "landcolor": "#E5ECF6",
           "showlakes": true,
           "showland": true,
           "subunitcolor": "white"
          },
          "hoverlabel": {
           "align": "left"
          },
          "hovermode": "closest",
          "mapbox": {
           "style": "light"
          },
          "paper_bgcolor": "white",
          "plot_bgcolor": "#E5ECF6",
          "polar": {
           "angularaxis": {
            "gridcolor": "white",
            "linecolor": "white",
            "ticks": ""
           },
           "bgcolor": "#E5ECF6",
           "radialaxis": {
            "gridcolor": "white",
            "linecolor": "white",
            "ticks": ""
           }
          },
          "scene": {
           "xaxis": {
            "backgroundcolor": "#E5ECF6",
            "gridcolor": "white",
            "gridwidth": 2,
            "linecolor": "white",
            "showbackground": true,
            "ticks": "",
            "zerolinecolor": "white"
           },
           "yaxis": {
            "backgroundcolor": "#E5ECF6",
            "gridcolor": "white",
            "gridwidth": 2,
            "linecolor": "white",
            "showbackground": true,
            "ticks": "",
            "zerolinecolor": "white"
           },
           "zaxis": {
            "backgroundcolor": "#E5ECF6",
            "gridcolor": "white",
            "gridwidth": 2,
            "linecolor": "white",
            "showbackground": true,
            "ticks": "",
            "zerolinecolor": "white"
           }
          },
          "shapedefaults": {
           "line": {
            "color": "#2a3f5f"
           }
          },
          "ternary": {
           "aaxis": {
            "gridcolor": "white",
            "linecolor": "white",
            "ticks": ""
           },
           "baxis": {
            "gridcolor": "white",
            "linecolor": "white",
            "ticks": ""
           },
           "bgcolor": "#E5ECF6",
           "caxis": {
            "gridcolor": "white",
            "linecolor": "white",
            "ticks": ""
           }
          },
          "title": {
           "x": 0.05
          },
          "xaxis": {
           "automargin": true,
           "gridcolor": "white",
           "linecolor": "white",
           "ticks": "",
           "title": {
            "standoff": 15
           },
           "zerolinecolor": "white",
           "zerolinewidth": 2
          },
          "yaxis": {
           "automargin": true,
           "gridcolor": "white",
           "linecolor": "white",
           "ticks": "",
           "title": {
            "standoff": 15
           },
           "zerolinecolor": "white",
           "zerolinewidth": 2
          }
         }
        },
        "title": {
         "text": "Top 10 Puskesmas with Positive Review Percentage",
         "x": 0.5,
         "xanchor": "center"
        },
        "width": 800
       }
      }
     },
     "metadata": {},
     "output_type": "display_data"
    }
   ],
   "source": [
    "import pandas as pd\n",
    "import plotly.express as px\n",
    "\n",
    "data_for_plotting = detail_puskesmas[\n",
    "    [\"lat\", \"lon\", \"puskesmas_name\", \"positive_percentage\"]\n",
    "]\n",
    "\n",
    "data_for_plotting[\"lat\"] = pd.to_numeric(data_for_plotting[\"lat\"], errors=\"coerce\")\n",
    "data_for_plotting[\"lon\"] = pd.to_numeric(data_for_plotting[\"lon\"], errors=\"coerce\")\n",
    "data_for_plotting[\"positive_percentage\"] = data_for_plotting[\n",
    "    \"positive_percentage\"\n",
    "].fillna(0)\n",
    "\n",
    "data_for_plotting = data_for_plotting[data_for_plotting[\"positive_percentage\"] != 0]\n",
    "\n",
    "top_10_data_for_plotting = data_for_plotting.sort_values(\n",
    "    by=\"positive_percentage\", ascending=False\n",
    ").head(10)\n",
    "\n",
    "fig = px.scatter_mapbox(\n",
    "    top_10_data_for_plotting,\n",
    "    lat=\"lat\",\n",
    "    lon=\"lon\",\n",
    "    color=\"positive_percentage\",\n",
    "    size=\"positive_percentage\",\n",
    "    hover_name=\"puskesmas_name\",\n",
    "    hover_data={\"positive_percentage\": True},\n",
    "    size_max=15,\n",
    "    zoom=10,\n",
    "    center={\n",
    "        \"lat\": top_10_data_for_plotting[\"lat\"].mean(),\n",
    "        \"lon\": top_10_data_for_plotting[\"lon\"].mean(),\n",
    "    },\n",
    "    mapbox_style=\"carto-positron\", \n",
    "    color_continuous_scale=px.colors.diverging.Tealrose_r,\n",
    "    title=\"Top 10 Puskesmas with Positive Review Percentage\",\n",
    "    range_color=[detail_puskesmas['positive_percentage'].min(), detail_puskesmas[\"positive_percentage\"].max()],\n",
    ")\n",
    "\n",
    "fig.update_traces(marker=dict(size=28, opacity=0.7), textposition=\"top center\")\n",
    "\n",
    "fig.update_traces(\n",
    "    hovertemplate=\"<b>%{hovertext}</b><br>Positivity Rate: %{marker.color:.2f}%\"\n",
    ")\n",
    "\n",
    "fig.update_coloraxes(colorbar_title=\"Positivity Rate (%)\")\n",
    "\n",
    "fig.update_layout(\n",
    "    legend=dict(\n",
    "        title_font=dict(size=14, color=\"blue\"),\n",
    "        bgcolor=\"rgba(255,255,255,0.5)\",\n",
    "        bordercolor=\"Black\",\n",
    "        borderwidth=2,\n",
    "    ),\n",
    "    title=dict(\n",
    "        text=\"Top 10 Puskesmas with Positive Review Percentage\", x=0.5, xanchor=\"center\"\n",
    "    ),\n",
    "    width=800,\n",
    "    height=800,\n",
    ")\n",
    "\n",
    "fig.show()"
   ]
  },
  {
   "cell_type": "markdown",
   "metadata": {},
   "source": [
    "## Top 10 Puskesmas with the negative review"
   ]
  },
  {
   "cell_type": "code",
   "execution_count": 7,
   "metadata": {},
   "outputs": [
    {
     "name": "stderr",
     "output_type": "stream",
     "text": [
      "/tmp/ipykernel_214216/118797639.py:8: SettingWithCopyWarning:\n",
      "\n",
      "\n",
      "A value is trying to be set on a copy of a slice from a DataFrame.\n",
      "Try using .loc[row_indexer,col_indexer] = value instead\n",
      "\n",
      "See the caveats in the documentation: https://pandas.pydata.org/pandas-docs/stable/user_guide/indexing.html#returning-a-view-versus-a-copy\n",
      "\n",
      "/tmp/ipykernel_214216/118797639.py:9: SettingWithCopyWarning:\n",
      "\n",
      "\n",
      "A value is trying to be set on a copy of a slice from a DataFrame.\n",
      "Try using .loc[row_indexer,col_indexer] = value instead\n",
      "\n",
      "See the caveats in the documentation: https://pandas.pydata.org/pandas-docs/stable/user_guide/indexing.html#returning-a-view-versus-a-copy\n",
      "\n",
      "/tmp/ipykernel_214216/118797639.py:10: SettingWithCopyWarning:\n",
      "\n",
      "\n",
      "A value is trying to be set on a copy of a slice from a DataFrame.\n",
      "Try using .loc[row_indexer,col_indexer] = value instead\n",
      "\n",
      "See the caveats in the documentation: https://pandas.pydata.org/pandas-docs/stable/user_guide/indexing.html#returning-a-view-versus-a-copy\n",
      "\n"
     ]
    },
    {
     "data": {
      "application/vnd.plotly.v1+json": {
       "config": {
        "plotlyServerURL": "https://plot.ly"
       },
       "data": [
        {
         "customdata": [
          [
           10.666666666666668
          ],
          [
           27.659574468085108
          ],
          [
           31.606217616580313
          ],
          [
           38.46153846153847
          ],
          [
           40
          ],
          [
           41.333333333333336
          ],
          [
           42.201834862385326
          ],
          [
           43.18181818181818
          ],
          [
           43.47826086956522
          ],
          [
           46.15384615384615
          ]
         ],
         "hovertemplate": "<b>%{hovertext}</b><br>Positivity Rate: %{marker.color:.2f}%",
         "hovertext": [
          "Puskesmas Morokrembangan",
          "Puskesmas Sidotopo",
          "Puskesmas Mojo",
          "Puskesmas Kenjeran",
          "Puskesmas Kalirungkut",
          "Puskesmas Gundih",
          "Puskesmas Banyu Urip",
          "Puskesmas Kedungdoro",
          "Puskesmas Peneleh",
          "Puskesmas Tembok Dukuh"
         ],
         "lat": [
          -7.2347805,
          -7.23034775,
          -7.270902149999999,
          -7.24111075,
          -7.322217999999999,
          -7.24724475,
          -7.2715069,
          -7.26370155,
          -7.2523042,
          -7.254527449999999
         ],
         "legendgroup": "",
         "lon": [
          112.71244346706712,
          112.7458816190326,
          112.77082440581847,
          112.79527909779556,
          112.77076210366916,
          112.72539045,
          112.72002732026792,
          112.7382415,
          112.74083083291244,
          112.71921325
         ],
         "marker": {
          "color": [
           10.666666666666668,
           27.659574468085108,
           31.606217616580313,
           38.46153846153847,
           40,
           41.333333333333336,
           42.201834862385326,
           43.18181818181818,
           43.47826086956522,
           46.15384615384615
          ],
          "coloraxis": "coloraxis",
          "opacity": 0.7,
          "size": 28,
          "sizemode": "area",
          "sizeref": 0.20512820512820512
         },
         "mode": "markers",
         "name": "",
         "showlegend": false,
         "subplot": "mapbox",
         "textposition": "top center",
         "type": "scattermapbox"
        }
       ],
       "layout": {
        "coloraxis": {
         "cmax": 82.27848101265823,
         "cmin": 10.666666666666668,
         "colorbar": {
          "title": {
           "text": "Positivity Rate (%)"
          }
         },
         "colorscale": [
          [
           0,
           "rgb(208, 88, 126)"
          ],
          [
           0.16666666666666666,
           "rgb(217, 137, 148)"
          ],
          [
           0.3333333333333333,
           "rgb(229, 185, 173)"
          ],
          [
           0.5,
           "rgb(241, 234, 200)"
          ],
          [
           0.6666666666666666,
           "rgb(177, 199, 179)"
          ],
          [
           0.8333333333333334,
           "rgb(114, 170, 161)"
          ],
          [
           1,
           "rgb(0, 147, 146)"
          ]
         ]
        },
        "height": 800,
        "legend": {
         "bgcolor": "rgba(255,255,255,0.5)",
         "bordercolor": "Black",
         "borderwidth": 2,
         "itemsizing": "constant",
         "title": {
          "font": {
           "color": "blue",
           "size": 14
          }
         },
         "tracegroupgap": 0
        },
        "mapbox": {
         "center": {
          "lat": -7.258864399999998,
          "lon": 112.74388940465633
         },
         "domain": {
          "x": [
           0,
           1
          ],
          "y": [
           0,
           1
          ]
         },
         "style": "carto-positron",
         "zoom": 10
        },
        "template": {
         "data": {
          "bar": [
           {
            "error_x": {
             "color": "#2a3f5f"
            },
            "error_y": {
             "color": "#2a3f5f"
            },
            "marker": {
             "line": {
              "color": "#E5ECF6",
              "width": 0.5
             },
             "pattern": {
              "fillmode": "overlay",
              "size": 10,
              "solidity": 0.2
             }
            },
            "type": "bar"
           }
          ],
          "barpolar": [
           {
            "marker": {
             "line": {
              "color": "#E5ECF6",
              "width": 0.5
             },
             "pattern": {
              "fillmode": "overlay",
              "size": 10,
              "solidity": 0.2
             }
            },
            "type": "barpolar"
           }
          ],
          "carpet": [
           {
            "aaxis": {
             "endlinecolor": "#2a3f5f",
             "gridcolor": "white",
             "linecolor": "white",
             "minorgridcolor": "white",
             "startlinecolor": "#2a3f5f"
            },
            "baxis": {
             "endlinecolor": "#2a3f5f",
             "gridcolor": "white",
             "linecolor": "white",
             "minorgridcolor": "white",
             "startlinecolor": "#2a3f5f"
            },
            "type": "carpet"
           }
          ],
          "choropleth": [
           {
            "colorbar": {
             "outlinewidth": 0,
             "ticks": ""
            },
            "type": "choropleth"
           }
          ],
          "contour": [
           {
            "colorbar": {
             "outlinewidth": 0,
             "ticks": ""
            },
            "colorscale": [
             [
              0,
              "#0d0887"
             ],
             [
              0.1111111111111111,
              "#46039f"
             ],
             [
              0.2222222222222222,
              "#7201a8"
             ],
             [
              0.3333333333333333,
              "#9c179e"
             ],
             [
              0.4444444444444444,
              "#bd3786"
             ],
             [
              0.5555555555555556,
              "#d8576b"
             ],
             [
              0.6666666666666666,
              "#ed7953"
             ],
             [
              0.7777777777777778,
              "#fb9f3a"
             ],
             [
              0.8888888888888888,
              "#fdca26"
             ],
             [
              1,
              "#f0f921"
             ]
            ],
            "type": "contour"
           }
          ],
          "contourcarpet": [
           {
            "colorbar": {
             "outlinewidth": 0,
             "ticks": ""
            },
            "type": "contourcarpet"
           }
          ],
          "heatmap": [
           {
            "colorbar": {
             "outlinewidth": 0,
             "ticks": ""
            },
            "colorscale": [
             [
              0,
              "#0d0887"
             ],
             [
              0.1111111111111111,
              "#46039f"
             ],
             [
              0.2222222222222222,
              "#7201a8"
             ],
             [
              0.3333333333333333,
              "#9c179e"
             ],
             [
              0.4444444444444444,
              "#bd3786"
             ],
             [
              0.5555555555555556,
              "#d8576b"
             ],
             [
              0.6666666666666666,
              "#ed7953"
             ],
             [
              0.7777777777777778,
              "#fb9f3a"
             ],
             [
              0.8888888888888888,
              "#fdca26"
             ],
             [
              1,
              "#f0f921"
             ]
            ],
            "type": "heatmap"
           }
          ],
          "heatmapgl": [
           {
            "colorbar": {
             "outlinewidth": 0,
             "ticks": ""
            },
            "colorscale": [
             [
              0,
              "#0d0887"
             ],
             [
              0.1111111111111111,
              "#46039f"
             ],
             [
              0.2222222222222222,
              "#7201a8"
             ],
             [
              0.3333333333333333,
              "#9c179e"
             ],
             [
              0.4444444444444444,
              "#bd3786"
             ],
             [
              0.5555555555555556,
              "#d8576b"
             ],
             [
              0.6666666666666666,
              "#ed7953"
             ],
             [
              0.7777777777777778,
              "#fb9f3a"
             ],
             [
              0.8888888888888888,
              "#fdca26"
             ],
             [
              1,
              "#f0f921"
             ]
            ],
            "type": "heatmapgl"
           }
          ],
          "histogram": [
           {
            "marker": {
             "pattern": {
              "fillmode": "overlay",
              "size": 10,
              "solidity": 0.2
             }
            },
            "type": "histogram"
           }
          ],
          "histogram2d": [
           {
            "colorbar": {
             "outlinewidth": 0,
             "ticks": ""
            },
            "colorscale": [
             [
              0,
              "#0d0887"
             ],
             [
              0.1111111111111111,
              "#46039f"
             ],
             [
              0.2222222222222222,
              "#7201a8"
             ],
             [
              0.3333333333333333,
              "#9c179e"
             ],
             [
              0.4444444444444444,
              "#bd3786"
             ],
             [
              0.5555555555555556,
              "#d8576b"
             ],
             [
              0.6666666666666666,
              "#ed7953"
             ],
             [
              0.7777777777777778,
              "#fb9f3a"
             ],
             [
              0.8888888888888888,
              "#fdca26"
             ],
             [
              1,
              "#f0f921"
             ]
            ],
            "type": "histogram2d"
           }
          ],
          "histogram2dcontour": [
           {
            "colorbar": {
             "outlinewidth": 0,
             "ticks": ""
            },
            "colorscale": [
             [
              0,
              "#0d0887"
             ],
             [
              0.1111111111111111,
              "#46039f"
             ],
             [
              0.2222222222222222,
              "#7201a8"
             ],
             [
              0.3333333333333333,
              "#9c179e"
             ],
             [
              0.4444444444444444,
              "#bd3786"
             ],
             [
              0.5555555555555556,
              "#d8576b"
             ],
             [
              0.6666666666666666,
              "#ed7953"
             ],
             [
              0.7777777777777778,
              "#fb9f3a"
             ],
             [
              0.8888888888888888,
              "#fdca26"
             ],
             [
              1,
              "#f0f921"
             ]
            ],
            "type": "histogram2dcontour"
           }
          ],
          "mesh3d": [
           {
            "colorbar": {
             "outlinewidth": 0,
             "ticks": ""
            },
            "type": "mesh3d"
           }
          ],
          "parcoords": [
           {
            "line": {
             "colorbar": {
              "outlinewidth": 0,
              "ticks": ""
             }
            },
            "type": "parcoords"
           }
          ],
          "pie": [
           {
            "automargin": true,
            "type": "pie"
           }
          ],
          "scatter": [
           {
            "fillpattern": {
             "fillmode": "overlay",
             "size": 10,
             "solidity": 0.2
            },
            "type": "scatter"
           }
          ],
          "scatter3d": [
           {
            "line": {
             "colorbar": {
              "outlinewidth": 0,
              "ticks": ""
             }
            },
            "marker": {
             "colorbar": {
              "outlinewidth": 0,
              "ticks": ""
             }
            },
            "type": "scatter3d"
           }
          ],
          "scattercarpet": [
           {
            "marker": {
             "colorbar": {
              "outlinewidth": 0,
              "ticks": ""
             }
            },
            "type": "scattercarpet"
           }
          ],
          "scattergeo": [
           {
            "marker": {
             "colorbar": {
              "outlinewidth": 0,
              "ticks": ""
             }
            },
            "type": "scattergeo"
           }
          ],
          "scattergl": [
           {
            "marker": {
             "colorbar": {
              "outlinewidth": 0,
              "ticks": ""
             }
            },
            "type": "scattergl"
           }
          ],
          "scattermapbox": [
           {
            "marker": {
             "colorbar": {
              "outlinewidth": 0,
              "ticks": ""
             }
            },
            "type": "scattermapbox"
           }
          ],
          "scatterpolar": [
           {
            "marker": {
             "colorbar": {
              "outlinewidth": 0,
              "ticks": ""
             }
            },
            "type": "scatterpolar"
           }
          ],
          "scatterpolargl": [
           {
            "marker": {
             "colorbar": {
              "outlinewidth": 0,
              "ticks": ""
             }
            },
            "type": "scatterpolargl"
           }
          ],
          "scatterternary": [
           {
            "marker": {
             "colorbar": {
              "outlinewidth": 0,
              "ticks": ""
             }
            },
            "type": "scatterternary"
           }
          ],
          "surface": [
           {
            "colorbar": {
             "outlinewidth": 0,
             "ticks": ""
            },
            "colorscale": [
             [
              0,
              "#0d0887"
             ],
             [
              0.1111111111111111,
              "#46039f"
             ],
             [
              0.2222222222222222,
              "#7201a8"
             ],
             [
              0.3333333333333333,
              "#9c179e"
             ],
             [
              0.4444444444444444,
              "#bd3786"
             ],
             [
              0.5555555555555556,
              "#d8576b"
             ],
             [
              0.6666666666666666,
              "#ed7953"
             ],
             [
              0.7777777777777778,
              "#fb9f3a"
             ],
             [
              0.8888888888888888,
              "#fdca26"
             ],
             [
              1,
              "#f0f921"
             ]
            ],
            "type": "surface"
           }
          ],
          "table": [
           {
            "cells": {
             "fill": {
              "color": "#EBF0F8"
             },
             "line": {
              "color": "white"
             }
            },
            "header": {
             "fill": {
              "color": "#C8D4E3"
             },
             "line": {
              "color": "white"
             }
            },
            "type": "table"
           }
          ]
         },
         "layout": {
          "annotationdefaults": {
           "arrowcolor": "#2a3f5f",
           "arrowhead": 0,
           "arrowwidth": 1
          },
          "autotypenumbers": "strict",
          "coloraxis": {
           "colorbar": {
            "outlinewidth": 0,
            "ticks": ""
           }
          },
          "colorscale": {
           "diverging": [
            [
             0,
             "#8e0152"
            ],
            [
             0.1,
             "#c51b7d"
            ],
            [
             0.2,
             "#de77ae"
            ],
            [
             0.3,
             "#f1b6da"
            ],
            [
             0.4,
             "#fde0ef"
            ],
            [
             0.5,
             "#f7f7f7"
            ],
            [
             0.6,
             "#e6f5d0"
            ],
            [
             0.7,
             "#b8e186"
            ],
            [
             0.8,
             "#7fbc41"
            ],
            [
             0.9,
             "#4d9221"
            ],
            [
             1,
             "#276419"
            ]
           ],
           "sequential": [
            [
             0,
             "#0d0887"
            ],
            [
             0.1111111111111111,
             "#46039f"
            ],
            [
             0.2222222222222222,
             "#7201a8"
            ],
            [
             0.3333333333333333,
             "#9c179e"
            ],
            [
             0.4444444444444444,
             "#bd3786"
            ],
            [
             0.5555555555555556,
             "#d8576b"
            ],
            [
             0.6666666666666666,
             "#ed7953"
            ],
            [
             0.7777777777777778,
             "#fb9f3a"
            ],
            [
             0.8888888888888888,
             "#fdca26"
            ],
            [
             1,
             "#f0f921"
            ]
           ],
           "sequentialminus": [
            [
             0,
             "#0d0887"
            ],
            [
             0.1111111111111111,
             "#46039f"
            ],
            [
             0.2222222222222222,
             "#7201a8"
            ],
            [
             0.3333333333333333,
             "#9c179e"
            ],
            [
             0.4444444444444444,
             "#bd3786"
            ],
            [
             0.5555555555555556,
             "#d8576b"
            ],
            [
             0.6666666666666666,
             "#ed7953"
            ],
            [
             0.7777777777777778,
             "#fb9f3a"
            ],
            [
             0.8888888888888888,
             "#fdca26"
            ],
            [
             1,
             "#f0f921"
            ]
           ]
          },
          "colorway": [
           "#636efa",
           "#EF553B",
           "#00cc96",
           "#ab63fa",
           "#FFA15A",
           "#19d3f3",
           "#FF6692",
           "#B6E880",
           "#FF97FF",
           "#FECB52"
          ],
          "font": {
           "color": "#2a3f5f"
          },
          "geo": {
           "bgcolor": "white",
           "lakecolor": "white",
           "landcolor": "#E5ECF6",
           "showlakes": true,
           "showland": true,
           "subunitcolor": "white"
          },
          "hoverlabel": {
           "align": "left"
          },
          "hovermode": "closest",
          "mapbox": {
           "style": "light"
          },
          "paper_bgcolor": "white",
          "plot_bgcolor": "#E5ECF6",
          "polar": {
           "angularaxis": {
            "gridcolor": "white",
            "linecolor": "white",
            "ticks": ""
           },
           "bgcolor": "#E5ECF6",
           "radialaxis": {
            "gridcolor": "white",
            "linecolor": "white",
            "ticks": ""
           }
          },
          "scene": {
           "xaxis": {
            "backgroundcolor": "#E5ECF6",
            "gridcolor": "white",
            "gridwidth": 2,
            "linecolor": "white",
            "showbackground": true,
            "ticks": "",
            "zerolinecolor": "white"
           },
           "yaxis": {
            "backgroundcolor": "#E5ECF6",
            "gridcolor": "white",
            "gridwidth": 2,
            "linecolor": "white",
            "showbackground": true,
            "ticks": "",
            "zerolinecolor": "white"
           },
           "zaxis": {
            "backgroundcolor": "#E5ECF6",
            "gridcolor": "white",
            "gridwidth": 2,
            "linecolor": "white",
            "showbackground": true,
            "ticks": "",
            "zerolinecolor": "white"
           }
          },
          "shapedefaults": {
           "line": {
            "color": "#2a3f5f"
           }
          },
          "ternary": {
           "aaxis": {
            "gridcolor": "white",
            "linecolor": "white",
            "ticks": ""
           },
           "baxis": {
            "gridcolor": "white",
            "linecolor": "white",
            "ticks": ""
           },
           "bgcolor": "#E5ECF6",
           "caxis": {
            "gridcolor": "white",
            "linecolor": "white",
            "ticks": ""
           }
          },
          "title": {
           "x": 0.05
          },
          "xaxis": {
           "automargin": true,
           "gridcolor": "white",
           "linecolor": "white",
           "ticks": "",
           "title": {
            "standoff": 15
           },
           "zerolinecolor": "white",
           "zerolinewidth": 2
          },
          "yaxis": {
           "automargin": true,
           "gridcolor": "white",
           "linecolor": "white",
           "ticks": "",
           "title": {
            "standoff": 15
           },
           "zerolinecolor": "white",
           "zerolinewidth": 2
          }
         }
        },
        "title": {
         "text": "Top 10 Puskesmas with Negative Review Percentage",
         "x": 0.5,
         "xanchor": "center"
        },
        "width": 800
       }
      }
     },
     "metadata": {},
     "output_type": "display_data"
    }
   ],
   "source": [
    "import pandas as pd\n",
    "import plotly.express as px\n",
    "\n",
    "data_for_plotting = detail_puskesmas[\n",
    "    [\"lat\", \"lon\", \"puskesmas_name\", \"positive_percentage\"]\n",
    "]\n",
    "\n",
    "data_for_plotting[\"lat\"] = pd.to_numeric(data_for_plotting[\"lat\"], errors=\"coerce\")\n",
    "data_for_plotting[\"lon\"] = pd.to_numeric(data_for_plotting[\"lon\"], errors=\"coerce\")\n",
    "data_for_plotting[\"positive_percentage\"] = data_for_plotting[\n",
    "    \"positive_percentage\"\n",
    "].fillna(0)\n",
    "\n",
    "data_for_plotting = data_for_plotting[data_for_plotting[\"positive_percentage\"] != 0]\n",
    "\n",
    "top_10_data_for_plotting = data_for_plotting.sort_values(\n",
    "    by=\"positive_percentage\", ascending=True\n",
    ").head(10)\n",
    "\n",
    "fig = px.scatter_mapbox(\n",
    "    top_10_data_for_plotting,\n",
    "    lat=\"lat\",\n",
    "    lon=\"lon\",\n",
    "    color=\"positive_percentage\",\n",
    "    size=\"positive_percentage\",\n",
    "    hover_name=\"puskesmas_name\",\n",
    "    hover_data={\"positive_percentage\": True},\n",
    "    size_max=15,\n",
    "    zoom=10,\n",
    "    center={\n",
    "        \"lat\": top_10_data_for_plotting[\"lat\"].mean(),\n",
    "        \"lon\": top_10_data_for_plotting[\"lon\"].mean(),\n",
    "    },\n",
    "    mapbox_style=\"carto-positron\",\n",
    "    color_continuous_scale=px.colors.diverging.Tealrose_r,\n",
    "    title=\"Top 10 Puskesmas with Negative Review Percentage\",\n",
    "    range_color=[detail_puskesmas['positive_percentage'].min(), detail_puskesmas[\"positive_percentage\"].max()],\n",
    ")\n",
    "\n",
    "fig.update_traces(marker=dict(size=28, opacity=0.7), textposition=\"top center\")\n",
    "\n",
    "fig.update_traces(\n",
    "    hovertemplate=\"<b>%{hovertext}</b><br>Positivity Rate: %{marker.color:.2f}%\",\n",
    ")\n",
    "\n",
    "fig.update_coloraxes(colorbar_title=\"Positivity Rate (%)\")\n",
    "\n",
    "fig.update_layout(\n",
    "    legend=dict(\n",
    "        title_font=dict(size=14, color=\"blue\"),\n",
    "        bgcolor=\"rgba(255,255,255,0.5)\",\n",
    "        bordercolor=\"Black\",\n",
    "        borderwidth=2,\n",
    "    ),\n",
    "    title=dict(\n",
    "        text=\"Top 10 Puskesmas with Negative Review Percentage\", x=0.5, xanchor=\"center\"\n",
    "    ),\n",
    "    width=800,\n",
    "    height=800,\n",
    ")\n",
    "\n",
    "fig.show()"
   ]
  },
  {
   "cell_type": "markdown",
   "metadata": {},
   "source": [
    "# Why positive? Why negative?"
   ]
  },
  {
   "cell_type": "code",
   "execution_count": 8,
   "metadata": {},
   "outputs": [
    {
     "data": {
      "image/png": "[encoded data removed]",
      "text/plain": [
       "<Figure size 1000x1000 with 1 Axes>"
      ]
     },
     "metadata": {},
     "output_type": "display_data"
    }
   ],
   "source": [
    "from sklearn.feature_extraction.text import TfidfVectorizer\n",
    "import numpy as np\n",
    "from wordcloud import WordCloud\n",
    "import matplotlib.pyplot as plt\n",
    "\n",
    "all_reviews = predicted_data_puskesmas[\"cleaned_review_text\"]\n",
    "\n",
    "vectorizer = TfidfVectorizer(stop_words='english', max_features=10000)\n",
    "\n",
    "tfidf_matrix = vectorizer.fit_transform(all_reviews)\n",
    "\n",
    "word_scores = np.sum(tfidf_matrix, axis=0)\n",
    "\n",
    "features = vectorizer.get_feature_names_out()\n",
    "scores = word_scores.A1\n",
    "word_score_dict = dict(zip(features, scores))\n",
    "\n",
    "sorted_words = sorted(word_score_dict.items(), key=lambda x: x[1], reverse=True)\n",
    "\n",
    "positive_reviews = ' '.join(predicted_data_puskesmas[predicted_data_puskesmas['is_positive'] == 1]['cleaned_review_text'])\n",
    "\n",
    "N = 100\n",
    "common_words = set([word for word, score in sorted_words[:N]])\n",
    "\n",
    "filtered_positive_reviews = ' '.join([word for word in positive_reviews.split() if word not in common_words])\n",
    "filtered_positive_reviews = ' '.join([word for word in filtered_positive_reviews.split() if word not in detail_puskesmas['puskesmas_name'].str.lower().str.split().str[1].values])\n",
    "\n",
    "stop_words = [\"bu\", \"sih\", \"oke\", \"ya\", \"aja\", \"udah\", \"ok\", \"suka\", \"pas\", \"sukses\", \"semangat\"]\n",
    "\n",
    "filtered_positive_reviews = ' '.join([word for word in filtered_positive_reviews.split() if word not in stop_words])\n",
    "\n",
    "pd.Series(filtered_positive_reviews.split()).value_counts().head(20)\n",
    "\n",
    "wordcloud = WordCloud(\n",
    "    width=1600, \n",
    "    height=800, \n",
    "    background_color=\"white\",\n",
    "    max_words=50, \n",
    "    colormap=\"plasma\",\n",
    "    prefer_horizontal=1.0,\n",
    ").generate(filtered_positive_reviews)\n",
    "\n",
    "plt.figure(figsize=(10, 10))\n",
    "plt.imshow(wordcloud, interpolation=\"bilinear\")\n",
    "plt.axis(\"off\")\n",
    "plt.show()"
   ]
  },
  {
   "cell_type": "code",
   "execution_count": 9,
   "metadata": {},
   "outputs": [
    {
     "name": "stdout",
     "output_type": "stream",
     "text": [
      "Word: wetan\n",
      "525: Tempat bersih, fasilitas kesehatan lengkap, pelayanan di puskesmas sidotopo wetan dapat ditingkatkan lagi. Terima kasih\n",
      "527: Pelayanannya sangat memuaskan, tenaga medisnya ramah2 dan perkembangan untuk PKM Sidotopo Wetan sangat pesat\n",
      "591: Untuk pelayanan puskesmas Sidotopo Wetan sudah sangat baik dan tenaga medisnya ramah-ramah\n",
      "521: Alhamdulillah,, puskesmas Sidotopo wetan skrg pelayanan nya menjadi lebih baik dan cepat,,banyak kemajuan,, pokoknya is the best,👍 …\n",
      "640: Pkm sidotopo wetan tambah lebih bagus pelayananya petugas yang ramah2\n",
      "\n",
      "Word: rapi\n",
      "4012: Puskesmasnya bersih tersusun rapih,, informasi obat dari farmasinya lengkap\n",
      "2587: puskesmasnya bersih, rapi, dan petugas/nakes yg melayani ramah dan murah senyum. sukses terus pkm dukuh kupang\n",
      "5631: Tempatnya nyaman, bersih, dan rapi. Pelayanan di puskesmas ini juga cepat, perawatnya juga ramah saat di tanya\n",
      "7961: Tempat agak bersih, walaupun ada beberapa sampah plastik makanan di bawah kursi *mungkin pasiennya yang bikin kotor\n",
      "Tempat lumayan Nyaman\n",
      "Pasien lumayan banyak\n",
      "Di luar ada tamannya dan ada kolam ikan kecil yang lumayan bagus\n",
      "Pelayanan lumayan ramah walaupun agak lama *mungkin karena banyak antriannya\n",
      "Parkiran kurang rapi *mungkin karena tempat parkirnya emang agak sempit bila dibandingkan dengan jumlah pasien yang datang\n",
      "7678: Petugas sangat ramah dan santun, puskesmas sangat bersih dan rapi. Sy kesana ditangani dengan baik,  antrian online lebih cepat. Oke sekali Manukan\n",
      "\n",
      "Word: kartu\n",
      "4870: Pertama kali berobat kesini. Tempatnya nyaman, dokter dan semuanya ramah. Dari tempat administrasi bayar 5 ribu (perlu ktp aja), setelah itu biaya obatnyapun gratis.\n",
      "\n",
      "Untuk hasil lab menunggu 1 minggu. Lumayan lama sih, tapi overall oke banget pelayanannya.\n",
      "8030: Puskesmas nyaman, pelayanan cukup ok. Bawa kartu BPJS Kesehatan dah gak bayar apa-apa. Jika tidak punya kartu, cukup beli karcis 5000 (kalo blom berubah ya)\n",
      "5913: Pertama kali ke sini, untuk melakukan pemeriksaan kehamilan terpadu.\n",
      "\n",
      "Mulanya daftar online KIA buat hari sabtu, dan dapat nomer antrian. Ternyata, KIA hanya dibuka setiap senin dan kamis.\n",
      "Sistem pendaftaran onlinenya tolong dibenahi. Kalau hari yang dipilih gak sesuai jadwal buka poli yang dituju, kasih informasi saat pendaftaran/jangan diproses pendaftarannya.\n",
      "\n",
      "Akhirnya, saya pulang sia-sia hari sabtu itu (karena KIA buka cuma senin dan kamis).\n",
      "Lalu daftar online lagi buat hari kamis.\n",
      "\n",
      "Untuk pelayanannya, oke. Petugasnya ramah.\n",
      "\n",
      "Namun, kekurangannya tidak memberikan informasi secara lengkap.\n",
      "Sabtu tempo hari saya datang, diberitahu kalau baru pertama kali periksa di puskemas sana wajib bawa fotokopi ktp. Ternyata, tidak cuma itu tapi fotokopi kk juga.\n",
      "Kemurahan hati petugas yang menangani saya, fotokopi kk bisa diberikan setelah pemeriksaan (saya jadi punya waktu buat pulang dulu ngambil fotokopi kk sembari nunggu hasil lab yang bisa diambil 3 jam kemudian).\n",
      "\n",
      "Pelayanan KIA-nya oke. Bidannya ramah, dan kompeten.\n",
      "\n",
      "Biaya tes laboratoriumnya juga cukup terjangkau, saya tidak menggunakan bpjs dan biaya harus saya keluarkan hanya 27.500 saja.\n",
      "2: Puskesmas dengan pelayanan yang baik sekali, selain pelayanan yang ramah juga cukup lengkap untuk fasilitasnya. Antrean tertib dan alur disini jelas.\n",
      "🛵🚗🚙 Area parkir di tepi jalan, cukup luas baik untuk roda dua maupun empat\n",
      "🍩🍭 Lokasinya berdekatan dengan sekolah, jadi banyak penjual makanan dan jajanan disini\n",
      "🎫🎟 Administrasi rapi\n",
      "🎍 Kondisi puskesmas termasuk bersih, tidak terkesan kumuh. Ada taman kecil di dalam puskesmas jadi terkesan asri\n",
      "📑 Saya kesini dalam rangka membutuhkan surat keterangan sehat dan pelayanan yang saya dapatkan relatif cepat dan biaya tidak mahal, cukup murah kok. Rekomended!\n",
      "⚠️ Jangan lupa kesini bawa kartu BPJS ya\n",
      "215: Daftar di ehealth.surabaya.go.id supaya tidak antri bawa foto copy KTP dan KK dan bawa nomer pendaftaran di ehealth.surabaya.go.id\n",
      "\n",
      "Word: gratis\n",
      "8364: Dapat tes PCR gratis tapi nunggu hasilnya seminggu, bisa bisa keduluan malaikat\n",
      "1337: Pelayananannya bagus, dokternya baik baik dan ramah.\n",
      "Padahal biaya berobatnya gratis, ktp luar surabaya cuman bayar uang loket 5000.\n",
      "Kerja ikhlas, Allah yang balas. 🙏🏽🙏🏽\n",
      "Amin …\n",
      "5113: Tempatnya bagus, bersih, pelayanan bagus. Untuk antrian termasuk cepat padahal di puskesmas biaya gratis. Di RS saja walaupun eksekutif dan berbayar juga antri panjang dan luama apalagi kalau banyak pasien. Saya suka karena fasilitas termasuk lengkap ada tempat bermain anak dan tempat membaca, jadi kalau bawa anak gk bosan.\n",
      "7013: Pelayanan bagus & cepat. Buat yg positive covid-19 bisa mendapatkan obat serta PCR secara gratis, tanpa ribet. Cukup dg fotokopi KTP saja dan membayar uang registrasi 5rb. Hasil PCR 2hr (hari kerja) sudah diinfokan. Puas banget lah..terima kasih.\n",
      "2021: Pelayanan memuaskan, murah bahkan gratis. Semua lengkap. Jenis pelayanan meliputi poli umum, poli gigi, poli KIA-KB, pojok gizi, klinik sanitasi, poli konsultasi psikologi, poli paliatif, unit laboratorium, unit obat. Pelayanan tanpa membedakan penduduk Kota Surabaya maupun non penduduk Kota Surabaya, bahkan ambulance disediakan gratis. Cukup memuaskan dan cukup ramai karena dekat dengan pusat perbelanjaan terbesar di Kota Surabaya.\n",
      "\n",
      "Word: maju\n",
      "1837: Assalamualikum.wr.wb\n",
      "\n",
      "Alhamdulillah saya berobat gigi di puskesmas gunung anyar ini sangat menyenangkan.dokter nya ramah dan baik semua tempatnya juga bagus dan nyaman.pokok nya terima kasih banget untuk bu dokter yang sudah mengobati gigi saya sekarang merasa nyaman dan tidak kerasa sakit gigi.Sekali lagi saya terima kasih.  Maju terus puskesmas gunung anyar👍👍👍\n",
      "\n",
      "Wassalamualaikum.wr.wb\n",
      "7641: Terima kasih untuk dokter dan tenaga di puskesmas manukan kulon atas bantuannya dalam pelayanan jasa medis. Semoga semakin maju, solutif dan inovatif untuk melayani kesehatan masyarakat 😊 …\n",
      "8862: Dahulu waktu saya masih tinggal di Surabaya puskesmas masih kecil sekarang sudah besar dan maju berkembang pesat layanani masyarakat\n",
      "650: Luar bias kemajuan Puskesmas Sidotopo Wetan jalan randu ini semakin meningkat 👍👍👍 …\n",
      "3734: Terima kasih atas pelayanannya, untuk para staf dokter, perawat yg telah merawat anak sy selama 4 hari. Dan untuk bpk pras dan rekan2 (keamanan) yg jaga malam, terimakasih juga karena sikap yg ramah dan sigap atas pelayanannya.\n",
      "Semoga tambah maju dan berkembang Puskesmas banyu urip.\n",
      "\n",
      "Word: warga\n",
      "6126: Terima kasih pelayanan jemput bola ke pos pos rw,  walaupun kurang petugas.\n",
      "5394: Pelayananya bagus baik di ruang KIA, Poli Gigi, Poli Umum, Farmasi dan Laborat nya. Bidan di ruang KIA nya sangat ramah sopan dan baik.\n",
      "Terimakasih Puskesmas Tanjungsari💖\n",
      "Semoga tetap menjadi Puskesmas favorit bagi warga Tanjungsari dan sekitarnya.\n",
      "7090: Alhamdulillah awal bulan kemarin saya melahirkan di puskesmas Kebonsari. Saya cukup puas dengan pelayanannya. Menggunakan BPJS tidak keluar uang sepeserpun. Pelayanan bidan bagus. Walaupun saya datang shubuh2 tapi bidannya sigap. Kamar bersalin juga cukup nyaman dan bersih. Yuk warga Surabaya jangan ragu untuk bersalin di puskesmas Kebonsari. Pelayanan bagus.\n",
      "7647: Alhamdulillah pelayanan di puskesmas Manukan kulon skrg sangat baik , nakesnya cepat tanggap , antriannya lebih teratur ,ruang tggu nya lebih nyaman , Apalagi skrg setiap hari diwilayah Rw2 Manukan kulon terdapat 1 petugas pelayanan balai RW , sehingga masyarakat lebih mudah mencari info tentang puskesmas. Akses masyarakat untuk mendapatkan pelayanan kesehatan jadi lebih mudah 💝🙏.\n",
      "7529: Baru kali ini saya menilai pelayanan publik bintang 5. Krn memang se amazing itu. Ke puskesmas sidotopo ini saya baru 3x. Dan Saya cukup kaget 3bulan sudah tidak pernah kesini. Sekalinya perpanjang rujukan tatanan sistemnya beneran sangat teratur. Berasa di RS swasta. Apalagi yg daftar online. Sampai, cetak struk, tunggu bbrp menit, dilayani, pulang. Dan estimasi periksa yg ada distruk gak beda jauh dengan jam dilayani dipolinya.\n",
      "Terus utk tempat tunggu diluar jg diberi tempat duduk jadi didlm itu gak pengap terlalu banyak orang, krn kebanyakan menunggunya didalam.\n",
      "Kalau untuk masalah rujukan disini tdk pernah mempersulit. Kalau bnr dibutuhkanmaka akan diberi. Utk Sdm dari tukang parkirnya yg mas muda itu. Sangat sigap menantu motor. Tadi sempat HP saya ketinggalan di jok. Eh tbtb masnya datang cari saya dan bilangada barang ketinggalan bu. Wah jujur bgt SMP berebes mili saya masih ada loh orang yg mau jujur😭. Trs utk pak satpam yg di loket dari dlu udah emang oke bgt  pling sabar diantara yg lain gak pernah jutek. Sampe sekarang tetep gak berubah. Saranghae pak👏. Terus untuk pegawai2 yg ad dimeja hari ini beliau2 sangat ramah jd ketika saya ajukan pertanyaan gak takut utk bertanya, mohon maaf nih utk sebelumya byk yg jutek. Kali ini tdk. Alhamdulillah. Dan utk yg dipolo gizi. Aku saranghae jg ramah2 bgt loh.Perataha kan terus ya. Saya jadi bangga sebagai warga kecamatan semampir mempunyai layanan kesehatan masyarakat seperti ini. Smoga pegawai puskesmas sidotopo sehat slalu dan selalu ramah melayanimasyarakat❤️❤️a\n",
      "\n",
      "Word: proses\n",
      "5489: Puskesmas yg petugasnya paling ramah2, pelayanan cepat, pernah vaksin, test IVA, PCR dll cepat sekali prosesnya dan sangat terbantu sekali.\n",
      "8762: Puskesmasnya mudah dicari dan ada parkiran di sebelah puskesmas (halaman dari warung-warung).\n",
      "Meskipun Puskesmasnya kecil tapi bersih dan teratur, ada kolam ikan di tengah ruang tunggu (menyenangkan)\n",
      "Proses pengaturan rapi dan tertib prokesnya.\n",
      "4484: Daftar sesuai jadwal hari  pelayanan [ADA FOTO TERLAMPIR) yes. Kalau penuh, minggu depannya sajo. So, jadi mekanisme pendaftarannya daftar online nih(bs pake aplikasi e-health di rumah aja). Jika pasien baru/ pasien lama yg terakhir berobat 2 th lebih harus ke petugas II untuk isi form kuning. Lalu serahkan form tsb, diproses petugas, menunggu, dipanggil, lanjut nunggu di depan poli terkait. Sedangkan pasien lama bisa ke petugas I, serahkan no. Antrian. Jika sudah jam-nya(liat di no. Antrian), kita bs menunggu di dpn poli tsb tp klo belum mah.. diminta nunggu di luar dulu.\n",
      "\n",
      "Hmm daku sih mendapat ujian bersabar.. daftar hari rabu jam 7 pagi, eh antrian hari itu udah full. Trus dpt nomor antrian hari Sabtu (which is salah hari.. haha harusnya imunisasi dasar[DPT, Polio] tetap pilih selain Sabtu aja, pantes barengan para new born), udah lah tetep masuk pendaftataan untuk isi form kuning\n",
      "\n",
      "Eh pas datang hari ini Sabtu jam 8 diminta isi form lagi (plus biaya Rp 5rb krn bukan faskes asli) lalu nunggu -+ 30 menit. Trus nunggu panggilan di dpn poli.. (-+ 40 menit) untung dah sangu camilan n minum euy).\n",
      "Akhirnya dipanggil sesuai nomor urut daftar.. lalu di meja Ukur berat badan, masuk ruang KIA 2 adik dpt imunisasi dg kakak Bidan Muda dan bu Bidan Senior, ukur panjang badan, ditanya2 perkembangan sama bu bidan dan kakak bidan, sama disarankan bulan dpn ikut posyandu untuk ukur BB PB. Lanjut nunggu puyer pusing demam (-+ 10 menit).\n",
      "\n",
      "Alhamdulillah jam 10 usai.. Aku sih pas di Surabaya gini pilih Puskesmas Tanah Kali Kedinding krn 1. pingin nostalgia, aku dulu imunisasi di sini.. ahay.. legend. 2. Gak lewati keramaian perempatan jalan besar, aku sih agak ngeri ya bawa bayi motoran di jalanan besar gitu.. hehe 😆\n",
      "6876: Vaksin D1 dan D2 lancar jaya walau bukan di bulan2 awal.\n",
      "\n",
      "Boosternya antri 1 hari. Semoga Puskesmas ini membantu menyehatkan para warga sehingga semua sehat dan dapat beraktivitas dengan.lancar dengan tetap mematuhi prokes.\n",
      "\n",
      "Salam sehat selalu.\n",
      "2539: Pelayanannya memuaskan. Petugas & dokternya ramah. Mulai dari daftar sampai periksa prosesnya cepat. Pakai bpjs pun juga dilayani dengan baik & cepat.\n",
      "\n",
      "Word: jalan\n",
      "7753: Pusat pelayanan kesehatan masyarakat di Manukankulon ini telah berjuang keras melayani masyarakat ditengah badai virus covid 19, semoga semua petugas medis dan non medis di PKM ini diberi kekuatan dalam menjalankan tugasnya.\n",
      "1102: Sangat bagus puskesmas krembangan dokter dan perawatnya semua baik2 dan ramah tamah dan juga kariawannya semoga sukses dan di beri kesehatan banyak rejeki saya rangke lores budiman jln tanjung pinang no27 perak barat\n",
      "6768: Pimpinan oleh dr. Nurul Atfianah yang bererdiri tahun 1984.\n",
      "\n",
      "Macam Pelayanan : Poli Umum, Poli Gigi, Poli KIA, Poli KB, Poli Konsultasi Gizi dan Kesling, Unit Laboratorium, Unit Obat\n",
      "\n",
      "Puskesmas Mojo memiliki Puskesmas Pembantu di :\n",
      "Pustu Gubeng Klingsingan Jl. Gubeng Klingsingan Gang IV/24\n",
      "Pos Kesehatan Kelurahan ( Poskeskel )\n",
      "Puskesmas Keliling Kegiatan Pusling : 1 di RW VIII kelurahan Mojo buka setiap hari selasa\n",
      "\n",
      "Puskesmas Mojo melaksanakan 6 program pokok upaya kesehatan antara lain :\n",
      "1. Upaya promosi Kesehatan\n",
      "2. Upaya Penyehatan Lingkungan\n",
      "3. Upaya Perbaikan Gizi\n",
      "4. Upaya Kesehatan Ibu dan Anak Keluarga Berencana\n",
      "5. Upaya pemberantasan Penyakit Menular\n",
      "6. Upaya Pengobatan\n",
      "\n",
      "Sedangkan Program Inovatif yang dilakukan termasuk :\n",
      "1. Upaya Kesehatan Usia Lanjut\n",
      "2. Upaya Kesehatan Mata\n",
      "3. Upaya Kesehatan Jiwa\n",
      "4. Upaya Kesehatan Pencegahan& Penanggulangan Penyakit Gigi\n",
      "5. Perawatan Kesehatan Masyarakat\n",
      "6. Bina Kesehatan Nasional\n",
      "7. Pemberdayaan Masyarakat dalam PHBS8. Pengembangan UKBM\n",
      "9. Program Gizi\n",
      "4848: PUSKESMAS Pacarkeling posisi di jl. Jolotundo baru 3, satu lokasi dengan kelurahan Pacarkeling Surabaya, melayani Warga yang sedang sakit dan untuk meminta Rujukan BPJS\n",
      "4484: Daftar sesuai jadwal hari  pelayanan [ADA FOTO TERLAMPIR) yes. Kalau penuh, minggu depannya sajo. So, jadi mekanisme pendaftarannya daftar online nih(bs pake aplikasi e-health di rumah aja). Jika pasien baru/ pasien lama yg terakhir berobat 2 th lebih harus ke petugas II untuk isi form kuning. Lalu serahkan form tsb, diproses petugas, menunggu, dipanggil, lanjut nunggu di depan poli terkait. Sedangkan pasien lama bisa ke petugas I, serahkan no. Antrian. Jika sudah jam-nya(liat di no. Antrian), kita bs menunggu di dpn poli tsb tp klo belum mah.. diminta nunggu di luar dulu.\n",
      "\n",
      "Hmm daku sih mendapat ujian bersabar.. daftar hari rabu jam 7 pagi, eh antrian hari itu udah full. Trus dpt nomor antrian hari Sabtu (which is salah hari.. haha harusnya imunisasi dasar[DPT, Polio] tetap pilih selain Sabtu aja, pantes barengan para new born), udah lah tetep masuk pendaftataan untuk isi form kuning\n",
      "\n",
      "Eh pas datang hari ini Sabtu jam 8 diminta isi form lagi (plus biaya Rp 5rb krn bukan faskes asli) lalu nunggu -+ 30 menit. Trus nunggu panggilan di dpn poli.. (-+ 40 menit) untung dah sangu camilan n minum euy).\n",
      "Akhirnya dipanggil sesuai nomor urut daftar.. lalu di meja Ukur berat badan, masuk ruang KIA 2 adik dpt imunisasi dg kakak Bidan Muda dan bu Bidan Senior, ukur panjang badan, ditanya2 perkembangan sama bu bidan dan kakak bidan, sama disarankan bulan dpn ikut posyandu untuk ukur BB PB. Lanjut nunggu puyer pusing demam (-+ 10 menit).\n",
      "\n",
      "Alhamdulillah jam 10 usai.. Aku sih pas di Surabaya gini pilih Puskesmas Tanah Kali Kedinding krn 1. pingin nostalgia, aku dulu imunisasi di sini.. ahay.. legend. 2. Gak lewati keramaian perempatan jalan besar, aku sih agak ngeri ya bawa bayi motoran di jalanan besar gitu.. hehe 😆\n",
      "\n",
      "Word: arah\n",
      "1461: Pelayanan cepat, ramah, bisa mengarahkan dengan bijak, josssss maju terus puskesmas gading semakin mantap\n",
      "3256: Pelayanan baik, nakes ramah², selalu mengarahkan yg terbaik, dari sebelum nikah sampai punya anak 2 selalu berobat disini, vaksin covidpun jg disini..\n",
      "Kalau boleh kasih saran untuk fasilitas di kia ditambah alat usg lebih mantap kayaknya 😊 …\n",
      "8024: Pelayanan di sini cukup bagus, cepat dan tenaga kesehatannya ramah. Saya kesini hanya ke poli KIA dan laboratoriumnya saja utk cek darah + urine saat sebelum menikah dan saat hamil. Semoga pelayanannya lebih ditingkatkan lagi menjadi lebih baik.\n",
      "8893: Baru pertama kali kesini gara2 bikin surat sehat untuk sim. Pelayanannya baik. Puskesmasnya juga bersih. Dokter dan pegawainya juga cepat tanggap. Mungkin ada yang belum tau tempatnya karena letaknya yang masuk ke dalam gang. Dan petunjuk arahnya juga tidak tersedia di semua sisi jalan. Mohon untuk pihak pihak terkait bisa menambah petunjuk jalan untuk menuju ke puskesmasnya\n",
      "401: Saya pergi ke sini untuk mengamati Puskesmas dan menurut saya ini cukup mengesankan. Mereka memiliki fasilitas yang cukup baik untuk pusat pelayanan kesehatan primer bagi sekitar 55 ribu orang di Surabaya Timur. Mereka mempunyai klinik dokter umum, klinik Planned Parenthood dan Kesehatan Reproduksi, bahkan klinik pengobstan tradisional. Yang paling membuat saya terkesan adalah laboratoriumnya. Mereka mempunyai mikroskop binokuler, mikroppippetes, dan bahkan mesin analisa darah yang menurut saya tidak semua Puskesmas di Surabaya memilikinya. Tak heran jika mereka mendapat penghargaan sebagai Puskesmas terbaik se-Jawa Timur. Sistem antriannya kini menggunakan registrasi berbasis web dan registrasi manual seperti biasanya. Pendaftaran berbasis web tentunya mengurangi antrian. Bravo untuk Kemenkes dan Pemkot atas upaya mereka dalam mewujudkan layanan kesehatan yang lebih baik di Surabaya.\n",
      "\n",
      "Word: lahir\n",
      "7090: Alhamdulillah awal bulan kemarin saya melahirkan di puskesmas Kebonsari. Saya cukup puas dengan pelayanannya. Menggunakan BPJS tidak keluar uang sepeserpun. Pelayanan bidan bagus. Walaupun saya datang shubuh2 tapi bidannya sigap. Kamar bersalin juga cukup nyaman dan bersih. Yuk warga Surabaya jangan ragu untuk bersalin di puskesmas Kebonsari. Pelayanan bagus.\n",
      "72: Lebih nyaman periksa kehamilan dipkm simomulyo dri pda di pkm yg lain\n",
      "Rawat inap untk lahiran juga oke, bidan*nya juga ramah\n",
      "4947: Sejak kontrol hamil sampai melahirkan meski ktp luar kota tapi fasyankes bpjs disini pelayanan tetap diberi yang tebaik\n",
      "1051: Puskesmas terbaik ❤\n",
      "Pelayanan sangat memuaskan bekerja dengan tulus dan sepenuh hati . gak nyesel lahiran disini bidan nya baik\" bgt dan telaten dokternya juga . thankyou buat bidan Rima sekar dan team yg mmbntu proses persalinan sya wktu itu. Good bless you 💝 …\n",
      "4473: terimakasih bu bidan fifa, sudah membantu saya untuk melahirkan dengan nyaman. puskesmasnya juga bersih, petugasnya ramah2. semoga sehat dan sukses selalu 👏👏 …\n",
      "\n"
     ]
    }
   ],
   "source": [
    "# show top 5 words and sample reviews that contain the word with minimum 20 characters that are positive\n",
    "top_5_words = pd.Series(filtered_positive_reviews.split()).value_counts().head(10).index\n",
    "\n",
    "for word in top_5_words:\n",
    "    print(f\"Word: {word}\")\n",
    "    sample_reviews = predicted_data_puskesmas[predicted_data_puskesmas['cleaned_review_text'].str.contains(word) & (predicted_data_puskesmas['is_positive'] == 1) & (predicted_data_puskesmas['cleaned_review_text'].str.len() > 50)]\n",
    "    for idx, review in sample_reviews.sample(5)['review_text'].items():\n",
    "        print(f'{idx}: {review}')\n",
    "    \n",
    "    print()"
   ]
  },
  {
   "cell_type": "code",
   "execution_count": 10,
   "metadata": {},
   "outputs": [
    {
     "data": {
      "image/png": "[encoded data removed]",
      "text/plain": [
       "<Figure size 1000x1000 with 1 Axes>"
      ]
     },
     "metadata": {},
     "output_type": "display_data"
    }
   ],
   "source": [
    "from sklearn.feature_extraction.text import TfidfVectorizer\n",
    "import numpy as np\n",
    "from wordcloud import WordCloud\n",
    "import matplotlib.pyplot as plt\n",
    "\n",
    "all_reviews = predicted_data_puskesmas[\"cleaned_review_text\"]\n",
    "\n",
    "vectorizer = TfidfVectorizer(stop_words='english', max_features=10000)\n",
    "\n",
    "tfidf_matrix = vectorizer.fit_transform(all_reviews)\n",
    "\n",
    "word_scores = np.sum(tfidf_matrix, axis=0)\n",
    "\n",
    "features = vectorizer.get_feature_names_out()\n",
    "scores = word_scores.A1\n",
    "word_score_dict = dict(zip(features, scores))\n",
    "\n",
    "sorted_words = sorted(word_score_dict.items(), key=lambda x: x[1], reverse=True)\n",
    "\n",
    "negative_reviews = ' '.join(predicted_data_puskesmas[predicted_data_puskesmas['is_positive'] == 0]['cleaned_review_text'])\n",
    "\n",
    "N = 100\n",
    "common_words = set([word for word, score in sorted_words[:N]])\n",
    "\n",
    "filtered_negative_reviews = ' '.join([word for word in negative_reviews.split() if word not in common_words])\n",
    "filtered_negative_reviews = ' '.join([word for word in filtered_negative_reviews.split() if word not in detail_puskesmas['puskesmas_name'].str.lower().str.split().str[1].values])\n",
    "\n",
    "stop_words = [\"bu\", \"sih\", \"maaf\", \"oke\", \"ya\", \"aja\", \"udah\", \"ok\", \"suka\", \"pas\", \"sukses\", \"nyata\", \"ala\", \"tua\", \"jelek\", \"lihat\", \"nama\", \"eh\"]\n",
    "\n",
    "filtered_negative_reviews = ' '.join([word for word in filtered_negative_reviews.split() if word not in stop_words])\n",
    "\n",
    "wordcloud = WordCloud(\n",
    "    width=1600, \n",
    "    height=800, \n",
    "    background_color=\"white\",\n",
    "    max_words=50,\n",
    "    colormap=\"magma\",\n",
    "    prefer_horizontal=1.0,\n",
    ").generate(filtered_negative_reviews)\n",
    "\n",
    "plt.figure(figsize=(10, 10))\n",
    "plt.imshow(wordcloud, interpolation=\"bilinear\")\n",
    "plt.axis(\"off\")\n",
    "plt.show()"
   ]
  },
  {
   "cell_type": "code",
   "execution_count": 11,
   "metadata": {},
   "outputs": [
    {
     "name": "stdout",
     "output_type": "stream",
     "text": [
      "Word: tutup\n",
      "8068: Apa benar selama puasa jam operasional berubah? karena di gerbang ditulis tutup 11.30. saya datang jam 10.53 dibilang tutup, padahal saya bawa bayi dan perlu ongkos ojek utk bisa kesini.\n",
      "8542: pegawainya sbnrnya baik2 ramah2. cuma ada 1 pegawai yg songong naudzubillah. dia dibagian loket pendaftaran, laki. tp ngeselinnya ky cewe lg PMS :))) td pagi kstu, ternyta dia batuk tapi g pake masker, malah nutup mulutnya pake tangan, lanjut kerja. PADAHAL DIA NYURUH ORANG2 YG ANTRI PAKE SANITIZER. TAPI DIA NYA BEGITU. ak kasih masker baru dri tas ku. malah nunjukkin dia punya sebox. LAH TRS KNP GA DIPAKE. jgn mentang2 ini puskesmas untuk kalangan menengah kebawah jd seenaknya! kerja di lingkungan kesehatan tapi dia sendiri ga aware dgn kebersihan lingkungannya. tolong dong kasih peringatan untung pegawai ini! jangan2 dia lagi yg nularin virus di puskesmas jolotundo!\n",
      "5651: Maaf nih beribu maaf\n",
      "Saya mau mengajukan surat kesehatan untuk keperluan menikah di Surabaya, saya asli Madura Bangkalan\n",
      "Perjalanan menuju Surabaya paling cepat 1.5 jam\n",
      "Hari itu adalah hari Jumat, dan puskesmas tutup jam 9.30 pagi\n",
      "Saya konfirmasi ke pihak puskesmas untuk memastikan jadwal analisnya ada\n",
      "Dan ternyata jadwal analis belum muncul sampai jam 7.42 pagi\n",
      "Saya buru-buru berangkat dari Madura dengan keadaan hujan lebat\n",
      "Sesampainya di puskesmas pada jam 9.12\n",
      "Saya langsung mengurus ke loket dan pangsung ke KIA\n",
      "Nah masalahnya adalah tidak semua pegawai yg ada di puskesmas adalah orang muda yg cepat tanggap\n",
      "Tetapi ada juga yg sudah termasuk lansia, jadi untuk pengoperasian komputer saja sangat lama\n",
      "Lalu saya di suruh untuk cek lab dahulu\n",
      "Di laboratorium saya sudah minta maaf berkali-kali tetapi pegawainya sangat cuek dan terkesan nyinyir\n",
      "Saya sampai di tusuk 3 kali untuk mencari nadi saya\n",
      "Karena pihak laboratoriumnya udah g fokus sama kerjaan dan udah pengen pulang aja\n",
      "Lain kali saya sarankan\n",
      "Untuk pelayanan publik mohon banget untuk pemerintah setempat memperhatikan hospitality nya\n",
      "Karena pelayanan publik sasarannya adalah masyarakat biasa\n",
      "Sekian dari saya\n",
      "4026: Kecewa bgt sm pelayanan puskesmas ini. Minta tolong petugas di training ttg handling customer. Kalo puskesmas tutup ya baiknya bilang kalau puskesmas sudah tutup, jangan malah nuturin pasien yg sudah sakit kenapa ga dibawa dr pagi lah, yg inilah itulah, seakan kesalahan kita. Pdhl kita jg ga mau sakit & dijawab kita hanya menerima pasien yg darurat kalo mau besok ajah ke sini lg. Lah trs anak demam tinggi ga darurat? Kecewa sekali dgn pelayanan di puskesmas ini. Minta tolong nih yg ky gini2 dikasih training biar pasien jg mau berobat ke puskesmas. Disidak sekalian yg ky gini2 biar ga rugiin pasien\n",
      "3381: pelayanan kurang memuaskan, hari sabtu saya datang jam 10.45 tp tidak dilayani dgn alasan jam pelayanan sudah tutup. akhirnya saya sedikit memaksa dgn alasan jam pelayanan kan masi buka knapa harus tutup..akhirnya saya dilayani.\n",
      "\n",
      "Word: salah\n",
      "5322: Pak saya minta tolong untuk di tindaklanjutin tentang layanan yang ada di puskesmas kalijudan.\n",
      "Awal cerita ibu saya ke berobat, posisi ibu saya sakit fertigo. Dan minta surat dokter, dikasih setelah ambil obat lalu antri lagi buat ke dokter. Makin miris karena berbelit. Trs hanya boleh kasih satu hari untuk surat ijin. Dan disuruh balik lagi periksa besok kalau minta surat ijin lagi (jadi 2 hari) . Trs ibu saya dapat surat ijin satu hari. Dan ternyata lama kemudian salah nulis, akhirnya ibu saya balik minta pertanggungjawaban kesalahan tanggal agar bisa di klaim di pabriknya. Ibu saya udah antri lama. Tapi dokternya tidak mau. Dok, apakah dokter mau sakit seperti ibu saya. Apakah ini pelayanannnya? MIRIS SEKALI. Kalau sakit apa harus bolak balik ke puskesmas gitu. Saya tau ini punya pemerintah, dokter dll digaji pemerintah, tp pelayananannya tak manusiawi.\n",
      "6683: Saya yang salah, salah antrian bukannya di bilangi tapi pelayanan menjijikan\n",
      "Anak saya sakit gatal² saya awal memang bingung pilih kia apa umum akhirnya saya pilih umum, dari sana saya menunggu antrian tibalah no 12 poli umu saya masuk di area dokternya karna saya gak tau urutannya, ketika di dokter tanya kia apa umum saya bilang umum dan akhirnya dibilang saya harus timbang dulu di depan..okeh, karna saya salah saya kedepan bilangbke petugas baju coklat laki² seng ngmg ae larang..an aliya dewi no 12..tanpa ngmg hanya isyarat tangan (silahkan) saya jawab, apa mksudnya?? Saya nunggu duduk?? Okelah saya duduk nunggu lagi, saya duduk lumayan lama maklum antrian lansia campur umum dan dri awal saya salah juga, pas tb² dipanggil saya di tanya..ini anak?? Saya jawab \"Iya..\" dan apa kata petugasnya.. \"silahkan di KIA\" tak jawab, \"antri mbesok eneh ae\" dari sini saya sadar saya salah..tapi logika yaa..di datamu itu ada yg sakit siapa..dri pada saya nunggu di triage poli umum, aku bilangano antrianku salah..pindaho KIA mbak..lak beres..gak meneng aebiku cangkem..ambek tangan memberi isyrat aku kongkon lungguh sek.. nasib wong njagakno GRATIS karna lagi kena beban ekonomi.. onok.e di injek² PETUGAS PELAYANAN MASYARAKAT.. MAKASIH PENGALAMANMU PUSKESMAS MOJO.. 10th aku kontrak di daerah ngagel PUSKESMAS NGAGEL ANCEN The best pelayanan e..seje puol ambek KUNU..pdhal KTP ku kunu..\n",
      "8495: Pelayanan bagian KIA perlu diperbaiki lagi dalam hal komunikasi terhadap pasien, terutama ibu2 yg bagian nimbang dan skrinning data pasien KIA terlihat kurang ramah dengan pasien.\n",
      "Tujuan saya datang ke puskesmas ini untuk cek kehamilan yg pertama kali dan sekaligus akan suntik imunisasi Tetanus toksoid (TT) sesuai dengan jadwal yg diberikan oleh puskesmas X yg ada di Jawa Tengah.Suntik imunisasi TT ini saya lakukan sebelum saya menikah sebagai persyaratan akad nikah. Dan akan saya lanjutkan suntik imunisasi TT sesuai jadwalnya yaitu suntik TT yg ketiga di puskesmas ini.  Tetapi malah ditolak katanya suntik tetanus dimulai waktu kelas 1 SD petugas tsb sembari melingkari tulisan TT1 sampai TT5 di kartu imunisasi TT punya sya. Petugas tersebut malah menyalahkan skrinning imunisasi TT yg dilakukan di puskesmas X gak bener. Padahal di kartu saya sudah jelas jadwal dari petugas KIA puskesmas X untuk melakukan imunisasi TT yg ketiga di bulan maret 2021.\n",
      "Kenapa petugas puskesmas dalam hal memberikan imunisasi TT beda-beda persepsi seperti itu.Yang benar dan sesuai yang mana??Saya masih gak ngerti kenapa beda2.\n",
      "Padahal dulu sya pernah nanya jg sama petugas puskesmas X, sya besok tinggal di surabaya untuk kelanjutan suntik TT nya gimana.Petugas sana menyarankan untuk membawa kartu imunisasi TT yg sudah ada, nanti petugas puskesmas surabaya udah tau. Dan saya sudah sampe ke puskesmas ini tapi gak dapet pelayanan suntik imunisasi TT yg ketiga, sya udah ngantri dari pagi. Saya juga sangat menyayangkan sekali pelayanan petugas KIA nya kurang ramah dalam komunikasi sama pasien, bentak2.Baru kali ini saya mendapatkan pelayanan tenaga kesehatan yg kurang baik. Kalau seperti ini pasien merasa tidak nyaman. Dan pastinya akan mempengaruhi rating penilaian puskesmas ini jadi kurang maksimal dalam pelayanan publik.\n",
      "Semoga pelayanan terhadap pasien semakin baik lagi. Professional,  sopan dan ramah terhadap pasien.\n",
      "Terima kasih 🙏\n",
      "2295: Ada dokter di faskes umum ibuibu sudah berumur. Selalu dia ngomong nya gak enak. Dulu saya radang tenggorokan. Juga di mbuletin minta surat dokter. Hari ini sy kena diare dan migran. Permasalahannya sy itu ya sakit, sy juga pekerja,kok dimintain surat dokter malah beliau bilang \"saya gini merasa cuma di mintain surat dokter\" buk toolong ya di pahami. Sy itu jg perlu tanggung jawab dengan tempat sy bekerja. Gak salah sy bertanya berulangkali. Karna sy pernah kamu mbuletkan saat minta surat dokter di kejadian yang sebelumnya. Yang sopan dikit kalo ngomong dan jelaskan,karna kami gk tahu alurnya. Gak malah ngomong gak enak kayak gitu mentang2 kamu dokter. Gak gitu juga cara kerja nya buk. Semoga dokter ini di ganti aja dr pada membuat puskesmas yg udah bagus jd g bagus krn 1 dokter. Sy cukup kecewa dibilang gitu!\n",
      "2936: Pada tgl (27/09)saya mengantarkan istri saya ke puskesmas untuk periksa kehamilannya,2 hari sebelumnya (26/09)saya daftar online dan mendapat nomer antrian 7,dan pada tgl (27/09) saya dr rumah berangkat sekitar jam 7 pg sampek jam 09.20 saya belum di panggil\" merasa belum di panggil saya memberikan diri untuk bertanya ke pasien yg baru diperiksa dan ternyata kata pasien (red.yg baru diperiksa) itu udah nmer 25...\n",
      "Setelah saya komplain ke ruang kia saya yg disalahkan oleh perawatnya krna nmer 7 udah dipanggil dr td,setelah saya keluar lg dan bertanya k orang yg ad d sekitar saya gak ad panggilan atas nama istri saya kata orang sekitar saya...\n",
      "Lalu sma orang yg ad d sekitar saya, saya & istri di suruh masuk untuk komplain...\n",
      "Dan kata perawatnya ttep marah kpd saya dan istri karna d panggil dr td tp gk masuk\"....\n",
      "Setelah d cari kta perawat yg punya tugas ternyta ada no antrian.a ke selip......tolong lebih baik lagi dalam meneliti......\n",
      "\n",
      "Word: alas\n",
      "1321: Gak masuk karyawan lagi tidur semua ditanya kaya males jawab nya!  Makan gaji buta!! Ini nih yg bikin indonesia bobrok!\n",
      "2383: Tolong yaa perbaiki kualitas karyawan nya. Heran deh melayani masyarakat gitu BANGET ga ikhlas apa gimana? Sudah malas2 an,  gegabah dan gopo. G tau dikejar apaan dah. Heran banget. Tidak rekomed untuk berobat, mon maaf :)\n",
      "4115: pelayananya sangat lambat saya hanya perpanjang surat rujukan tapi blum di panggil2 kata alasan perawat nunggu kertas dr loket bner2 lelet\n",
      "6406: pelayanan sangat buruk, padahal jelas tenggorokan saya radang, badan pegal-pegal, lemas, gejala mau flu, sidikit kunang-kunang, dan dicek tensi saya rendah, meskipun kepala saya tidak pusing, eh ketika saya minta surat keterangan istirahat tidak dikasih dengan alasan masih bisa berkativitas, elu kira ini binatang ato apa?? enak banget lo ngmongnya... bagsat banget dokternya yg ngelayanin ini td cewe pake kacamata, paling tidak elu kasih lah istirahat 1 hari, mentang\" elu dokternya bisa se.enak lo sendiri, awas kena karma lo... , staff staffnya disini jg kurang ramah kalo saya perhatikan, rugi gue pindah fakses kesini, mending balik lagi ke faskes Muyorejo, meski agak jauh dari tempat tinggal tapi pelayanan memuaskan, staff-staffnya ramah dokernya baik.\n",
      "3267: Puskesmas Terpayah Terburuk Terlalai Terlama se Negara Indonesia Raya.\n",
      "Tolong Pemerintah Pusat, Pemkot Kota Surabaya, lihat ulasan-ulasan para Pasien yg berobat di Puskesmas satu ini, Ibu saya jadi salah satu Korban, datang pagi jam 7.30 Pagi dapat no 8 dipanggil jam 9 Pagi, sedangkan para pegawainya asik ngobrol ketawa ketiwi sambil main HP, dan pegawainya tidak ramah kepada pasien. Halo... para Pegawai Puskesmas Tambakrejo, dosa anda sungguh besar sekali, membuat orang kesakitan menunggu lama, padahal banyak sekali Pasien Lansia dan Anak2.\n",
      "Anda digaji dengan Uang dari Pajak mereka para Pasien, rakyat Indonesia.\n",
      "Tolong para PNS sadar akan kinerja kalian.\n",
      "\n",
      "Word: hasil\n",
      "2676: Tolong pelayanannya diperbaiki lagi yaaa... masa lg kontrol hamil, ada petugas KIA suruh yg lagi magang main salin salin hasil kontrol yg lalu cuman karena antriannya panjaaaaang!!! dan waktu itu sudah jam 12 siangan🥲🥲🥲\n",
      "Tolong bangeeet kan kita juga butuh hasil pemeriksaan kontrol buat janinnya sehat atau gimana dan kurang apaa....🙂\n",
      "715: petugas loketnya memberi jadwal informasi poli kepada pasien kurang jelas..\n",
      "saya udh 2x mondar mandir ga ada hasil. apalagi saya ini pekerja ga bisa izin seenaknya, jujur kecewa sekali sma pelayanan puskesmas ini responnya lambatttttt\n",
      "4303: Pelayanan pendaftaran ibu ibu pakai jilbab tidak ramah judes bentak2,bapak satpam bagian pendaftaran tidak ramah, kurang kompeten, jam buka tidak sesuai dengan yang tercantum, kasian yg sakit jauh jauh kesana siang siang ternyata dsuruh nunggu jam 3 baru buka lagi. Diagnosa yang dirujukkan tidak sesuai, keluarga saya di diagnosa TB tanpa ada tulisan suspect TB, padahal hasil test dahak negatif, setelah dirujuk sampai RS tipe A dan pemeriksaan lab ternyata hanya infeksi biasa. Tolong pikirkan mental orang yg didiagnosa penyakit menular seperti itu. Jaman sekarang sudah melek internet, jadi jangan asal kalau nulis diagnosa.\n",
      "5241: Sangat kecewa dengan pelayanan puskesmas Tenggilis. Saya melakukan swab menunggu hasil yang tak kunjung saya peroleh hingga 2hari, sudah saya tenyakan petugas puskesmas namun jawabanya tidak memuaskan (jawaban seperti template).\n",
      "2701: Lucu emang, istri saya hamil 8 bulan dioper sana sini HANYA NGAMBIL HASIL CEK DARAH, harus kesana kesini. Endingnya disuruh antri lagi dan cek up lagi. Kalo ga bisa yaudah dibilang dari awal kalo antri kek, orang labnya pelatihan 4 hari kek. Dioper oper, hei untung aku gak ikut ya antar biniku soalnya diluar kota. We’ll see at friday ya ! Kalo gue kasih minus, minus dah ini.\n",
      "\n",
      "Word: parah\n",
      "4733: Parah, niatnya pgn sembuh malah di bikin bingung. Mau ambil obat di apotik dan sudah bilang ‘mau ambil obat atas nama Monica’ malah di suruh pegawai apotiknya ke poli KIA di poli KIA pun di tanya mau ngapain? Lah ya sy ini juga gatau knp di suruh kesini, sy jelaskan lg ke poli KIA kl sy ini sudah periksa di poli umum dan di suruh ke apotik utk ambil obat malah sm mbak2 apotiknya di suruh ke KIA. Masalahnya di apotik ini ada 3 orang masa gaada yg ngeh kl nama sy monica bukan mau nikah. Terlalu lemot dan bikin kesel.\n",
      "6688: PELAYANAN NYA SANGAT PAYAH,\n",
      "PALAGI IBUK-IBUK AGAK TUA KURUS PENDEK YANG BERAMBUT PUTIH PENDEK SANGAT KETUS,SAMA BAPAK-BAPAK GENDUT YANG DI LOKET SANGAT MALAS NGOMONG SEPERTI TUNAWICARA,TATAPAN NYA SEPERTI HANTU,MENAKUTKAN, INI YANG BEROBAT BUKAN NYA SEMBUH MALAH PARAH,\n",
      "TERIMAKSIH ATAS PELAYANAN BINTANG 0 NYA,\n",
      "MOHON MAAF JIKA ADA SALAH UCAP.\n",
      "7252: Maaf mau sekedar sharing saja, ini kejadiannya juli 2021 kemaren, awalnya saya sakit dan periksa ke dr praktek, waktu periksa itu dicek saturasi oksigen saya 86 diberi surat rujukan ke puskesmas terdekat disuruh segera karna takutnya saturasinya semakin menurun. Pergilah saya kepuskesmas kedurus tp disana saya tidak ditanganni melainkan harus mengantri ke poli covid dulu, antrilah saya tp ketika saya antri dokter yg jaga poli marah\" bentak\" hampir semua pasien dimarahi, saya posisi sudah sesak beliau teriak\" makin sesak rasanya sudah gk dapat pertolongan pertama malah makin parah rasanya. Akhirnya suami saya langsung ngajak pindah ke rumah sakit, waktu nyampek rumah sakit saya dicek saturasi sudah turun ke 81, untung saudara saya ada yg nakes jadi langsung ditanganni. Tolonglah kaliankan kerja sebagai pelayanan masyarakat apa lagi dibidang kesehatan masa begini pelayanannya. Semoga kedepannya bisa lebih cepat untuk penanganan pasien yg membutuhkan jgn nunggu parah baru ditanganni, apalagi pasien butuh oksigen telat dikit aja bisa lewat. Tolong ya.\n",
      "3277: Saran aja.. KALAU BIKIN ANTRIAN PAKE NOMOR... Jangan org di suruh nunggu lama abis itu bilang kuota udah abis, d suru balik besok.. Ya kalo yg antri pengangguran gitu gapapa,, klo yg antri banyak kerjaan.. BUANG\" WAKTU DI SANA CM BUAT NUNGGU... PARAH!!! Ga profesional sm skali..\n",
      "5810: Puskesmas ato klinik kesehatan terparah sepengelamanku berobat, baru kali ini ditempat ini dokter meriksa cuma kek orang wawancara, didepan laptop, jawabnya terkesan ngasal, gak ada medical check up yg bener² kyk di cek ditanyain lebih mendetail buat tau penyakitnya apa, tujuan saya kesini buat nanya sebenernya ini saya sakit apa BUKAN ASAL MENGIYAKAN APA YG SAYA OMONGKAN!!!!! Serius baru kali ini liat ato tau dokter periksa pasien pake laptop+kek org wawancara. WORS BANGET!!!!! Dan andalannya besok kalo gk membaik kesini lagi, pertanyaannya y para STAFF & DOKTER PUSKESMAS KENJERAN YG CERDAS DAN BUDIMAN!!!!\n",
      "1. Apa pasien anda tidak bekerja ato punya urusan lain?\n",
      "2. Kenapa harus 2x kalo ADA YG BISA ATO CUKUP dicek 1x?\n",
      "3. Ya kalo sampe kekunjungan selanjutnya, kalo gak!? Mau tanggung jawab!!?\n",
      "\n",
      "Word: marah\n",
      "4336: 2 petugas perempuan yg di depan dari pertama sy ke sini gak ramah sama sekali. orang tanya baik2 jawabnya sewot. niat melayani atau memarahi masyarakat sih?\n",
      "1394: TOLONG LAH YA ITU YG BAGIAN PENDAFTARAN KALO NGMONG SAMA ORANG TUA YG SOPAN, DATENG PAGI\" DOKTER GA DATANG\", DATENG AGAK SIANG DIMARAHIN, NGOTAK LAH PEGAWAI\n",
      "6641: Pelayanan dokter nya kurang memuaskan marah jutek,dokternya perempuan gk tau namanya.pokoknya sangat kecewa\n",
      "142: Sumpah Bener bener pelayanan BURUK !!!\n",
      "dateng dokternya malah marah\" ngomel ngomel berkali kali *kenpaa ga pagi , harusnya periksa it pagi*\n",
      "\n",
      "*kalo saya kuat keluar, pasti pagi udah kesana . Saya gakuat makanya nunggu agak emakan dikit bru brgkat*\n",
      "\n",
      "Bener beenr Pelayanan buruk sekali . Yaallaahhh parah banget .\n",
      "Lagi sakit malah dimarahin .\n",
      "Dan juga di lempar\" , katanya *DIA BUKAN PASIEN SAYA , DIA PERIKSA DI TMPAT LAIN* padahal d tmpat lain saya periksa untuk vitamin, belum cek kehamilan .   ASTAGHFIRULLOOHHH DOKTER MACAM APA INI ?    Di lempar\" gamau nangani . Di kasih teman lainnya\n",
      "\n",
      "SAYA SUMPAHIN SEMOGA  DOKTER IN MERASAKAN APA YANG SAYA RASAKAN . SAYA BENER BENER SAKIT HATI SAMA ANDA !!!\n",
      "\n",
      "KALO GAK IKHLAS JANGAN BEKERJA YA !\n",
      "5793: Bagian laboratorium dari 2020 sampek 2023 lebih suka marah\" orang gak tau ya harusnya di beritahu bukan di marah\" .. nasehatin oorang kl marah\" anaknya jg pasti ikut marah\" padahal yang sering darah tinggi ya anda ibu lab\n",
      "\n",
      "Word: bentak\n",
      "6227: mbak² e kasar tenan👍. embah saya vaksin sudah sepuh dibentak². dari vaksin d1 - d3 tetep ga berubah kasare, bentak² i tiyang sepuh🙏 padahal boten puron nopo², cuman hadir vaksin saja dan nanya pas pengambilan nomor antrian😊 …\n",
      "6225: Pelayanan buruk . KATANYA MELAYANI PUBLIK tapi ko pelayanan sangat rendah sekali. Seharusnya pelayanan publik itu harus bisa melayani dengan sabar . Ko malah di bentak\"\" gaadiberi solusi malah di bentak\"\" Namanya juga masyrakat tidak tahu itu harus dibenahi dan dijelaskan dengan sabar posisinya sama orang tua yakan ? Harus dipertanyakan untuk pelayanannya yang sangat kurang sekali !!!! MENYANGKUT PELAYANAN MASYRAKAT\n",
      "730: Pelayanan disini ga setulus hati, dan ga ramah sama sekali kayak puskesmas2 lainnya, mentang-mentang punya kekuasaan jadi seenaknya sendiri untuk ngelayani pasien.\n",
      "Semoga kedepannya bisa lebih baik lagi, bisa melayani setulus hati dan ga mentang-mentang.\n",
      "\n",
      "Barusan saja.\n",
      "\n",
      "Petugasnya tidak ramah. Padahal kesi\n",
      "ni cuma buat ngurus surat kesehatan tapi ada bapak2 malah bentak bentak tidak ramah sekali pertama ditanyain ape lapo? (Read :Mau apa?)\n",
      "Ku jawab mau ngurus surat kesehatan.\n",
      "Bapak2 Gawe opo? (Read : buat apa?)\n",
      "Ku jawab buat ngelamar kerja\n",
      "Bapak2 wes ? (Read: sudah daftar)\n",
      "Ku jawab sudah pak online nomor 10\n",
      "Bapak2 rono o (read : kesana, tapi menunjuk tidak jelas)\n",
      "Ku jalan melihat ruang an\n",
      "Bapak2 itu malah marah2 rono loh rono O (kesana O kesana o)\n",
      "Ku jalan sambil nunjuk ruangan kosong gada orang sama sekali\n",
      "Bapak2 itu yo kono dengan nada marah2 (iya sana)\n",
      "Ku bilang gada orang pak\n",
      "Bapak2 itu iyo wes enten ono kono (Iya sudah tunggu sana)\n",
      "Nunggu ada setengah jam gada kepastian.\n",
      "Terus hbs itu ada bidan lewat nanyain. Mbak mau apa?\n",
      "Ku jawab mau ngurus surat kesehatan mbk\n",
      "Bidannya sudah daftar, sudah pernah kesini\n",
      "Ku jawab sudah mbk online, sudah juga\n",
      "Terus dia hbs ngelayani orang trs pergi.\n",
      "Sudah ada 1 jam disana. Tetep ga dilayani. Akhirnya liat bpk2 pasien naruh nomor dimeja depanku.\n",
      "Aku punya inisiatif untuk tanya ke loket pendaftaran.\n",
      "Pas udah sampe ku tanya ke ibunya.\n",
      "Ku tanya maaf Bu mau tanya\n",
      "Ibunya posisi ngelamun dan ga fokus. Terus kaget histeris teriak2 astaghfirullah sambil ngomel2.\n",
      "\n",
      "Intinya dulu pernah kesini pas hamil. Pelayanan memang ga pernah ramah dan selalu marah2 gatau kenapa bukan sama aku aja.  Pasien disana juga sering dapat pelayanan yg kurang ramah.\n",
      "Tetapi anehnya kenapa di dinding ditulisin dilarang memfoto dan mem video karena akan ditindaklanjuti tetapi pelayanan ga ramah sama sekali.\n",
      "Lalu ku pulang dan kata tukang parkir nya memang pelayanan kesehatan disini memang gaenak dan kurang ramah apalagi ibuk2 yang jaga loket pendaftaran.\n",
      "\n",
      "Semoga kedepannya bisa setulus hati ga bentak2, seakan-akan mereka punya kekuasaan disana jadi seenaknya melayani dengan tidak ramah.\n",
      "5967: Gimana bisa nyaman ketika berobat dipuskesmas kalo dari pendaftaran aja orangnya udah gak ramah main bentak bentak, udah kapok ke puskesmas\n",
      "7063: Petugas front desk khususnya yg wanita depan komputer pendaftaran kurang ramah, saya hendak mengurus surat keterangan sehat untuk perpanjang sim dan sudah diiyakan bisa sama mas² depan komputer pendaftaran, tapi si ibu jawab dgn nada tinggi percuma katanya nanti di satpas juga ga diterima surat keterangan sehatnya , okeeeee saya sgt berterima kasih untuk informasi yg diberikan perihal update persyaratan perpanjangan sim tapi gausa dgn penyampaian yg ketus gitu, masih pagi loh udah marah², padahal mas²nya aja biasa aja njelasinnya\n",
      "Tolong dibina ya pak/bu management, sudah banyak ulasan yg kurang baik terhadap pegawai tersebut, cuma kepikiran gimana kalo yg dateng berobat sudah sepuh atau sudah kesakitan masih dibentak² gitu, ngomong baik² pun bisa loh diterima, mohon diperhatikan terima kasih.\n",
      "\n",
      "Word: ketus\n",
      "3090: Sdh berthn² dan berapa kali periksa disini masih saja pelayanannya tidak ramah/ketus terutama dokter perempuan dibagian umum dan bagian loket...mohon DITANGGAPI SECARA SERIUS... Pakai bpjs jg bayar setiap blnnya bkn gratisan...!!!!\n",
      "8351: Untuk poli gigi dokternya ketus banget,sdh tua masih aja ketus,dlu sblum pandemi dokternya pelayanannya ramah,skg sangat tidak nyaman.\n",
      "2305: Parahhhh banget sama pelayanan dokternya SANGAT BURUK.\n",
      "DR LAILATUL QODRIAH tolong dipecat saja. Jahat banget jadi dokter, gak ada sopan satun, dan ketus banget.\n",
      "saya pengguna BPJS mandiri kelas 1. Mau minta rujukan ke RS mata. Menjelaskan kepasien kok nada tinggi kayak orang gak berpendidikan.\n",
      "Waktu saya minta ttd ke dokternya saya bilang terimakasih juga diem aja, kayak orang tuli.\n",
      "Duh cukup sekali aja kesini, gak lagi2 ! Mending pindah faskes\n",
      "8597: ini puskesmas apa warkop ya? masa nakesnya nonton bola di tv, mana sambil teriak\" pula berisik banget. maksud saya, kalo emang lagi gaada kerjaan/kerjaannya udah kelar dan mau nonton tv ya seenggaknya jgn sampe teriak\" gitu lah, gak etis banget. apalagi ini layanan kesehatan loohh..pas ngingetin suruh bawa bolpoin juga ketus banget hahaha berasa di karen's dinner deh\n",
      "3703: KALAU ADA RATING 0 BAKAL SAYA KASIH 0 !!!\n",
      "no antrian saya kelewat, tapi waktu saya datang terakhir yg daftar no 17 (saya no 6) seharusnya setelah no 17 saya dipanggil, tapi sampai antrian no 20 gak dipanggil-panggil !! waktu saya tanya saya dapet no berapa bilangnya gak tau, mau ambil antrian baru tapi gak bisa..\n",
      "APA SAYA HARUS NUNGGU SAMPAI SEMUA ANTRIAN HABIS???\n",
      "\n",
      "SAYA SUDAH NUNGGU 1.5 JAM DENGAN POSISI GUSI SAYA SUDAH BENGKAK!\n",
      "\n",
      "SANGAT TIDAK RECOMMEND!! SEBENARNYA SAYA TRAUMA DATANG KE PUSKESMAS INI, DARI BANGUNAN JELEK SAMPAI SEKARANG BAGUS TAPI SISTEMNYA MASIH PAYAH!\n",
      "\n",
      "ORANG LOKETNYA KETUS!\n",
      "\n",
      "KALAU ADA SITUS /NO TELP RESMI SURABAYA UNTUK PENGADUAN TOLONG KOMEN!\n",
      "\n",
      "Word: omong\n",
      "201: Pelayanan buruk,\n",
      "Kepala rumah puskesmasnya bobrok\n",
      "Org kena musibah mau swab aja ngomong seperti orang yang tidak berpendidikan\n",
      "Ngawur\n",
      "Terlebih komentarnya melibatkan sara\n",
      "2336: sampaikan ke pelayanan yg terima tlp harap memiliki sopan santun , lg berbicara selalu di potong omongannya dan tidak bisa menyelesaikan MASALAH , TIDAK PANTAS MEMPEKERJAKAN KARYAWAN YG TDK ADA SOPAN SANTUN !!!!!!!!!!!!!!!!!!!!!!!!!!!!!!!!!!!!!!!!\n",
      "5031: KIA oh KIA, ada bayi nangis abis di imunisasi wajar dong. terus ada bidan apa dokter pake kacamata gendut udah ibu2 (yg lainnya masih muda) ngobrol sm pasien lain, bisa2nya ngomong \"haduh suker iki lho gk iso omong2an aku\". Bu tolong ya situ kan kerja di pelayanan publik, attitudenya. Parah, tolong di evaluasi, ditegur diperingatkan karena yg ngrasain & bilang begini juga gak satu dua orang.\n",
      "2841: Tolong pegawai KIA , tugasnya hanya melayani pasien /Babby segera d laksanakan  bukan mengomeli sembarang kalir, itu urusan orng tua masing\" jgan seenaknya ngomong , kita juga punya hati . Jgan hina seenaknya . Dokter lain bidan lain aja tidak pernah hina /banyak omong .tolong d rubah .banyak orng juga mengeluh .\n",
      "2295: Ada dokter di faskes umum ibuibu sudah berumur. Selalu dia ngomong nya gak enak. Dulu saya radang tenggorokan. Juga di mbuletin minta surat dokter. Hari ini sy kena diare dan migran. Permasalahannya sy itu ya sakit, sy juga pekerja,kok dimintain surat dokter malah beliau bilang \"saya gini merasa cuma di mintain surat dokter\" buk toolong ya di pahami. Sy itu jg perlu tanggung jawab dengan tempat sy bekerja. Gak salah sy bertanya berulangkali. Karna sy pernah kamu mbuletkan saat minta surat dokter di kejadian yang sebelumnya. Yang sopan dikit kalo ngomong dan jelaskan,karna kami gk tahu alurnya. Gak malah ngomong gak enak kayak gitu mentang2 kamu dokter. Gak gitu juga cara kerja nya buk. Semoga dokter ini di ganti aja dr pada membuat puskesmas yg udah bagus jd g bagus krn 1 dokter. Sy cukup kecewa dibilang gitu!\n",
      "\n",
      "Word: laku\n",
      "1365: Klo menjadi tenaga medis itu harus yg sabar klo pasien tanya,, bukannya jawab dengan nada tinggi,, qt tanya kan wajar biar lebih jelas,, pengalaman terburuk dan pertama dipindah difaskes keputih hampir semua tenaga medis bikin naik darah,, klo boleh pilih saya mau kembali ke faskes Klampis Ngasem yg pelayanan nya lebih baik dan ramah,, klo gak sabar jgn bekerja di pelayanan,,jdi bakul pindang ae pantes,, khususnya poli KIA,,rubah kelakuan arogan kalian.\n",
      "8497: Pelayanan sangat buruk, apalagi waktu vaksinasi yg ke 2.\n",
      "Ya siapa lagi pelakunya, entah suster entah babu yg ada pas pembagian nomor antrian.\n",
      "Apa anda membantu masyarakat.?  Kalau anda sebagai suster apa dokter,  bukannya dulu anda di SUMPAH untuk melayani masyarakat.?  Kesehatan yang utama kan.?\n",
      "Kenapa anda persulit.?  Kenapa.?\n",
      "1256: saya antrian online no 36 tertera jam 10.29-10.44 datang sebelum pukul yang tetera dari depan pintu sudah diinfo tutup tidak ada dokter dengan info pandemi covid maximal jam 09.00, suruh kembali lagi besok/cari klinik lain saja, sudah 2x kejadian dipuskesmas putat seperti ini awal antar bapak saya sakit juga seperti itu selalu tutup sebelum jam berlaku, Kalau memang tutup operasional gerbang depan tutup saja tidak usah dibuka, pendaftaran secara online dibuat otomatis jika sudah tidak melayani pasien, selalu hadir sesuai jam sampai tempat diinfo tutup.\n",
      "2191: Pelayanan adminnya bagus. Yang parah dokternya. Ngeremehin sakit pasien. Padahal sdh dibilang kesakitan berhari2 dan sdh diperiksa IGD RSUD (dan sdh dikasih obat )  dan mereka saran harus tindakan lanjutan jika msh sakit, minta rujukan ke RS besar..ee ditolak...disuruh bersabar nunggu sekian hari sambil minum pereda nyeri yg praktis sama aja sama yg sdh dilakukan RDUD nya. Susah amat minta rujukan. Pasien BPJS susah sekali. Bayar ga boleh telat. Bah.\n",
      "2228: Tgl 31 januari 2020. Jam 15.15\n",
      "Hari ini adik saya habis dari pukesmas .\n",
      "Tpi knp ya saya dapat laporan yg tidak enak.\n",
      "Masak dokter di pukesmas bilang ke adik saya .\n",
      "\"Mbk tolong ya jgn mentang mentang klu sore itu sepi . Mbaknya priksa sore, disini dokternya juga cpek udah kerja dari pagi.\"\n",
      "\n",
      "He loh siapapun nama loh. Klu loh gk mau cpek gak usah kerja dan gk usah jadi dokter .\n",
      "\n",
      "Loh pikir adik gue gk kerja apa .\n",
      "\n",
      "Ini bukan kejadian yg pertama ya pukesmas berprilaku tdk baik pada pasien .\n",
      "\n"
     ]
    }
   ],
   "source": [
    "# show top 5 words and sample reviews that contain the word with minimum 20 characters that are negative\n",
    "top_5_words = pd.Series(filtered_negative_reviews.split()).value_counts().head(10).index\n",
    "\n",
    "for word in top_5_words:\n",
    "    print(f\"Word: {word}\")\n",
    "    sample_reviews = predicted_data_puskesmas[predicted_data_puskesmas['cleaned_review_text'].str.contains(word) & (predicted_data_puskesmas['is_positive'] == 0) & (predicted_data_puskesmas['cleaned_review_text'].str.len() > 50)]\n",
    "    for idx, review in sample_reviews.sample(5)['review_text'].items():\n",
    "        print(f'{idx}: {review}')\n",
    "    \n",
    "    print()"
   ]
  },
  {
   "cell_type": "code",
   "execution_count": 12,
   "metadata": {},
   "outputs": [
    {
     "data": {
      "text/html": [
       "<div>\n",
       "<style scoped>\n",
       "    .dataframe tbody tr th:only-of-type {\n",
       "        vertical-align: middle;\n",
       "    }\n",
       "\n",
       "    .dataframe tbody tr th {\n",
       "        vertical-align: top;\n",
       "    }\n",
       "\n",
       "    .dataframe thead th {\n",
       "        text-align: right;\n",
       "    }\n",
       "</style>\n",
       "<table border=\"1\" class=\"dataframe\">\n",
       "  <thead>\n",
       "    <tr style=\"text-align: right;\">\n",
       "      <th></th>\n",
       "      <th>puskesmas_name</th>\n",
       "      <th>kepala puskesmas</th>\n",
       "      <th>alamat</th>\n",
       "      <th>telepon</th>\n",
       "      <th>url</th>\n",
       "      <th>rate</th>\n",
       "      <th>review_num</th>\n",
       "      <th>lat</th>\n",
       "      <th>lon</th>\n",
       "      <th>display_name</th>\n",
       "      <th>positive_percentage</th>\n",
       "    </tr>\n",
       "  </thead>\n",
       "  <tbody>\n",
       "    <tr>\n",
       "      <th>50</th>\n",
       "      <td>Puskesmas Sidotopo Wetan</td>\n",
       "      <td>dr. Evi Susanti</td>\n",
       "      <td>Jln. Randu 38</td>\n",
       "      <td>(031) 3767737</td>\n",
       "      <td>https://www.google.com/maps/place/Puskesmas+Si...</td>\n",
       "      <td>4,4</td>\n",
       "      <td>(537)</td>\n",
       "      <td>-7.22658925</td>\n",
       "      <td>112.76350132938722</td>\n",
       "      <td>Puskesmas Sidotopo Wetan, Jalan Randu, RW 10, ...</td>\n",
       "      <td>82.278481</td>\n",
       "    </tr>\n",
       "    <tr>\n",
       "      <th>24</th>\n",
       "      <td>Puskesmas Ketabang</td>\n",
       "      <td>dr. Joyce Hestia Nugrahanti</td>\n",
       "      <td>Jln. Jaksa Agung Suprapto No 10</td>\n",
       "      <td>(031) 5311999</td>\n",
       "      <td>https://www.google.com/maps/place/Puskesmas+Ke...</td>\n",
       "      <td>4,5</td>\n",
       "      <td>(377)</td>\n",
       "      <td>-7.2580613</td>\n",
       "      <td>112.74677403040269</td>\n",
       "      <td>Puskesmas Ketabang, Jalan Jimerto, RW 05, Keta...</td>\n",
       "      <td>78.947368</td>\n",
       "    </tr>\n",
       "    <tr>\n",
       "      <th>57</th>\n",
       "      <td>Puskesmas Tanjungsari</td>\n",
       "      <td>dr. Yunita Andriani</td>\n",
       "      <td>Jln. Raya Tanjungsari No.116</td>\n",
       "      <td>(031) 7497858</td>\n",
       "      <td>https://www.google.com/maps/place/Puskesmas+Ta...</td>\n",
       "      <td>4,2</td>\n",
       "      <td>(300)</td>\n",
       "      <td>-7.2594043500000005</td>\n",
       "      <td>112.6892628357994</td>\n",
       "      <td>Puskesmas Tanjungsari, Jalan Raya Tandes Lor, ...</td>\n",
       "      <td>77.027027</td>\n",
       "    </tr>\n",
       "    <tr>\n",
       "      <th>56</th>\n",
       "      <td>Puskesmas Tanah Kali Kedinding</td>\n",
       "      <td>dr. Era Kartikawati</td>\n",
       "      <td>Jln. H. M. Noer 226</td>\n",
       "      <td>(031) 51501347</td>\n",
       "      <td>https://www.google.com/maps/place/Puskesmas+Ta...</td>\n",
       "      <td>4,2</td>\n",
       "      <td>(572)</td>\n",
       "      <td>-7.23037625</td>\n",
       "      <td>112.77446968315311</td>\n",
       "      <td>Puskesmas Tanah Kali Kedinding, Jalan Kedung C...</td>\n",
       "      <td>76.288660</td>\n",
       "    </tr>\n",
       "    <tr>\n",
       "      <th>51</th>\n",
       "      <td>Puskesmas Simolawang</td>\n",
       "      <td>dr. Dwi Sapta Edy Purnama</td>\n",
       "      <td>Jln. Simolawang II Barat 45 A</td>\n",
       "      <td>(031) 3717433 / 085954480937</td>\n",
       "      <td>https://www.google.com/maps/place/Puskesmas+Si...</td>\n",
       "      <td>4,2</td>\n",
       "      <td>(148)</td>\n",
       "      <td>-7.2348687</td>\n",
       "      <td>112.75104985</td>\n",
       "      <td>Puskesmas Simolawang, Jalan Simolawang Kalimir...</td>\n",
       "      <td>75.862069</td>\n",
       "    </tr>\n",
       "    <tr>\n",
       "      <th>42</th>\n",
       "      <td>Puskesmas Pucang Sewu</td>\n",
       "      <td>drg. Ummi Latifah</td>\n",
       "      <td>Jln. Pucang Anom Timur No. 72</td>\n",
       "      <td>(031) 5018527</td>\n",
       "      <td>https://www.google.com/maps/place/Puskesmas+Pu...</td>\n",
       "      <td>4,4</td>\n",
       "      <td>(464)</td>\n",
       "      <td>-7.28659415</td>\n",
       "      <td>112.75552826261239</td>\n",
       "      <td>Puskesmas Pucang Sewu, Jalan Kalibokor, RW 08,...</td>\n",
       "      <td>75.242718</td>\n",
       "    </tr>\n",
       "    <tr>\n",
       "      <th>1</th>\n",
       "      <td>Puskesmas Balas Klumprik</td>\n",
       "      <td>dr. Yessy Pebriaty Sukatendel, MM</td>\n",
       "      <td>Jln. Raya Balas Klumprik</td>\n",
       "      <td>(031) 7665219</td>\n",
       "      <td>https://www.google.com/maps/place/Puskesmas+Ba...</td>\n",
       "      <td>4,1</td>\n",
       "      <td>(96)</td>\n",
       "      <td>-7.3315249</td>\n",
       "      <td>112.69002720464968</td>\n",
       "      <td>Puskesmas Balas Klumprik, Jalan Balas Klumprik...</td>\n",
       "      <td>73.684211</td>\n",
       "    </tr>\n",
       "    <tr>\n",
       "      <th>8</th>\n",
       "      <td>Puskesmas Dukuh Kupang</td>\n",
       "      <td>dr. Khusnul Khowatin</td>\n",
       "      <td>Jln. Dukuh Kupang 25/48</td>\n",
       "      <td>(031) 5677615</td>\n",
       "      <td>https://www.google.com/maps/place/Puskesmas+Du...</td>\n",
       "      <td>4,0</td>\n",
       "      <td>(548)</td>\n",
       "      <td>-7.2832360000000005</td>\n",
       "      <td>112.71222568060509</td>\n",
       "      <td>Puskesmas Dukuh Kupang, Jalan Dukuh Kupang Gan...</td>\n",
       "      <td>71.565495</td>\n",
       "    </tr>\n",
       "    <tr>\n",
       "      <th>61</th>\n",
       "      <td>Puskesmas Wonokromo</td>\n",
       "      <td>drg. Dwiana Yuniarti</td>\n",
       "      <td>Jln. Karangrejo VI/4</td>\n",
       "      <td>(031) 8281647 / 082143561190</td>\n",
       "      <td>https://www.google.com/maps/place/Puskesmas+Wo...</td>\n",
       "      <td>4,2</td>\n",
       "      <td>(349)</td>\n",
       "      <td>-7.303176499999999</td>\n",
       "      <td>112.7303924779992</td>\n",
       "      <td>Puskesmas Wonokromo, Jalan Karang Rejo VI, RW ...</td>\n",
       "      <td>71.502591</td>\n",
       "    </tr>\n",
       "    <tr>\n",
       "      <th>62</th>\n",
       "      <td>Puskesmas Wonokusumo</td>\n",
       "      <td>dr. Heri Siswanto</td>\n",
       "      <td>Jln. Wonokusumo Tengah No.55</td>\n",
       "      <td>(031) 3717597</td>\n",
       "      <td>https://www.google.com/maps/place/Puskesmas+Wo...</td>\n",
       "      <td>4,2</td>\n",
       "      <td>(410)</td>\n",
       "      <td>-7.219663649999999</td>\n",
       "      <td>112.75256160671904</td>\n",
       "      <td>Puskesmas Wonokusumo, Jalan Wonokusumo Tengah,...</td>\n",
       "      <td>71.497585</td>\n",
       "    </tr>\n",
       "  </tbody>\n",
       "</table>\n",
       "</div>"
      ],
      "text/plain": [
       "                    puskesmas_name                   kepala puskesmas  \\\n",
       "50        Puskesmas Sidotopo Wetan                    dr. Evi Susanti   \n",
       "24              Puskesmas Ketabang        dr. Joyce Hestia Nugrahanti   \n",
       "57           Puskesmas Tanjungsari                dr. Yunita Andriani   \n",
       "56  Puskesmas Tanah Kali Kedinding                dr. Era Kartikawati   \n",
       "51            Puskesmas Simolawang          dr. Dwi Sapta Edy Purnama   \n",
       "42           Puskesmas Pucang Sewu                  drg. Ummi Latifah   \n",
       "1         Puskesmas Balas Klumprik  dr. Yessy Pebriaty Sukatendel, MM   \n",
       "8           Puskesmas Dukuh Kupang               dr. Khusnul Khowatin   \n",
       "61             Puskesmas Wonokromo               drg. Dwiana Yuniarti   \n",
       "62            Puskesmas Wonokusumo                  dr. Heri Siswanto   \n",
       "\n",
       "                             alamat                       telepon  \\\n",
       "50                    Jln. Randu 38                 (031) 3767737   \n",
       "24  Jln. Jaksa Agung Suprapto No 10                 (031) 5311999   \n",
       "57     Jln. Raya Tanjungsari No.116                 (031) 7497858   \n",
       "56              Jln. H. M. Noer 226                (031) 51501347   \n",
       "51    Jln. Simolawang II Barat 45 A  (031) 3717433 / 085954480937   \n",
       "42    Jln. Pucang Anom Timur No. 72                 (031) 5018527   \n",
       "1          Jln. Raya Balas Klumprik                 (031) 7665219   \n",
       "8           Jln. Dukuh Kupang 25/48                 (031) 5677615   \n",
       "61             Jln. Karangrejo VI/4  (031) 8281647 / 082143561190   \n",
       "62     Jln. Wonokusumo Tengah No.55                 (031) 3717597   \n",
       "\n",
       "                                                  url rate review_num  \\\n",
       "50  https://www.google.com/maps/place/Puskesmas+Si...  4,4      (537)   \n",
       "24  https://www.google.com/maps/place/Puskesmas+Ke...  4,5      (377)   \n",
       "57  https://www.google.com/maps/place/Puskesmas+Ta...  4,2      (300)   \n",
       "56  https://www.google.com/maps/place/Puskesmas+Ta...  4,2      (572)   \n",
       "51  https://www.google.com/maps/place/Puskesmas+Si...  4,2      (148)   \n",
       "42  https://www.google.com/maps/place/Puskesmas+Pu...  4,4      (464)   \n",
       "1   https://www.google.com/maps/place/Puskesmas+Ba...  4,1       (96)   \n",
       "8   https://www.google.com/maps/place/Puskesmas+Du...  4,0      (548)   \n",
       "61  https://www.google.com/maps/place/Puskesmas+Wo...  4,2      (349)   \n",
       "62  https://www.google.com/maps/place/Puskesmas+Wo...  4,2      (410)   \n",
       "\n",
       "                    lat                 lon  \\\n",
       "50          -7.22658925  112.76350132938722   \n",
       "24           -7.2580613  112.74677403040269   \n",
       "57  -7.2594043500000005   112.6892628357994   \n",
       "56          -7.23037625  112.77446968315311   \n",
       "51           -7.2348687        112.75104985   \n",
       "42          -7.28659415  112.75552826261239   \n",
       "1            -7.3315249  112.69002720464968   \n",
       "8   -7.2832360000000005  112.71222568060509   \n",
       "61   -7.303176499999999   112.7303924779992   \n",
       "62   -7.219663649999999  112.75256160671904   \n",
       "\n",
       "                                         display_name  positive_percentage  \n",
       "50  Puskesmas Sidotopo Wetan, Jalan Randu, RW 10, ...            82.278481  \n",
       "24  Puskesmas Ketabang, Jalan Jimerto, RW 05, Keta...            78.947368  \n",
       "57  Puskesmas Tanjungsari, Jalan Raya Tandes Lor, ...            77.027027  \n",
       "56  Puskesmas Tanah Kali Kedinding, Jalan Kedung C...            76.288660  \n",
       "51  Puskesmas Simolawang, Jalan Simolawang Kalimir...            75.862069  \n",
       "42  Puskesmas Pucang Sewu, Jalan Kalibokor, RW 08,...            75.242718  \n",
       "1   Puskesmas Balas Klumprik, Jalan Balas Klumprik...            73.684211  \n",
       "8   Puskesmas Dukuh Kupang, Jalan Dukuh Kupang Gan...            71.565495  \n",
       "61  Puskesmas Wonokromo, Jalan Karang Rejo VI, RW ...            71.502591  \n",
       "62  Puskesmas Wonokusumo, Jalan Wonokusumo Tengah,...            71.497585  "
      ]
     },
     "execution_count": 12,
     "metadata": {},
     "output_type": "execute_result"
    }
   ],
   "source": [
    "most_positive_review = detail_puskesmas.sort_values(\n",
    "    \"positive_percentage\", ascending=False\n",
    ").head(10)\n",
    "most_positive_review"
   ]
  },
  {
   "cell_type": "code",
   "execution_count": 13,
   "metadata": {},
   "outputs": [
    {
     "data": {
      "text/html": [
       "<div>\n",
       "<style scoped>\n",
       "    .dataframe tbody tr th:only-of-type {\n",
       "        vertical-align: middle;\n",
       "    }\n",
       "\n",
       "    .dataframe tbody tr th {\n",
       "        vertical-align: top;\n",
       "    }\n",
       "\n",
       "    .dataframe thead th {\n",
       "        text-align: right;\n",
       "    }\n",
       "</style>\n",
       "<table border=\"1\" class=\"dataframe\">\n",
       "  <thead>\n",
       "    <tr style=\"text-align: right;\">\n",
       "      <th></th>\n",
       "      <th>puskesmas_name</th>\n",
       "      <th>kepala puskesmas</th>\n",
       "      <th>alamat</th>\n",
       "      <th>telepon</th>\n",
       "      <th>url</th>\n",
       "      <th>rate</th>\n",
       "      <th>review_num</th>\n",
       "      <th>lat</th>\n",
       "      <th>lon</th>\n",
       "      <th>display_name</th>\n",
       "      <th>positive_percentage</th>\n",
       "    </tr>\n",
       "  </thead>\n",
       "  <tbody>\n",
       "    <tr>\n",
       "      <th>34</th>\n",
       "      <td>Puskesmas Morokrembangan</td>\n",
       "      <td>dr. Nurul Ihsani</td>\n",
       "      <td>Jln. Tambakasri 13/7 Morokrembangan</td>\n",
       "      <td>(031) 7493259</td>\n",
       "      <td>https://www.google.com/maps/place/Puskesmas+Mo...</td>\n",
       "      <td>1,9</td>\n",
       "      <td>(108)</td>\n",
       "      <td>-7.2347805</td>\n",
       "      <td>112.71244346706712</td>\n",
       "      <td>Puskesmas Moro Krembangab, Jalan Tambak Asri X...</td>\n",
       "      <td>10.666667</td>\n",
       "    </tr>\n",
       "    <tr>\n",
       "      <th>49</th>\n",
       "      <td>Puskesmas Sidotopo</td>\n",
       "      <td>dr. Galih Satryo Utomo</td>\n",
       "      <td>Jl. Pegirian No.239, Sidotopo</td>\n",
       "      <td>(031) 3767735</td>\n",
       "      <td>https://www.google.com/maps/place/Puskesmas+Si...</td>\n",
       "      <td>2,8</td>\n",
       "      <td>(80)</td>\n",
       "      <td>-7.23034775</td>\n",
       "      <td>112.74588161903259</td>\n",
       "      <td>Puskesmas Sidotopo, Jalan Sidodadi, RW 07, Sim...</td>\n",
       "      <td>27.659574</td>\n",
       "    </tr>\n",
       "    <tr>\n",
       "      <th>33</th>\n",
       "      <td>Puskesmas Mojo</td>\n",
       "      <td>dr. Ratna Megasari, M.Kes</td>\n",
       "      <td>Jln. Mojo Klanggru Wetan 2/11</td>\n",
       "      <td>(031) 5932332</td>\n",
       "      <td>https://www.google.com/maps/place/Puskesmas+Mo...</td>\n",
       "      <td>2,6</td>\n",
       "      <td>(285)</td>\n",
       "      <td>-7.2709021499999995</td>\n",
       "      <td>112.77082440581847</td>\n",
       "      <td>Puskesmas Mojo Surabaya, Jalan Mojo Klanggru W...</td>\n",
       "      <td>31.606218</td>\n",
       "    </tr>\n",
       "    <tr>\n",
       "      <th>22</th>\n",
       "      <td>Puskesmas Kenjeran</td>\n",
       "      <td>dr. Rosna Suswanti</td>\n",
       "      <td>Jl. Tambak Deres 2 Surabaya</td>\n",
       "      <td>089515356046</td>\n",
       "      <td>https://www.google.com/maps/place/Puskesmas+Ke...</td>\n",
       "      <td>3,2</td>\n",
       "      <td>(165)</td>\n",
       "      <td>-7.24111075</td>\n",
       "      <td>112.79527909779556</td>\n",
       "      <td>Puskesmas Kenjeran, Jalan Abdul Latif, RW 01, ...</td>\n",
       "      <td>38.461538</td>\n",
       "    </tr>\n",
       "    <tr>\n",
       "      <th>18</th>\n",
       "      <td>Puskesmas Kalirungkut</td>\n",
       "      <td>dr. Bernadetta Martini</td>\n",
       "      <td>Jln. Rungkut Puskesmas No. 1</td>\n",
       "      <td>(031) 8700668</td>\n",
       "      <td>https://www.google.com/maps/place/Puskesmas+Ka...</td>\n",
       "      <td>3,4</td>\n",
       "      <td>(289)</td>\n",
       "      <td>-7.3222179999999994</td>\n",
       "      <td>112.77076210366917</td>\n",
       "      <td>Puskesmas Kalirungkut, Jalan Puskesmas, RW 07,...</td>\n",
       "      <td>40.000000</td>\n",
       "    </tr>\n",
       "    <tr>\n",
       "      <th>12</th>\n",
       "      <td>Puskesmas Gundih</td>\n",
       "      <td>dr. Tita Pusparini, M. Kes</td>\n",
       "      <td>Jln. Margodadi 36 - 38 Surabaya</td>\n",
       "      <td>(031) 5476275</td>\n",
       "      <td>https://www.google.com/maps/place/Puskesmas+Gu...</td>\n",
       "      <td>3,1</td>\n",
       "      <td>(117)</td>\n",
       "      <td>-7.24724475</td>\n",
       "      <td>112.72539044999999</td>\n",
       "      <td>Puskesmas Gundih, Jalan Margodadi, RW 07, Gund...</td>\n",
       "      <td>41.333333</td>\n",
       "    </tr>\n",
       "    <tr>\n",
       "      <th>4</th>\n",
       "      <td>Puskesmas Banyu Urip</td>\n",
       "      <td>dr. Winartuti Santoso, M.Kes</td>\n",
       "      <td>Jln. Banyu Urip Kidul 6/8</td>\n",
       "      <td>(031) 7405936</td>\n",
       "      <td>https://www.google.com/maps/place/Puskesmas+Ba...</td>\n",
       "      <td>3,2</td>\n",
       "      <td>(170)</td>\n",
       "      <td>-7.2715069</td>\n",
       "      <td>112.72002732026792</td>\n",
       "      <td>Puskesmas Banyu Urip, Jalan Banyu Urip Kidul V...</td>\n",
       "      <td>42.201835</td>\n",
       "    </tr>\n",
       "    <tr>\n",
       "      <th>20</th>\n",
       "      <td>Puskesmas Kedungdoro</td>\n",
       "      <td>dr. Diah Roichan Arifiani, M.Kes</td>\n",
       "      <td>Jln. Kaliasin Pompa 79-81 Surabaya</td>\n",
       "      <td>(031) 5345968</td>\n",
       "      <td>https://www.google.com/maps/place/Puskesmas+Ke...</td>\n",
       "      <td>3,2</td>\n",
       "      <td>(145)</td>\n",
       "      <td>-7.26370155</td>\n",
       "      <td>112.73824149999999</td>\n",
       "      <td>Puskesmas Kedungdoro, Jalan Kaliasin Gang VI, ...</td>\n",
       "      <td>43.181818</td>\n",
       "    </tr>\n",
       "    <tr>\n",
       "      <th>40</th>\n",
       "      <td>Puskesmas Peneleh</td>\n",
       "      <td>dr. Ayu Ekanita Hendrayani</td>\n",
       "      <td>Jln. Makam Peneleh No.35</td>\n",
       "      <td>(031) 5343473</td>\n",
       "      <td>https://www.google.com/maps/place/Puskesmas+Pe...</td>\n",
       "      <td>3,2</td>\n",
       "      <td>(152)</td>\n",
       "      <td>-7.2523042</td>\n",
       "      <td>112.74083083291245</td>\n",
       "      <td>Puskesmas Peneleh, Jalan Makam Peneleh, Makam ...</td>\n",
       "      <td>43.478261</td>\n",
       "    </tr>\n",
       "    <tr>\n",
       "      <th>58</th>\n",
       "      <td>Puskesmas Tembok Dukuh</td>\n",
       "      <td>drg. Tiyas Pranadani</td>\n",
       "      <td>Jln. Kalibutuh No 26 Surabaya</td>\n",
       "      <td>(031) 5343410</td>\n",
       "      <td>https://www.google.com/maps/place/Puskesmas+Te...</td>\n",
       "      <td>3,7</td>\n",
       "      <td>(266)</td>\n",
       "      <td>-7.254527449999999</td>\n",
       "      <td>112.71921325</td>\n",
       "      <td>Puskesmas Tembok Dukuh, Jalan Kalibutuh, RW 02...</td>\n",
       "      <td>46.153846</td>\n",
       "    </tr>\n",
       "  </tbody>\n",
       "</table>\n",
       "</div>"
      ],
      "text/plain": [
       "              puskesmas_name                  kepala puskesmas  \\\n",
       "34  Puskesmas Morokrembangan                  dr. Nurul Ihsani   \n",
       "49        Puskesmas Sidotopo            dr. Galih Satryo Utomo   \n",
       "33            Puskesmas Mojo         dr. Ratna Megasari, M.Kes   \n",
       "22        Puskesmas Kenjeran                dr. Rosna Suswanti   \n",
       "18     Puskesmas Kalirungkut            dr. Bernadetta Martini   \n",
       "12          Puskesmas Gundih        dr. Tita Pusparini, M. Kes   \n",
       "4       Puskesmas Banyu Urip      dr. Winartuti Santoso, M.Kes   \n",
       "20      Puskesmas Kedungdoro  dr. Diah Roichan Arifiani, M.Kes   \n",
       "40         Puskesmas Peneleh        dr. Ayu Ekanita Hendrayani   \n",
       "58    Puskesmas Tembok Dukuh              drg. Tiyas Pranadani   \n",
       "\n",
       "                                 alamat        telepon  \\\n",
       "34  Jln. Tambakasri 13/7 Morokrembangan  (031) 7493259   \n",
       "49        Jl. Pegirian No.239, Sidotopo  (031) 3767735   \n",
       "33        Jln. Mojo Klanggru Wetan 2/11  (031) 5932332   \n",
       "22          Jl. Tambak Deres 2 Surabaya   089515356046   \n",
       "18         Jln. Rungkut Puskesmas No. 1  (031) 8700668   \n",
       "12      Jln. Margodadi 36 - 38 Surabaya  (031) 5476275   \n",
       "4             Jln. Banyu Urip Kidul 6/8  (031) 7405936   \n",
       "20   Jln. Kaliasin Pompa 79-81 Surabaya  (031) 5345968   \n",
       "40             Jln. Makam Peneleh No.35  (031) 5343473   \n",
       "58        Jln. Kalibutuh No 26 Surabaya  (031) 5343410   \n",
       "\n",
       "                                                  url rate review_num  \\\n",
       "34  https://www.google.com/maps/place/Puskesmas+Mo...  1,9      (108)   \n",
       "49  https://www.google.com/maps/place/Puskesmas+Si...  2,8       (80)   \n",
       "33  https://www.google.com/maps/place/Puskesmas+Mo...  2,6      (285)   \n",
       "22  https://www.google.com/maps/place/Puskesmas+Ke...  3,2      (165)   \n",
       "18  https://www.google.com/maps/place/Puskesmas+Ka...  3,4      (289)   \n",
       "12  https://www.google.com/maps/place/Puskesmas+Gu...  3,1      (117)   \n",
       "4   https://www.google.com/maps/place/Puskesmas+Ba...  3,2      (170)   \n",
       "20  https://www.google.com/maps/place/Puskesmas+Ke...  3,2      (145)   \n",
       "40  https://www.google.com/maps/place/Puskesmas+Pe...  3,2      (152)   \n",
       "58  https://www.google.com/maps/place/Puskesmas+Te...  3,7      (266)   \n",
       "\n",
       "                    lat                 lon  \\\n",
       "34           -7.2347805  112.71244346706712   \n",
       "49          -7.23034775  112.74588161903259   \n",
       "33  -7.2709021499999995  112.77082440581847   \n",
       "22          -7.24111075  112.79527909779556   \n",
       "18  -7.3222179999999994  112.77076210366917   \n",
       "12          -7.24724475  112.72539044999999   \n",
       "4            -7.2715069  112.72002732026792   \n",
       "20          -7.26370155  112.73824149999999   \n",
       "40           -7.2523042  112.74083083291245   \n",
       "58   -7.254527449999999        112.71921325   \n",
       "\n",
       "                                         display_name  positive_percentage  \n",
       "34  Puskesmas Moro Krembangab, Jalan Tambak Asri X...            10.666667  \n",
       "49  Puskesmas Sidotopo, Jalan Sidodadi, RW 07, Sim...            27.659574  \n",
       "33  Puskesmas Mojo Surabaya, Jalan Mojo Klanggru W...            31.606218  \n",
       "22  Puskesmas Kenjeran, Jalan Abdul Latif, RW 01, ...            38.461538  \n",
       "18  Puskesmas Kalirungkut, Jalan Puskesmas, RW 07,...            40.000000  \n",
       "12  Puskesmas Gundih, Jalan Margodadi, RW 07, Gund...            41.333333  \n",
       "4   Puskesmas Banyu Urip, Jalan Banyu Urip Kidul V...            42.201835  \n",
       "20  Puskesmas Kedungdoro, Jalan Kaliasin Gang VI, ...            43.181818  \n",
       "40  Puskesmas Peneleh, Jalan Makam Peneleh, Makam ...            43.478261  \n",
       "58  Puskesmas Tembok Dukuh, Jalan Kalibutuh, RW 02...            46.153846  "
      ]
     },
     "execution_count": 13,
     "metadata": {},
     "output_type": "execute_result"
    }
   ],
   "source": [
    "most_negative_review = detail_puskesmas.sort_values(\n",
    "    \"positive_percentage\", ascending=True\n",
    ").head(10)\n",
    "most_negative_review"
   ]
  },
  {
   "cell_type": "code",
   "execution_count": 14,
   "metadata": {},
   "outputs": [
    {
     "data": {
      "text/html": [
       "<div>\n",
       "<style scoped>\n",
       "    .dataframe tbody tr th:only-of-type {\n",
       "        vertical-align: middle;\n",
       "    }\n",
       "\n",
       "    .dataframe tbody tr th {\n",
       "        vertical-align: top;\n",
       "    }\n",
       "\n",
       "    .dataframe thead th {\n",
       "        text-align: right;\n",
       "    }\n",
       "</style>\n",
       "<table border=\"1\" class=\"dataframe\">\n",
       "  <thead>\n",
       "    <tr style=\"text-align: right;\">\n",
       "      <th></th>\n",
       "      <th>puskesmas_name</th>\n",
       "      <th>kepala puskesmas</th>\n",
       "      <th>alamat</th>\n",
       "      <th>telepon</th>\n",
       "      <th>url</th>\n",
       "      <th>rate</th>\n",
       "      <th>review_num</th>\n",
       "      <th>lat</th>\n",
       "      <th>lon</th>\n",
       "      <th>display_name</th>\n",
       "      <th>positive_percentage</th>\n",
       "    </tr>\n",
       "  </thead>\n",
       "  <tbody>\n",
       "    <tr>\n",
       "      <th>0</th>\n",
       "      <td>Puskesmas Asemrowo</td>\n",
       "      <td>dr. Diah Miryati</td>\n",
       "      <td>Jln. Asem Raya No. 8</td>\n",
       "      <td>(031) 5456122 / 081252965070</td>\n",
       "      <td>https://www.google.com/maps/place/Puskesmas+As...</td>\n",
       "      <td>3,5</td>\n",
       "      <td>(131)</td>\n",
       "      <td>-7.25186115</td>\n",
       "      <td>112.71456194620362</td>\n",
       "      <td>Puskesmas Asem Rowo, Jalan Asem Raya, RW 01, A...</td>\n",
       "      <td>54.347826</td>\n",
       "    </tr>\n",
       "    <tr>\n",
       "      <th>1</th>\n",
       "      <td>Puskesmas Balas Klumprik</td>\n",
       "      <td>dr. Yessy Pebriaty Sukatendel, MM</td>\n",
       "      <td>Jln. Raya Balas Klumprik</td>\n",
       "      <td>(031) 7665219</td>\n",
       "      <td>https://www.google.com/maps/place/Puskesmas+Ba...</td>\n",
       "      <td>4,1</td>\n",
       "      <td>(96)</td>\n",
       "      <td>-7.3315249</td>\n",
       "      <td>112.69002720464968</td>\n",
       "      <td>Puskesmas Balas Klumprik, Jalan Balas Klumprik...</td>\n",
       "      <td>73.684211</td>\n",
       "    </tr>\n",
       "    <tr>\n",
       "      <th>2</th>\n",
       "      <td>Puskesmas Balongsari</td>\n",
       "      <td>dr. Dewi Ayuning Asih</td>\n",
       "      <td>Jln. Balongsari Tama No. 2 Surabaya</td>\n",
       "      <td>(031) 7417104</td>\n",
       "      <td>https://www.google.com/maps/place/Puskesmas+Ba...</td>\n",
       "      <td>3,9</td>\n",
       "      <td>(308)</td>\n",
       "      <td>-7.2592288499999995</td>\n",
       "      <td>112.6783010204094</td>\n",
       "      <td>Puskesmas Balongsari, Jalan Balongsari Tama, R...</td>\n",
       "      <td>63.978495</td>\n",
       "    </tr>\n",
       "    <tr>\n",
       "      <th>3</th>\n",
       "      <td>Puskesmas Bangkingan</td>\n",
       "      <td>dr. Tri Indah Rachmawati</td>\n",
       "      <td>Jln. Banyu Urip Kidul 6/8</td>\n",
       "      <td>(031) 5685424 - 5615292 / 081334932007</td>\n",
       "      <td>https://www.google.com/maps/place/Puskesmas+Ba...</td>\n",
       "      <td>3,8</td>\n",
       "      <td>(84)</td>\n",
       "      <td>-7.32492005</td>\n",
       "      <td>112.65610895</td>\n",
       "      <td>Puskesmas Bangkingan, Jalan Bangkingan, RW 02,...</td>\n",
       "      <td>53.333333</td>\n",
       "    </tr>\n",
       "    <tr>\n",
       "      <th>4</th>\n",
       "      <td>Puskesmas Banyu Urip</td>\n",
       "      <td>dr. Winartuti Santoso, M.Kes</td>\n",
       "      <td>Jln. Banyu Urip Kidul 6/8</td>\n",
       "      <td>(031) 7405936</td>\n",
       "      <td>https://www.google.com/maps/place/Puskesmas+Ba...</td>\n",
       "      <td>3,2</td>\n",
       "      <td>(170)</td>\n",
       "      <td>-7.2715069</td>\n",
       "      <td>112.72002732026792</td>\n",
       "      <td>Puskesmas Banyu Urip, Jalan Banyu Urip Kidul V...</td>\n",
       "      <td>42.201835</td>\n",
       "    </tr>\n",
       "  </tbody>\n",
       "</table>\n",
       "</div>"
      ],
      "text/plain": [
       "             puskesmas_name                   kepala puskesmas  \\\n",
       "0        Puskesmas Asemrowo                   dr. Diah Miryati   \n",
       "1  Puskesmas Balas Klumprik  dr. Yessy Pebriaty Sukatendel, MM   \n",
       "2      Puskesmas Balongsari              dr. Dewi Ayuning Asih   \n",
       "3      Puskesmas Bangkingan           dr. Tri Indah Rachmawati   \n",
       "4      Puskesmas Banyu Urip       dr. Winartuti Santoso, M.Kes   \n",
       "\n",
       "                                alamat  \\\n",
       "0                 Jln. Asem Raya No. 8   \n",
       "1             Jln. Raya Balas Klumprik   \n",
       "2  Jln. Balongsari Tama No. 2 Surabaya   \n",
       "3            Jln. Banyu Urip Kidul 6/8   \n",
       "4            Jln. Banyu Urip Kidul 6/8   \n",
       "\n",
       "                                  telepon  \\\n",
       "0            (031) 5456122 / 081252965070   \n",
       "1                           (031) 7665219   \n",
       "2                           (031) 7417104   \n",
       "3  (031) 5685424 - 5615292 / 081334932007   \n",
       "4                           (031) 7405936   \n",
       "\n",
       "                                                 url rate review_num  \\\n",
       "0  https://www.google.com/maps/place/Puskesmas+As...  3,5      (131)   \n",
       "1  https://www.google.com/maps/place/Puskesmas+Ba...  4,1       (96)   \n",
       "2  https://www.google.com/maps/place/Puskesmas+Ba...  3,9      (308)   \n",
       "3  https://www.google.com/maps/place/Puskesmas+Ba...  3,8       (84)   \n",
       "4  https://www.google.com/maps/place/Puskesmas+Ba...  3,2      (170)   \n",
       "\n",
       "                   lat                 lon  \\\n",
       "0          -7.25186115  112.71456194620362   \n",
       "1           -7.3315249  112.69002720464968   \n",
       "2  -7.2592288499999995   112.6783010204094   \n",
       "3          -7.32492005        112.65610895   \n",
       "4           -7.2715069  112.72002732026792   \n",
       "\n",
       "                                        display_name  positive_percentage  \n",
       "0  Puskesmas Asem Rowo, Jalan Asem Raya, RW 01, A...            54.347826  \n",
       "1  Puskesmas Balas Klumprik, Jalan Balas Klumprik...            73.684211  \n",
       "2  Puskesmas Balongsari, Jalan Balongsari Tama, R...            63.978495  \n",
       "3  Puskesmas Bangkingan, Jalan Bangkingan, RW 02,...            53.333333  \n",
       "4  Puskesmas Banyu Urip, Jalan Banyu Urip Kidul V...            42.201835  "
      ]
     },
     "execution_count": 14,
     "metadata": {},
     "output_type": "execute_result"
    }
   ],
   "source": [
    "detail_puskesmas.head()"
   ]
  },
  {
   "cell_type": "code",
   "execution_count": 15,
   "metadata": {},
   "outputs": [
    {
     "data": {
      "text/html": [
       "<div>\n",
       "<style scoped>\n",
       "    .dataframe tbody tr th:only-of-type {\n",
       "        vertical-align: middle;\n",
       "    }\n",
       "\n",
       "    .dataframe tbody tr th {\n",
       "        vertical-align: top;\n",
       "    }\n",
       "\n",
       "    .dataframe thead th {\n",
       "        text-align: right;\n",
       "    }\n",
       "</style>\n",
       "<table border=\"1\" class=\"dataframe\">\n",
       "  <thead>\n",
       "    <tr style=\"text-align: right;\">\n",
       "      <th></th>\n",
       "      <th>reviewer_name</th>\n",
       "      <th>rating</th>\n",
       "      <th>review_text</th>\n",
       "      <th>puskesmas_name</th>\n",
       "      <th>cleaned_review_text</th>\n",
       "      <th>language</th>\n",
       "      <th>is_positive</th>\n",
       "    </tr>\n",
       "  </thead>\n",
       "  <tbody>\n",
       "    <tr>\n",
       "      <th>0</th>\n",
       "      <td>Mira Diah V</td>\n",
       "      <td>5</td>\n",
       "      <td>Pelayanan di poli KIA bagus&amp;informatif sekali....</td>\n",
       "      <td>Puskesmas Simomulyo</td>\n",
       "      <td>layan pol kia bagusinformatif anak imunisasi a...</td>\n",
       "      <td>id</td>\n",
       "      <td>1</td>\n",
       "    </tr>\n",
       "    <tr>\n",
       "      <th>1</th>\n",
       "      <td>Ranitya Dewi Ayu Sadian</td>\n",
       "      <td>1</td>\n",
       "      <td>Pelayanan poli KIA lama sekali…\\nKamis pagi se...</td>\n",
       "      <td>Puskesmas Simomulyo</td>\n",
       "      <td>layan pol kia kamis pagi puskesmas daftar pol ...</td>\n",
       "      <td>id</td>\n",
       "      <td>0</td>\n",
       "    </tr>\n",
       "    <tr>\n",
       "      <th>2</th>\n",
       "      <td>Yuliasti Ika</td>\n",
       "      <td>5</td>\n",
       "      <td>Puskesmas dengan pelayanan yang baik sekali, s...</td>\n",
       "      <td>Puskesmas Simomulyo</td>\n",
       "      <td>puskesmas layan layan ramah lengkap fasilitas ...</td>\n",
       "      <td>id</td>\n",
       "      <td>1</td>\n",
       "    </tr>\n",
       "    <tr>\n",
       "      <th>3</th>\n",
       "      <td>Yusup Jaya</td>\n",
       "      <td>1</td>\n",
       "      <td>Pelayanan tambah lelet, mohon managentnya di p...</td>\n",
       "      <td>Puskesmas Simomulyo</td>\n",
       "      <td>layan lambat mohon managernya sat set rujuk ce...</td>\n",
       "      <td>id</td>\n",
       "      <td>0</td>\n",
       "    </tr>\n",
       "    <tr>\n",
       "      <th>4</th>\n",
       "      <td>Yunia Ardina</td>\n",
       "      <td>1</td>\n",
       "      <td>Saya mau kasih masukan sekaligus protes..\\n\\nS...</td>\n",
       "      <td>Puskesmas Simomulyo</td>\n",
       "      <td>kasih masuk protes tanggal february jaman prik...</td>\n",
       "      <td>id</td>\n",
       "      <td>0</td>\n",
       "    </tr>\n",
       "  </tbody>\n",
       "</table>\n",
       "</div>"
      ],
      "text/plain": [
       "             reviewer_name  rating  \\\n",
       "0              Mira Diah V       5   \n",
       "1  Ranitya Dewi Ayu Sadian       1   \n",
       "2             Yuliasti Ika       5   \n",
       "3               Yusup Jaya       1   \n",
       "4             Yunia Ardina       1   \n",
       "\n",
       "                                         review_text       puskesmas_name  \\\n",
       "0  Pelayanan di poli KIA bagus&informatif sekali....  Puskesmas Simomulyo   \n",
       "1  Pelayanan poli KIA lama sekali…\\nKamis pagi se...  Puskesmas Simomulyo   \n",
       "2  Puskesmas dengan pelayanan yang baik sekali, s...  Puskesmas Simomulyo   \n",
       "3  Pelayanan tambah lelet, mohon managentnya di p...  Puskesmas Simomulyo   \n",
       "4  Saya mau kasih masukan sekaligus protes..\\n\\nS...  Puskesmas Simomulyo   \n",
       "\n",
       "                                 cleaned_review_text language  is_positive  \n",
       "0  layan pol kia bagusinformatif anak imunisasi a...       id            1  \n",
       "1  layan pol kia kamis pagi puskesmas daftar pol ...       id            0  \n",
       "2  puskesmas layan layan ramah lengkap fasilitas ...       id            1  \n",
       "3  layan lambat mohon managernya sat set rujuk ce...       id            0  \n",
       "4  kasih masuk protes tanggal february jaman prik...       id            0  "
      ]
     },
     "execution_count": 15,
     "metadata": {},
     "output_type": "execute_result"
    }
   ],
   "source": [
    "predicted_data_puskesmas.head()"
   ]
  },
  {
   "cell_type": "code",
   "execution_count": 17,
   "metadata": {},
   "outputs": [],
   "source": [
    "detail_puskesmas.to_csv(\"puskesmas_detail.csv\", index=False)"
   ]
  }
 ],
 "metadata": {
  "kernelspec": {
   "display_name": "Python 3",
   "language": "python",
   "name": "python3"
  },
  "language_info": {
   "codemirror_mode": {
    "name": "ipython",
    "version": 3
   },
   "file_extension": ".py",
   "mimetype": "text/x-python",
   "name": "python",
   "nbconvert_exporter": "python",
   "pygments_lexer": "ipython3",
   "version": "3.11.5"
  }
 },
 "nbformat": 4,
 "nbformat_minor": 2
}
