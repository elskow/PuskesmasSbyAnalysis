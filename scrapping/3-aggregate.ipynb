{
 "cells": [
  {
   "cell_type": "code",
   "execution_count": 10,
   "metadata": {},
   "outputs": [
    {
     "name": "stdout",
     "output_type": "stream",
     "text": [
      "['review_Puskesmas Simomulyo.csv', 'review_Puskesmas Dr. Soetomo.csv', 'review_Puskesmas Pucang Sewu.csv', 'review_Puskesmas Sidotopo Wetan.csv', 'review_Puskesmas Morokrembangan.csv', 'review_Puskesmas Ketabang.csv', 'review_Puskesmas Kalirungkut.csv', 'review_Puskesmas Gayungan.csv', 'review_Puskesmas Pegirian.csv', 'review_Puskesmas Krembangan Selatan.csv', 'review_Puskesmas Putat Jaya.csv', 'review_Puskesmas Keputih.csv', 'review_Puskesmas Gading.csv', 'review_Puskesmas Sememi.csv', 'review_Puskesmas Gunung Anyar.csv', 'review_Puskesmas Kedungdoro.csv', 'review_Puskesmas Gundih.csv', 'review_Puskesmas Bangkingan.csv', 'review_Puskesmas Siwalankerto.csv', 'review_Puskesmas Dupak.csv', 'review_Puskesmas Jemursari.csv', 'review_Puskesmas Sawah Pulo.csv', 'review_Puskesmas Dukuh Kupang.csv', 'review_Puskesmas Benowo.csv', 'review_Puskesmas Asemrowo.csv', 'review_Puskesmas Balongsari.csv', 'review_Puskesmas Bulak Banteng.csv', 'review_Puskesmas Tambak Rejo.csv', 'review_Puskesmas Peneleh.csv', 'review_Puskesmas Jagir.csv', 'review_Puskesmas Tembok Dukuh.csv', 'review_Puskesmas Banyu Urip.csv', 'review_Puskesmas Wiyung.csv', 'review_Puskesmas Medokan Ayu.csv', 'review_Puskesmas Wonokusumo.csv', 'review_Puskesmas Tambak Wedi.csv', 'review_Puskesmas Tanah Kali Kedinding.csv', 'review_Puskesmas Pacar Keling.csv', 'review_Puskesmas Lidah Kulon.csv', 'review_Puskesmas Ngagel Rejo.csv', 'review_Puskesmas Tenggilis.csv', 'review_Puskesmas Kalijudan.csv', 'review_Puskesmas Tanjungsari.csv', 'review_Puskesmas Klampis Ngasem.csv', 'review_Puskesmas Kenjeran.csv', 'review_Puskesmas Sawahan.csv', 'review_Puskesmas Wonokromo.csv', 'review_Puskesmas Rangkah.csv', 'review_Puskesmas Made.csv', 'review_Puskesmas Menur.csv', 'review_Puskesmas Perak Timur.csv', 'review_Puskesmas Balas Klumprik.csv', 'review_Puskesmas Sidosermo.csv', 'review_Puskesmas Mojo.csv', 'review_Puskesmas Mulyorejo.csv', 'review_Puskesmas Lontar.csv', 'review_Puskesmas Kebonsari.csv', 'review_Puskesmas Kedurus.csv', 'review_Puskesmas Pakis.csv', 'review_Puskesmas Jeruk.csv', 'review_Puskesmas Sidotopo.csv', 'review_Puskesmas Simolawang.csv', 'review_Puskesmas Manukan Kulon.csv']\n"
     ]
    }
   ],
   "source": [
    "import os\n",
    "import csv\n",
    "import pandas as pd\n",
    "\n",
    "# get all files in the scraped directory\n",
    "scraped_dir = \"scraped\"\n",
    "files = os.listdir(scraped_dir)\n",
    "\n",
    "print(files)"
   ]
  },
  {
   "cell_type": "code",
   "execution_count": 11,
   "metadata": {},
   "outputs": [
    {
     "name": "stdout",
     "output_type": "stream",
     "text": [
      "Processing review_Puskesmas Simomulyo.csv\n",
      "Processing review_Puskesmas Dr. Soetomo.csv\n",
      "Processing review_Puskesmas Pucang Sewu.csv\n",
      "Processing review_Puskesmas Sidotopo Wetan.csv\n",
      "Processing review_Puskesmas Morokrembangan.csv\n",
      "Processing review_Puskesmas Ketabang.csv\n",
      "Processing review_Puskesmas Kalirungkut.csv\n",
      "Processing review_Puskesmas Gayungan.csv\n",
      "Processing review_Puskesmas Pegirian.csv\n",
      "Processing review_Puskesmas Krembangan Selatan.csv\n",
      "Processing review_Puskesmas Putat Jaya.csv\n",
      "Processing review_Puskesmas Keputih.csv\n",
      "Processing review_Puskesmas Gading.csv\n",
      "Processing review_Puskesmas Sememi.csv\n",
      "Processing review_Puskesmas Gunung Anyar.csv\n",
      "Processing review_Puskesmas Kedungdoro.csv\n",
      "Processing review_Puskesmas Gundih.csv\n",
      "Processing review_Puskesmas Bangkingan.csv\n",
      "Processing review_Puskesmas Siwalankerto.csv\n",
      "Processing review_Puskesmas Dupak.csv\n",
      "Processing review_Puskesmas Jemursari.csv\n",
      "Processing review_Puskesmas Sawah Pulo.csv\n",
      "Processing review_Puskesmas Dukuh Kupang.csv\n",
      "Processing review_Puskesmas Benowo.csv\n",
      "Processing review_Puskesmas Asemrowo.csv\n",
      "Processing review_Puskesmas Balongsari.csv\n",
      "Processing review_Puskesmas Bulak Banteng.csv\n",
      "Processing review_Puskesmas Tambak Rejo.csv\n",
      "Processing review_Puskesmas Peneleh.csv\n",
      "Processing review_Puskesmas Jagir.csv\n",
      "Processing review_Puskesmas Tembok Dukuh.csv\n",
      "Processing review_Puskesmas Banyu Urip.csv\n",
      "Processing review_Puskesmas Wiyung.csv\n",
      "Processing review_Puskesmas Medokan Ayu.csv\n",
      "Processing review_Puskesmas Wonokusumo.csv\n",
      "Processing review_Puskesmas Tambak Wedi.csv\n",
      "Processing review_Puskesmas Tanah Kali Kedinding.csv\n",
      "Processing review_Puskesmas Pacar Keling.csv\n",
      "Processing review_Puskesmas Lidah Kulon.csv\n",
      "Processing review_Puskesmas Ngagel Rejo.csv\n",
      "Processing review_Puskesmas Tenggilis.csv\n",
      "Processing review_Puskesmas Kalijudan.csv\n",
      "Processing review_Puskesmas Tanjungsari.csv\n",
      "Processing review_Puskesmas Klampis Ngasem.csv\n",
      "Processing review_Puskesmas Kenjeran.csv\n",
      "Processing review_Puskesmas Sawahan.csv\n",
      "Processing review_Puskesmas Wonokromo.csv\n",
      "Processing review_Puskesmas Rangkah.csv\n",
      "Processing review_Puskesmas Made.csv\n",
      "Processing review_Puskesmas Menur.csv\n",
      "Processing review_Puskesmas Perak Timur.csv\n",
      "Processing review_Puskesmas Balas Klumprik.csv\n",
      "Processing review_Puskesmas Sidosermo.csv\n",
      "Processing review_Puskesmas Mojo.csv\n",
      "Processing review_Puskesmas Mulyorejo.csv\n",
      "Processing review_Puskesmas Lontar.csv\n",
      "Processing review_Puskesmas Kebonsari.csv\n",
      "Processing review_Puskesmas Kedurus.csv\n",
      "Processing review_Puskesmas Pakis.csv\n",
      "Processing review_Puskesmas Jeruk.csv\n",
      "Processing review_Puskesmas Sidotopo.csv\n",
      "Processing review_Puskesmas Simolawang.csv\n",
      "Processing review_Puskesmas Manukan Kulon.csv\n"
     ]
    },
    {
     "data": {
      "text/html": [
       "<div>\n",
       "<style scoped>\n",
       "    .dataframe tbody tr th:only-of-type {\n",
       "        vertical-align: middle;\n",
       "    }\n",
       "\n",
       "    .dataframe tbody tr th {\n",
       "        vertical-align: top;\n",
       "    }\n",
       "\n",
       "    .dataframe thead th {\n",
       "        text-align: right;\n",
       "    }\n",
       "</style>\n",
       "<table border=\"1\" class=\"dataframe\">\n",
       "  <thead>\n",
       "    <tr style=\"text-align: right;\">\n",
       "      <th></th>\n",
       "      <th>reviewer_name</th>\n",
       "      <th>rating</th>\n",
       "      <th>review_text</th>\n",
       "      <th>puskesmas_name</th>\n",
       "    </tr>\n",
       "  </thead>\n",
       "  <tbody>\n",
       "    <tr>\n",
       "      <th>0</th>\n",
       "      <td>Mira Diah V</td>\n",
       "      <td>5 bintang</td>\n",
       "      <td>Pelayanan di poli KIA bagus&amp;informatif sekali....</td>\n",
       "      <td>Puskesmas Simomulyo</td>\n",
       "    </tr>\n",
       "    <tr>\n",
       "      <th>1</th>\n",
       "      <td>Ranitya Dewi Ayu Sadian</td>\n",
       "      <td>1 bintang</td>\n",
       "      <td>Pelayanan poli KIA lama sekali…\\nKamis pagi se...</td>\n",
       "      <td>Puskesmas Simomulyo</td>\n",
       "    </tr>\n",
       "    <tr>\n",
       "      <th>2</th>\n",
       "      <td>Mas Bri</td>\n",
       "      <td>4 bintang</td>\n",
       "      <td>Menurut saya sudah bagus untuk mau yang mau be...</td>\n",
       "      <td>Puskesmas Simomulyo</td>\n",
       "    </tr>\n",
       "    <tr>\n",
       "      <th>3</th>\n",
       "      <td>Yuliasti Ika</td>\n",
       "      <td>5 bintang</td>\n",
       "      <td>Puskesmas dengan pelayanan yang baik sekali, s...</td>\n",
       "      <td>Puskesmas Simomulyo</td>\n",
       "    </tr>\n",
       "    <tr>\n",
       "      <th>4</th>\n",
       "      <td>Yusup Jaya</td>\n",
       "      <td>1 bintang</td>\n",
       "      <td>Pelayanan tambah lelet, mohon managentnya di p...</td>\n",
       "      <td>Puskesmas Simomulyo</td>\n",
       "    </tr>\n",
       "  </tbody>\n",
       "</table>\n",
       "</div>"
      ],
      "text/plain": [
       "             reviewer_name     rating  \\\n",
       "0              Mira Diah V  5 bintang   \n",
       "1  Ranitya Dewi Ayu Sadian  1 bintang   \n",
       "2                  Mas Bri  4 bintang   \n",
       "3             Yuliasti Ika  5 bintang   \n",
       "4               Yusup Jaya  1 bintang   \n",
       "\n",
       "                                         review_text       puskesmas_name  \n",
       "0  Pelayanan di poli KIA bagus&informatif sekali....  Puskesmas Simomulyo  \n",
       "1  Pelayanan poli KIA lama sekali…\\nKamis pagi se...  Puskesmas Simomulyo  \n",
       "2  Menurut saya sudah bagus untuk mau yang mau be...  Puskesmas Simomulyo  \n",
       "3  Puskesmas dengan pelayanan yang baik sekali, s...  Puskesmas Simomulyo  \n",
       "4  Pelayanan tambah lelet, mohon managentnya di p...  Puskesmas Simomulyo  "
      ]
     },
     "execution_count": 11,
     "metadata": {},
     "output_type": "execute_result"
    }
   ],
   "source": [
    "df = pd.DataFrame()\n",
    "\n",
    "for file in files:\n",
    "    if file.endswith(\".csv\"):\n",
    "        print(f\"Processing {file}\")\n",
    "        file_path = os.path.join(scraped_dir, file)\n",
    "        temp_df = pd.read_csv(file_path)\n",
    "        puskesmas_name = file.split(\"_\")[1].split(\".\")[0]\n",
    "        temp_df[\"puskesmas_name\"] = puskesmas_name\n",
    "        df = pd.concat([df, temp_df], ignore_index=True)\n",
    "\n",
    "df.head()"
   ]
  },
  {
   "cell_type": "code",
   "execution_count": 12,
   "metadata": {},
   "outputs": [
    {
     "data": {
      "text/plain": [
       "puskesmas_name\n",
       "Puskesmas Tanah Kali Kedinding    490\n",
       "Puskesmas Jagir                   462\n",
       "Puskesmas Dukuh Kupang            458\n",
       "Puskesmas Sidotopo Wetan          447\n",
       "Puskesmas Medokan Ayu             444\n",
       "                                 ... \n",
       "Puskesmas Sidotopo                 80\n",
       "Puskesmas Made                     80\n",
       "Puskesmas Pegirian                 67\n",
       "Puskesmas Ketabang                 60\n",
       "Puskesmas Kalirungkut              30\n",
       "Name: count, Length: 63, dtype: int64"
      ]
     },
     "execution_count": 12,
     "metadata": {},
     "output_type": "execute_result"
    }
   ],
   "source": [
    "# show how many rows each puskesmas has\n",
    "df[\"puskesmas_name\"].value_counts()"
   ]
  },
  {
   "cell_type": "code",
   "execution_count": 13,
   "metadata": {},
   "outputs": [],
   "source": [
    "df.to_csv(\"puskesmas_data.csv\", index=False)"
   ]
  },
  {
   "cell_type": "code",
   "execution_count": 14,
   "metadata": {},
   "outputs": [
    {
     "data": {
      "text/plain": [
       "(14891, 4)"
      ]
     },
     "execution_count": 14,
     "metadata": {},
     "output_type": "execute_result"
    }
   ],
   "source": [
    "df.shape"
   ]
  }
 ],
 "metadata": {
  "kernelspec": {
   "display_name": "Python 3",
   "language": "python",
   "name": "python3"
  },
  "language_info": {
   "codemirror_mode": {
    "name": "ipython",
    "version": 3
   },
   "file_extension": ".py",
   "mimetype": "text/x-python",
   "name": "python",
   "nbconvert_exporter": "python",
   "pygments_lexer": "ipython3",
   "version": "3.9.19"
  }
 },
 "nbformat": 4,
 "nbformat_minor": 2
}
