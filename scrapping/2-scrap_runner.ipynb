{
 "cells": [
  {
   "cell_type": "code",
   "execution_count": 6,
   "metadata": {},
   "outputs": [],
   "source": [
    "import pandas as pd"
   ]
  },
  {
   "cell_type": "code",
   "execution_count": 7,
   "metadata": {},
   "outputs": [
    {
     "data": {
      "text/html": [
       "<div>\n",
       "<style scoped>\n",
       "    .dataframe tbody tr th:only-of-type {\n",
       "        vertical-align: middle;\n",
       "    }\n",
       "\n",
       "    .dataframe tbody tr th {\n",
       "        vertical-align: top;\n",
       "    }\n",
       "\n",
       "    .dataframe thead th {\n",
       "        text-align: right;\n",
       "    }\n",
       "</style>\n",
       "<table border=\"1\" class=\"dataframe\">\n",
       "  <thead>\n",
       "    <tr style=\"text-align: right;\">\n",
       "      <th></th>\n",
       "      <th>name</th>\n",
       "      <th>kepala puskesmas</th>\n",
       "      <th>alamat</th>\n",
       "      <th>telepon</th>\n",
       "      <th>url</th>\n",
       "      <th>rate</th>\n",
       "      <th>review_num</th>\n",
       "    </tr>\n",
       "  </thead>\n",
       "  <tbody>\n",
       "    <tr>\n",
       "      <th>0</th>\n",
       "      <td>Puskesmas Asemrowo</td>\n",
       "      <td>dr. Diah Miryati</td>\n",
       "      <td>Jln. Asem Raya No. 8</td>\n",
       "      <td>(031) 5456122 / 081252965070</td>\n",
       "      <td>https://www.google.com/maps/place/Puskesmas+As...</td>\n",
       "      <td>3,5</td>\n",
       "      <td>(131)</td>\n",
       "    </tr>\n",
       "    <tr>\n",
       "      <th>1</th>\n",
       "      <td>Puskesmas Balas Klumprik</td>\n",
       "      <td>dr. Yessy Pebriaty Sukatendel, MM</td>\n",
       "      <td>Jln. Raya Balas Klumprik</td>\n",
       "      <td>(031) 7665219</td>\n",
       "      <td>https://www.google.com/maps/place/Puskesmas+Ba...</td>\n",
       "      <td>4,1</td>\n",
       "      <td>(96)</td>\n",
       "    </tr>\n",
       "    <tr>\n",
       "      <th>2</th>\n",
       "      <td>Puskesmas Balongsari</td>\n",
       "      <td>dr. Dewi Ayuning Asih</td>\n",
       "      <td>Jln. Balongsari Tama No. 2 Surabaya</td>\n",
       "      <td>(031) 7417104</td>\n",
       "      <td>https://www.google.com/maps/place/Puskesmas+Ba...</td>\n",
       "      <td>3,9</td>\n",
       "      <td>(308)</td>\n",
       "    </tr>\n",
       "    <tr>\n",
       "      <th>3</th>\n",
       "      <td>Puskesmas Bangkingan</td>\n",
       "      <td>dr. Tri Indah Rachmawati</td>\n",
       "      <td>Jln. Banyu Urip Kidul 6/8</td>\n",
       "      <td>(031) 5685424 - 5615292 / 081334932007</td>\n",
       "      <td>https://www.google.com/maps/place/Puskesmas+Ba...</td>\n",
       "      <td>3,8</td>\n",
       "      <td>(84)</td>\n",
       "    </tr>\n",
       "    <tr>\n",
       "      <th>4</th>\n",
       "      <td>Puskesmas Banyu Urip</td>\n",
       "      <td>dr. Winartuti Santoso, M.Kes</td>\n",
       "      <td>Jln. Banyu Urip Kidul 6/8</td>\n",
       "      <td>(031) 7405936</td>\n",
       "      <td>https://www.google.com/maps/place/Puskesmas+Ba...</td>\n",
       "      <td>3,2</td>\n",
       "      <td>(170)</td>\n",
       "    </tr>\n",
       "  </tbody>\n",
       "</table>\n",
       "</div>"
      ],
      "text/plain": [
       "                       name                   kepala puskesmas  \\\n",
       "0        Puskesmas Asemrowo                   dr. Diah Miryati   \n",
       "1  Puskesmas Balas Klumprik  dr. Yessy Pebriaty Sukatendel, MM   \n",
       "2      Puskesmas Balongsari              dr. Dewi Ayuning Asih   \n",
       "3      Puskesmas Bangkingan           dr. Tri Indah Rachmawati   \n",
       "4      Puskesmas Banyu Urip       dr. Winartuti Santoso, M.Kes   \n",
       "\n",
       "                                alamat  \\\n",
       "0                 Jln. Asem Raya No. 8   \n",
       "1             Jln. Raya Balas Klumprik   \n",
       "2  Jln. Balongsari Tama No. 2 Surabaya   \n",
       "3            Jln. Banyu Urip Kidul 6/8   \n",
       "4            Jln. Banyu Urip Kidul 6/8   \n",
       "\n",
       "                                  telepon  \\\n",
       "0            (031) 5456122 / 081252965070   \n",
       "1                           (031) 7665219   \n",
       "2                           (031) 7417104   \n",
       "3  (031) 5685424 - 5615292 / 081334932007   \n",
       "4                           (031) 7405936   \n",
       "\n",
       "                                                 url rate review_num  \n",
       "0  https://www.google.com/maps/place/Puskesmas+As...  3,5      (131)  \n",
       "1  https://www.google.com/maps/place/Puskesmas+Ba...  4,1       (96)  \n",
       "2  https://www.google.com/maps/place/Puskesmas+Ba...  3,9      (308)  \n",
       "3  https://www.google.com/maps/place/Puskesmas+Ba...  3,8       (84)  \n",
       "4  https://www.google.com/maps/place/Puskesmas+Ba...  3,2      (170)  "
      ]
     },
     "execution_count": 7,
     "metadata": {},
     "output_type": "execute_result"
    }
   ],
   "source": [
    "data = pd.read_csv(\"cleaned_puskesmas.csv\")\n",
    "data.head()"
   ]
  },
  {
   "cell_type": "code",
   "execution_count": 8,
   "metadata": {},
   "outputs": [
    {
     "name": "stderr",
     "output_type": "stream",
     "text": [
      "63it [1:13:56, 70.42s/it]\n"
     ]
    }
   ],
   "source": [
    "from scraper import scrape_reviews\n",
    "from tqdm import tqdm\n",
    "\n",
    "for index, row in tqdm(data.iterrows()):\n",
    "    scrape_reviews(url=row[\"url\"], data_name=row[\"name\"], save_dir=\"scraped\")"
   ]
  },
  {
   "cell_type": "code",
   "execution_count": 9,
   "metadata": {},
   "outputs": [
    {
     "name": "stdout",
     "output_type": "stream",
     "text": [
      "63\n"
     ]
    }
   ],
   "source": [
    "import os\n",
    "\n",
    "print(len(os.listdir(\"scraped\")))"
   ]
  }
 ],
 "metadata": {
  "kernelspec": {
   "display_name": "Python 3",
   "language": "python",
   "name": "python3"
  },
  "language_info": {
   "codemirror_mode": {
    "name": "ipython",
    "version": 3
   },
   "file_extension": ".py",
   "mimetype": "text/x-python",
   "name": "python",
   "nbconvert_exporter": "python",
   "pygments_lexer": "ipython3",
   "version": "3.9.19"
  }
 },
 "nbformat": 4,
 "nbformat_minor": 2
}
